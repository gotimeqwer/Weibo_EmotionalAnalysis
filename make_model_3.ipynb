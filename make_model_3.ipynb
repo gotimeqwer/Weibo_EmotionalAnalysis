{
 "cells": [
  {
   "cell_type": "code",
   "execution_count": 15,
   "id": "933fb7bb",
   "metadata": {},
   "outputs": [],
   "source": [
    "import pandas as pd\n",
    "import numpy as np\n",
    "import pandas as pd\n",
    "import matplotlib.pyplot as plt\n",
    "import seaborn as sns\n",
    "import re\n",
    "import os\n",
    "import json\n",
    "import io\n",
    "import csv\n",
    "import shutil\n",
    "from tqdm import tqdm\n",
    "from collections import defaultdict"
   ]
  },
  {
   "cell_type": "code",
   "execution_count": 16,
   "id": "99867443",
   "metadata": {},
   "outputs": [
    {
     "ename": "ValueError",
     "evalue": "Length mismatch: Expected axis has 2 elements, new values have 1 elements",
     "output_type": "error",
     "traceback": [
      "\u001b[1;31m---------------------------------------------------------------------------\u001b[0m",
      "\u001b[1;31mValueError\u001b[0m                                Traceback (most recent call last)",
      "\u001b[1;32m~\\AppData\\Local\\Temp/ipykernel_10156/594979379.py\u001b[0m in \u001b[0;36m<module>\u001b[1;34m\u001b[0m\n\u001b[0;32m      2\u001b[0m \u001b[0mdata\u001b[0m \u001b[1;33m=\u001b[0m \u001b[0mpd\u001b[0m\u001b[1;33m.\u001b[0m\u001b[0mread_csv\u001b[0m\u001b[1;33m(\u001b[0m\u001b[1;34m'C:/Users/23106/Desktop/weibopy/new/valid.csv'\u001b[0m\u001b[1;33m,\u001b[0m\u001b[0msep\u001b[0m\u001b[1;33m=\u001b[0m\u001b[1;34m'\\t'\u001b[0m\u001b[1;33m)\u001b[0m\u001b[1;33m\u001b[0m\u001b[1;33m\u001b[0m\u001b[0m\n\u001b[0;32m      3\u001b[0m \u001b[1;31m#加入列名\u001b[0m\u001b[1;33m\u001b[0m\u001b[1;33m\u001b[0m\u001b[0m\n\u001b[1;32m----> 4\u001b[1;33m \u001b[0mdata\u001b[0m\u001b[1;33m.\u001b[0m\u001b[0mcolumns\u001b[0m\u001b[1;33m=\u001b[0m\u001b[1;33m[\u001b[0m\u001b[1;34m\"text\"\u001b[0m\u001b[1;33m]\u001b[0m\u001b[1;33m\u001b[0m\u001b[1;33m\u001b[0m\u001b[0m\n\u001b[0m",
      "\u001b[1;32m~\\anaconda3\\lib\\site-packages\\pandas\\core\\generic.py\u001b[0m in \u001b[0;36m__setattr__\u001b[1;34m(self, name, value)\u001b[0m\n\u001b[0;32m   5498\u001b[0m         \u001b[1;32mtry\u001b[0m\u001b[1;33m:\u001b[0m\u001b[1;33m\u001b[0m\u001b[1;33m\u001b[0m\u001b[0m\n\u001b[0;32m   5499\u001b[0m             \u001b[0mobject\u001b[0m\u001b[1;33m.\u001b[0m\u001b[0m__getattribute__\u001b[0m\u001b[1;33m(\u001b[0m\u001b[0mself\u001b[0m\u001b[1;33m,\u001b[0m \u001b[0mname\u001b[0m\u001b[1;33m)\u001b[0m\u001b[1;33m\u001b[0m\u001b[1;33m\u001b[0m\u001b[0m\n\u001b[1;32m-> 5500\u001b[1;33m             \u001b[1;32mreturn\u001b[0m \u001b[0mobject\u001b[0m\u001b[1;33m.\u001b[0m\u001b[0m__setattr__\u001b[0m\u001b[1;33m(\u001b[0m\u001b[0mself\u001b[0m\u001b[1;33m,\u001b[0m \u001b[0mname\u001b[0m\u001b[1;33m,\u001b[0m \u001b[0mvalue\u001b[0m\u001b[1;33m)\u001b[0m\u001b[1;33m\u001b[0m\u001b[1;33m\u001b[0m\u001b[0m\n\u001b[0m\u001b[0;32m   5501\u001b[0m         \u001b[1;32mexcept\u001b[0m \u001b[0mAttributeError\u001b[0m\u001b[1;33m:\u001b[0m\u001b[1;33m\u001b[0m\u001b[1;33m\u001b[0m\u001b[0m\n\u001b[0;32m   5502\u001b[0m             \u001b[1;32mpass\u001b[0m\u001b[1;33m\u001b[0m\u001b[1;33m\u001b[0m\u001b[0m\n",
      "\u001b[1;32m~\\anaconda3\\lib\\site-packages\\pandas\\_libs\\properties.pyx\u001b[0m in \u001b[0;36mpandas._libs.properties.AxisProperty.__set__\u001b[1;34m()\u001b[0m\n",
      "\u001b[1;32m~\\anaconda3\\lib\\site-packages\\pandas\\core\\generic.py\u001b[0m in \u001b[0;36m_set_axis\u001b[1;34m(self, axis, labels)\u001b[0m\n\u001b[0;32m    764\u001b[0m     \u001b[1;32mdef\u001b[0m \u001b[0m_set_axis\u001b[0m\u001b[1;33m(\u001b[0m\u001b[0mself\u001b[0m\u001b[1;33m,\u001b[0m \u001b[0maxis\u001b[0m\u001b[1;33m:\u001b[0m \u001b[0mint\u001b[0m\u001b[1;33m,\u001b[0m \u001b[0mlabels\u001b[0m\u001b[1;33m:\u001b[0m \u001b[0mIndex\u001b[0m\u001b[1;33m)\u001b[0m \u001b[1;33m->\u001b[0m \u001b[1;32mNone\u001b[0m\u001b[1;33m:\u001b[0m\u001b[1;33m\u001b[0m\u001b[1;33m\u001b[0m\u001b[0m\n\u001b[0;32m    765\u001b[0m         \u001b[0mlabels\u001b[0m \u001b[1;33m=\u001b[0m \u001b[0mensure_index\u001b[0m\u001b[1;33m(\u001b[0m\u001b[0mlabels\u001b[0m\u001b[1;33m)\u001b[0m\u001b[1;33m\u001b[0m\u001b[1;33m\u001b[0m\u001b[0m\n\u001b[1;32m--> 766\u001b[1;33m         \u001b[0mself\u001b[0m\u001b[1;33m.\u001b[0m\u001b[0m_mgr\u001b[0m\u001b[1;33m.\u001b[0m\u001b[0mset_axis\u001b[0m\u001b[1;33m(\u001b[0m\u001b[0maxis\u001b[0m\u001b[1;33m,\u001b[0m \u001b[0mlabels\u001b[0m\u001b[1;33m)\u001b[0m\u001b[1;33m\u001b[0m\u001b[1;33m\u001b[0m\u001b[0m\n\u001b[0m\u001b[0;32m    767\u001b[0m         \u001b[0mself\u001b[0m\u001b[1;33m.\u001b[0m\u001b[0m_clear_item_cache\u001b[0m\u001b[1;33m(\u001b[0m\u001b[1;33m)\u001b[0m\u001b[1;33m\u001b[0m\u001b[1;33m\u001b[0m\u001b[0m\n\u001b[0;32m    768\u001b[0m \u001b[1;33m\u001b[0m\u001b[0m\n",
      "\u001b[1;32m~\\anaconda3\\lib\\site-packages\\pandas\\core\\internals\\managers.py\u001b[0m in \u001b[0;36mset_axis\u001b[1;34m(self, axis, new_labels)\u001b[0m\n\u001b[0;32m    214\u001b[0m     \u001b[1;32mdef\u001b[0m \u001b[0mset_axis\u001b[0m\u001b[1;33m(\u001b[0m\u001b[0mself\u001b[0m\u001b[1;33m,\u001b[0m \u001b[0maxis\u001b[0m\u001b[1;33m:\u001b[0m \u001b[0mint\u001b[0m\u001b[1;33m,\u001b[0m \u001b[0mnew_labels\u001b[0m\u001b[1;33m:\u001b[0m \u001b[0mIndex\u001b[0m\u001b[1;33m)\u001b[0m \u001b[1;33m->\u001b[0m \u001b[1;32mNone\u001b[0m\u001b[1;33m:\u001b[0m\u001b[1;33m\u001b[0m\u001b[1;33m\u001b[0m\u001b[0m\n\u001b[0;32m    215\u001b[0m         \u001b[1;31m# Caller is responsible for ensuring we have an Index object.\u001b[0m\u001b[1;33m\u001b[0m\u001b[1;33m\u001b[0m\u001b[0m\n\u001b[1;32m--> 216\u001b[1;33m         \u001b[0mself\u001b[0m\u001b[1;33m.\u001b[0m\u001b[0m_validate_set_axis\u001b[0m\u001b[1;33m(\u001b[0m\u001b[0maxis\u001b[0m\u001b[1;33m,\u001b[0m \u001b[0mnew_labels\u001b[0m\u001b[1;33m)\u001b[0m\u001b[1;33m\u001b[0m\u001b[1;33m\u001b[0m\u001b[0m\n\u001b[0m\u001b[0;32m    217\u001b[0m         \u001b[0mself\u001b[0m\u001b[1;33m.\u001b[0m\u001b[0maxes\u001b[0m\u001b[1;33m[\u001b[0m\u001b[0maxis\u001b[0m\u001b[1;33m]\u001b[0m \u001b[1;33m=\u001b[0m \u001b[0mnew_labels\u001b[0m\u001b[1;33m\u001b[0m\u001b[1;33m\u001b[0m\u001b[0m\n\u001b[0;32m    218\u001b[0m \u001b[1;33m\u001b[0m\u001b[0m\n",
      "\u001b[1;32m~\\anaconda3\\lib\\site-packages\\pandas\\core\\internals\\base.py\u001b[0m in \u001b[0;36m_validate_set_axis\u001b[1;34m(self, axis, new_labels)\u001b[0m\n\u001b[0;32m     55\u001b[0m \u001b[1;33m\u001b[0m\u001b[0m\n\u001b[0;32m     56\u001b[0m         \u001b[1;32melif\u001b[0m \u001b[0mnew_len\u001b[0m \u001b[1;33m!=\u001b[0m \u001b[0mold_len\u001b[0m\u001b[1;33m:\u001b[0m\u001b[1;33m\u001b[0m\u001b[1;33m\u001b[0m\u001b[0m\n\u001b[1;32m---> 57\u001b[1;33m             raise ValueError(\n\u001b[0m\u001b[0;32m     58\u001b[0m                 \u001b[1;34mf\"Length mismatch: Expected axis has {old_len} elements, new \"\u001b[0m\u001b[1;33m\u001b[0m\u001b[1;33m\u001b[0m\u001b[0m\n\u001b[0;32m     59\u001b[0m                 \u001b[1;34mf\"values have {new_len} elements\"\u001b[0m\u001b[1;33m\u001b[0m\u001b[1;33m\u001b[0m\u001b[0m\n",
      "\u001b[1;31mValueError\u001b[0m: Length mismatch: Expected axis has 2 elements, new values have 1 elements"
     ]
    }
   ],
   "source": [
    "#进行数据清洗的测试，从训练集中读取数据\n",
    "data = pd.read_csv('C:/Users/23106/Desktop/weibopy/new/valid.csv',sep='\\t')"
   ]
  },
  {
   "cell_type": "code",
   "execution_count": 17,
   "id": "ccce81b9",
   "metadata": {},
   "outputs": [
    {
     "data": {
      "text/html": [
       "<div>\n",
       "<style scoped>\n",
       "    .dataframe tbody tr th:only-of-type {\n",
       "        vertical-align: middle;\n",
       "    }\n",
       "\n",
       "    .dataframe tbody tr th {\n",
       "        vertical-align: top;\n",
       "    }\n",
       "\n",
       "    .dataframe thead th {\n",
       "        text-align: right;\n",
       "    }\n",
       "</style>\n",
       "<table border=\"1\" class=\"dataframe\">\n",
       "  <thead>\n",
       "    <tr style=\"text-align: right;\">\n",
       "      <th></th>\n",
       "      <th>text</th>\n",
       "      <th>label</th>\n",
       "    </tr>\n",
       "  </thead>\n",
       "  <tbody>\n",
       "    <tr>\n",
       "      <th>0</th>\n",
       "      <td>所以注定我这辈子是做不了商人妈蛋</td>\n",
       "      <td>愤怒</td>\n",
       "    </tr>\n",
       "    <tr>\n",
       "      <th>1</th>\n",
       "      <td>无论是心情多么低沉的夜晚天光大亮后都是崭新的开始</td>\n",
       "      <td>积极</td>\n",
       "    </tr>\n",
       "    <tr>\n",
       "      <th>2</th>\n",
       "      <td>帽子怎么就变绿色幸好只是试一下</td>\n",
       "      <td>悲伤</td>\n",
       "    </tr>\n",
       "    <tr>\n",
       "      <th>3</th>\n",
       "      <td>不想当个好人好人的背后有多少的心酸害怕喝醉酒的人害怕他们做出无法挽回的事情是真的会醉么还是找...</td>\n",
       "      <td>无情绪</td>\n",
       "    </tr>\n",
       "    <tr>\n",
       "      <th>4</th>\n",
       "      <td>一种爱是你可以为她去死；还有一种爱是得为你爱的人好好活着</td>\n",
       "      <td>积极</td>\n",
       "    </tr>\n",
       "  </tbody>\n",
       "</table>\n",
       "</div>"
      ],
      "text/plain": [
       "                                                text label\n",
       "0                                   所以注定我这辈子是做不了商人妈蛋    愤怒\n",
       "1                           无论是心情多么低沉的夜晚天光大亮后都是崭新的开始    积极\n",
       "2                                    帽子怎么就变绿色幸好只是试一下    悲伤\n",
       "3  不想当个好人好人的背后有多少的心酸害怕喝醉酒的人害怕他们做出无法挽回的事情是真的会醉么还是找...   无情绪\n",
       "4                       一种爱是你可以为她去死；还有一种爱是得为你爱的人好好活着    积极"
      ]
     },
     "execution_count": 17,
     "metadata": {},
     "output_type": "execute_result"
    }
   ],
   "source": [
    "data.head()"
   ]
  },
  {
   "cell_type": "code",
   "execution_count": 2,
   "id": "894c9a57",
   "metadata": {},
   "outputs": [],
   "source": [
    "#进行数据清洗的测试，从训练集中读取数据\n",
    "data = pd.read_csv('train_usual.csv',header=None)\n",
    "#加入列名\n",
    "data.columns=[\"label\",\"text\"]"
   ]
  },
  {
   "cell_type": "code",
   "execution_count": 3,
   "id": "3c899952",
   "metadata": {},
   "outputs": [
    {
     "data": {
      "text/html": [
       "<div>\n",
       "<style scoped>\n",
       "    .dataframe tbody tr th:only-of-type {\n",
       "        vertical-align: middle;\n",
       "    }\n",
       "\n",
       "    .dataframe tbody tr th {\n",
       "        vertical-align: top;\n",
       "    }\n",
       "\n",
       "    .dataframe thead th {\n",
       "        text-align: right;\n",
       "    }\n",
       "</style>\n",
       "<table border=\"1\" class=\"dataframe\">\n",
       "  <thead>\n",
       "    <tr style=\"text-align: right;\">\n",
       "      <th></th>\n",
       "      <th>label</th>\n",
       "      <th>text</th>\n",
       "    </tr>\n",
       "  </thead>\n",
       "  <tbody>\n",
       "    <tr>\n",
       "      <th>0</th>\n",
       "      <td>1</td>\n",
       "      <td>气死 姐姐 了 ， 快二是 阵亡 了 吗 ， 尼玛 ， 一个半 小时 过去 了 也 没 上车</td>\n",
       "    </tr>\n",
       "    <tr>\n",
       "      <th>1</th>\n",
       "      <td>2</td>\n",
       "      <td>妞妞 啊 ， 今天 又 承办 了 一个 发文 登记 文号 是 126 ~ 嘻 ~ 么 么 哒...</td>\n",
       "    </tr>\n",
       "    <tr>\n",
       "      <th>2</th>\n",
       "      <td>6</td>\n",
       "      <td>这里 还 值得注意 另 一个 事实 ， 就是 张鞠存 原有 一个 东溪 草堂 为 其 读书处 。</td>\n",
       "    </tr>\n",
       "    <tr>\n",
       "      <th>3</th>\n",
       "      <td>6</td>\n",
       "      <td>这 在 前 华约 国家 ( 尤其 是 东德 ) 使用 R - 73 的 首次 联合演习 期间...</td>\n",
       "    </tr>\n",
       "    <tr>\n",
       "      <th>4</th>\n",
       "      <td>5</td>\n",
       "      <td>TinyThief 上 wii 了 ？ ！</td>\n",
       "    </tr>\n",
       "  </tbody>\n",
       "</table>\n",
       "</div>"
      ],
      "text/plain": [
       "   label                                               text\n",
       "0      1     气死 姐姐 了 ， 快二是 阵亡 了 吗 ， 尼玛 ， 一个半 小时 过去 了 也 没 上车\n",
       "1      2  妞妞 啊 ， 今天 又 承办 了 一个 发文 登记 文号 是 126 ~ 嘻 ~ 么 么 哒...\n",
       "2      6   这里 还 值得注意 另 一个 事实 ， 就是 张鞠存 原有 一个 东溪 草堂 为 其 读书处 。\n",
       "3      6  这 在 前 华约 国家 ( 尤其 是 东德 ) 使用 R - 73 的 首次 联合演习 期间...\n",
       "4      5                              TinyThief 上 wii 了 ？ ！"
      ]
     },
     "execution_count": 3,
     "metadata": {},
     "output_type": "execute_result"
    }
   ],
   "source": [
    "data.head()"
   ]
  },
  {
   "cell_type": "code",
   "execution_count": 4,
   "id": "ece465ae",
   "metadata": {},
   "outputs": [
    {
     "name": "stdout",
     "output_type": "stream",
     "text": [
      "<class 'pandas.core.frame.DataFrame'>\n",
      "RangeIndex: 27766 entries, 0 to 27765\n",
      "Data columns (total 2 columns):\n",
      " #   Column  Non-Null Count  Dtype \n",
      "---  ------  --------------  ----- \n",
      " 0   label   27766 non-null  int64 \n",
      " 1   text    27766 non-null  object\n",
      "dtypes: int64(1), object(1)\n",
      "memory usage: 434.0+ KB\n"
     ]
    }
   ],
   "source": [
    "data.info()"
   ]
  },
  {
   "cell_type": "code",
   "execution_count": 6,
   "id": "842aebed",
   "metadata": {},
   "outputs": [],
   "source": [
    "#定义数据清洗函数\n",
    "def clean_data(old_path,save_path):\n",
    "    with open(old_path, 'r', encoding='utf8') as f:\n",
    "        data = defaultdict(list)\n",
    "        texts = f.readlines()\n",
    "        for line in tqdm(texts, desc=old_path):\n",
    "            label,text= line.strip().split(',',1)\n",
    "            \n",
    "            emoji = json.load(open('C:/Users/23106/Desktop/weibopy/emoji.json', 'r', encoding='utf8'))\n",
    "            for emoji, emoji_text in emoji.items():\n",
    "                text = text.replace(emoji,emoji_text )\n",
    "            new_text=re.sub('[a-zA-Z0-9’!\"#$%&\\'()*+,-./:;<=>?@，。?★、…【】《》？“”‘’！[\\\\]^_`{|}~\\s]+', \"\", text)\n",
    "            data['text'].append(new_text)\n",
    "            data['label'].append(label)\n",
    "            #将label与text交换位置\n",
    "        df = pd.DataFrame(data)\n",
    "        df.to_csv(os.path.join(save_path,'train_usual.csv'), index=False,encoding='utf8', header=False, sep='\\t')\n",
    "    return"
   ]
  },
  {
   "cell_type": "code",
   "execution_count": 7,
   "id": "ff67069f",
   "metadata": {},
   "outputs": [
    {
     "name": "stderr",
     "output_type": "stream",
     "text": [
      "C:/Users/23106/Desktop/weibopy/train_usual.csv: 100%|██████████| 27766/27766 [00:18<00:00, 1464.43it/s]\n"
     ]
    }
   ],
   "source": [
    "clean_data('C:/Users/23106/Desktop/weibopy/train_usual.csv','C:/Users/23106/Desktop/weibopy/new/')"
   ]
  },
  {
   "cell_type": "code",
   "execution_count": 43,
   "id": "01969b34",
   "metadata": {},
   "outputs": [],
   "source": [
    "data = data[['text', 'label']]"
   ]
  },
  {
   "cell_type": "code",
   "execution_count": 44,
   "id": "25dc292b",
   "metadata": {},
   "outputs": [
    {
     "data": {
      "text/html": [
       "<div>\n",
       "<style scoped>\n",
       "    .dataframe tbody tr th:only-of-type {\n",
       "        vertical-align: middle;\n",
       "    }\n",
       "\n",
       "    .dataframe tbody tr th {\n",
       "        vertical-align: top;\n",
       "    }\n",
       "\n",
       "    .dataframe thead th {\n",
       "        text-align: right;\n",
       "    }\n",
       "</style>\n",
       "<table border=\"1\" class=\"dataframe\">\n",
       "  <thead>\n",
       "    <tr style=\"text-align: right;\">\n",
       "      <th></th>\n",
       "      <th>text</th>\n",
       "      <th>label</th>\n",
       "    </tr>\n",
       "  </thead>\n",
       "  <tbody>\n",
       "    <tr>\n",
       "      <th>0</th>\n",
       "      <td>气死 姐姐 了 ， 快二是 阵亡 了 吗 ， 尼玛 ， 一个半 小时 过去 了 也 没 上车</td>\n",
       "      <td>愤怒</td>\n",
       "    </tr>\n",
       "    <tr>\n",
       "      <th>1</th>\n",
       "      <td>妞妞 啊 ， 今天 又 承办 了 一个 发文 登记 文号 是 126 ~ 嘻 ~ 么 么 哒...</td>\n",
       "      <td>积极</td>\n",
       "    </tr>\n",
       "    <tr>\n",
       "      <th>2</th>\n",
       "      <td>这里 还 值得注意 另 一个 事实 ， 就是 张鞠存 原有 一个 东溪 草堂 为 其 读书处 。</td>\n",
       "      <td>无情绪</td>\n",
       "    </tr>\n",
       "    <tr>\n",
       "      <th>3</th>\n",
       "      <td>这 在 前 华约 国家 ( 尤其 是 东德 ) 使用 R - 73 的 首次 联合演习 期间...</td>\n",
       "      <td>无情绪</td>\n",
       "    </tr>\n",
       "    <tr>\n",
       "      <th>4</th>\n",
       "      <td>TinyThief 上 wii 了 ？ ！</td>\n",
       "      <td>惊奇</td>\n",
       "    </tr>\n",
       "  </tbody>\n",
       "</table>\n",
       "</div>"
      ],
      "text/plain": [
       "                                                text label\n",
       "0     气死 姐姐 了 ， 快二是 阵亡 了 吗 ， 尼玛 ， 一个半 小时 过去 了 也 没 上车    愤怒\n",
       "1  妞妞 啊 ， 今天 又 承办 了 一个 发文 登记 文号 是 126 ~ 嘻 ~ 么 么 哒...    积极\n",
       "2   这里 还 值得注意 另 一个 事实 ， 就是 张鞠存 原有 一个 东溪 草堂 为 其 读书处 。   无情绪\n",
       "3  这 在 前 华约 国家 ( 尤其 是 东德 ) 使用 R - 73 的 首次 联合演习 期间...   无情绪\n",
       "4                              TinyThief 上 wii 了 ？ ！    惊奇"
      ]
     },
     "execution_count": 44,
     "metadata": {},
     "output_type": "execute_result"
    }
   ],
   "source": [
    "data.head()"
   ]
  },
  {
   "cell_type": "code",
   "execution_count": 11,
   "id": "6a207762",
   "metadata": {},
   "outputs": [],
   "source": [
    "#将label中的数字进行转化，便于查看\n",
    "data.loc[data['label']==1, 'label'] = '愤怒'\n",
    "data.loc[data['label']==2, 'label'] = '积极'\n",
    "data.loc[data['label']==3, 'label'] = '悲伤'\n",
    "data.loc[data['label']==4, 'label'] = '恐惧'\n",
    "data.loc[data['label']==5, 'label'] = '惊奇'\n",
    "data.loc[data['label']==6, 'label'] = '无情绪'"
   ]
  },
  {
   "cell_type": "code",
   "execution_count": 1,
   "id": "c39de031",
   "metadata": {},
   "outputs": [],
   "source": [
    "from sklearn.model_selection import train_test_split"
   ]
  },
  {
   "cell_type": "code",
   "execution_count": 2,
   "id": "f1eba172",
   "metadata": {},
   "outputs": [
    {
     "ename": "NameError",
     "evalue": "name 'data' is not defined",
     "output_type": "error",
     "traceback": [
      "\u001b[1;31m---------------------------------------------------------------------------\u001b[0m",
      "\u001b[1;31mNameError\u001b[0m                                 Traceback (most recent call last)",
      "\u001b[1;32m~\\AppData\\Local\\Temp/ipykernel_10156/1720849386.py\u001b[0m in \u001b[0;36m<module>\u001b[1;34m\u001b[0m\n\u001b[1;32m----> 1\u001b[1;33m \u001b[0mtrain_data\u001b[0m\u001b[1;33m,\u001b[0m \u001b[0mtest_data\u001b[0m \u001b[1;33m=\u001b[0m \u001b[0mtrain_test_split\u001b[0m\u001b[1;33m(\u001b[0m\u001b[0mdata\u001b[0m\u001b[1;33m,\u001b[0m \u001b[0mtest_size\u001b[0m\u001b[1;33m=\u001b[0m\u001b[1;36m0.2\u001b[0m\u001b[1;33m)\u001b[0m\u001b[1;33m\u001b[0m\u001b[1;33m\u001b[0m\u001b[0m\n\u001b[0m",
      "\u001b[1;31mNameError\u001b[0m: name 'data' is not defined"
     ]
    }
   ],
   "source": [
    "train_data, test_data = train_test_split(data, test_size=0.2)"
   ]
  },
  {
   "cell_type": "code",
   "execution_count": 14,
   "id": "33247042",
   "metadata": {},
   "outputs": [],
   "source": [
    "train_data,valid_data=train_test_split(train_data, test_size=0.2)"
   ]
  },
  {
   "cell_type": "code",
   "execution_count": 15,
   "id": "1dc15bd1",
   "metadata": {},
   "outputs": [],
   "source": [
    "from sklearn.utils import shuffle\n",
    "train_data = shuffle(train_data)\n",
    "valid_data = shuffle(valid_data)\n",
    "test_data = shuffle(test_data)"
   ]
  },
  {
   "cell_type": "code",
   "execution_count": 16,
   "id": "1653eadf",
   "metadata": {},
   "outputs": [],
   "source": [
    "train_data.to_csv('./train.csv', index=False, sep=\"\\t\")"
   ]
  },
  {
   "cell_type": "code",
   "execution_count": 17,
   "id": "f53b50bc",
   "metadata": {},
   "outputs": [],
   "source": [
    "valid_data.to_csv('./valid.csv', index=False, sep=\"\\t\")"
   ]
  },
  {
   "cell_type": "code",
   "execution_count": 18,
   "id": "1ddce21a",
   "metadata": {},
   "outputs": [],
   "source": [
    "test_data.to_csv('./test.csv', index=False, sep=\"\\t\")"
   ]
  },
  {
   "cell_type": "code",
   "execution_count": 20,
   "id": "1440790e",
   "metadata": {},
   "outputs": [
    {
     "name": "stdout",
     "output_type": "stream",
     "text": [
      "训练集长度： 17769 验证集长度： 4443 测试集长度 5554\n"
     ]
    }
   ],
   "source": [
    "print('训练集长度：', len(train_data), '验证集长度：', len(valid_data), '测试集长度', len(test_data))"
   ]
  },
  {
   "cell_type": "code",
   "execution_count": 21,
   "id": "1babeb74",
   "metadata": {},
   "outputs": [
    {
     "name": "stdout",
     "output_type": "stream",
     "text": [
      "Looking in indexes: https://pypi.tuna.tsinghua.edu.cn/simple\n",
      "Requirement already satisfied: paddlehub in c:\\users\\23106\\anaconda3\\envs\\paddle_env\\lib\\site-packages (2.2.0)\n",
      "Requirement already satisfied: colorlog in c:\\users\\23106\\anaconda3\\envs\\paddle_env\\lib\\site-packages (from paddlehub) (6.6.0)\n",
      "Requirement already satisfied: easydict in c:\\users\\23106\\anaconda3\\envs\\paddle_env\\lib\\site-packages (from paddlehub) (1.9)\n",
      "Requirement already satisfied: packaging in c:\\users\\23106\\anaconda3\\envs\\paddle_env\\lib\\site-packages (from paddlehub) (21.3)\n",
      "Requirement already satisfied: pyyaml in c:\\users\\23106\\anaconda3\\envs\\paddle_env\\lib\\site-packages (from paddlehub) (6.0)\n",
      "Requirement already satisfied: tqdm in c:\\users\\23106\\anaconda3\\envs\\paddle_env\\lib\\site-packages (from paddlehub) (4.64.0)\n",
      "Requirement already satisfied: paddle2onnx>=0.5.1 in c:\\users\\23106\\anaconda3\\envs\\paddle_env\\lib\\site-packages (from paddlehub) (0.9.5)\n",
      "Requirement already satisfied: colorama in c:\\users\\23106\\anaconda3\\envs\\paddle_env\\lib\\site-packages (from paddlehub) (0.4.4)\n",
      "Requirement already satisfied: flask>=1.1.0 in c:\\users\\23106\\anaconda3\\envs\\paddle_env\\lib\\site-packages (from paddlehub) (2.1.2)\n",
      "Requirement already satisfied: filelock in c:\\users\\23106\\anaconda3\\envs\\paddle_env\\lib\\site-packages (from paddlehub) (3.6.0)\n",
      "Requirement already satisfied: numpy in c:\\users\\23106\\anaconda3\\envs\\paddle_env\\lib\\site-packages (from paddlehub) (1.21.5)\n",
      "Requirement already satisfied: paddlenlp>=2.0.0 in c:\\users\\23106\\anaconda3\\envs\\paddle_env\\lib\\site-packages (from paddlehub) (2.2.6)\n",
      "Requirement already satisfied: rarfile in c:\\users\\23106\\anaconda3\\envs\\paddle_env\\lib\\site-packages (from paddlehub) (4.0)\n",
      "Requirement already satisfied: opencv-python in c:\\users\\23106\\anaconda3\\envs\\paddle_env\\lib\\site-packages (from paddlehub) (4.5.5.64)\n",
      "Requirement already satisfied: visualdl>=2.0.0 in c:\\users\\23106\\anaconda3\\envs\\paddle_env\\lib\\site-packages (from paddlehub) (2.2.3)\n",
      "Requirement already satisfied: matplotlib in c:\\users\\23106\\anaconda3\\envs\\paddle_env\\lib\\site-packages (from paddlehub) (3.5.2)\n",
      "Requirement already satisfied: Pillow in c:\\users\\23106\\anaconda3\\envs\\paddle_env\\lib\\site-packages (from paddlehub) (9.0.1)\n",
      "Requirement already satisfied: pyzmq in c:\\users\\23106\\anaconda3\\envs\\paddle_env\\lib\\site-packages (from paddlehub) (22.3.0)\n",
      "Requirement already satisfied: Jinja2>=3.0 in c:\\users\\23106\\anaconda3\\envs\\paddle_env\\lib\\site-packages (from flask>=1.1.0->paddlehub) (3.0.3)\n",
      "Requirement already satisfied: click>=8.0 in c:\\users\\23106\\anaconda3\\envs\\paddle_env\\lib\\site-packages (from flask>=1.1.0->paddlehub) (8.1.3)\n",
      "Requirement already satisfied: Werkzeug>=2.0 in c:\\users\\23106\\anaconda3\\envs\\paddle_env\\lib\\site-packages (from flask>=1.1.0->paddlehub) (2.1.2)\n",
      "Requirement already satisfied: itsdangerous>=2.0 in c:\\users\\23106\\anaconda3\\envs\\paddle_env\\lib\\site-packages (from flask>=1.1.0->paddlehub) (2.1.2)\n",
      "Requirement already satisfied: importlib-metadata>=3.6.0 in c:\\users\\23106\\anaconda3\\envs\\paddle_env\\lib\\site-packages (from flask>=1.1.0->paddlehub) (4.11.3)\n",
      "Requirement already satisfied: zipp>=0.5 in c:\\users\\23106\\anaconda3\\envs\\paddle_env\\lib\\site-packages (from importlib-metadata>=3.6.0->flask>=1.1.0->paddlehub) (3.7.0)\n",
      "Requirement already satisfied: MarkupSafe>=2.0 in c:\\users\\23106\\anaconda3\\envs\\paddle_env\\lib\\site-packages (from Jinja2>=3.0->flask>=1.1.0->paddlehub) (2.0.1)\n",
      "Requirement already satisfied: six in c:\\users\\23106\\anaconda3\\envs\\paddle_env\\lib\\site-packages (from paddle2onnx>=0.5.1->paddlehub) (1.16.0)\n",
      "Requirement already satisfied: onnx<=1.9.0 in c:\\users\\23106\\anaconda3\\envs\\paddle_env\\lib\\site-packages (from paddle2onnx>=0.5.1->paddlehub) (1.9.0)\n",
      "Requirement already satisfied: protobuf in c:\\users\\23106\\anaconda3\\envs\\paddle_env\\lib\\site-packages (from paddle2onnx>=0.5.1->paddlehub) (3.19.1)\n",
      "Requirement already satisfied: typing-extensions>=3.6.2.1 in c:\\users\\23106\\anaconda3\\envs\\paddle_env\\lib\\site-packages (from onnx<=1.9.0->paddle2onnx>=0.5.1->paddlehub) (4.1.1)\n",
      "Requirement already satisfied: paddlefsl in c:\\users\\23106\\anaconda3\\envs\\paddle_env\\lib\\site-packages (from paddlenlp>=2.0.0->paddlehub) (1.1.0)\n",
      "Requirement already satisfied: seqeval in c:\\users\\23106\\anaconda3\\envs\\paddle_env\\lib\\site-packages (from paddlenlp>=2.0.0->paddlehub) (1.2.2)\n",
      "Requirement already satisfied: jieba in c:\\users\\23106\\anaconda3\\envs\\paddle_env\\lib\\site-packages (from paddlenlp>=2.0.0->paddlehub) (0.42.1)\n",
      "Requirement already satisfied: multiprocess in c:\\users\\23106\\anaconda3\\envs\\paddle_env\\lib\\site-packages (from paddlenlp>=2.0.0->paddlehub) (0.70.12.2)\n",
      "Requirement already satisfied: datasets in c:\\users\\23106\\anaconda3\\envs\\paddle_env\\lib\\site-packages (from paddlenlp>=2.0.0->paddlehub) (2.1.0)\n",
      "Requirement already satisfied: h5py in c:\\users\\23106\\anaconda3\\envs\\paddle_env\\lib\\site-packages (from paddlenlp>=2.0.0->paddlehub) (3.6.0)\n",
      "Requirement already satisfied: sentencepiece in c:\\users\\23106\\anaconda3\\envs\\paddle_env\\lib\\site-packages (from paddlenlp>=2.0.0->paddlehub) (0.1.96)\n",
      "Requirement already satisfied: bce-python-sdk in c:\\users\\23106\\anaconda3\\envs\\paddle_env\\lib\\site-packages (from visualdl>=2.0.0->paddlehub) (0.8.64)\n",
      "Requirement already satisfied: requests in c:\\users\\23106\\anaconda3\\envs\\paddle_env\\lib\\site-packages (from visualdl>=2.0.0->paddlehub) (2.27.1)\n",
      "Requirement already satisfied: pre-commit in c:\\users\\23106\\anaconda3\\envs\\paddle_env\\lib\\site-packages (from visualdl>=2.0.0->paddlehub) (2.18.1)\n",
      "Requirement already satisfied: pandas in c:\\users\\23106\\anaconda3\\envs\\paddle_env\\lib\\site-packages (from visualdl>=2.0.0->paddlehub) (1.4.2)\n",
      "Requirement already satisfied: shellcheck-py in c:\\users\\23106\\anaconda3\\envs\\paddle_env\\lib\\site-packages (from visualdl>=2.0.0->paddlehub) (0.8.0.4)\n",
      "Requirement already satisfied: flake8>=3.7.9 in c:\\users\\23106\\anaconda3\\envs\\paddle_env\\lib\\site-packages (from visualdl>=2.0.0->paddlehub) (4.0.1)\n",
      "Requirement already satisfied: Flask-Babel>=1.0.0 in c:\\users\\23106\\anaconda3\\envs\\paddle_env\\lib\\site-packages (from visualdl>=2.0.0->paddlehub) (2.0.0)\n",
      "Requirement already satisfied: mccabe<0.7.0,>=0.6.0 in c:\\users\\23106\\anaconda3\\envs\\paddle_env\\lib\\site-packages (from flake8>=3.7.9->visualdl>=2.0.0->paddlehub) (0.6.1)\n",
      "Requirement already satisfied: pycodestyle<2.9.0,>=2.8.0 in c:\\users\\23106\\anaconda3\\envs\\paddle_env\\lib\\site-packages (from flake8>=3.7.9->visualdl>=2.0.0->paddlehub) (2.8.0)\n",
      "Requirement already satisfied: pyflakes<2.5.0,>=2.4.0 in c:\\users\\23106\\anaconda3\\envs\\paddle_env\\lib\\site-packages (from flake8>=3.7.9->visualdl>=2.0.0->paddlehub) (2.4.0)\n",
      "Requirement already satisfied: pytz in c:\\users\\23106\\anaconda3\\envs\\paddle_env\\lib\\site-packages (from Flask-Babel>=1.0.0->visualdl>=2.0.0->paddlehub) (2022.1)\n",
      "Requirement already satisfied: Babel>=2.3 in c:\\users\\23106\\anaconda3\\envs\\paddle_env\\lib\\site-packages (from Flask-Babel>=1.0.0->visualdl>=2.0.0->paddlehub) (2.10.1)\n",
      "Requirement already satisfied: future>=0.6.0 in c:\\users\\23106\\anaconda3\\envs\\paddle_env\\lib\\site-packages (from bce-python-sdk->visualdl>=2.0.0->paddlehub) (0.18.2)\n",
      "Requirement already satisfied: pycryptodome>=3.8.0 in c:\\users\\23106\\anaconda3\\envs\\paddle_env\\lib\\site-packages (from bce-python-sdk->visualdl>=2.0.0->paddlehub) (3.14.1)\n",
      "Requirement already satisfied: pyarrow>=5.0.0 in c:\\users\\23106\\anaconda3\\envs\\paddle_env\\lib\\site-packages (from datasets->paddlenlp>=2.0.0->paddlehub) (7.0.0)\n",
      "Requirement already satisfied: xxhash in c:\\users\\23106\\anaconda3\\envs\\paddle_env\\lib\\site-packages (from datasets->paddlenlp>=2.0.0->paddlehub) (3.0.0)\n",
      "Requirement already satisfied: aiohttp in c:\\users\\23106\\anaconda3\\envs\\paddle_env\\lib\\site-packages (from datasets->paddlenlp>=2.0.0->paddlehub) (3.8.1)\n",
      "Requirement already satisfied: huggingface-hub<1.0.0,>=0.1.0 in c:\\users\\23106\\anaconda3\\envs\\paddle_env\\lib\\site-packages (from datasets->paddlenlp>=2.0.0->paddlehub) (0.5.1)\n",
      "Requirement already satisfied: responses<0.19 in c:\\users\\23106\\anaconda3\\envs\\paddle_env\\lib\\site-packages (from datasets->paddlenlp>=2.0.0->paddlehub) (0.18.0)\n",
      "Requirement already satisfied: dill in c:\\users\\23106\\anaconda3\\envs\\paddle_env\\lib\\site-packages (from datasets->paddlenlp>=2.0.0->paddlehub) (0.3.4)\n",
      "Requirement already satisfied: fsspec[http]>=2021.05.0 in c:\\users\\23106\\anaconda3\\envs\\paddle_env\\lib\\site-packages (from datasets->paddlenlp>=2.0.0->paddlehub) (2022.3.0)\n",
      "Requirement already satisfied: pyparsing!=3.0.5,>=2.0.2 in c:\\users\\23106\\anaconda3\\envs\\paddle_env\\lib\\site-packages (from packaging->paddlehub) (3.0.4)\n",
      "Requirement already satisfied: urllib3<1.27,>=1.21.1 in c:\\users\\23106\\anaconda3\\envs\\paddle_env\\lib\\site-packages (from requests->visualdl>=2.0.0->paddlehub) (1.26.9)\n",
      "Requirement already satisfied: certifi>=2017.4.17 in c:\\users\\23106\\anaconda3\\envs\\paddle_env\\lib\\site-packages (from requests->visualdl>=2.0.0->paddlehub) (2021.10.8)\n",
      "Requirement already satisfied: idna<4,>=2.5 in c:\\users\\23106\\anaconda3\\envs\\paddle_env\\lib\\site-packages (from requests->visualdl>=2.0.0->paddlehub) (3.3)\n",
      "Requirement already satisfied: charset-normalizer~=2.0.0 in c:\\users\\23106\\anaconda3\\envs\\paddle_env\\lib\\site-packages (from requests->visualdl>=2.0.0->paddlehub) (2.0.4)\n",
      "Requirement already satisfied: async-timeout<5.0,>=4.0.0a3 in c:\\users\\23106\\anaconda3\\envs\\paddle_env\\lib\\site-packages (from aiohttp->datasets->paddlenlp>=2.0.0->paddlehub) (4.0.2)\n",
      "Requirement already satisfied: frozenlist>=1.1.1 in c:\\users\\23106\\anaconda3\\envs\\paddle_env\\lib\\site-packages (from aiohttp->datasets->paddlenlp>=2.0.0->paddlehub) (1.3.0)\n",
      "Requirement already satisfied: attrs>=17.3.0 in c:\\users\\23106\\anaconda3\\envs\\paddle_env\\lib\\site-packages (from aiohttp->datasets->paddlenlp>=2.0.0->paddlehub) (21.4.0)\n",
      "Requirement already satisfied: yarl<2.0,>=1.0 in c:\\users\\23106\\anaconda3\\envs\\paddle_env\\lib\\site-packages (from aiohttp->datasets->paddlenlp>=2.0.0->paddlehub) (1.7.2)\n",
      "Requirement already satisfied: aiosignal>=1.1.2 in c:\\users\\23106\\anaconda3\\envs\\paddle_env\\lib\\site-packages (from aiohttp->datasets->paddlenlp>=2.0.0->paddlehub) (1.2.0)\n",
      "Requirement already satisfied: multidict<7.0,>=4.5 in c:\\users\\23106\\anaconda3\\envs\\paddle_env\\lib\\site-packages (from aiohttp->datasets->paddlenlp>=2.0.0->paddlehub) (6.0.2)\n",
      "Requirement already satisfied: cycler>=0.10 in c:\\users\\23106\\anaconda3\\envs\\paddle_env\\lib\\site-packages (from matplotlib->paddlehub) (0.11.0)\n",
      "Requirement already satisfied: fonttools>=4.22.0 in c:\\users\\23106\\anaconda3\\envs\\paddle_env\\lib\\site-packages (from matplotlib->paddlehub) (4.33.3)\n",
      "Requirement already satisfied: kiwisolver>=1.0.1 in c:\\users\\23106\\anaconda3\\envs\\paddle_env\\lib\\site-packages (from matplotlib->paddlehub) (1.4.2)\n",
      "Requirement already satisfied: python-dateutil>=2.7 in c:\\users\\23106\\anaconda3\\envs\\paddle_env\\lib\\site-packages (from matplotlib->paddlehub) (2.8.2)\n",
      "Requirement already satisfied: identify>=1.0.0 in c:\\users\\23106\\anaconda3\\envs\\paddle_env\\lib\\site-packages (from pre-commit->visualdl>=2.0.0->paddlehub) (2.5.0)\n",
      "Requirement already satisfied: toml in c:\\users\\23106\\anaconda3\\envs\\paddle_env\\lib\\site-packages (from pre-commit->visualdl>=2.0.0->paddlehub) (0.10.2)\n",
      "Requirement already satisfied: virtualenv>=20.0.8 in c:\\users\\23106\\anaconda3\\envs\\paddle_env\\lib\\site-packages (from pre-commit->visualdl>=2.0.0->paddlehub) (20.14.1)\n",
      "Requirement already satisfied: cfgv>=2.0.0 in c:\\users\\23106\\anaconda3\\envs\\paddle_env\\lib\\site-packages (from pre-commit->visualdl>=2.0.0->paddlehub) (3.3.1)\n",
      "Requirement already satisfied: nodeenv>=0.11.1 in c:\\users\\23106\\anaconda3\\envs\\paddle_env\\lib\\site-packages (from pre-commit->visualdl>=2.0.0->paddlehub) (1.6.0)\n",
      "Requirement already satisfied: distlib<1,>=0.3.1 in c:\\users\\23106\\anaconda3\\envs\\paddle_env\\lib\\site-packages (from virtualenv>=20.0.8->pre-commit->visualdl>=2.0.0->paddlehub) (0.3.4)\n",
      "Requirement already satisfied: platformdirs<3,>=2 in c:\\users\\23106\\anaconda3\\envs\\paddle_env\\lib\\site-packages (from virtualenv>=20.0.8->pre-commit->visualdl>=2.0.0->paddlehub) (2.5.2)\n",
      "Requirement already satisfied: scikit-learn>=0.21.3 in c:\\users\\23106\\anaconda3\\envs\\paddle_env\\lib\\site-packages (from seqeval->paddlenlp>=2.0.0->paddlehub) (1.0.2)\n",
      "Requirement already satisfied: scipy>=1.1.0 in c:\\users\\23106\\anaconda3\\envs\\paddle_env\\lib\\site-packages (from scikit-learn>=0.21.3->seqeval->paddlenlp>=2.0.0->paddlehub) (1.8.0)\n",
      "Requirement already satisfied: threadpoolctl>=2.0.0 in c:\\users\\23106\\anaconda3\\envs\\paddle_env\\lib\\site-packages (from scikit-learn>=0.21.3->seqeval->paddlenlp>=2.0.0->paddlehub) (3.1.0)\n",
      "Requirement already satisfied: joblib>=0.11 in c:\\users\\23106\\anaconda3\\envs\\paddle_env\\lib\\site-packages (from scikit-learn>=0.21.3->seqeval->paddlenlp>=2.0.0->paddlehub) (1.1.0)\n"
     ]
    }
   ],
   "source": [
    "!pip install -U paddlehub -i https://pypi.tuna.tsinghua.edu.cn/simple"
   ]
  },
  {
   "cell_type": "code",
   "execution_count": 22,
   "id": "5f998187",
   "metadata": {},
   "outputs": [],
   "source": [
    "import paddlehub as hub\n",
    "import paddle"
   ]
  },
  {
   "cell_type": "code",
   "execution_count": 23,
   "id": "323c6519",
   "metadata": {},
   "outputs": [
    {
     "name": "stdout",
     "output_type": "stream",
     "text": [
      "['愤怒', '积极', '无情绪', '惊奇', '悲伤', '恐惧']\n",
      "{0: '愤怒', 1: '积极', 2: '无情绪', 3: '惊奇', 4: '悲伤', 5: '恐惧'}\n"
     ]
    }
   ],
   "source": [
    "label_list=list(data.label.unique())\n",
    "print(label_list)\n",
    "\n",
    "label_map = { \n",
    "    idx: label_text for idx, label_text in enumerate(label_list)\n",
    "}\n",
    "print(label_map)"
   ]
  },
  {
   "cell_type": "code",
   "execution_count": 24,
   "id": "7a6ef976",
   "metadata": {},
   "outputs": [
    {
     "name": "stderr",
     "output_type": "stream",
     "text": [
      "\u001b[32m[2022-05-06 02:27:34,590] [    INFO]\u001b[0m - Already cached C:\\Users\\23106\\.paddlenlp\\models\\ernie-tiny\\ernie_tiny.pdparams\u001b[0m\n"
     ]
    }
   ],
   "source": [
    "model = hub.Module(name=\"ernie_tiny\", task='seq-cls', num_classes=6, label_map=label_map)"
   ]
  },
  {
   "cell_type": "code",
   "execution_count": 25,
   "id": "72a96fbc",
   "metadata": {},
   "outputs": [],
   "source": [
    "import os, io, csv\n",
    "from paddlehub.datasets.base_nlp_dataset import InputExample, TextClassificationDataset"
   ]
  },
  {
   "cell_type": "code",
   "execution_count": 38,
   "id": "c0be01d7",
   "metadata": {},
   "outputs": [],
   "source": [
    "DATA_DIR=\"./\""
   ]
  },
  {
   "cell_type": "code",
   "execution_count": 42,
   "id": "1022318c",
   "metadata": {},
   "outputs": [
    {
     "name": "stderr",
     "output_type": "stream",
     "text": [
      "\u001b[32m[2022-05-06 02:35:51,588] [    INFO]\u001b[0m - Already cached C:\\Users\\23106\\.paddlenlp\\models\\ernie-tiny\\vocab.txt\u001b[0m\n",
      "\u001b[32m[2022-05-06 02:35:51,589] [    INFO]\u001b[0m - Already cached C:\\Users\\23106\\.paddlenlp\\models\\ernie-tiny\\spm_cased_simp_sampled.model\u001b[0m\n",
      "\u001b[32m[2022-05-06 02:35:51,590] [    INFO]\u001b[0m - Already cached C:\\Users\\23106\\.paddlenlp\\models\\ernie-tiny\\dict.wordseg.pickle\u001b[0m\n",
      "\u001b[32m[2022-05-06 02:36:00,580] [    INFO]\u001b[0m - Already cached C:\\Users\\23106\\.paddlenlp\\models\\ernie-tiny\\vocab.txt\u001b[0m\n",
      "\u001b[32m[2022-05-06 02:36:00,582] [    INFO]\u001b[0m - Already cached C:\\Users\\23106\\.paddlenlp\\models\\ernie-tiny\\spm_cased_simp_sampled.model\u001b[0m\n",
      "\u001b[32m[2022-05-06 02:36:00,583] [    INFO]\u001b[0m - Already cached C:\\Users\\23106\\.paddlenlp\\models\\ernie-tiny\\dict.wordseg.pickle\u001b[0m\n",
      "\u001b[32m[2022-05-06 02:36:05,144] [    INFO]\u001b[0m - Already cached C:\\Users\\23106\\.paddlenlp\\models\\ernie-tiny\\vocab.txt\u001b[0m\n",
      "\u001b[32m[2022-05-06 02:36:05,145] [    INFO]\u001b[0m - Already cached C:\\Users\\23106\\.paddlenlp\\models\\ernie-tiny\\spm_cased_simp_sampled.model\u001b[0m\n",
      "\u001b[32m[2022-05-06 02:36:05,146] [    INFO]\u001b[0m - Already cached C:\\Users\\23106\\.paddlenlp\\models\\ernie-tiny\\dict.wordseg.pickle\u001b[0m\n"
     ]
    },
    {
     "name": "stdout",
     "output_type": "stream",
     "text": [
      "text=实行 财务 月 报 、 季报 和 年报 制度 。\tlabel=无情绪\n",
      "text=一件 事情 有 必要 来来回回 ， 反反复复 的 讲 吗 ？ 知道 你 很 了不起 ， 见 过 大 世面 ， 讲点 有 涵养 的 东西 可否 ， 别 让 人 一 听 你 讲话 就 觉得 你 特 低俗 。 本来 头 就 有点 晕晕 的 ， 叨叨 叨叨 叨叨 叨 的 头 都 要 炸 了\tlabel=愤怒\n",
      "text=店家 送 我 的 大白 ， 真是 好大 啊 ? ? ? ?\tlabel=惊奇\n",
      "text=我 还 会 爱 下去 ， 就算 是 单方面 的 ， 就算 你 掉入 了 漩涡 里 ， 总有一天 我要 把 你 拉回来 ！\tlabel=积极\n",
      "text=男 ， 1938 年生 ， 江苏 盐城人 。\tlabel=无情绪\n",
      "text=想 送 钱 都 送 不 掉 ， 不禁 悲从中来 感觉 这个 冬天 好 冷\tlabel=悲伤\n",
      "text=肝 组织 内 ALT 比 AST 活性 受 抑制 更 显著 。\tlabel=无情绪\n",
      "text=同时 还 包括 一种 人体 浮雕 , 这种 浮雕 常 被 雕凿 在 露天 的 石窟 中 。\tlabel=无情绪\n",
      "text=更新 一则 。 这么晚 了 我们 胜允 还 在 工作 real 心疼\tlabel=悲伤\n"
     ]
    }
   ],
   "source": [
    "class OCEMOTION(TextClassificationDataset):\n",
    "    def __init__(self, tokenizer, mode='train', max_seq_len=128):\n",
    "        if mode == 'train':\n",
    "            data_file = 'train.csv'  # 训练集\n",
    "        elif mode == 'test':\n",
    "            data_file = 'test.csv'   # 测试集\n",
    "        else:\n",
    "            data_file = 'valid.csv'  # 验证集\n",
    "        \n",
    "        super(OCEMOTION, self).__init__(\n",
    "            base_path=DATA_DIR,\n",
    "            data_file=data_file,\n",
    "            tokenizer=tokenizer,\n",
    "            max_seq_len=max_seq_len,\n",
    "            mode=mode,\n",
    "            is_file_with_header=True,\n",
    "            label_list=label_list\n",
    "            )\n",
    "\n",
    "    # 解析文本文件里的样本\n",
    "    def _read_file(self, input_file, is_file_with_header: bool = False):\n",
    "        if not os.path.exists(input_file):\n",
    "            raise RuntimeError(\"The file {} is not found.\".format(input_file))\n",
    "        else:\n",
    "            with io.open(input_file, \"r\", encoding=\"UTF-8\") as f:\n",
    "                reader = csv.reader(f, delimiter=\"\\t\")\n",
    "                examples = []\n",
    "                seq_id = 0\n",
    "                header = next(reader) if is_file_with_header else None\n",
    "                for line in reader:\n",
    "                    try:\n",
    "                        example = InputExample(guid=seq_id, text_a=line[0], label=line[1])\n",
    "                        seq_id += 1\n",
    "                        examples.append(example)\n",
    "                    except:\n",
    "                        continue\n",
    "                return examples\n",
    "                \n",
    "train_dataset = OCEMOTION(model.get_tokenizer(), mode='train', max_seq_len=128)  # max_seq_len根据具体文本长度进行确定，但需注意max_seq_len最长不超过512\n",
    "dev_dataset = OCEMOTION(model.get_tokenizer(), mode='dev', max_seq_len=128)\n",
    "test_dataset = OCEMOTION(model.get_tokenizer(), mode='test', max_seq_len=128)\n",
    "\n",
    "# 查看训练集前3条\n",
    "for e in train_dataset.examples[:3]:\n",
    "    print(e)\n",
    "# 查看验证集前3条\n",
    "for e in dev_dataset.examples[:3]:\n",
    "    print(e)\n",
    "# 查看测试集前3条\n",
    "for e in test_dataset.examples[:3]:\n",
    "    print(e)\n"
   ]
  },
  {
   "cell_type": "code",
   "execution_count": 40,
   "id": "188a7cea",
   "metadata": {},
   "outputs": [],
   "source": [
    "for e in train_dataset.examples[:3]:\n",
    "    print(e)"
   ]
  },
  {
   "cell_type": "code",
   "execution_count": null,
   "id": "06074fce",
   "metadata": {},
   "outputs": [],
   "source": []
  }
 ],
 "metadata": {
  "kernelspec": {
   "display_name": "Python 3 (ipykernel)",
   "language": "python",
   "name": "python3"
  },
  "language_info": {
   "codemirror_mode": {
    "name": "ipython",
    "version": 3
   },
   "file_extension": ".py",
   "mimetype": "text/x-python",
   "name": "python",
   "nbconvert_exporter": "python",
   "pygments_lexer": "ipython3",
   "version": "3.9.7"
  }
 },
 "nbformat": 4,
 "nbformat_minor": 5
}
