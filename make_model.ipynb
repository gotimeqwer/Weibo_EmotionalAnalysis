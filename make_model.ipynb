{
 "cells": [
  {
   "cell_type": "code",
   "execution_count": 4,
   "id": "bcd47ce5",
   "metadata": {},
   "outputs": [],
   "source": [
    "import pandas as pd\n",
    "import numpy as np\n",
    "import pandas as pd\n",
    "import matplotlib.pyplot as plt\n",
    "import re\n",
    "import os\n",
    "import json\n",
    "import io\n",
    "import csv\n",
    "import shutil\n",
    "from tqdm import tqdm\n",
    "from collections import defaultdict"
   ]
  },
  {
   "cell_type": "code",
   "execution_count": 2,
   "id": "1169666a",
   "metadata": {
    "scrolled": true
   },
   "outputs": [],
   "source": [
    "#进行数据清洗的测试，从训练集中读取数据\n",
    "data = pd.read_csv('train_usual.csv',header=None)\n",
    "#加入列名\n",
    "data.columns=[\"label\",\"text\"]"
   ]
  },
  {
   "cell_type": "code",
   "execution_count": 3,
   "id": "c7fa50b3",
   "metadata": {},
   "outputs": [
    {
     "data": {
      "text/html": [
       "<div>\n",
       "<style scoped>\n",
       "    .dataframe tbody tr th:only-of-type {\n",
       "        vertical-align: middle;\n",
       "    }\n",
       "\n",
       "    .dataframe tbody tr th {\n",
       "        vertical-align: top;\n",
       "    }\n",
       "\n",
       "    .dataframe thead th {\n",
       "        text-align: right;\n",
       "    }\n",
       "</style>\n",
       "<table border=\"1\" class=\"dataframe\">\n",
       "  <thead>\n",
       "    <tr style=\"text-align: right;\">\n",
       "      <th></th>\n",
       "      <th>label</th>\n",
       "      <th>text</th>\n",
       "    </tr>\n",
       "  </thead>\n",
       "  <tbody>\n",
       "    <tr>\n",
       "      <th>0</th>\n",
       "      <td>1</td>\n",
       "      <td>气死 姐姐 了 ， 快二是 阵亡 了 吗 ， 尼玛 ， 一个半 小时 过去 了 也 没 上车</td>\n",
       "    </tr>\n",
       "    <tr>\n",
       "      <th>1</th>\n",
       "      <td>2</td>\n",
       "      <td>妞妞 啊 ， 今天 又 承办 了 一个 发文 登记 文号 是 126 ~ 嘻 ~ 么 么 哒...</td>\n",
       "    </tr>\n",
       "    <tr>\n",
       "      <th>2</th>\n",
       "      <td>6</td>\n",
       "      <td>这里 还 值得注意 另 一个 事实 ， 就是 张鞠存 原有 一个 东溪 草堂 为 其 读书处 。</td>\n",
       "    </tr>\n",
       "    <tr>\n",
       "      <th>3</th>\n",
       "      <td>6</td>\n",
       "      <td>这 在 前 华约 国家 ( 尤其 是 东德 ) 使用 R - 73 的 首次 联合演习 期间...</td>\n",
       "    </tr>\n",
       "    <tr>\n",
       "      <th>4</th>\n",
       "      <td>5</td>\n",
       "      <td>TinyThief 上 wii 了 ？ ！</td>\n",
       "    </tr>\n",
       "  </tbody>\n",
       "</table>\n",
       "</div>"
      ],
      "text/plain": [
       "   label                                               text\n",
       "0      1     气死 姐姐 了 ， 快二是 阵亡 了 吗 ， 尼玛 ， 一个半 小时 过去 了 也 没 上车\n",
       "1      2  妞妞 啊 ， 今天 又 承办 了 一个 发文 登记 文号 是 126 ~ 嘻 ~ 么 么 哒...\n",
       "2      6   这里 还 值得注意 另 一个 事实 ， 就是 张鞠存 原有 一个 东溪 草堂 为 其 读书处 。\n",
       "3      6  这 在 前 华约 国家 ( 尤其 是 东德 ) 使用 R - 73 的 首次 联合演习 期间...\n",
       "4      5                              TinyThief 上 wii 了 ？ ！"
      ]
     },
     "execution_count": 3,
     "metadata": {},
     "output_type": "execute_result"
    }
   ],
   "source": [
    "data.head()"
   ]
  },
  {
   "cell_type": "code",
   "execution_count": 4,
   "id": "ed9a96de",
   "metadata": {},
   "outputs": [
    {
     "name": "stdout",
     "output_type": "stream",
     "text": [
      "<class 'pandas.core.frame.DataFrame'>\n",
      "RangeIndex: 27766 entries, 0 to 27765\n",
      "Data columns (total 2 columns):\n",
      " #   Column  Non-Null Count  Dtype \n",
      "---  ------  --------------  ----- \n",
      " 0   label   27766 non-null  int64 \n",
      " 1   text    27766 non-null  object\n",
      "dtypes: int64(1), object(1)\n",
      "memory usage: 434.0+ KB\n"
     ]
    }
   ],
   "source": [
    "data.info()"
   ]
  },
  {
   "cell_type": "code",
   "execution_count": 5,
   "id": "861e7fe3",
   "metadata": {},
   "outputs": [
    {
     "data": {
      "text/plain": [
       "1    8343\n",
       "6    5749\n",
       "2    5378\n",
       "3    4990\n",
       "5    2086\n",
       "4    1220\n",
       "Name: label, dtype: int64"
      ]
     },
     "execution_count": 5,
     "metadata": {},
     "output_type": "execute_result"
    }
   ],
   "source": [
    "data['label'].value_counts()"
   ]
  },
  {
   "cell_type": "code",
   "execution_count": 6,
   "id": "e2691abe",
   "metadata": {},
   "outputs": [
    {
     "data": {
      "text/html": [
       "<div>\n",
       "<style scoped>\n",
       "    .dataframe tbody tr th:only-of-type {\n",
       "        vertical-align: middle;\n",
       "    }\n",
       "\n",
       "    .dataframe tbody tr th {\n",
       "        vertical-align: top;\n",
       "    }\n",
       "\n",
       "    .dataframe thead th {\n",
       "        text-align: right;\n",
       "    }\n",
       "</style>\n",
       "<table border=\"1\" class=\"dataframe\">\n",
       "  <thead>\n",
       "    <tr style=\"text-align: right;\">\n",
       "      <th></th>\n",
       "      <th>label</th>\n",
       "    </tr>\n",
       "  </thead>\n",
       "  <tbody>\n",
       "    <tr>\n",
       "      <th>count</th>\n",
       "      <td>27766.000000</td>\n",
       "    </tr>\n",
       "    <tr>\n",
       "      <th>mean</th>\n",
       "      <td>3.020709</td>\n",
       "    </tr>\n",
       "    <tr>\n",
       "      <th>std</th>\n",
       "      <td>1.898212</td>\n",
       "    </tr>\n",
       "    <tr>\n",
       "      <th>min</th>\n",
       "      <td>1.000000</td>\n",
       "    </tr>\n",
       "    <tr>\n",
       "      <th>25%</th>\n",
       "      <td>1.000000</td>\n",
       "    </tr>\n",
       "    <tr>\n",
       "      <th>50%</th>\n",
       "      <td>3.000000</td>\n",
       "    </tr>\n",
       "    <tr>\n",
       "      <th>75%</th>\n",
       "      <td>5.000000</td>\n",
       "    </tr>\n",
       "    <tr>\n",
       "      <th>max</th>\n",
       "      <td>6.000000</td>\n",
       "    </tr>\n",
       "  </tbody>\n",
       "</table>\n",
       "</div>"
      ],
      "text/plain": [
       "              label\n",
       "count  27766.000000\n",
       "mean       3.020709\n",
       "std        1.898212\n",
       "min        1.000000\n",
       "25%        1.000000\n",
       "50%        3.000000\n",
       "75%        5.000000\n",
       "max        6.000000"
      ]
     },
     "execution_count": 6,
     "metadata": {},
     "output_type": "execute_result"
    }
   ],
   "source": [
    "data.describe()"
   ]
  },
  {
   "cell_type": "code",
   "execution_count": 7,
   "id": "e261ce04",
   "metadata": {},
   "outputs": [
    {
     "data": {
      "text/plain": [
       "False"
      ]
     },
     "execution_count": 7,
     "metadata": {},
     "output_type": "execute_result"
    }
   ],
   "source": [
    "# 查看每一列是否有缺失：\n",
    "data.isna().any(axis=0)\n",
    "# 查看每一行是否有缺失：\n",
    "data.isna().any(axis=1)\n",
    "# 查看所有数据中是否有缺少最快的，没有输出False，反之为True：\n",
    "data.isna().values.any()\n",
    "#data[data.isna().values==True]"
   ]
  },
  {
   "cell_type": "code",
   "execution_count": 8,
   "id": "c37a3fe1",
   "metadata": {
    "scrolled": true
   },
   "outputs": [
    {
     "data": {
      "text/plain": [
       "count    27766.000000\n",
       "mean        69.081142\n",
       "std         48.949356\n",
       "min         13.000000\n",
       "25%         35.000000\n",
       "50%         52.000000\n",
       "75%         84.000000\n",
       "max        371.000000\n",
       "Name: text, dtype: float64"
      ]
     },
     "execution_count": 8,
     "metadata": {},
     "output_type": "execute_result"
    }
   ],
   "source": [
    "data['text'].map(len).describe()\n",
    "#计算文本的长度，其中mean为均值"
   ]
  },
  {
   "cell_type": "code",
   "execution_count": 9,
   "id": "3a322dcc",
   "metadata": {},
   "outputs": [
    {
     "data": {
      "text/plain": [
       "1    8343\n",
       "6    5749\n",
       "2    5378\n",
       "3    4990\n",
       "5    2086\n",
       "4    1220\n",
       "Name: label, dtype: int64"
      ]
     },
     "execution_count": 9,
     "metadata": {},
     "output_type": "execute_result"
    }
   ],
   "source": [
    "#data['label'].value_counts(normalize=True).plot(kind='bar');\n",
    "data['label'].value_counts()"
   ]
  },
  {
   "cell_type": "code",
   "execution_count": 10,
   "id": "ddc9ecd9",
   "metadata": {},
   "outputs": [
    {
     "name": "stdout",
     "output_type": "stream",
     "text": [
      "<class 'pandas.core.frame.DataFrame'>\n",
      "RangeIndex: 5000 entries, 0 to 4999\n",
      "Data columns (total 2 columns):\n",
      " #   Column  Non-Null Count  Dtype \n",
      "---  ------  --------------  ----- \n",
      " 0   label   5000 non-null   int64 \n",
      " 1   text    5000 non-null   object\n",
      "dtypes: int64(1), object(1)\n",
      "memory usage: 78.2+ KB\n"
     ]
    }
   ],
   "source": [
    "data = pd.read_csv('test_usual.csv',header=None)\n",
    "data.columns=[\"label\",\"text\"]\n",
    "data.info()"
   ]
  },
  {
   "cell_type": "code",
   "execution_count": 11,
   "id": "623d41b5",
   "metadata": {},
   "outputs": [
    {
     "name": "stdout",
     "output_type": "stream",
     "text": [
      "<class 'pandas.core.frame.DataFrame'>\n",
      "RangeIndex: 2000 entries, 0 to 1999\n",
      "Data columns (total 2 columns):\n",
      " #   Column  Non-Null Count  Dtype \n",
      "---  ------  --------------  ----- \n",
      " 0   label   2000 non-null   int64 \n",
      " 1   text    2000 non-null   object\n",
      "dtypes: int64(1), object(1)\n",
      "memory usage: 31.4+ KB\n"
     ]
    }
   ],
   "source": [
    "data = pd.read_csv('dev_usual.csv',header=None)\n",
    "data.columns=[\"label\",\"text\"]\n",
    "data.info()"
   ]
  },
  {
   "cell_type": "code",
   "execution_count": 12,
   "id": "f16c0246",
   "metadata": {},
   "outputs": [],
   "source": [
    "#定义数据清洗函数\n",
    "def clean_data(old_path,save_path,save_name):\n",
    "    with open(old_path, 'r', encoding='utf8') as f:\n",
    "        data = defaultdict(list)\n",
    "        texts = f.readlines()\n",
    "        for line in tqdm(texts, desc=old_path):\n",
    "            label,text= line.strip().split(',',1)\n",
    "            emoji = json.load(open('C:/Users/23106/Desktop/weibopy/emoji.json', 'r', encoding='utf8'))\n",
    "            for emoji, emoji_text in emoji.items():\n",
    "                text = text.replace(emoji,emoji_text )\n",
    "            new_text=re.sub('[a-zA-Z0-9’!\"#$%&\\'()*+,-./:;<=>?@，。?★、…【】《》？“”‘’！[\\\\]^_`{|}~\\s]+', \"\", text)\n",
    "            data['text'].append(new_text)\n",
    "            \n",
    "            data['label'].append(label)\n",
    "            #将label与text交换位置\n",
    "        df = pd.DataFrame(data)\n",
    "        df.to_csv(os.path.join(save_path,save_name), index=False,encoding='utf8', header=False, sep='\\t')\n",
    "    return"
   ]
  },
  {
   "cell_type": "code",
   "execution_count": 13,
   "id": "409f5448",
   "metadata": {},
   "outputs": [
    {
     "name": "stderr",
     "output_type": "stream",
     "text": [
      "C:/Users/23106/Desktop/weibopy/train_usual.csv: 100%|██████████| 27766/27766 [00:20<00:00, 1343.69it/s]\n",
      "C:/Users/23106/Desktop/weibopy/test_usual.csv: 100%|██████████| 5000/5000 [00:04<00:00, 1219.21it/s]\n",
      "C:/Users/23106/Desktop/weibopy/dev_usual.csv: 100%|██████████| 2000/2000 [00:01<00:00, 1360.11it/s]\n"
     ]
    }
   ],
   "source": [
    "clean_data('C:/Users/23106/Desktop/weibopy/train_usual.csv','C:/Users/23106/Desktop/weibopy/new/','train.csv')\n",
    "clean_data('C:/Users/23106/Desktop/weibopy/test_usual.csv','C:/Users/23106/Desktop/weibopy/new/','test.csv')\n",
    "clean_data('C:/Users/23106/Desktop/weibopy/dev_usual.csv','C:/Users/23106/Desktop/weibopy/new/','valid.csv')"
   ]
  },
  {
   "cell_type": "code",
   "execution_count": 14,
   "id": "2dcd6df6",
   "metadata": {},
   "outputs": [],
   "source": [
    "#从经过数据清洗后生成的文件中读取数据\n",
    "data = pd.read_csv('C:/Users/23106/Desktop/weibopy/new/train.csv',sep='\\t',header=None)\n",
    "#加入列名\n",
    "data.columns=[\"text\",\"label\"]"
   ]
  },
  {
   "cell_type": "code",
   "execution_count": 15,
   "id": "5c6327d9",
   "metadata": {},
   "outputs": [
    {
     "data": {
      "text/html": [
       "<div>\n",
       "<style scoped>\n",
       "    .dataframe tbody tr th:only-of-type {\n",
       "        vertical-align: middle;\n",
       "    }\n",
       "\n",
       "    .dataframe tbody tr th {\n",
       "        vertical-align: top;\n",
       "    }\n",
       "\n",
       "    .dataframe thead th {\n",
       "        text-align: right;\n",
       "    }\n",
       "</style>\n",
       "<table border=\"1\" class=\"dataframe\">\n",
       "  <thead>\n",
       "    <tr style=\"text-align: right;\">\n",
       "      <th></th>\n",
       "      <th>text</th>\n",
       "      <th>label</th>\n",
       "    </tr>\n",
       "  </thead>\n",
       "  <tbody>\n",
       "    <tr>\n",
       "      <th>0</th>\n",
       "      <td>气死姐姐了快二是阵亡了吗尼玛一个半小时过去了也没上车</td>\n",
       "      <td>1</td>\n",
       "    </tr>\n",
       "    <tr>\n",
       "      <th>1</th>\n",
       "      <td>妞妞啊今天又承办了一个发文登记文号是嘻么么哒晚安哟</td>\n",
       "      <td>2</td>\n",
       "    </tr>\n",
       "    <tr>\n",
       "      <th>2</th>\n",
       "      <td>这里还值得注意另一个事实就是张鞠存原有一个东溪草堂为其读书处</td>\n",
       "      <td>6</td>\n",
       "    </tr>\n",
       "    <tr>\n",
       "      <th>3</th>\n",
       "      <td>这在前华约国家尤其是东德使用的首次联合演习期间被一些北约组织的飞行员所证实</td>\n",
       "      <td>6</td>\n",
       "    </tr>\n",
       "    <tr>\n",
       "      <th>4</th>\n",
       "      <td>上了</td>\n",
       "      <td>5</td>\n",
       "    </tr>\n",
       "    <tr>\n",
       "      <th>5</th>\n",
       "      <td>每天都以紧张的心情工作真的是太累太不放松了想要爆发一下</td>\n",
       "      <td>1</td>\n",
       "    </tr>\n",
       "    <tr>\n",
       "      <th>6</th>\n",
       "      <td>语文军数学军英语军物理军政治军历史军生物军地理军八科联军侵犯我班我班战败被迫签订家长会条约赔...</td>\n",
       "      <td>1</td>\n",
       "    </tr>\n",
       "    <tr>\n",
       "      <th>7</th>\n",
       "      <td>我不是一个优秀的演员不能微笑着旁观你们幸福</td>\n",
       "      <td>3</td>\n",
       "    </tr>\n",
       "    <tr>\n",
       "      <th>8</th>\n",
       "      <td>当你变优秀时你想要的都会来找你</td>\n",
       "      <td>2</td>\n",
       "    </tr>\n",
       "    <tr>\n",
       "      <th>9</th>\n",
       "      <td>累了一天会宿舍听下我搞基新歌在看看我段宜恩美图心都被治愈了</td>\n",
       "      <td>2</td>\n",
       "    </tr>\n",
       "    <tr>\n",
       "      <th>10</th>\n",
       "      <td>劳资也能遇到这种人滚你妈逼的狗都不如艹</td>\n",
       "      <td>1</td>\n",
       "    </tr>\n",
       "    <tr>\n",
       "      <th>11</th>\n",
       "      <td>四年又是四年中国球迷有几个四年可以任你挥霍我去年买了个表</td>\n",
       "      <td>1</td>\n",
       "    </tr>\n",
       "    <tr>\n",
       "      <th>12</th>\n",
       "      <td>前几天爸爸带回来的大鱼斤</td>\n",
       "      <td>2</td>\n",
       "    </tr>\n",
       "    <tr>\n",
       "      <th>13</th>\n",
       "      <td>可怕的噩梦不知道我描述的清不在做梦梦里的我也在睡梦中做梦的我梦里还是在做梦起先我第一次醒来以...</td>\n",
       "      <td>4</td>\n",
       "    </tr>\n",
       "    <tr>\n",
       "      <th>14</th>\n",
       "      <td>跟一群维族在一起喝酒醉的一塌糊涂</td>\n",
       "      <td>6</td>\n",
       "    </tr>\n",
       "  </tbody>\n",
       "</table>\n",
       "</div>"
      ],
      "text/plain": [
       "                                                 text  label\n",
       "0                          气死姐姐了快二是阵亡了吗尼玛一个半小时过去了也没上车      1\n",
       "1                           妞妞啊今天又承办了一个发文登记文号是嘻么么哒晚安哟      2\n",
       "2                      这里还值得注意另一个事实就是张鞠存原有一个东溪草堂为其读书处      6\n",
       "3               这在前华约国家尤其是东德使用的首次联合演习期间被一些北约组织的飞行员所证实      6\n",
       "4                                                  上了      5\n",
       "5                         每天都以紧张的心情工作真的是太累太不放松了想要爆发一下      1\n",
       "6   语文军数学军英语军物理军政治军历史军生物军地理军八科联军侵犯我班我班战败被迫签订家长会条约赔...      1\n",
       "7                               我不是一个优秀的演员不能微笑着旁观你们幸福      3\n",
       "8                                     当你变优秀时你想要的都会来找你      2\n",
       "9                       累了一天会宿舍听下我搞基新歌在看看我段宜恩美图心都被治愈了      2\n",
       "10                                劳资也能遇到这种人滚你妈逼的狗都不如艹      1\n",
       "11                       四年又是四年中国球迷有几个四年可以任你挥霍我去年买了个表      1\n",
       "12                                       前几天爸爸带回来的大鱼斤      2\n",
       "13  可怕的噩梦不知道我描述的清不在做梦梦里的我也在睡梦中做梦的我梦里还是在做梦起先我第一次醒来以...      4\n",
       "14                                   跟一群维族在一起喝酒醉的一塌糊涂      6"
      ]
     },
     "execution_count": 15,
     "metadata": {},
     "output_type": "execute_result"
    }
   ],
   "source": [
    "data.head(15)"
   ]
  },
  {
   "cell_type": "code",
   "execution_count": 16,
   "id": "2d59114f",
   "metadata": {},
   "outputs": [],
   "source": [
    "#将label中的数字进行转化，便于查看\n",
    "data.loc[data['label']==1, 'label'] = '愤怒'\n",
    "data.loc[data['label']==2, 'label'] = '积极'\n",
    "data.loc[data['label']==3, 'label'] = '悲伤'\n",
    "data.loc[data['label']==4, 'label'] = '恐惧'\n",
    "data.loc[data['label']==5, 'label'] = '惊奇'\n",
    "data.loc[data['label']==6, 'label'] = '无情绪'"
   ]
  },
  {
   "cell_type": "code",
   "execution_count": 17,
   "id": "5b53747e",
   "metadata": {
    "scrolled": false
   },
   "outputs": [
    {
     "data": {
      "text/html": [
       "<div>\n",
       "<style scoped>\n",
       "    .dataframe tbody tr th:only-of-type {\n",
       "        vertical-align: middle;\n",
       "    }\n",
       "\n",
       "    .dataframe tbody tr th {\n",
       "        vertical-align: top;\n",
       "    }\n",
       "\n",
       "    .dataframe thead th {\n",
       "        text-align: right;\n",
       "    }\n",
       "</style>\n",
       "<table border=\"1\" class=\"dataframe\">\n",
       "  <thead>\n",
       "    <tr style=\"text-align: right;\">\n",
       "      <th></th>\n",
       "      <th>text</th>\n",
       "      <th>label</th>\n",
       "    </tr>\n",
       "  </thead>\n",
       "  <tbody>\n",
       "    <tr>\n",
       "      <th>0</th>\n",
       "      <td>气死姐姐了快二是阵亡了吗尼玛一个半小时过去了也没上车</td>\n",
       "      <td>愤怒</td>\n",
       "    </tr>\n",
       "    <tr>\n",
       "      <th>1</th>\n",
       "      <td>妞妞啊今天又承办了一个发文登记文号是嘻么么哒晚安哟</td>\n",
       "      <td>积极</td>\n",
       "    </tr>\n",
       "    <tr>\n",
       "      <th>2</th>\n",
       "      <td>这里还值得注意另一个事实就是张鞠存原有一个东溪草堂为其读书处</td>\n",
       "      <td>无情绪</td>\n",
       "    </tr>\n",
       "    <tr>\n",
       "      <th>3</th>\n",
       "      <td>这在前华约国家尤其是东德使用的首次联合演习期间被一些北约组织的飞行员所证实</td>\n",
       "      <td>无情绪</td>\n",
       "    </tr>\n",
       "    <tr>\n",
       "      <th>4</th>\n",
       "      <td>上了</td>\n",
       "      <td>惊奇</td>\n",
       "    </tr>\n",
       "    <tr>\n",
       "      <th>5</th>\n",
       "      <td>每天都以紧张的心情工作真的是太累太不放松了想要爆发一下</td>\n",
       "      <td>愤怒</td>\n",
       "    </tr>\n",
       "    <tr>\n",
       "      <th>6</th>\n",
       "      <td>语文军数学军英语军物理军政治军历史军生物军地理军八科联军侵犯我班我班战败被迫签订家长会条约赔...</td>\n",
       "      <td>愤怒</td>\n",
       "    </tr>\n",
       "    <tr>\n",
       "      <th>7</th>\n",
       "      <td>我不是一个优秀的演员不能微笑着旁观你们幸福</td>\n",
       "      <td>悲伤</td>\n",
       "    </tr>\n",
       "    <tr>\n",
       "      <th>8</th>\n",
       "      <td>当你变优秀时你想要的都会来找你</td>\n",
       "      <td>积极</td>\n",
       "    </tr>\n",
       "    <tr>\n",
       "      <th>9</th>\n",
       "      <td>累了一天会宿舍听下我搞基新歌在看看我段宜恩美图心都被治愈了</td>\n",
       "      <td>积极</td>\n",
       "    </tr>\n",
       "    <tr>\n",
       "      <th>10</th>\n",
       "      <td>劳资也能遇到这种人滚你妈逼的狗都不如艹</td>\n",
       "      <td>愤怒</td>\n",
       "    </tr>\n",
       "    <tr>\n",
       "      <th>11</th>\n",
       "      <td>四年又是四年中国球迷有几个四年可以任你挥霍我去年买了个表</td>\n",
       "      <td>愤怒</td>\n",
       "    </tr>\n",
       "    <tr>\n",
       "      <th>12</th>\n",
       "      <td>前几天爸爸带回来的大鱼斤</td>\n",
       "      <td>积极</td>\n",
       "    </tr>\n",
       "    <tr>\n",
       "      <th>13</th>\n",
       "      <td>可怕的噩梦不知道我描述的清不在做梦梦里的我也在睡梦中做梦的我梦里还是在做梦起先我第一次醒来以...</td>\n",
       "      <td>恐惧</td>\n",
       "    </tr>\n",
       "  </tbody>\n",
       "</table>\n",
       "</div>"
      ],
      "text/plain": [
       "                                                 text label\n",
       "0                          气死姐姐了快二是阵亡了吗尼玛一个半小时过去了也没上车    愤怒\n",
       "1                           妞妞啊今天又承办了一个发文登记文号是嘻么么哒晚安哟    积极\n",
       "2                      这里还值得注意另一个事实就是张鞠存原有一个东溪草堂为其读书处   无情绪\n",
       "3               这在前华约国家尤其是东德使用的首次联合演习期间被一些北约组织的飞行员所证实   无情绪\n",
       "4                                                  上了    惊奇\n",
       "5                         每天都以紧张的心情工作真的是太累太不放松了想要爆发一下    愤怒\n",
       "6   语文军数学军英语军物理军政治军历史军生物军地理军八科联军侵犯我班我班战败被迫签订家长会条约赔...    愤怒\n",
       "7                               我不是一个优秀的演员不能微笑着旁观你们幸福    悲伤\n",
       "8                                     当你变优秀时你想要的都会来找你    积极\n",
       "9                       累了一天会宿舍听下我搞基新歌在看看我段宜恩美图心都被治愈了    积极\n",
       "10                                劳资也能遇到这种人滚你妈逼的狗都不如艹    愤怒\n",
       "11                       四年又是四年中国球迷有几个四年可以任你挥霍我去年买了个表    愤怒\n",
       "12                                       前几天爸爸带回来的大鱼斤    积极\n",
       "13  可怕的噩梦不知道我描述的清不在做梦梦里的我也在睡梦中做梦的我梦里还是在做梦起先我第一次醒来以...    恐惧"
      ]
     },
     "execution_count": 17,
     "metadata": {},
     "output_type": "execute_result"
    }
   ],
   "source": [
    "data.head(14)"
   ]
  },
  {
   "cell_type": "code",
   "execution_count": 18,
   "id": "e508eed5",
   "metadata": {},
   "outputs": [],
   "source": [
    "data = data[['text', 'label']]\n",
    "data.to_csv('C:/Users/23106/Desktop/weibopy/new/train.csv', index=False, sep=\"\\t\")"
   ]
  },
  {
   "cell_type": "code",
   "execution_count": 19,
   "id": "6a5ca4f6",
   "metadata": {},
   "outputs": [],
   "source": [
    "#从经过数据清洗后生成的文件中读取数据\n",
    "data = pd.read_csv('C:/Users/23106/Desktop/weibopy/new/test.csv',sep='\\t',header=None)\n",
    "#加入列名\n",
    "data.columns=[\"text\",\"label\"]\n",
    "#将label中的数字进行转化，便于查看\n",
    "data.loc[data['label']==1, 'label'] = '愤怒'\n",
    "data.loc[data['label']==2, 'label'] = '积极'\n",
    "data.loc[data['label']==3, 'label'] = '悲伤'\n",
    "data.loc[data['label']==4, 'label'] = '恐惧'\n",
    "data.loc[data['label']==5, 'label'] = '惊奇'\n",
    "data.loc[data['label']==6, 'label'] = '无情绪'\n",
    "data = data[['text', 'label']]\n",
    "data.to_csv('C:/Users/23106/Desktop/weibopy/new/test.csv', index=False, sep=\"\\t\")"
   ]
  },
  {
   "cell_type": "code",
   "execution_count": 20,
   "id": "1c242cc1",
   "metadata": {},
   "outputs": [],
   "source": [
    "#从经过数据清洗后生成的文件中读取数据\n",
    "data = pd.read_csv('C:/Users/23106/Desktop/weibopy/new/valid.csv',sep='\\t',header=None)\n",
    "#加入列名\n",
    "data.columns=[\"text\",\"label\"]\n",
    "#将label中的数字进行转化，便于查看\n",
    "data.loc[data['label']==1, 'label'] = '愤怒'\n",
    "data.loc[data['label']==2, 'label'] = '积极'\n",
    "data.loc[data['label']==3, 'label'] = '悲伤'\n",
    "data.loc[data['label']==4, 'label'] = '恐惧'\n",
    "data.loc[data['label']==5, 'label'] = '惊奇'\n",
    "data.loc[data['label']==6, 'label'] = '无情绪'\n",
    "data = data[['text', 'label']]\n",
    "data.to_csv('C:/Users/23106/Desktop/weibopy/new/valid.csv', index=False, sep=\"\\t\")"
   ]
  },
  {
   "cell_type": "code",
   "execution_count": 21,
   "id": "1e016e16",
   "metadata": {},
   "outputs": [],
   "source": [
    "#读取数据\n",
    "train_data = pd.read_csv('C:/Users/23106/Desktop/weibopy/new/train.csv',sep='\\t',header=None)\n",
    "train_data.columns=[\"label\",\"text\"]\n",
    "test_data = pd.read_csv('C:/Users/23106/Desktop/weibopy/new/test.csv',sep='\\t',header=None)\n",
    "test_data.columns=[\"label\",\"text\"]"
   ]
  },
  {
   "cell_type": "code",
   "execution_count": 22,
   "id": "3dabc71d",
   "metadata": {},
   "outputs": [
    {
     "data": {
      "text/html": [
       "<div>\n",
       "<style scoped>\n",
       "    .dataframe tbody tr th:only-of-type {\n",
       "        vertical-align: middle;\n",
       "    }\n",
       "\n",
       "    .dataframe tbody tr th {\n",
       "        vertical-align: top;\n",
       "    }\n",
       "\n",
       "    .dataframe thead th {\n",
       "        text-align: right;\n",
       "    }\n",
       "</style>\n",
       "<table border=\"1\" class=\"dataframe\">\n",
       "  <thead>\n",
       "    <tr style=\"text-align: right;\">\n",
       "      <th></th>\n",
       "      <th>label</th>\n",
       "      <th>text</th>\n",
       "    </tr>\n",
       "  </thead>\n",
       "  <tbody>\n",
       "    <tr>\n",
       "      <th>0</th>\n",
       "      <td>text</td>\n",
       "      <td>label</td>\n",
       "    </tr>\n",
       "    <tr>\n",
       "      <th>1</th>\n",
       "      <td>宿舍要民汉合宿了为毛都大三了还要折腾我</td>\n",
       "      <td>愤怒</td>\n",
       "    </tr>\n",
       "    <tr>\n",
       "      <th>2</th>\n",
       "      <td>早上的我竟然也变成了一个无理取闹的人</td>\n",
       "      <td>悲伤</td>\n",
       "    </tr>\n",
       "    <tr>\n",
       "      <th>3</th>\n",
       "      <td>多年来周天先生率智多星的律师策划师团队走出巴蜀挺进海西在厦门特区的发祥地安营扎寨</td>\n",
       "      <td>无情绪</td>\n",
       "    </tr>\n",
       "    <tr>\n",
       "      <th>4</th>\n",
       "      <td>听故事的时候你总喜欢眼巴巴的问后来呢可是当后来自己成为讲故事的人才发现后来故事和话语就在嘴边...</td>\n",
       "      <td>悲伤</td>\n",
       "    </tr>\n",
       "  </tbody>\n",
       "</table>\n",
       "</div>"
      ],
      "text/plain": [
       "                                               label   text\n",
       "0                                               text  label\n",
       "1                                宿舍要民汉合宿了为毛都大三了还要折腾我     愤怒\n",
       "2                                 早上的我竟然也变成了一个无理取闹的人     悲伤\n",
       "3           多年来周天先生率智多星的律师策划师团队走出巴蜀挺进海西在厦门特区的发祥地安营扎寨    无情绪\n",
       "4  听故事的时候你总喜欢眼巴巴的问后来呢可是当后来自己成为讲故事的人才发现后来故事和话语就在嘴边...     悲伤"
      ]
     },
     "execution_count": 22,
     "metadata": {},
     "output_type": "execute_result"
    }
   ],
   "source": [
    "test_data.head()"
   ]
  },
  {
   "cell_type": "code",
   "execution_count": 23,
   "id": "c1b954c7",
   "metadata": {},
   "outputs": [
    {
     "data": {
      "text/html": [
       "<div>\n",
       "<style scoped>\n",
       "    .dataframe tbody tr th:only-of-type {\n",
       "        vertical-align: middle;\n",
       "    }\n",
       "\n",
       "    .dataframe tbody tr th {\n",
       "        vertical-align: top;\n",
       "    }\n",
       "\n",
       "    .dataframe thead th {\n",
       "        text-align: right;\n",
       "    }\n",
       "</style>\n",
       "<table border=\"1\" class=\"dataframe\">\n",
       "  <thead>\n",
       "    <tr style=\"text-align: right;\">\n",
       "      <th></th>\n",
       "      <th>label</th>\n",
       "      <th>text</th>\n",
       "    </tr>\n",
       "  </thead>\n",
       "  <tbody>\n",
       "    <tr>\n",
       "      <th>0</th>\n",
       "      <td>text</td>\n",
       "      <td>label</td>\n",
       "    </tr>\n",
       "    <tr>\n",
       "      <th>1</th>\n",
       "      <td>气死姐姐了快二是阵亡了吗尼玛一个半小时过去了也没上车</td>\n",
       "      <td>愤怒</td>\n",
       "    </tr>\n",
       "    <tr>\n",
       "      <th>2</th>\n",
       "      <td>妞妞啊今天又承办了一个发文登记文号是嘻么么哒晚安哟</td>\n",
       "      <td>积极</td>\n",
       "    </tr>\n",
       "    <tr>\n",
       "      <th>3</th>\n",
       "      <td>这里还值得注意另一个事实就是张鞠存原有一个东溪草堂为其读书处</td>\n",
       "      <td>无情绪</td>\n",
       "    </tr>\n",
       "    <tr>\n",
       "      <th>4</th>\n",
       "      <td>这在前华约国家尤其是东德使用的首次联合演习期间被一些北约组织的飞行员所证实</td>\n",
       "      <td>无情绪</td>\n",
       "    </tr>\n",
       "  </tbody>\n",
       "</table>\n",
       "</div>"
      ],
      "text/plain": [
       "                                   label   text\n",
       "0                                   text  label\n",
       "1             气死姐姐了快二是阵亡了吗尼玛一个半小时过去了也没上车     愤怒\n",
       "2              妞妞啊今天又承办了一个发文登记文号是嘻么么哒晚安哟     积极\n",
       "3         这里还值得注意另一个事实就是张鞠存原有一个东溪草堂为其读书处    无情绪\n",
       "4  这在前华约国家尤其是东德使用的首次联合演习期间被一些北约组织的飞行员所证实    无情绪"
      ]
     },
     "execution_count": 23,
     "metadata": {},
     "output_type": "execute_result"
    }
   ],
   "source": [
    "train_data.head()"
   ]
  },
  {
   "cell_type": "code",
   "execution_count": 24,
   "id": "b9dbe739",
   "metadata": {},
   "outputs": [
    {
     "name": "stdout",
     "output_type": "stream",
     "text": [
      "<class 'pandas.core.frame.DataFrame'>\n",
      "RangeIndex: 5001 entries, 0 to 5000\n",
      "Data columns (total 2 columns):\n",
      " #   Column  Non-Null Count  Dtype \n",
      "---  ------  --------------  ----- \n",
      " 0   label   5000 non-null   object\n",
      " 1   text    5001 non-null   object\n",
      "dtypes: object(2)\n",
      "memory usage: 78.3+ KB\n"
     ]
    }
   ],
   "source": [
    "#查看测试集信息\n",
    "test_data.info()"
   ]
  },
  {
   "cell_type": "code",
   "execution_count": 25,
   "id": "99126e69",
   "metadata": {},
   "outputs": [],
   "source": [
    "#构建情感分析模型\n",
    "import paddle"
   ]
  },
  {
   "cell_type": "code",
   "execution_count": 26,
   "id": "1acb6a2c",
   "metadata": {},
   "outputs": [],
   "source": [
    "import paddlehub as hub"
   ]
  },
  {
   "cell_type": "code",
   "execution_count": 27,
   "id": "038cc40a",
   "metadata": {},
   "outputs": [
    {
     "name": "stdout",
     "output_type": "stream",
     "text": [
      "Running verify PaddlePaddle program ... \n",
      "PaddlePaddle works well on 1 GPU.\n",
      "PaddlePaddle works well on 1 GPUs.\n",
      "PaddlePaddle is installed successfully! Let's start deep learning with PaddlePaddle now.\n"
     ]
    }
   ],
   "source": [
    "#检测环境是否正常\n",
    "paddle.utils.run_check()"
   ]
  },
  {
   "cell_type": "code",
   "execution_count": 28,
   "id": "8ea49a39",
   "metadata": {},
   "outputs": [
    {
     "name": "stdout",
     "output_type": "stream",
     "text": [
      "['愤怒', '积极', '悲伤', '无情绪', '恐惧', '惊奇']\n"
     ]
    }
   ],
   "source": [
    "label_list=list(data.label.unique())\n",
    "print(label_list)"
   ]
  },
  {
   "cell_type": "code",
   "execution_count": 29,
   "id": "3d150a19",
   "metadata": {},
   "outputs": [
    {
     "name": "stdout",
     "output_type": "stream",
     "text": [
      "{0: '愤怒', 1: '积极', 2: '悲伤', 3: '无情绪', 4: '恐惧', 5: '惊奇'}\n"
     ]
    }
   ],
   "source": [
    "label_map = { \n",
    "    idx: label_text for idx, label_text in enumerate(label_list)\n",
    "}\n",
    "print(label_map)"
   ]
  },
  {
   "cell_type": "code",
   "execution_count": 30,
   "id": "9b096dfd",
   "metadata": {
    "scrolled": true
   },
   "outputs": [
    {
     "name": "stderr",
     "output_type": "stream",
     "text": [
      "\u001b[32m[2022-05-24 19:25:52,291] [    INFO]\u001b[0m - Already cached C:\\Users\\23106\\.paddlenlp\\models\\ernie-tiny\\ernie_tiny.pdparams\u001b[0m\n"
     ]
    }
   ],
   "source": [
    "# 此处选择ernie_tiny预训练模型并设置微调任务为6分类任务\n",
    "model = hub.Module(name=\"ernie_tiny\", task='seq-cls', num_classes=6, label_map=label_map)"
   ]
  },
  {
   "cell_type": "code",
   "execution_count": 47,
   "id": "c25323d3",
   "metadata": {},
   "outputs": [],
   "source": [
    "from paddlehub.datasets.base_nlp_dataset import InputExample, TextClassificationDataset"
   ]
  },
  {
   "cell_type": "code",
   "execution_count": 48,
   "id": "95d05ec9",
   "metadata": {},
   "outputs": [],
   "source": [
    "import os, io, csv"
   ]
  },
  {
   "cell_type": "code",
   "execution_count": 49,
   "id": "a745b107",
   "metadata": {},
   "outputs": [
    {
     "name": "stdout",
     "output_type": "stream",
     "text": [
      "['愤怒', '积极', '悲伤', '无情绪', '恐惧', '惊奇']\n"
     ]
    }
   ],
   "source": [
    "print(label_list)"
   ]
  },
  {
   "cell_type": "code",
   "execution_count": 50,
   "id": "a87a6ea6",
   "metadata": {},
   "outputs": [],
   "source": [
    "DIR=\"C:/Users/23106/Desktop/weibopy/new/\""
   ]
  },
  {
   "cell_type": "code",
   "execution_count": 51,
   "id": "5eb84479",
   "metadata": {
    "scrolled": true
   },
   "outputs": [
    {
     "name": "stderr",
     "output_type": "stream",
     "text": [
      "\u001b[32m[2022-05-24 20:56:33,219] [    INFO]\u001b[0m - Already cached C:\\Users\\23106\\.paddlenlp\\models\\ernie-tiny\\vocab.txt\u001b[0m\n",
      "\u001b[32m[2022-05-24 20:56:33,221] [    INFO]\u001b[0m - Already cached C:\\Users\\23106\\.paddlenlp\\models\\ernie-tiny\\spm_cased_simp_sampled.model\u001b[0m\n",
      "\u001b[32m[2022-05-24 20:56:33,222] [    INFO]\u001b[0m - Already cached C:\\Users\\23106\\.paddlenlp\\models\\ernie-tiny\\dict.wordseg.pickle\u001b[0m\n",
      "\u001b[32m[2022-05-24 20:56:41,891] [    INFO]\u001b[0m - Already cached C:\\Users\\23106\\.paddlenlp\\models\\ernie-tiny\\vocab.txt\u001b[0m\n",
      "\u001b[32m[2022-05-24 20:56:41,892] [    INFO]\u001b[0m - Already cached C:\\Users\\23106\\.paddlenlp\\models\\ernie-tiny\\spm_cased_simp_sampled.model\u001b[0m\n",
      "\u001b[32m[2022-05-24 20:56:41,893] [    INFO]\u001b[0m - Already cached C:\\Users\\23106\\.paddlenlp\\models\\ernie-tiny\\dict.wordseg.pickle\u001b[0m\n",
      "\u001b[32m[2022-05-24 20:56:46,015] [    INFO]\u001b[0m - Already cached C:\\Users\\23106\\.paddlenlp\\models\\ernie-tiny\\vocab.txt\u001b[0m\n",
      "\u001b[32m[2022-05-24 20:56:46,016] [    INFO]\u001b[0m - Already cached C:\\Users\\23106\\.paddlenlp\\models\\ernie-tiny\\spm_cased_simp_sampled.model\u001b[0m\n",
      "\u001b[32m[2022-05-24 20:56:46,017] [    INFO]\u001b[0m - Already cached C:\\Users\\23106\\.paddlenlp\\models\\ernie-tiny\\dict.wordseg.pickle\u001b[0m\n"
     ]
    },
    {
     "name": "stdout",
     "output_type": "stream",
     "text": [
      "text=气死姐姐了快二是阵亡了吗尼玛一个半小时过去了也没上车\tlabel=愤怒\n",
      "text=妞妞啊今天又承办了一个发文登记文号是嘻么么哒晚安哟\tlabel=积极\n",
      "text=这里还值得注意另一个事实就是张鞠存原有一个东溪草堂为其读书处\tlabel=无情绪\n",
      "text=宿舍要民汉合宿了为毛都大三了还要折腾我\tlabel=愤怒\n",
      "text=早上的我竟然也变成了一个无理取闹的人\tlabel=悲伤\n",
      "text=多年来周天先生率智多星的律师策划师团队走出巴蜀挺进海西在厦门特区的发祥地安营扎寨\tlabel=无情绪\n",
      "text=所以注定我这辈子是做不了商人妈蛋\tlabel=愤怒\n",
      "text=无论是心情多么低沉的夜晚天光大亮后都是崭新的开始\tlabel=积极\n",
      "text=帽子怎么就变绿色幸好只是试一下\tlabel=悲伤\n"
     ]
    }
   ],
   "source": [
    "class TEXTALS(TextClassificationDataset):\n",
    "    def __init__(self, tokenizer, mode='train', max_seq_len=128):\n",
    "        if mode == 'train':\n",
    "            data_file = 'train.csv'  # 训练集\n",
    "        elif mode == 'test':\n",
    "            data_file = 'test.csv'   # 测试集\n",
    "        else:\n",
    "            data_file = 'valid.csv'  # 验证集\n",
    "        \n",
    "        super(TEXTALS, self).__init__(\n",
    "            base_path=DIR,\n",
    "            data_file=data_file,\n",
    "            tokenizer=tokenizer,\n",
    "            max_seq_len=max_seq_len,\n",
    "            mode=mode,\n",
    "            is_file_with_header=True,\n",
    "            label_list=label_list\n",
    "            )\n",
    "\n",
    "    # 解析文本文件里的样本\n",
    "    def _read_file(self, input_file, is_file_with_header: bool = False):\n",
    "        if not os.path.exists(input_file):\n",
    "            raise RuntimeError(\"The file {} is not found.\".format(input_file))\n",
    "        else:\n",
    "            with io.open(input_file, \"r\", encoding=\"UTF-8\") as f:\n",
    "                reader = csv.reader(f, delimiter=\"\\t\")\n",
    "                examples = []\n",
    "                seq_id = 0\n",
    "                header = next(reader) if is_file_with_header else None\n",
    "                for line in reader:\n",
    "                    try:\n",
    "                        example = InputExample(guid=seq_id, text_a=line[0], label=line[1])\n",
    "                        seq_id += 1\n",
    "                        examples.append(example)\n",
    "                    except:\n",
    "                        continue\n",
    "                return examples\n",
    "                \n",
    "train_dataset = TEXTALS(model.get_tokenizer(), mode='train', max_seq_len=128)\n",
    "test_dataset = TEXTALS(model.get_tokenizer(), mode='test', max_seq_len=128)\n",
    "valid_dataset = TEXTALS(model.get_tokenizer(), mode='valid', max_seq_len=128)\n",
    "\n",
    "# 查看训练集前3条\n",
    "for e in train_dataset.examples[:3]:\n",
    "    print(e)\n",
    "# 查看验证集前3条\n",
    "for e in test_dataset.examples[:3]:\n",
    "    print(e)\n",
    "# 查看测试集前3条\n",
    "for e in valid_dataset.examples[:3]:\n",
    "    print(e)"
   ]
  },
  {
   "cell_type": "code",
   "execution_count": 36,
   "id": "63940efa",
   "metadata": {},
   "outputs": [
    {
     "name": "stderr",
     "output_type": "stream",
     "text": [
      "\u001b[33m[2022-05-24 19:26:10,675] [ WARNING]\u001b[0m - PaddleHub model checkpoint not found, start from scratch...\u001b[0m\n"
     ]
    }
   ],
   "source": [
    "#选择优化策略和运行配置\n",
    "optimizer = paddle.optimizer.AdamW(learning_rate=4e-5, parameters=model.parameters())\n",
    "trainer = hub.Trainer(model, optimizer, checkpoint_dir='./ckpt', use_gpu=True, use_vdl=True)"
   ]
  },
  {
   "cell_type": "code",
   "execution_count": 37,
   "id": "806b6a9e",
   "metadata": {},
   "outputs": [
    {
     "name": "stdout",
     "output_type": "stream",
     "text": [
      "gpu:0\n"
     ]
    }
   ],
   "source": [
    "print(paddle.device.get_device())"
   ]
  },
  {
   "cell_type": "code",
   "execution_count": 38,
   "id": "a64f1374",
   "metadata": {
    "scrolled": true
   },
   "outputs": [
    {
     "name": "stderr",
     "output_type": "stream",
     "text": [
      "\u001b[36m[2022-05-24 19:26:16,874] [   TRAIN]\u001b[0m - Epoch=1/6, Step=10/868 loss=1.5888 acc=0.3344 lr=0.000040 step/sec=1.62 | ETA 00:53:32\u001b[0m\n",
      "\u001b[36m[2022-05-24 19:26:22,821] [   TRAIN]\u001b[0m - Epoch=1/6, Step=20/868 loss=1.3246 acc=0.5469 lr=0.000040 step/sec=1.68 | ETA 00:52:35\u001b[0m\n",
      "\u001b[36m[2022-05-24 19:26:28,869] [   TRAIN]\u001b[0m - Epoch=1/6, Step=30/868 loss=1.1497 acc=0.6000 lr=0.000040 step/sec=1.65 | ETA 00:52:33\u001b[0m\n",
      "\u001b[36m[2022-05-24 19:26:34,813] [   TRAIN]\u001b[0m - Epoch=1/6, Step=40/868 loss=1.1003 acc=0.6031 lr=0.000040 step/sec=1.68 | ETA 00:52:18\u001b[0m\n",
      "\u001b[36m[2022-05-24 19:26:40,747] [   TRAIN]\u001b[0m - Epoch=1/6, Step=50/868 loss=0.8621 acc=0.7031 lr=0.000040 step/sec=1.69 | ETA 00:52:09\u001b[0m\n",
      "\u001b[36m[2022-05-24 19:26:46,827] [   TRAIN]\u001b[0m - Epoch=1/6, Step=60/868 loss=0.8665 acc=0.6687 lr=0.000040 step/sec=1.64 | ETA 00:52:15\u001b[0m\n",
      "\u001b[36m[2022-05-24 19:26:52,931] [   TRAIN]\u001b[0m - Epoch=1/6, Step=70/868 loss=0.8537 acc=0.7000 lr=0.000040 step/sec=1.64 | ETA 00:52:21\u001b[0m\n",
      "\u001b[36m[2022-05-24 19:26:59,068] [   TRAIN]\u001b[0m - Epoch=1/6, Step=80/868 loss=0.8787 acc=0.7031 lr=0.000040 step/sec=1.63 | ETA 00:52:28\u001b[0m\n",
      "\u001b[36m[2022-05-24 19:27:05,142] [   TRAIN]\u001b[0m - Epoch=1/6, Step=90/868 loss=0.8114 acc=0.7000 lr=0.000040 step/sec=1.65 | ETA 00:52:30\u001b[0m\n",
      "\u001b[36m[2022-05-24 19:27:11,275] [   TRAIN]\u001b[0m - Epoch=1/6, Step=100/868 loss=0.7580 acc=0.7125 lr=0.000040 step/sec=1.63 | ETA 00:52:34\u001b[0m\n",
      "\u001b[36m[2022-05-24 19:27:17,446] [   TRAIN]\u001b[0m - Epoch=1/6, Step=110/868 loss=0.8384 acc=0.6906 lr=0.000040 step/sec=1.62 | ETA 00:52:39\u001b[0m\n",
      "\u001b[36m[2022-05-24 19:27:23,624] [   TRAIN]\u001b[0m - Epoch=1/6, Step=120/868 loss=0.8853 acc=0.7063 lr=0.000040 step/sec=1.62 | ETA 00:52:44\u001b[0m\n",
      "\u001b[36m[2022-05-24 19:27:29,793] [   TRAIN]\u001b[0m - Epoch=1/6, Step=130/868 loss=0.7853 acc=0.7250 lr=0.000040 step/sec=1.62 | ETA 00:52:48\u001b[0m\n",
      "\u001b[36m[2022-05-24 19:27:35,918] [   TRAIN]\u001b[0m - Epoch=1/6, Step=140/868 loss=0.7126 acc=0.7188 lr=0.000040 step/sec=1.63 | ETA 00:52:49\u001b[0m\n",
      "\u001b[36m[2022-05-24 19:27:42,140] [   TRAIN]\u001b[0m - Epoch=1/6, Step=150/868 loss=0.7170 acc=0.7156 lr=0.000040 step/sec=1.61 | ETA 00:52:54\u001b[0m\n",
      "\u001b[36m[2022-05-24 19:27:48,271] [   TRAIN]\u001b[0m - Epoch=1/6, Step=160/868 loss=0.6931 acc=0.7594 lr=0.000040 step/sec=1.63 | ETA 00:52:55\u001b[0m\n",
      "\u001b[36m[2022-05-24 19:27:54,463] [   TRAIN]\u001b[0m - Epoch=1/6, Step=170/868 loss=0.7614 acc=0.7375 lr=0.000040 step/sec=1.62 | ETA 00:52:58\u001b[0m\n",
      "\u001b[36m[2022-05-24 19:28:00,665] [   TRAIN]\u001b[0m - Epoch=1/6, Step=180/868 loss=0.8424 acc=0.7031 lr=0.000040 step/sec=1.61 | ETA 00:53:01\u001b[0m\n",
      "\u001b[36m[2022-05-24 19:28:06,841] [   TRAIN]\u001b[0m - Epoch=1/6, Step=190/868 loss=0.7663 acc=0.7219 lr=0.000040 step/sec=1.62 | ETA 00:53:03\u001b[0m\n",
      "\u001b[36m[2022-05-24 19:28:12,988] [   TRAIN]\u001b[0m - Epoch=1/6, Step=200/868 loss=0.6352 acc=0.7719 lr=0.000040 step/sec=1.63 | ETA 00:53:04\u001b[0m\n",
      "\u001b[36m[2022-05-24 19:28:19,018] [   TRAIN]\u001b[0m - Epoch=1/6, Step=210/868 loss=0.7025 acc=0.7438 lr=0.000040 step/sec=1.66 | ETA 00:53:02\u001b[0m\n",
      "\u001b[36m[2022-05-24 19:28:25,065] [   TRAIN]\u001b[0m - Epoch=1/6, Step=220/868 loss=0.7228 acc=0.7500 lr=0.000040 step/sec=1.65 | ETA 00:53:00\u001b[0m\n",
      "\u001b[36m[2022-05-24 19:28:31,181] [   TRAIN]\u001b[0m - Epoch=1/6, Step=230/868 loss=0.7067 acc=0.7156 lr=0.000040 step/sec=1.64 | ETA 00:53:00\u001b[0m\n",
      "\u001b[36m[2022-05-24 19:28:37,234] [   TRAIN]\u001b[0m - Epoch=1/6, Step=240/868 loss=0.6360 acc=0.7594 lr=0.000040 step/sec=1.65 | ETA 00:52:59\u001b[0m\n",
      "\u001b[36m[2022-05-24 19:28:43,294] [   TRAIN]\u001b[0m - Epoch=1/6, Step=250/868 loss=0.6935 acc=0.7469 lr=0.000040 step/sec=1.65 | ETA 00:52:58\u001b[0m\n",
      "\u001b[36m[2022-05-24 19:28:49,401] [   TRAIN]\u001b[0m - Epoch=1/6, Step=260/868 loss=0.7005 acc=0.7656 lr=0.000040 step/sec=1.64 | ETA 00:52:58\u001b[0m\n",
      "\u001b[36m[2022-05-24 19:28:55,388] [   TRAIN]\u001b[0m - Epoch=1/6, Step=270/868 loss=0.6910 acc=0.7500 lr=0.000040 step/sec=1.67 | ETA 00:52:56\u001b[0m\n",
      "\u001b[36m[2022-05-24 19:29:01,363] [   TRAIN]\u001b[0m - Epoch=1/6, Step=280/868 loss=0.6679 acc=0.7688 lr=0.000040 step/sec=1.67 | ETA 00:52:54\u001b[0m\n",
      "\u001b[36m[2022-05-24 19:29:07,364] [   TRAIN]\u001b[0m - Epoch=1/6, Step=290/868 loss=0.6857 acc=0.7312 lr=0.000040 step/sec=1.67 | ETA 00:52:52\u001b[0m\n",
      "\u001b[36m[2022-05-24 19:29:13,512] [   TRAIN]\u001b[0m - Epoch=1/6, Step=300/868 loss=0.7181 acc=0.7312 lr=0.000040 step/sec=1.63 | ETA 00:52:53\u001b[0m\n",
      "\u001b[36m[2022-05-24 19:29:19,494] [   TRAIN]\u001b[0m - Epoch=1/6, Step=310/868 loss=0.7504 acc=0.7250 lr=0.000040 step/sec=1.67 | ETA 00:52:51\u001b[0m\n",
      "\u001b[36m[2022-05-24 19:29:25,492] [   TRAIN]\u001b[0m - Epoch=1/6, Step=320/868 loss=0.7614 acc=0.7125 lr=0.000040 step/sec=1.67 | ETA 00:52:50\u001b[0m\n",
      "\u001b[36m[2022-05-24 19:29:31,630] [   TRAIN]\u001b[0m - Epoch=1/6, Step=330/868 loss=0.7336 acc=0.7219 lr=0.000040 step/sec=1.63 | ETA 00:52:50\u001b[0m\n",
      "\u001b[36m[2022-05-24 19:29:37,767] [   TRAIN]\u001b[0m - Epoch=1/6, Step=340/868 loss=0.6723 acc=0.7594 lr=0.000040 step/sec=1.63 | ETA 00:52:51\u001b[0m\n"
     ]
    },
    {
     "ename": "KeyboardInterrupt",
     "evalue": "",
     "output_type": "error",
     "traceback": [
      "\u001b[1;31m---------------------------------------------------------------------------\u001b[0m",
      "\u001b[1;31mKeyboardInterrupt\u001b[0m                         Traceback (most recent call last)",
      "\u001b[1;32m~\\AppData\\Local\\Temp/ipykernel_49820/3574190346.py\u001b[0m in \u001b[0;36m<module>\u001b[1;34m\u001b[0m\n\u001b[1;32m----> 1\u001b[1;33m \u001b[0mtrainer\u001b[0m\u001b[1;33m.\u001b[0m\u001b[0mtrain\u001b[0m\u001b[1;33m(\u001b[0m\u001b[0mtrain_dataset\u001b[0m\u001b[1;33m,\u001b[0m \u001b[0mepochs\u001b[0m\u001b[1;33m=\u001b[0m\u001b[1;36m6\u001b[0m\u001b[1;33m,\u001b[0m \u001b[0mbatch_size\u001b[0m\u001b[1;33m=\u001b[0m\u001b[1;36m32\u001b[0m\u001b[1;33m,\u001b[0m \u001b[0meval_dataset\u001b[0m\u001b[1;33m=\u001b[0m\u001b[0mvalid_dataset\u001b[0m\u001b[1;33m,\u001b[0m \u001b[0msave_interval\u001b[0m\u001b[1;33m=\u001b[0m\u001b[1;36m1\u001b[0m\u001b[1;33m)\u001b[0m\u001b[1;33m\u001b[0m\u001b[1;33m\u001b[0m\u001b[0m\n\u001b[0m",
      "\u001b[1;32m~\\anaconda3\\lib\\site-packages\\paddlehub\\finetune\\trainer.py\u001b[0m in \u001b[0;36mtrain\u001b[1;34m(self, train_dataset, epochs, batch_size, num_workers, eval_dataset, log_interval, save_interval, collate_fn)\u001b[0m\n\u001b[0;32m    210\u001b[0m \u001b[1;33m\u001b[0m\u001b[0m\n\u001b[0;32m    211\u001b[0m             \u001b[1;32mfor\u001b[0m \u001b[0mbatch_idx\u001b[0m\u001b[1;33m,\u001b[0m \u001b[0mbatch\u001b[0m \u001b[1;32min\u001b[0m \u001b[0menumerate\u001b[0m\u001b[1;33m(\u001b[0m\u001b[0mloader\u001b[0m\u001b[1;33m)\u001b[0m\u001b[1;33m:\u001b[0m\u001b[1;33m\u001b[0m\u001b[1;33m\u001b[0m\u001b[0m\n\u001b[1;32m--> 212\u001b[1;33m                 \u001b[0mloss\u001b[0m\u001b[1;33m,\u001b[0m \u001b[0mmetrics\u001b[0m \u001b[1;33m=\u001b[0m \u001b[0mself\u001b[0m\u001b[1;33m.\u001b[0m\u001b[0mtraining_step\u001b[0m\u001b[1;33m(\u001b[0m\u001b[0mbatch\u001b[0m\u001b[1;33m,\u001b[0m \u001b[0mbatch_idx\u001b[0m\u001b[1;33m)\u001b[0m\u001b[1;33m\u001b[0m\u001b[1;33m\u001b[0m\u001b[0m\n\u001b[0m\u001b[0;32m    213\u001b[0m                 \u001b[0mself\u001b[0m\u001b[1;33m.\u001b[0m\u001b[0moptimizer_step\u001b[0m\u001b[1;33m(\u001b[0m\u001b[0mself\u001b[0m\u001b[1;33m.\u001b[0m\u001b[0mcurrent_epoch\u001b[0m\u001b[1;33m,\u001b[0m \u001b[0mbatch_idx\u001b[0m\u001b[1;33m,\u001b[0m \u001b[0mself\u001b[0m\u001b[1;33m.\u001b[0m\u001b[0moptimizer\u001b[0m\u001b[1;33m,\u001b[0m \u001b[0mloss\u001b[0m\u001b[1;33m)\u001b[0m\u001b[1;33m\u001b[0m\u001b[1;33m\u001b[0m\u001b[0m\n\u001b[0;32m    214\u001b[0m                 \u001b[0mself\u001b[0m\u001b[1;33m.\u001b[0m\u001b[0moptimizer_zero_grad\u001b[0m\u001b[1;33m(\u001b[0m\u001b[0mself\u001b[0m\u001b[1;33m.\u001b[0m\u001b[0mcurrent_epoch\u001b[0m\u001b[1;33m,\u001b[0m \u001b[0mbatch_idx\u001b[0m\u001b[1;33m,\u001b[0m \u001b[0mself\u001b[0m\u001b[1;33m.\u001b[0m\u001b[0moptimizer\u001b[0m\u001b[1;33m)\u001b[0m\u001b[1;33m\u001b[0m\u001b[1;33m\u001b[0m\u001b[0m\n",
      "\u001b[1;32m~\\anaconda3\\lib\\site-packages\\paddlehub\\finetune\\trainer.py\u001b[0m in \u001b[0;36mtraining_step\u001b[1;34m(self, batch, batch_idx)\u001b[0m\n\u001b[0;32m    350\u001b[0m             \u001b[0mresult\u001b[0m \u001b[1;33m=\u001b[0m \u001b[0mself\u001b[0m\u001b[1;33m.\u001b[0m\u001b[0mmodel\u001b[0m\u001b[1;33m.\u001b[0m\u001b[0m_layers\u001b[0m\u001b[1;33m.\u001b[0m\u001b[0mtraining_step\u001b[0m\u001b[1;33m(\u001b[0m\u001b[0mbatch\u001b[0m\u001b[1;33m,\u001b[0m \u001b[0mbatch_idx\u001b[0m\u001b[1;33m)\u001b[0m\u001b[1;33m\u001b[0m\u001b[1;33m\u001b[0m\u001b[0m\n\u001b[0;32m    351\u001b[0m         \u001b[1;32melse\u001b[0m\u001b[1;33m:\u001b[0m\u001b[1;33m\u001b[0m\u001b[1;33m\u001b[0m\u001b[0m\n\u001b[1;32m--> 352\u001b[1;33m             \u001b[0mresult\u001b[0m \u001b[1;33m=\u001b[0m \u001b[0mself\u001b[0m\u001b[1;33m.\u001b[0m\u001b[0mmodel\u001b[0m\u001b[1;33m.\u001b[0m\u001b[0mtraining_step\u001b[0m\u001b[1;33m(\u001b[0m\u001b[0mbatch\u001b[0m\u001b[1;33m,\u001b[0m \u001b[0mbatch_idx\u001b[0m\u001b[1;33m)\u001b[0m\u001b[1;33m\u001b[0m\u001b[1;33m\u001b[0m\u001b[0m\n\u001b[0m\u001b[0;32m    353\u001b[0m \u001b[1;33m\u001b[0m\u001b[0m\n\u001b[0;32m    354\u001b[0m         \u001b[1;31m# process result\u001b[0m\u001b[1;33m\u001b[0m\u001b[1;33m\u001b[0m\u001b[0m\n",
      "\u001b[1;32m~\\anaconda3\\lib\\site-packages\\paddlehub\\module\\nlp_module.py\u001b[0m in \u001b[0;36mtraining_step\u001b[1;34m(self, batch, batch_idx)\u001b[0m\n\u001b[0;32m    500\u001b[0m         \"\"\"\n\u001b[0;32m    501\u001b[0m         \u001b[1;32mif\u001b[0m \u001b[0mself\u001b[0m\u001b[1;33m.\u001b[0m\u001b[0mtask\u001b[0m \u001b[1;33m==\u001b[0m \u001b[1;34m'seq-cls'\u001b[0m\u001b[1;33m:\u001b[0m\u001b[1;33m\u001b[0m\u001b[1;33m\u001b[0m\u001b[0m\n\u001b[1;32m--> 502\u001b[1;33m             \u001b[0mpredictions\u001b[0m\u001b[1;33m,\u001b[0m \u001b[0mavg_loss\u001b[0m\u001b[1;33m,\u001b[0m \u001b[0mmetric\u001b[0m \u001b[1;33m=\u001b[0m \u001b[0mself\u001b[0m\u001b[1;33m(\u001b[0m\u001b[0minput_ids\u001b[0m\u001b[1;33m=\u001b[0m\u001b[0mbatch\u001b[0m\u001b[1;33m[\u001b[0m\u001b[1;36m0\u001b[0m\u001b[1;33m]\u001b[0m\u001b[1;33m,\u001b[0m \u001b[0mtoken_type_ids\u001b[0m\u001b[1;33m=\u001b[0m\u001b[0mbatch\u001b[0m\u001b[1;33m[\u001b[0m\u001b[1;36m1\u001b[0m\u001b[1;33m]\u001b[0m\u001b[1;33m,\u001b[0m \u001b[0mlabels\u001b[0m\u001b[1;33m=\u001b[0m\u001b[0mbatch\u001b[0m\u001b[1;33m[\u001b[0m\u001b[1;36m2\u001b[0m\u001b[1;33m]\u001b[0m\u001b[1;33m)\u001b[0m\u001b[1;33m\u001b[0m\u001b[1;33m\u001b[0m\u001b[0m\n\u001b[0m\u001b[0;32m    503\u001b[0m         \u001b[1;32melif\u001b[0m \u001b[0mself\u001b[0m\u001b[1;33m.\u001b[0m\u001b[0mtask\u001b[0m \u001b[1;33m==\u001b[0m \u001b[1;34m'token-cls'\u001b[0m\u001b[1;33m:\u001b[0m\u001b[1;33m\u001b[0m\u001b[1;33m\u001b[0m\u001b[0m\n\u001b[0;32m    504\u001b[0m             predictions, avg_loss, metric = self(\n",
      "\u001b[1;32m~\\anaconda3\\lib\\site-packages\\paddle\\fluid\\dygraph\\layers.py\u001b[0m in \u001b[0;36m__call__\u001b[1;34m(self, *inputs, **kwargs)\u001b[0m\n\u001b[0;32m    915\u001b[0m \u001b[1;33m\u001b[0m\u001b[0m\n\u001b[0;32m    916\u001b[0m     \u001b[1;32mdef\u001b[0m \u001b[0m__call__\u001b[0m\u001b[1;33m(\u001b[0m\u001b[0mself\u001b[0m\u001b[1;33m,\u001b[0m \u001b[1;33m*\u001b[0m\u001b[0minputs\u001b[0m\u001b[1;33m,\u001b[0m \u001b[1;33m**\u001b[0m\u001b[0mkwargs\u001b[0m\u001b[1;33m)\u001b[0m\u001b[1;33m:\u001b[0m\u001b[1;33m\u001b[0m\u001b[1;33m\u001b[0m\u001b[0m\n\u001b[1;32m--> 917\u001b[1;33m         \u001b[1;32mreturn\u001b[0m \u001b[0mself\u001b[0m\u001b[1;33m.\u001b[0m\u001b[0m_dygraph_call_func\u001b[0m\u001b[1;33m(\u001b[0m\u001b[1;33m*\u001b[0m\u001b[0minputs\u001b[0m\u001b[1;33m,\u001b[0m \u001b[1;33m**\u001b[0m\u001b[0mkwargs\u001b[0m\u001b[1;33m)\u001b[0m\u001b[1;33m\u001b[0m\u001b[1;33m\u001b[0m\u001b[0m\n\u001b[0m\u001b[0;32m    918\u001b[0m \u001b[1;33m\u001b[0m\u001b[0m\n\u001b[0;32m    919\u001b[0m     \u001b[1;32mdef\u001b[0m \u001b[0mforward\u001b[0m\u001b[1;33m(\u001b[0m\u001b[0mself\u001b[0m\u001b[1;33m,\u001b[0m \u001b[1;33m*\u001b[0m\u001b[0minputs\u001b[0m\u001b[1;33m,\u001b[0m \u001b[1;33m**\u001b[0m\u001b[0mkwargs\u001b[0m\u001b[1;33m)\u001b[0m\u001b[1;33m:\u001b[0m\u001b[1;33m\u001b[0m\u001b[1;33m\u001b[0m\u001b[0m\n",
      "\u001b[1;32m~\\anaconda3\\lib\\site-packages\\paddle\\fluid\\dygraph\\layers.py\u001b[0m in \u001b[0;36m_dygraph_call_func\u001b[1;34m(self, *inputs, **kwargs)\u001b[0m\n\u001b[0;32m    905\u001b[0m             \u001b[0mself\u001b[0m\u001b[1;33m.\u001b[0m\u001b[0m_built\u001b[0m \u001b[1;33m=\u001b[0m \u001b[1;32mTrue\u001b[0m\u001b[1;33m\u001b[0m\u001b[1;33m\u001b[0m\u001b[0m\n\u001b[0;32m    906\u001b[0m \u001b[1;33m\u001b[0m\u001b[0m\n\u001b[1;32m--> 907\u001b[1;33m         \u001b[0moutputs\u001b[0m \u001b[1;33m=\u001b[0m \u001b[0mself\u001b[0m\u001b[1;33m.\u001b[0m\u001b[0mforward\u001b[0m\u001b[1;33m(\u001b[0m\u001b[1;33m*\u001b[0m\u001b[0minputs\u001b[0m\u001b[1;33m,\u001b[0m \u001b[1;33m**\u001b[0m\u001b[0mkwargs\u001b[0m\u001b[1;33m)\u001b[0m\u001b[1;33m\u001b[0m\u001b[1;33m\u001b[0m\u001b[0m\n\u001b[0m\u001b[0;32m    908\u001b[0m \u001b[1;33m\u001b[0m\u001b[0m\n\u001b[0;32m    909\u001b[0m         \u001b[1;32mfor\u001b[0m \u001b[0mforward_post_hook\u001b[0m \u001b[1;32min\u001b[0m \u001b[0mself\u001b[0m\u001b[1;33m.\u001b[0m\u001b[0m_forward_post_hooks\u001b[0m\u001b[1;33m.\u001b[0m\u001b[0mvalues\u001b[0m\u001b[1;33m(\u001b[0m\u001b[1;33m)\u001b[0m\u001b[1;33m:\u001b[0m\u001b[1;33m\u001b[0m\u001b[1;33m\u001b[0m\u001b[0m\n",
      "\u001b[1;32m~\\.paddlehub\\modules\\ernie_tiny\\module.py\u001b[0m in \u001b[0;36mforward\u001b[1;34m(self, input_ids, token_type_ids, position_ids, attention_mask, query_input_ids, query_token_type_ids, query_position_ids, query_attention_mask, title_input_ids, title_token_type_ids, title_position_ids, title_attention_mask, seq_lengths, labels)\u001b[0m\n\u001b[0;32m    116\u001b[0m             \u001b[0mprobs\u001b[0m \u001b[1;33m=\u001b[0m \u001b[0mF\u001b[0m\u001b[1;33m.\u001b[0m\u001b[0msoftmax\u001b[0m\u001b[1;33m(\u001b[0m\u001b[0mlogits\u001b[0m\u001b[1;33m,\u001b[0m \u001b[0maxis\u001b[0m\u001b[1;33m=\u001b[0m\u001b[1;36m1\u001b[0m\u001b[1;33m)\u001b[0m\u001b[1;33m\u001b[0m\u001b[1;33m\u001b[0m\u001b[0m\n\u001b[0;32m    117\u001b[0m             \u001b[1;32mif\u001b[0m \u001b[0mlabels\u001b[0m \u001b[1;32mis\u001b[0m \u001b[1;32mnot\u001b[0m \u001b[1;32mNone\u001b[0m\u001b[1;33m:\u001b[0m\u001b[1;33m\u001b[0m\u001b[1;33m\u001b[0m\u001b[0m\n\u001b[1;32m--> 118\u001b[1;33m                 \u001b[0mloss\u001b[0m \u001b[1;33m=\u001b[0m \u001b[0mself\u001b[0m\u001b[1;33m.\u001b[0m\u001b[0mcriterion\u001b[0m\u001b[1;33m(\u001b[0m\u001b[0mlogits\u001b[0m\u001b[1;33m,\u001b[0m \u001b[0mlabels\u001b[0m\u001b[1;33m)\u001b[0m\u001b[1;33m\u001b[0m\u001b[1;33m\u001b[0m\u001b[0m\n\u001b[0m\u001b[0;32m    119\u001b[0m                 \u001b[0mcorrect\u001b[0m \u001b[1;33m=\u001b[0m \u001b[0mself\u001b[0m\u001b[1;33m.\u001b[0m\u001b[0mmetric\u001b[0m\u001b[1;33m.\u001b[0m\u001b[0mcompute\u001b[0m\u001b[1;33m(\u001b[0m\u001b[0mprobs\u001b[0m\u001b[1;33m,\u001b[0m \u001b[0mlabels\u001b[0m\u001b[1;33m)\u001b[0m\u001b[1;33m\u001b[0m\u001b[1;33m\u001b[0m\u001b[0m\n\u001b[0;32m    120\u001b[0m                 \u001b[0macc\u001b[0m \u001b[1;33m=\u001b[0m \u001b[0mself\u001b[0m\u001b[1;33m.\u001b[0m\u001b[0mmetric\u001b[0m\u001b[1;33m.\u001b[0m\u001b[0mupdate\u001b[0m\u001b[1;33m(\u001b[0m\u001b[0mcorrect\u001b[0m\u001b[1;33m)\u001b[0m\u001b[1;33m\u001b[0m\u001b[1;33m\u001b[0m\u001b[0m\n",
      "\u001b[1;32m~\\anaconda3\\lib\\site-packages\\paddle\\fluid\\dygraph\\layers.py\u001b[0m in \u001b[0;36m__call__\u001b[1;34m(self, *inputs, **kwargs)\u001b[0m\n\u001b[0;32m    915\u001b[0m \u001b[1;33m\u001b[0m\u001b[0m\n\u001b[0;32m    916\u001b[0m     \u001b[1;32mdef\u001b[0m \u001b[0m__call__\u001b[0m\u001b[1;33m(\u001b[0m\u001b[0mself\u001b[0m\u001b[1;33m,\u001b[0m \u001b[1;33m*\u001b[0m\u001b[0minputs\u001b[0m\u001b[1;33m,\u001b[0m \u001b[1;33m**\u001b[0m\u001b[0mkwargs\u001b[0m\u001b[1;33m)\u001b[0m\u001b[1;33m:\u001b[0m\u001b[1;33m\u001b[0m\u001b[1;33m\u001b[0m\u001b[0m\n\u001b[1;32m--> 917\u001b[1;33m         \u001b[1;32mreturn\u001b[0m \u001b[0mself\u001b[0m\u001b[1;33m.\u001b[0m\u001b[0m_dygraph_call_func\u001b[0m\u001b[1;33m(\u001b[0m\u001b[1;33m*\u001b[0m\u001b[0minputs\u001b[0m\u001b[1;33m,\u001b[0m \u001b[1;33m**\u001b[0m\u001b[0mkwargs\u001b[0m\u001b[1;33m)\u001b[0m\u001b[1;33m\u001b[0m\u001b[1;33m\u001b[0m\u001b[0m\n\u001b[0m\u001b[0;32m    918\u001b[0m \u001b[1;33m\u001b[0m\u001b[0m\n\u001b[0;32m    919\u001b[0m     \u001b[1;32mdef\u001b[0m \u001b[0mforward\u001b[0m\u001b[1;33m(\u001b[0m\u001b[0mself\u001b[0m\u001b[1;33m,\u001b[0m \u001b[1;33m*\u001b[0m\u001b[0minputs\u001b[0m\u001b[1;33m,\u001b[0m \u001b[1;33m**\u001b[0m\u001b[0mkwargs\u001b[0m\u001b[1;33m)\u001b[0m\u001b[1;33m:\u001b[0m\u001b[1;33m\u001b[0m\u001b[1;33m\u001b[0m\u001b[0m\n",
      "\u001b[1;32m~\\anaconda3\\lib\\site-packages\\paddle\\fluid\\dygraph\\layers.py\u001b[0m in \u001b[0;36m_dygraph_call_func\u001b[1;34m(self, *inputs, **kwargs)\u001b[0m\n\u001b[0;32m    905\u001b[0m             \u001b[0mself\u001b[0m\u001b[1;33m.\u001b[0m\u001b[0m_built\u001b[0m \u001b[1;33m=\u001b[0m \u001b[1;32mTrue\u001b[0m\u001b[1;33m\u001b[0m\u001b[1;33m\u001b[0m\u001b[0m\n\u001b[0;32m    906\u001b[0m \u001b[1;33m\u001b[0m\u001b[0m\n\u001b[1;32m--> 907\u001b[1;33m         \u001b[0moutputs\u001b[0m \u001b[1;33m=\u001b[0m \u001b[0mself\u001b[0m\u001b[1;33m.\u001b[0m\u001b[0mforward\u001b[0m\u001b[1;33m(\u001b[0m\u001b[1;33m*\u001b[0m\u001b[0minputs\u001b[0m\u001b[1;33m,\u001b[0m \u001b[1;33m**\u001b[0m\u001b[0mkwargs\u001b[0m\u001b[1;33m)\u001b[0m\u001b[1;33m\u001b[0m\u001b[1;33m\u001b[0m\u001b[0m\n\u001b[0m\u001b[0;32m    908\u001b[0m \u001b[1;33m\u001b[0m\u001b[0m\n\u001b[0;32m    909\u001b[0m         \u001b[1;32mfor\u001b[0m \u001b[0mforward_post_hook\u001b[0m \u001b[1;32min\u001b[0m \u001b[0mself\u001b[0m\u001b[1;33m.\u001b[0m\u001b[0m_forward_post_hooks\u001b[0m\u001b[1;33m.\u001b[0m\u001b[0mvalues\u001b[0m\u001b[1;33m(\u001b[0m\u001b[1;33m)\u001b[0m\u001b[1;33m:\u001b[0m\u001b[1;33m\u001b[0m\u001b[1;33m\u001b[0m\u001b[0m\n",
      "\u001b[1;32m~\\anaconda3\\lib\\site-packages\\paddle\\nn\\layer\\loss.py\u001b[0m in \u001b[0;36mforward\u001b[1;34m(self, input, label)\u001b[0m\n\u001b[0;32m    395\u001b[0m \u001b[1;33m\u001b[0m\u001b[0m\n\u001b[0;32m    396\u001b[0m     \u001b[1;32mdef\u001b[0m \u001b[0mforward\u001b[0m\u001b[1;33m(\u001b[0m\u001b[0mself\u001b[0m\u001b[1;33m,\u001b[0m \u001b[0minput\u001b[0m\u001b[1;33m,\u001b[0m \u001b[0mlabel\u001b[0m\u001b[1;33m)\u001b[0m\u001b[1;33m:\u001b[0m\u001b[1;33m\u001b[0m\u001b[1;33m\u001b[0m\u001b[0m\n\u001b[1;32m--> 397\u001b[1;33m         ret = paddle.nn.functional.cross_entropy(\n\u001b[0m\u001b[0;32m    398\u001b[0m             \u001b[0minput\u001b[0m\u001b[1;33m,\u001b[0m\u001b[1;33m\u001b[0m\u001b[1;33m\u001b[0m\u001b[0m\n\u001b[0;32m    399\u001b[0m             \u001b[0mlabel\u001b[0m\u001b[1;33m,\u001b[0m\u001b[1;33m\u001b[0m\u001b[1;33m\u001b[0m\u001b[0m\n",
      "\u001b[1;32m~\\anaconda3\\lib\\site-packages\\paddle\\nn\\functional\\loss.py\u001b[0m in \u001b[0;36mcross_entropy\u001b[1;34m(input, label, weight, ignore_index, reduction, soft_label, axis, use_softmax, name)\u001b[0m\n\u001b[0;32m   1648\u001b[0m              (got nput_dims{}, label_dims{})'.format(input_dims, label_dims))\n\u001b[0;32m   1649\u001b[0m     \u001b[1;32mif\u001b[0m \u001b[0minput_dims\u001b[0m \u001b[1;33m-\u001b[0m \u001b[1;36m1\u001b[0m \u001b[1;33m==\u001b[0m \u001b[0mlabel_dims\u001b[0m\u001b[1;33m:\u001b[0m\u001b[1;33m\u001b[0m\u001b[1;33m\u001b[0m\u001b[0m\n\u001b[1;32m-> 1650\u001b[1;33m         \u001b[0mlabel\u001b[0m \u001b[1;33m=\u001b[0m \u001b[0mpaddle\u001b[0m\u001b[1;33m.\u001b[0m\u001b[0munsqueeze\u001b[0m\u001b[1;33m(\u001b[0m\u001b[0mlabel\u001b[0m\u001b[1;33m,\u001b[0m \u001b[0maxis\u001b[0m\u001b[1;33m=\u001b[0m\u001b[0maxis\u001b[0m\u001b[1;33m)\u001b[0m\u001b[1;33m\u001b[0m\u001b[1;33m\u001b[0m\u001b[0m\n\u001b[0m\u001b[0;32m   1651\u001b[0m     \u001b[1;32mif\u001b[0m \u001b[0min_dygraph_mode\u001b[0m\u001b[1;33m(\u001b[0m\u001b[1;33m)\u001b[0m\u001b[1;33m:\u001b[0m\u001b[1;33m\u001b[0m\u001b[1;33m\u001b[0m\u001b[0m\n\u001b[0;32m   1652\u001b[0m         \u001b[1;32mif\u001b[0m \u001b[0msoft_label\u001b[0m \u001b[1;33m==\u001b[0m \u001b[1;32mFalse\u001b[0m\u001b[1;33m:\u001b[0m\u001b[1;33m\u001b[0m\u001b[1;33m\u001b[0m\u001b[0m\n",
      "\u001b[1;32m~\\anaconda3\\lib\\site-packages\\paddle\\tensor\\manipulation.py\u001b[0m in \u001b[0;36munsqueeze\u001b[1;34m(x, axis, name)\u001b[0m\n\u001b[0;32m   1227\u001b[0m     \"\"\"\n\u001b[0;32m   1228\u001b[0m \u001b[1;33m\u001b[0m\u001b[0m\n\u001b[1;32m-> 1229\u001b[1;33m     \u001b[1;32mreturn\u001b[0m \u001b[0mlayers\u001b[0m\u001b[1;33m.\u001b[0m\u001b[0munsqueeze\u001b[0m\u001b[1;33m(\u001b[0m\u001b[0mx\u001b[0m\u001b[1;33m,\u001b[0m \u001b[0maxis\u001b[0m\u001b[1;33m,\u001b[0m \u001b[0mname\u001b[0m\u001b[1;33m)\u001b[0m\u001b[1;33m\u001b[0m\u001b[1;33m\u001b[0m\u001b[0m\n\u001b[0m\u001b[0;32m   1230\u001b[0m \u001b[1;33m\u001b[0m\u001b[0m\n\u001b[0;32m   1231\u001b[0m \u001b[1;33m\u001b[0m\u001b[0m\n",
      "\u001b[1;32m~\\anaconda3\\lib\\site-packages\\paddle\\fluid\\layers\\nn.py\u001b[0m in \u001b[0;36munsqueeze\u001b[1;34m(input, axes, name)\u001b[0m\n\u001b[0;32m   6390\u001b[0m                 \u001b[1;32mfor\u001b[0m \u001b[0mitem\u001b[0m \u001b[1;32min\u001b[0m \u001b[0maxes\u001b[0m\u001b[1;33m\u001b[0m\u001b[1;33m\u001b[0m\u001b[0m\n\u001b[0;32m   6391\u001b[0m             ]\n\u001b[1;32m-> 6392\u001b[1;33m         \u001b[0mout\u001b[0m\u001b[1;33m,\u001b[0m \u001b[0m_\u001b[0m \u001b[1;33m=\u001b[0m \u001b[0m_C_ops\u001b[0m\u001b[1;33m.\u001b[0m\u001b[0munsqueeze2\u001b[0m\u001b[1;33m(\u001b[0m\u001b[0minput\u001b[0m\u001b[1;33m,\u001b[0m \u001b[1;34m'axes'\u001b[0m\u001b[1;33m,\u001b[0m \u001b[0maxes\u001b[0m\u001b[1;33m)\u001b[0m\u001b[1;33m\u001b[0m\u001b[1;33m\u001b[0m\u001b[0m\n\u001b[0m\u001b[0;32m   6393\u001b[0m         \u001b[1;32mreturn\u001b[0m \u001b[0mout\u001b[0m\u001b[1;33m\u001b[0m\u001b[1;33m\u001b[0m\u001b[0m\n\u001b[0;32m   6394\u001b[0m \u001b[1;33m\u001b[0m\u001b[0m\n",
      "\u001b[1;31mKeyboardInterrupt\u001b[0m: "
     ]
    }
   ],
   "source": [
    "trainer.train(train_dataset, epochs=6, batch_size=32, eval_dataset=valid_dataset, save_interval=1)"
   ]
  },
  {
   "cell_type": "code",
   "execution_count": null,
   "id": "75fc888a",
   "metadata": {},
   "outputs": [],
   "source": [
    "# 在测试集上评估当前训练模型\n",
    "result = trainer.evaluate(test_dataset, batch_size=32)"
   ]
  },
  {
   "cell_type": "code",
   "execution_count": null,
   "id": "508abd33",
   "metadata": {},
   "outputs": [],
   "source": [
    "data = [\n",
    "    # 悲伤\n",
    "    [\"你也不用说对不起,只是若相惜\"],\n",
    "    # 积极\n",
    "    [\"幸福其实很简单\"],\n",
    "    # 恐惧\n",
    "    [\"恐惧感啊。生病\"],\n",
    "    # 积极\n",
    "    [\"待你长发及腰,我们一起耕耘时光。我愿等待\"]\n",
    "]\n",
    "label_list=['愤怒', '积极', '悲伤', '无情绪', '恐惧', '惊奇']\n",
    "label_map = {\n",
    "    idx: label_text for idx, label_text in enumerate(label_list)\n",
    "}\n",
    "model = hub.Module(\n",
    "    name='ernie_tiny',\n",
    "    task='seq-cls',\n",
    "    num_classes=6,\n",
    "    load_checkpoint='./ckpt/best_model/model.pdparams',\n",
    "    label_map=label_map)\n",
    "results = model.predict(data, max_seq_len=128, batch_size=32, use_gpu=True)\n",
    "for idx, text in enumerate(data):\n",
    "    print('Data: {} \\t Lable: {}'.format(text[0], results[idx]))"
   ]
  },
  {
   "cell_type": "code",
   "execution_count": 67,
   "id": "b15ac522",
   "metadata": {},
   "outputs": [],
   "source": [
    "import numpy as np"
   ]
  },
  {
   "cell_type": "code",
   "execution_count": 68,
   "id": "97d4aa8c",
   "metadata": {},
   "outputs": [],
   "source": [
    "from sklearn.metrics import precision_recall_fscore_support,f1_score,precision_score,recall_score"
   ]
  },
  {
   "cell_type": "code",
   "execution_count": 74,
   "id": "a373d17e",
   "metadata": {},
   "outputs": [
    {
     "name": "stdout",
     "output_type": "stream",
     "text": [
      "<class 'pandas.core.frame.DataFrame'>\n",
      "RangeIndex: 4999 entries, 0 to 4998\n",
      "Data columns (total 2 columns):\n",
      " #   Column  Non-Null Count  Dtype \n",
      "---  ------  --------------  ----- \n",
      " 0   text_a  4999 non-null   object\n",
      " 1   label   4999 non-null   object\n",
      "dtypes: object(2)\n",
      "memory usage: 78.2+ KB\n",
      "[['宿舍要民汉合宿了为毛都大三了还要折腾我'], ['早上的我竟然也变成了一个无理取闹的人'], ['多年来周天先生率智多星的律师策划师团队走出巴蜀挺进海西在厦门特区的发祥地安营扎寨'], ['听故事的时候你总喜欢眼巴巴的问后来呢可是当后来自己成为讲故事的人才发现后来故事和话语就在嘴边后来眼泪几度泪凝于睫是真的说不下去了'], ['汉代前人口不多而晋末宋末唐末及中国历史上三次移民潮给皖南徽州送来了大量人口人口众多山多地少怎么办'], ['伊川基地伊川生产基地坐落于世界著名文化遗产洛阳龙门石窟南公里处'], ['明太祖洪武十年（年）改变圜丘礼制定每年孟春正月合祀天地于南郊建大祀殿以圜形大屋覆盖祭坛'], ['睡得好好的要去别的学校听课天啊'], ['管理学真是水的一比努力的想听依然坚持不过一分钟考研怎么办呀'], ['想去日本台湾冰岛英国北欧签证说小短假也说'], ['为何这么晚了还那么有精神呢明天还要上班呢能乖乖心情么'], ['知道去年的分就能去中传我快炸了'], ['我觉得在地铁里蹭别人的电视剧看而且还笑的那么夸张的人简直太可爱了噗哈哈哈'], ['昨晚得知竟把牙的阴历生日给忘了先是说不出后又蒙出个初还信誓旦旦的说对就初十'], ['做完饭不洗锅什么都往水池扔什么都往厕所倒所以三天两头都是堵不讲卫生也就罢了天天带男人回家带男人回家也就罢了天天摔桌子吵架嗓门大如泼妇堪比河东狮吼二房东这是招的什么人'], ['舍友推荐的中韩梦之队确实好看看到了最新一期的紧张激烈的篮球赛紧张到我只希望中国赢一直很喜欢韩国的但看见韩国教练在中国比分落后时咧个大嘴笑我真是讨厌这个破教练'], ['开刷泰国恐怖片惊恐'], ['在他看来以太不一定是单一的物质因而能传递各种作用如产生电磁和引力等不同的现象'], ['平时汤景之和妈妈有说不完的话队里的训练了人员关系了和我说很多话'], ['我的胃又怎么了吃了什么又疼悲傷'], ['早安今天中午最高溫可以到度都快月了我想這真是暖冬噢'], ['有个啥求意义啊人都要整疯浪费纸'], ['我喜欢你我可凭一时冲动为你做好多事不计较你是否喜欢我；但不敢爱你因为爱你我会期望你为我做同样的事我喜欢你那我可以默默地偶尔跳出来吓你一跳；但我不敢爱你因为爱需要一直好好表现永远拴住你的心我喜欢你才会告诉自己要高贵一些；但我不敢爱你因为我不想让自己变得卑微'], ['原意是去吃海鲜只是朋友不想吃套餐想点菜吃可是那海鲜不标价格广东话又听不懂没办法试探性地点了个要港币'], ['听说你生病了莫名的伤心就上来了'], ['一个镜头也没有没有'], ['真的挺不舒服的比我想象的要难受得多'], ['讨厌极了这种焦虑感睡眠质量最近都差了好多'], ['死老头你要是早出现两个月我也不至于这两年每月都要往牡丹江跑受罪了'], ['啥破事都赶一块了又不是我不想去那个单词复赛'], ['原来介玩意是叫草子糕啊我活了多年一直以为是槽子糕了涨姿势了'], ['都给我滚一个个的赶紧滚越远越好'], ['坐我旁边的妹纸月份才恋爱今天就领证了'], ['为何发的微博会莫明其妙消失没有反政府反人民嘛'], ['连续四天深夜放毒的结果哈哈哈～好有成就感'], ['初到任时为了借钱给工人过春节与有钱的朋友豪饮大醉'], ['去调色小眼镜真的太乖萌了'], ['学了四年的会计最后也就总结这么多了很有爱对吧～'], ['十元太美了哎呀重拾日语热爱度'], ['马德里看骑马斗牛现在是第五头刚第三头第四头斗牛士都被顶翻次图那位直接被抬下场急救了太恐怖了惊恐惊恐西班牙·'], ['下一次既然敢走就不要在凌晨半夜三更跑回来道歉赵珂宇'], ['国足去屎吧以后再也不想看见你们了又一个比彻底无缘俄罗斯世界杯'], ['有些事越想要越得不到有些梦只能相信是这样吗'], ['最近超喜欢喝金桔柠檬茶每天中午都顺便买一杯今晚还想喝结果发现同样的店民治的价格居然比华强北贵了一块钱'], ['我擦气死老娘了你他大爷的不就没提早打电话嘛坑人吧这些个骗子'], ['今天我进行了最后一次的尝试还是以失败告终现在我选择放弃了'], ['我才几天没上竟然会吃早饭了还起那么早'], ['我告诉过他不要偷人家的东西吃他很听我的话过去他当拳击手有时候叫人打得三天起不来床他没有办法把牙全都拔掉了那时候我每吃一口饭都好像看到礼拜六晚上他们打我儿子的那个样子礼拜二午睡时刻加西亚·马尔克斯'], ['现在哪里能买到这么好的衣服而且是元'], ['礼拜二早上一进办公室就被长牙骂你大爷啊一天的心情还要不要了'], ['那就是我原来的世界线不反抗的话我就会终结在这条世界线上回想起来真的恐怖至极当时没有那么恐怖（只是痛苦过于痛苦所以要逃）是因为没看到未来真的是后怕虽然大概也不用怕我不可能不逃我从来没见过把我最熟悉的那种悲剧解释到这个程度的片子才分钟'], ['随缘就是顺其自然对一切不强求人生难免会有困苦不要惧怕也不要畏缩随缘并不是认命而是对于无法改变的事实应该学会放下轻装而行随遇而安就像河水不留恋两岸的风光不计较旅途的曲折一心奔向大海有缘相聚好自珍惜；无缘离别安然随之'], ['好傻还要在别人面前逞强说身边还有你一直以为自己很幸福可慢慢觉得自己像个小丑了'], ['写了一篇稿子再也睡不着好困啊只能听英语了'], ['愿世界和平空气清新亲友安好期末都过'], ['呆萌的小哥剪个头发还在吐泡泡'], ['大半夜战虫子心惊胆战悲伤本来想逃到我妈房里可是看它居然敢飞到我床上还在我衣服上爬我就炒鸡生气虽然害怕还是先把它拍晕然后踩了一脚最后用凳子角压着它可是还是好怕啊心脏扑通扑通都能听见了虫子请灭绝好吗悲伤神经衰弱就是被这么吓出来的特么的还会飞打脸发了一般的置顶全文'], ['金姐太霸气了：要么给我爱要么给我钱要么给我滚我是不是更霸气：要么给我钱要么给我钱要么给我滚'], ['做屁屁踢做的脑子都要炸了'], ['能告訴小編這究竟是發生了什麼事情麼'], ['刚才第一次去了春秋的社区逛了逛发现正在办一个评价课程的活动一位叫做的朋友对我的两次课程做了非常详尽的评述本来想回复几句的以表示感激可是一时不知道说些什么比较好只能默默地认可那位朋友的建议在未来的课程中改进了学习这么认真的朋友确实令我刮目相看'], ['月就能回家了开心开心哈哈哈哈'], ['石油大王洛克菲勒高中辍学美国钢铁大王卡内基十三岁开始工作几乎没接受什么正规教育他们都没有受过高等教育但是他们都成功了'], ['你永远不会知道自己有多喜欢某人除非看到喜欢上另外一个人'], ['情绪稳定心情舒畅哪里不稳定哪里不舒畅了'], ['微哥提醒自拍需谨慎某女双淘了件衣服看把她美的把她老公拍里面都不知道'], ['真是一点权力也没有今天老娘心情好有个客户来插队说着急办业务我就欣然答应了结果被主管呵斥'], ['今天已经是月日了时间多的太快了没想到期末考试就要来了'], ['无人机就是个安全灾难彻底把恐怖气氛散播到所有人头上如果用来搞恐怖袭击怎么防范我们已经准备在欧洲禁止这个东西了美国也有类似想法而且这个对就业和安全的好处远大于它带来的便利管理汽车就已经很头疼了如果满天都是无人机怎么搞啊'], ['今天班主任说他老家在浙江千岛湖湖底我就惊呆了'], ['每个人都有恐惧抓住恐惧就能把控人性希望是每个人心中的野兽当精神食粮无法喂养它就要用金钱去喂养它这个世界每个人都害怕贫穷无知不得到别人认可人人都有恐惧的东西你找到它你基本上就能给予他暂时的满足他（添名）'], ['逼事真多什么狗玩意老子要回宿舍'], ['夫妻俩都够奇葩的真够伤天害理的希望法律严惩他们以儆效尤'], ['材料分类指示牌材质分为：不锈钢的亚克力的木托的双色板雕刻的钛金的浮雕的仿木的吸塑的铁皮的铝的黄铜的'], ['当我看到我的洗面奶用的快递是是中国邮政的时候我的心都碎了'], ['离校半年了第一次这么久的远离学生时代生活感觉好空洞失去了色彩'], ['倒霉事件：一见钟情的发箍丢了陪伴多年的泳圈落下了喝了一大杯几年没用过的饮水机的水下车的时候差点被夹'], ['爱奇艺好恶心缓存节目还需要充会员这是行业垄断还是霸王条款'], ['检查施工单位对高处作业技术交底及安全交底记录'], ['手机要残废了说不准哪天就失联了'], ['不知道要说啥了担惊受怕坐高铁螃蟹啊你先撑着点个小时之后我救你出来德州·陵县'], ['小米看到那个英寸的电视价格的时候我晕了雷总太会卖关子了'], ['一上午崩溃次还让不让画图了'], ['若牙齿变黄是受外来色素影响如吸烟饮咖啡红酒及果酸色素造成一般可依靠洗牙将牙渍洗掉'], ['．下盘保持右弓步不变右拳用柔劲收于腰间'], ['想起我的几个朋友以前常开着玩笑说以后要干什么现在他们说要当老中医的真的去学了中医说要做动画的真的去学了动画而我现在却学着以前想都没想过的专业你们知道的我真的想去挖石油'], ['坚持不要只是假装很努力只感动了自己'], ['每次看完一部电视剧就像失恋了一样'], ['已经被导播这门课折磨疯身心俱疲考完试再也不想听单身情歌了'], ['嗯每天都下大雨下着下着半个月过去了我只能说日了狗了'], ['好无聊好无聊好无聊好无聊好无聊好无力好无力好无力好无力好讨厌好讨厌好讨厌好讨厌好任性好任性好任性好任性可是还是好难过'], ['永远也改不了这不耐烦的毛病说一遍不懂就要着急上火不爱搭理了哎'], ['老朋友不懂你新情况新朋友不懂你老脾气'], ['圆通你是疯了吗晚上点发短信给我叫我点之前去拿快递'], ['球赛以零比零结束这样的结果对于我这样的资深球迷来说实在是不能接受憋着气看完只想说香港队不要脸裁判眼瞎啊明明进了进了'], ['可怕惊恐看涨期权把入手价格固定涨每平方米多元'], ['不喜欢就要去改变它而非坐以待毙'], ['吐槽下别的地方也不好吐：上午去科院上课中午出校门俩保安看我的通行证二话不说就没收了一说是旧的二说是假的顿时暴脾气上来索性把校门堵住跟他理论你能不能敬业点'], ['营业时间：～全年营业免费开放'], ['美好的一天开始了用微笑去迎接'], ['它是黄河流域的主要货船大船一次可运石头八十吨'], ['新华网月日发布网评文章跟麒麟才子学用人之道指出梅长苏得之可得天下之才在于其识人之深用人之准选择辅佐靖王物色沈追蔡荃等事件指出他的用人之道是以德为先选贤用能公道正派并在文末强调这些剧中为官用人之道也应该成为当下党员干部的自觉坚守'], ['今晚在同仁路口差点被一辆疯子一样的出租车撞死黄灯都闪没了红灯了他从老远大油门冲了过去就差一步我就飞了这疯子如此开车早晚得毁了自己的小命那不要紧请不要残害别人的性命'], ['我这么快还嫌我慢炸了心情不好'], ['一天到晚比唐僧还唐僧'], ['他在年月日对法罗群岛的欧洲国家杯外围赛首度代表国家队上阵当时法国赢'], ['现在的时候越来越希望二次元的世界不会被改变对于我喜欢的那些人如果我喜欢听你的歌（配音什么的）再也不期待要在三次元遇见你不会想知道你长什么样不想知到你在三次元的一切不想要签名只愿我能单纯的在二次元默默喜欢并且接受你的一切荣耀和诋毁（突然怎么就作了）'], ['一起来就接了个扯皮的电话您人品不好不要来影响我度假的心情啊您一家人真真绝逼了等昊下班回来求吐槽'], ['冬天戴夹黑皮的圆圆的全狐皮大帽顶子与上面相同'], ['年嵩县人民政府将其公布为文物保护单位'], ['头发被地铁门夹住了好在头发够顺给拽回来了下一站又被挤出来了（：图与内容无关）'], ['年加入了中国共产党'], ['今天去不去看电影女生追男的都那么随意应该要说今天去不去开房小样哈哈哈哈'], ['是的是的这才是事情的正确发展轨迹不虐不虐我们拒绝腻腻歪歪甜甜蜜蜜'], ['在戏台对面是皇帝观戏时的坐位坐位后旁侧另有小楼梯可以通到上面一层'], ['但现代冷冻医学的建立则是最近几年的事'], ['在你面前更多的是心智成熟的一面可是我更想跟你闹更想做你的小公举'], ['在他的最大型作品德意志安魂曲中表现出了这两个方面'], ['看姿势怎么感觉区是要还原天朝的大邪神'], ['凌乱的床这是一个关于身体出轨与感情投契的爱情故事或许会让世纪的都市男女会心一叹在感情生活中谁都有属于自己的一张凌乱的床在爱情力学中男性就像是剧作家而女性更像是喜剧演员正如小说所表现的喜剧演员贝阿特里斯和剧作家爱德华是一对情投意合如胶似漆的恋人'], ['傻逼傻逼傻逼在自习室吃完脆枣嗑瓜子傻逼傻逼大傻逼'], ['脸上的痘痘你们什么时候能离开我被你们烦死了'], ['注定又将是一个不眠之夜啊快崩溃了'], ['甘叼毛天氣好熱搞我又冷又熱好頭痛啊'], ['其实我只是想去按按摩做做护理而已说话可至于嫩难听骗我没商量骗就骗呗哪里都是骗不骗哪有钱烦死了真心不能再在家里待了'], ['是时候给自己封一个名号了作死小子完全体'], ['广东凉茶白云山广东凉茶具有清热解暑去湿生津的功效'], ['今天车里的气氛好紧张四面楚歌死对头竟然都来了家店'], ['想吃冰淇淋我是有多不忌口只能说我宝身体太好了百无禁忌'], ['我喜欢你我喜欢你我喜欢你我脸皮就是这么厚因为我喜欢你不求深刻只要简单'], ['虫害有蓟马和介壳虫危害用氧化乐果乳油倍液喷洒'], ['看得我不要不要的令人惊叹的平衡艺术'], ['我要连续五天不剁手省钱买自己最爱的本子～诶盗版本子还这么贵真是醉了仔细想想正版更是贵到死突然也就释怀了今天还看到了一个超级大美女的微博心情好啾啾～晚安米娜桑'], ['工作日的航班還真是不錯不光機票能便宜幾十刀機場裡到處都空無一人連過安檢都幾乎只有我一個人似的'], ['天天这么晚睡觉还不让人说看见我能怎么的呀嘿嘿把我给吃了'], ['山羊也爱玩水冲浪不输人简直了～～逆天了～～～'], ['卒于丹毒在相对安定的条件下南唐社会生产有所发展'], ['当我以为我会失去和他的聊天记录时我好怕真的他在我心中不曾离开'], ['自从最近想起这对可爱的人儿就按捺不住再去看一遍不催泪但治愈总能触碰到你心底最柔软的角落说的就是这部番吧'], ['我粉了诶很想给你们都回复一下但是我手破了（明显的借口'], ['用经典性条件作用理论解释我为什么害怕闪电闪电首先可怕的雷声是无条件刺激我很害怕是无条件作用；闪电原本是中性刺激和雷声在时间上多次结合后成了条件刺激闪电和我很害怕之间建立了一种新的联系称之为条件作用王若玉你很无聊哎斜眼摊手'], ['心ʚ目标反馈ɞ心昨天下午培训完后随便找了个单子练练手一不小心赚了个早饭钱今天抽点空赚个车费和饭费\\ue056'], ['文件为网站部署描述文件对网站的部署非常重要'], ['上个班真心不容易悲傷真不知道能坚持多久'], ['熬到此时终于完成了这项历史性任务啊实属不易如重获新生一般激动的忘了给自己的论文拍照借小伙伴论文留个纪念懇求懇求懇求'], ['我生气了啊妈个鸡劳资翻博物杂志辣么久的微博辣么久前辣么久你抢过我的手机就是一返回强迫症不能忍我可是要励志翻完博物杂志微博的人我很生气遇见你所有星星都落在头上'], ['昨天买的中航动控王八稿子被成发科技带着走'], ['跟着这个锦囊就能够找得到田俊然后立即带田俊入宫见皇上'], ['月初跳到月初告知我月初能放出来现在又被跳票啦居然要到月初了还是尽力为之是不是要跳到明年啊啊啊啊'], ['他曾在顶级学术期刊和等担任编委在担任编辑以及在任创始编辑'], ['谁都不粉分轻重黑我的首推是哪个他妈的要你管'], ['这是跟我玩名侦探柯南吗烦人'], ['时间让一切慢慢沉淀下来去在乎一些自己值得去在乎的事'], ['开始——现在马上一周年很开心谢谢放下一切每天陪着我'], ['记录下今天的自己整个人都觉得不好了心情到低谷'], ['一路顺风一切顺利我爱你小黄人'], ['安静得有些害怕可是我没有依靠只能自己咬牙挺过去'], ['最近手机发烫一会就没电了什么情况没得钱钱'], ['好丢脸好丢脸啊啊啊阿啊阿啊阿啊啊'], ['我讨厌背谱要成负能量源了满满的烦躁'], ['男人可以把我爱你说的如此轻松男人确实不能信啊'], ['我有点想念藏区了这个季节应该是云杉的针叶如雨般扑簌而落的时候了'], ['朋友嗑瓜子竟然从右边开始不应该是左边开始吗'], ['这几个家伙太不要脸了居然那我们的生命开玩笑真是国家的耻辱'], ['明知道一个星期都有雨出门还是忘记带伞'], ['还派送不成功所以你给我打电话了吗电话呢氣憤你送不完我可以理解但是好歹先给我个电话啊害我白高兴一场顺丰什么时候也这样了'], ['没有疑问：哲学与科学在许多方面是互相促进的——罗蒙诺索夫（前苏联）'], ['十八以后每一天都要开心快乐必须开心快乐'], ['压力大的时候好想给哥哥打个电话说说话可是我知道你一定在忙可是又不知道该跟谁倾诉'], ['作为一只猫我压力很大保护我我怕被它咬不要过来老鼠柒右'], ['又想吃板栗啊没时间去买啊开会开到现在还没结束饿死我了'], ['原来的微博莫名其妙的不能登录只能重新申请了个'], ['国足没有输只是输给了裁判裁判裁判裁判裁判我真想打死你'], ['成为彼此的慰藉一步步走向更美好的未来'], ['年纪已经大到凌晨五点做噩梦惊醒后第一件事就是揉着眼睛打开百度在周公解梦查询刚刚做梦的涵义从前也不信这个却猛然间害怕生老病死这些常事忽然使我再不能触摸你飘摇的后衣襟或是拥抱你的美好'], ['在外地打电话讲温州话被当成日本人韩国人骂过'], ['不想付出总想着收获你特么是不是傻逼'], ['我是个奇怪的人冷漠让人厌恶热情让人害怕冷面冷心或许更适合我怜悯不再慈悲心也越发的没了遇到了像某个时期被自己厌恶的我在靠近中越来越不和聊心吵架各种折腾后归于平静又发现了一个像某个时期让自己心疼的我于是不自觉的就贴上去了好像吓着别人了所以就该冷漠到底嘛～'], ['再也不让自己饿着了饿狠之后吃的太猛现在胃疼到爆却还不得不忍着继续加班不开心'], ['再矫情乎你别把自己当狗仔队似的活着我又不是明星讨论我干毛线艹'], ['上学时间一到阿梅立刻要阿标回去叫焜胜起床上学没想到卖完早餐之後上楼却看到阿标跟焜胜一起睡著了阿梅火大叫醒两人'], ['特别乱每天睡觉之前都要想想自己今儿该做的都完成了没有明天还需要做什么脑袋真的好累连续三天只要一睡着就梦魇真他妈心烦希望今晚喝了牛奶就一定睡个好觉吧'], ['他在位期间为官清廉品学兼优为世人所学崇'], ['丹尼尔克雷格上天天向上这么的节目拉低了多少的逼格虽然没有上快乐大本营已经是万幸了鬼佬真是不了解中国国情邦德在我心中是毁了'], ['重庆渝中区对刘湘公馆现状做了详细测绘报批同意后对刘湘公馆实施了排危拆除随后在李子坝抗战遗址公园进行了复建'], ['年月日中式快餐行业首所企业大学——真功夫米饭大学正式成立'], ['人物简介迈克尔·赫斯特出生在澳大利亚后随父母回新西兰定居说英语'], ['世界上少了一个会时刻牵挂我时刻想见我时刻想和我聊天的人我爱的你你慢慢走'], ['一直下雨一直下雨下的人都烦躁什么时候这雨能停关键是我买的雨靴还停留在半路快递一动不动这样我怎么出门真是烦躁'], ['閉關學習太耐體力急速下降材料不夠體力不支考慮了一下我還是好好地休息一下'], ['我喜欢这个世界尤其喜欢你我相信遇见你的时间就是最好的时间'], ['为什么老公淘宝看床垫我的淘宝就自动推送床垫连淘宝也知道我们是夫妻么大数据果真如此厉害'], ['后院的小鬼名字和我一样小名一样每次不知道跑哪里去玩了他家人就非常惊恐的大喊他我每次听到都非常害怕眼泪'], ['看到你就想吐听到你说的话就想吐恶心啊倒胃口啊滚啊'], ['今天我和我妈一起来健身房她看到私教对我太严格画面太美她不忍心看自己跑去游泳了'], ['熟悉我的朋友都应该知道吧个人比较钟情于数字尤其是月日这一天原因我就不具体说明啦刚手贱去瞅年的月日天啦撸竟然是正月十五还是个星期一更不能忍的是下学期就是月日正式上课'], ['作为一位爱国爱党的青年我的言论真的不能太过激所以我只能说广电你他妈全家是不是死了你他妈拿钱不干为民利民的事是不是闲着没事干我去你大爷的草泥马'], ['好喜欢看木下吃饭真是佩服她的饭量我得暴食症的时候也没她吃的多纳闷成名之前她是怎么养活自己的'], ['故宫的清晨然而手机没有流量了没法保存高清像素凑合看吧希望能再有一次大雪一大早再去一次故宫'], ['能不能借我看看基辛格老先生写的论中国好厚啊'], ['看你最近在忙着装修房子在添置家具我猜想你准是要结婚了在分手一年半以后我竟然又梦到你在不远处看着你和新娘一定很幸福吧原谅我只是最近做的梦太多'], ['对话题无感但看到了一句话是一个家族跑男只是一档节目'], ['是定西孤儿院纪事的姊妹篇被誉为中国的古拉格群岛'], ['咸油腻···嗓子不舒服胃不舒服整个人都不舒服在外面吃饭好难过'], ['碰到一对情侣在干仗这个世界太阔怕咯'], ['宝宝麻麻今天也有很努力晚安叻'], ['眉毛太丑眉毛太丑眉毛太丑再怎么重要也没办法这是悲哀'], ['的票一直没下文也不知道黄牛有没有票能给我恒大的票又贵的我跪下喊爷爷心好累恒大好想去'], ['天天放个书都要被弄来弄去见缝就插针有意思吗妈的再惹我我直接把书丢厕所去'], ['这是一个美好的梦想然而并没有什么卵用'], ['第二组大鼠雌雄各只饮用欧洲截沸水提取液天'], ['所有东西都是上个世纪的不过价格恐怖'], ['但吕良彪却违抗了命令不回去'], ['使用开发的程序有许多框架代码受篇幅限制本书不可能把所有代码纳入请读者在学习本书时应下载本习题集提供的源程序理解'], ['畜牧业产业化发展迈出新步伐一是全面完成抗灾保畜工作'], ['跟它规模不相伯仲的县城市辖区内还有好几个'], ['有的人爱开玩笑却不知道你的玩笑适不适合场合玩笑的度能不能把控明明是自己不会说话却要怪别人开不起玩笑这是最傻逼的傻逼用一句很喜欢的电视剧里的话送你：你跟别人开玩笑除非别人笑了否则就不能算为玩笑你可以小气吧啦的拉黑我我也可以无所谓你这份高贵的友情'], ['我只是觉得同进退才是最完美的结局但是这个想法也不怎么现实少了谁都会感觉怪怪的更何况你们是同一团队又关系还行少了谁感觉都如果之前的微博让你们产生误解我表示道歉总之加油吧祝福你们懇求懇求懇求'], ['海口农工贸（罗牛山）股份有限公司成立于年是我国首家菜篮子股份制企业'], ['从回来很开心在最窘迫的时候我还和他们去消费'], ['操作处置与储存操作处置注意事项：严加密闭提供充分的局部排风和全面通风'], ['：我萨威武梅西伤愈复出牛刀小试两球托蒂誓死效忠的罗马若托蒂走了我会去爱谁'], ['网购了系统无法显示的快递昨天晚上送过来竟然没人收放在一楼奶奶那里快递还搞错给了隔壁一户人家早上收不到系统无法显示的快递惊出一身冷汗'], ['几分钟前刷朋友圈还看到你的微博当我想留个言」∠才发现莫名其妙被双向了是我做错了什么唉'], ['我只是想说这节奏累人'], ['昨天真的太吓人了多撑两分钟就快死在那了骷髅我是讲真的脸部发青嘴部发白我想想都可怕还好还好我还没瘫过去不然救护车救护车'], ['疾控的电话还真像一桶屎次次还都能浇透透'], ['晕啊今天又厚起脸皮要了一次还是没有打给我抓狂啊'], ['哪个唐僧在念紧箍咒头疼的要炸了'], ['周末一个人带娃两天太耗血了图七这个娃一次能光盘还要再吃两个鸡翅'], ['以为我是神吗不会的问我会的教给我做我都困傻了'], ['尼玛这种人就该阉了然后枪毙'], ['丢死人了第一次在舞台上唱歌虽然不大但自己也没有准备好开始就忘词'], ['果为核果或小坚果有时小坚果具翅'], ['钢结构抛丸机构成清理室清理室为大容腔板式箱形组焊结构室体内壁衬有耐磨防护板清理作业在密封的容腔内进行'], ['哈哈今天才知道奥特曼有千万吨身高有米'], ['啊呜呜呜呜呜呜呜呜呜事好多好多好多明天又是各种报告还要穿正装烦死了烦死了呜我要哭一会缓解缓解情绪呜呜呜呜'], ['快看那不是照片上的吗看完傻涛好睡觉'], ['英德夹杂愣是给我听出来了但没反应过来'], ['人还没醒就迟了个老到大长沙能不能不下雨能不能不堵车'], ['到明末清初中国科学技术已显著落后于欧洲'], ['昨天晚上莫名前所未有的烦躁心心念念都是他凌晨两点多没睡着觉得自己有点疯知道今天回来有点开心没想到事到临头变成这样'], ['以它与清心火退热的雪梨等同用能消除夏日之热气且汤品亦不寒凉'], ['画画画的恶心练琴练的恶心没有不恶心的'], ['在被窝里突然很想念我的午饭今天中午应该是不太饿所以没吃完老王那个兔崽子还跟我说要不要打包当晚饭吃呵呵他沙拉鸡肉饭味道一级赞的而且是第一次吃超后悔没吃完'], ['谢谢你那么信任我我能理解已婚女人为了家庭不得不暂时放弃自己前途放弃大城市的高薪委屈自己'], ['我郑重的宣布掌声掌声掌声我们在一起了瞒了大家太久真不好意思我们一定会幸福的哈哈哈哈哈'], ['今天去医院建卡从七点半折腾到十点多抽了七管血'], ['尔既未能餐霞饮景克己求真徒在世上无益于体'], ['在培英校董会和校友们的帮助下培英中学的教学设施和设备得到了改善兴建了校友楼购买了管乐器设置了语音室地理室电脑室等'], ['还没完全关机就盖了盖子结果第二天就不能正常开机了开了拯救大师模式排查了一下午硬件结果没问题只好恢复系统重装盘结果什么都弄好了桌面设置不了要盯着这个单色的桌面到什么时候呢好丑啊能使得办法都试了我已经狗带'], ['还好幸亏你没把我忘了因为我真的很怕被遗忘谢谢你大叔嘿嘿一定有人好奇这是怎么了我遇见了一个人你们叫他老大点到为止我在看我是演说家'], ['宝贝天今晚给秦王洗澡洗澡🏻的时候秦王硬是要自己洗自己洗头自己洗脸自己洗哦爸比惊倒在浴室'], ['白宝宝很心塞得看了一晚上别人秀恩爱朕不高兴了哪个爱妃谁陪朕秀一个'], ['我要努力学好脱离那鬼地方现在装着一肚子火气死我了'], ['查完考点地址真是走哪哪开发区站几个意思始发站坐到终点站'], ['微博是傻了吧刷新的第一条竟然是号的内容'], ['等一个人咖啡总觉得阿不思很眼熟竟然是赖雅妍剧情只能说很一般也可能是我老了看不习惯'], ['现在没事做就是看电影比其他事情好打发多了'], ['那一分钟我是很生气的都什么习惯什么德行～～～～～公共空间一点素质都没有惯的你～～～～～'], ['每天都有蚊子每天都有蚊子每天晚上都有蚊子'], ['这老师头发短还少最关键的见识也短大哥上学这么多年你是第一个称呼我岳天伦的'], ['昨天下午突然感冒了今天下午又把手划破了'], ['最后一个真的常常想如果变成了那样的人是多可怕的一件事想想都觉得超恐怖'], ['湖湘百公里毅行的参与者来自社会各界各行各业男女不拘年龄从岁到岁涵盖广泛'], ['拿着粥从泰山厅冲出来在小路上一不小心差点摔个狗吃屎生无可恋每次走平地都能被绊什么鬼'], ['兴奋的几天都睡不好只有我自己知道我获得了怎样的突破就像武侠小说的猪脚机缘巧合获得绝世武功一样'], ['该模式被传统零售业和电子商务业视为未来发展新趋势'], ['一看到有人称彭某为国母心里特别恶心要吐的感觉'], ['走到一处密林的时候两个战士把钟国楚放了下来'], ['早上我从拿着雨伞走到客厅小娃儿在家门口陪小兔子聊天他看到我站那折雨伞着急的说妈妈你快出去吧电梯都来哒等下你迟到了老板会骂你的这些话他是一气呵成的'], ['通过跑步认识了许多帅哥美女许多大神许多充满正能量的人想说认识你们真好让我更有信心能够一直跑下去晚安'], ['在乔布斯的自我总结中写到：我们失败的一个主要原因就是每个人都是人才大家都持才傲物看不起其他人也不愿意与同事合作包括自己'], ['噩梦吓醒好烦这种状态突然觉得自己就委屈起来了'], ['真的他不爱你别想了他都用行动证明了一切爱你他会不找你不理你吗别傻了够了'], ['乖乖儿你从哪里来要到哪里去好想养着你'], ['月中又快到年底了时间真快'], ['还是大沈阳比较养人一来这就脾气超暴躁火星儿火苗儿的都离我远点'], ['妈的婊子啊被约了几次不爽吧冷眼嘲讽我就是比你好看比你牛逼滚犊子'], ['背背背背考考考考背考背考我要疯啦现在看见字就想吐害怕害怕'], ['心情不知道该怎么讲就是不想说话不想动什么都不想管好端端的迟到个几分钟就扣我半年的绩效工资扯淡啊什么烂玩意儿想骂人憋死老娘我了'], ['不是不玩手机只是不想理我而已可能大家都很忙都好累自顾不暇哪有空在意我的鸡毛蒜皮感觉自己好犯贱'], ['装着什么事都不知道真是抵力像是那人脸上写着生人勿近'], ['高三就是搞不定的学生写不完的题判卷不完的卷子上不完的课以及做不完的总结如今还加了一条弄不完的材料真想一醉不醒'], ['今天一天脑壳都要爆老越烦越乱越乱越烦啊'], ['年至今任上海大学美术学院设计系副教授硕士生导师'], ['菇凉努力吧再不努力明年的今天你还是一样只是又老了一岁祝自己生日快乐谢谢大家'], ['北京这霾一拍照感觉都能看到颗粒啦'], ['现实教会了我成长也不再是当初那个自己了有些人我真不想挑明随便你了'], ['不得不吐槽下如此坑爹的路线弄得我围着山转了一圈'], ['没想到再看盗墓笔记还是挺害怕的尤其是一个人看的时候着急'], ['请告诉我的哪个系统铃声能一下子闹醒人这老老老手机'], ['发病初期叶片正面黄瓜白粉病危害的叶片或背面产生白色近圆形的小粉斑逐渐扩大成边缘不明显的大片白粉区布满叶面好像撒了层白粉'], ['骗子的技术越来越高了放长线钓大鱼此人是骗子已报警大家小心啊啊'], ['已经停产系列又滋润又显色为什么没红啊超级正的颜色太适合秋冬今天忘带出来了木有图'], ['车在单位门口被贴条上班还的交停车费呗'], ['啊在中国当一名医生是多么的悲哀呀每次伤医发生报道评论一堆拍手叫好的键盘侠已经够让人寒心从不知道赶到医院现场的警察竟扮演这样的角色可怕惊恐'], ['活泼乱跳的毛毛突然不活泼了看着好心痛又不听不懂她在说什么好难过'], ['同一期番组第一次和第二次看的注意力不是一个人身上差别真的好大噢'], ['分为电加热系统和燃气加热系统'], ['年到年的福布斯全球亿万富翁排行榜中段美丽连续年蝉联世界首富'], ['啊啊啊啊啊啊一看电视剧就过头了赶紧睡觉几个小时后就要起床了'], ['诸事不顺连耳机都开启了卡拉伴奏模式'], ['听着新娘子在台上讲话想起小时候的我们一眨眼都长大了要嫁人了就感动的哭了希望我们大家都好好的一直幸福下去'], ['高中的时候既没钱又感觉遥远那时一直相信自己以后总会有能力去日本看人开的后来这成了自己这一辈子都没办法实现的心愿所以只要靠努力就能做到的事情就不要再等待了不要留下永远的遗憾最后你已经足够优秀了饭你我很骄傲'], ['你把皮皮关抽屉里你对么你怎么那么欠儿这一天到晚的我说今天衣柜怎么没被你打开开始给我整这出儿了'], ['定义成本类科目是反映成本费用和支出的用于核算成本的发生和归集情况提供成本相关会计信息的会计科目'], ['有点职位就假惺惺了不起做人请不要太恶心'], ['伦家很激动的等了好久结果暴力的快递又得等好久了'], ['外面下着大雨家里却什么吃的都没有我想吃好吃的'], ['上完大夜晚上只睡了一个小时这刚到家又要回去开会尼玛我心情瞬间就不好了烦躁'], ['你不懂的情调就不要评价别人奇怪那只是因为你不懂而已張嘴笑'], ['钥匙包它不是采用正面角色精灵而是用到反面角色的红黄蓝绿幽灵用它装好钥匙挂在包上显得十分可爱'], ['今天去一家餐厅吃饭听说店里面的服务员都是坐牢后出来的'], ['我讲在医院守人累居然讲你又没做什么我做的时候你看见啊这种能聊天遇到此情商如此低的人也是心里面飘过一千万个我艹你麻痹我艹你麻痹'], ['谁特么用智能手机冒充我发微博'], ['一起聊着天感觉还是那么亲切现在想想发现大家都快有三四年没见了这是什么概念'], ['今天居然是号逢周五这是不是所谓的黑色星期五'], ['世界上最遥远的距离就是断网最可怕的事情就是看着不会弄'], ['好饿～～好想吃吃吃ｘェｘ'], ['小渊和方易五一要结婚让你务必回北京参加他们的婚礼'], ['「旧人已经辜负了你你又何必再辜负时光」'], ['通过深入各企业逐一摸清情况督促尽快开工建设'], ['真心想扔东西先是昨天宝宝在图书馆七层东上完厕所准备开门出来一个男的抱着一个女的撞开了厕所的门宝宝特别生气地骂了一句有病啊当时宝宝特别想往他俩身上砸两块钱但是宝宝没带钱今晚到图书馆吧我都走到自己位置了那男的以为我只是路过搬了我的凳子坐能不缺德吗同学'], ['毕竟数千年积淀形成的伦理道德体系中也有一些不能与时俱进的内容有鉴别地吸收才能使孩子们得到更好的美德教育'], ['不是我喜歡的樣子你都有而是你所有的樣子我都喜歡'], ['还没有睡刷微博突然家里睡着的猫在客厅大叫呼呼的吓得我突然清醒安静了一会猫就进来了以往它就睡在我脚下了今天却特别执着一直用头顶着进被窝直往我怀里钻贴的我特别紧也许刚刚它是做噩梦了现在只想找一个依靠它又睡着了'], ['矮油我的天哪信息量太大了你们一个学侦查的一个学编导的再次深造的时候居然是电影学院表演班的同学真是渊博的一家人啊'], ['年去德国北部地区考察旅行结识歌德和霍夫曼等人'], ['和喜欢的人千言万语和其他的人一字不提这样你的爱才会显的有价值'], ['他用浓厚的方言土语加顺口溜的形式将醒世恒言等书中的故事讲述给大家'], ['苏桥园一期开发总用地面积平方公里规划人口万人'], ['下午有一场戏要临场发挥～的又不提前告诉我'], ['都是我的错能不能再给我次机会啊啊啊啊'], ['还好吧只是比以前更寂寞的寂寞有点儿让人接受不了'], ['太可怕了放大眼睛的功能恐怖死了'], ['每天都焦虑恐惧担心但是不知道能和谁说表面装得无所畏惧却整晚整晚失眠到天明当然也有被孩子压着的因素在里面'], ['还是华为够可以的也被华为的荣耀吸引了啊'], ['以高级灰色调为主赭石咖啡为辅材质基本以给人温馨感的布艺及板材为主家居品位即刻营造造型上也以简约的微设计手法有大有小的对比与变化'], ['终于没有雨了略干的风吹来舒服痛快'], ['开办全国连锁美容化妆学校出品自己名字命名的美容化妆品'], ['鬼脸请允许我最后吓你们一下睡咯晚安哈哈'], ['它较之模糊的抽象的教育资源对于学生的接受影响非常深刻'], ['最惨就是摔倒而已重要的是你为什么来这里'], ['黑眼圈黑眼圈太重了今天发现原来努力的人这么多深深觉得自己之前懒懒散散的样子好讨厌希望我现在努力还来得及'], ['我的梦想已经成为曾经无法再实现'], ['人一生中不害怕失恋不害怕失败不害怕坎坷不害怕挫折那还等什么认定了就是干但是生活中总有这么些小人不会让你这么顺利这也是一种历练同时还有一件事最可怕就是你相信的人最后背叛了你这才最可怕没办法这就是现实生活重新再来没事我还年轻我有资本九江·九江共青金航大'], ['今天头一回去公司的餐厅吃点了个黑椒牛肉饭结果只吃到片牛肉块你就给我片牛肉怎么不去抢啊'], ['在德院吧看见这个小哥真是装的一手好逼'], ['上海家化玩的是什么鬼作为块的股票一天波动毛'], ['想把在马路上瞎挤的车拿机关枪都突突了'], ['现在的自己并不是自己所喜欢的那个自己但是我还是要试着去包容她接受她喜欢她容纳她的存在因为我知道她是真实的是我不能丢弃的一部分是我必须接受的一部分是我们必须要经历的那一部分'], ['对这工作效率管理制度已经无话可说了'], ['特别爱现在平淡的生活感谢我生命中最重要的人的出现他那么好才让我想变的越来越好缩小自己的圈子不再去不该去的地方远离不该认识的人做个三点一线听话的好女朋友生活本就是枯燥的幸福就是在原本枯燥的生活中发现乐趣和你一起'], ['风水轮流转真的是这样勇士都胜败了'], ['某人说我就是薄大神她就是我的老保姆傅子遇然后等我哪天碰到我的简瑶了她就退场了听得心里暖暖的'], ['所以是田园（源）组合吗哈哈哈哈早安'], ['怎么越睡越清醒了～呃脑袋完全不疼了～啊～～～'], ['最近有点穷很穷很穷穷到双十一想剁手都剁不掉想吃很多东西想吃水煮鱼了想吃冒菜想吃火锅想回家了'], ['信用卡还有没还工资卡要见底了'], ['很多中国游客入持十年签证来美一下住上个月这种情形在华人中并不少见根据移民法在入境的时候可以最多提供停留个月的时间但不并意味着你可以停留这么久美国签发的类签证是以短期商业或旅游为目的如果持有者过于频繁入境且在美国累计停留时间比例过多移民官会质疑来美目的'], ['小儿子感冒了昨晚又吐今早又拉烧到℃为娘好心疼'], ['双环形切口的缩乳术用于治疗中重度的乳房肥大效果良好'], ['回家的第天老妈终于对我每天深夜回家感到深深的反感今天我回家终于发飙我能说她是在沙发上坐着等我回来的嘛'], ['回程的大巴上居然放着小志的歌还有心里略激动连沉闷的空气视乎都好闻了些'], ['想着说明天期中考试啥也不会呢下课回寝室学习结果从两点四十到寝室开始刷微博刷到现在书包还没有打开'], ['周二阴灰色你说被伤就在一瞬间透心凉的感觉很无奈我的暖茶并没卵用'], ['小朋友感冒了一晚上睡不踏实'], ['由于我的战术失误怕是要错过明年的初级会计考试了没活路了'], ['踢得什么结巴玩意儿还没结束就又要给说拜拜了又要开始备战咯佩兰真的是教练界的天坑瞎了狗眼的足协真是绝配'], ['科斯塔这个脏比总有一天会有人废了他'], ['我获得了成就：新特色：在线奖励'], ['像癌症患者一般在生命即将终结的时刻特别思念那些想见却不能见想爱却不能爱的人'], ['尔时世尊从其面门放种种光'], ['比利亚射门方式多样左脚右脚头球'], ['高突头每天必须对瓦斯超限断电功能进行测试'], ['男朋友宿舍里养了只狗然后妈的下大雨了我现在很烦想死全湿了'], ['费力不讨好的事情不做啦不做啦'], ['一个搬方向盘的活把老子搞的火大真的学生娃儿逗起好耍'], ['的现在的年轻人真心做得出来老娘看你欠收拾'], ['在进城吃肉这个问题上我和慧敏又干起来啦'], ['有时特别烦身边的人啊事啊到底怎么了就是会好暴躁啊有种以后不要再出现在我生命里就最最好的感觉每天睡前必备就是都要发脾气好希望今天晚上我这级地震睡着睡着就挂掉了最最好'], ['回家坐火车晚上看得釜山行（好心态吧呵呵）影视老师说过看片时克服恐惧的办法就是不要听声音所以看釜山行时全程没听声音感觉一点也不害怕没有他们说的那么恐怖有教育意义催泪但也没有他们吹捧的那样在这么一场斗争中躲得过丧尸躲不过人心把灾难中的人性展现的淋漓尽致和国产片比赢了'], ['下大雪时也要爬山等到春暖花开的时候你一觉醒来抬头就能看到我'], ['年首播的爱情睡醒了中邱泽一人分饰两角挑战演技该剧最后两集平均收视达（城）全剧平均收视为安徽卫视全年第二'], ['年浙江南瑞电力自动化有限公司完成独立功能分离的各个系列产品'], ['流火的七月；也是个有点矛盾的季节：在迷离变换的景色里给了望而却步的畏惧踏过了绿意的和煦春季离开了播种的季节迎来细心经营的时节：亦如走过了年少时的风华也就渐渐地走向成熟'], ['我终于等到了胡大爷和小春在一起了'], ['对不起宝贝是妈妈伤害了你你还没来得及成型呢就要离开妈妈了'], ['真是够了浪费一下午时间敢不敢效率再差点'], ['日你妈哦亮个来改名字都不好改了'], ['总有一缕阳光照耀着你不用害怕不用恐惧就算所有人都离你而去总有一条光明的路为你敞开大门拥抱你温暖你当你再次回头的时候都是一步一步曾经留下的脚印感叹它是最好的时光——孙月'], ['可以把念成来自塞尔维亚而不是意大利的最后第二节课竟然有点感伤'], ['哪个没素质没脑子的婊子这样停车一群人等着他开奔驰是不是可以这么牛乱停车了'], ['突然意识到自己可能再也不是初中或者高中时候的自己了终于尝到了自己做事留下的后果'], ['我以为爱情可以填满人生的遗憾然而制造更多遗憾的却偏偏是爱情'], ['有些人真的太爱把自己当回事了吧'], ['终于有时间看电影了哪怕过敏想买杯咖啡的前面那大姐要了五杯等不及啊等不及'], ['我不想再看那个傻逼的微博了我不想再看那个傻逼的微博了我不想再看那个傻逼的微博了我真够了'], ['我竟然发那么蠢的微博也是醉了全删掉我要静静'], ['早上起来特别开心又是新的一天又能赚钱了到了饭点到肚子饿的时候就崩溃能不用吃饭也好好的胖胖的就好了不能只喝水吗'], ['今儿的东站就是一釜山行打工仔们插队插的都特别的自觉特别的轻车熟路特别的理所当然自动取票时还有一大爷从最后一个á在我前面说我这车快开了要赶紧取票他取票时我扫一眼时间跟我差不多啊（突然想到之前跟我爸说最害怕那种中年电动车男一系列的还有脑残粉网络暴民市井小民）吓人'], ['不知道说什么碎碎念这几年自己努力过也得到过自己想要的也得到过客户的认可送过爸妈礼物也买得起自己想要的东西但这些年感觉还是不够充实没有计划目标不明确看的书太少成长的步伐太小自己的愤怒只是因为自己的无能快过完了又虚度一年的感觉'], ['姐姐生日快乐能认识你真的很高兴'], ['此时我不得不吐槽下这个学校了之前暑假让过来领证外地人暑假还会留在武汉特意等着这个证么后来接二连三的每天打电话一次都不接现在我赶了两三个小时过来赶过来之后看到这个进去号我也是醉了你们学校怎么这么坑武汉市一商校'], ['函数（）被用来初始化一个条件变量'], ['安ོ卓ོ新ོ版ོོོོ上ོ线ོ啦ོ'], ['淘宝你才要孕妇装'], ['一女子请来一道士驱鬼女子说道大师最近实在是恐怖先是上楼梯那木头楼梯竟然就硬生生碎了'], ['年在马蒂乌斯（）位于波恩的私人实验室工作'], ['上一场的点球怎么算这一场的门线怎么算门柱门楣不靠谱也就算了你们管理者连让裁判公平公正的工作都不会做吗要你们何用还有那个佩大将军你是猪头吗不过仔细一想你不是你绝对不是猪头你丫绝对是卧底卧底卧底我去年买了个表'], ['这么多年来第一次打字会紧张到说错话还有见到一个感觉能融化心脏的对视'], ['无名指食指相对长度预知健康食指长：女性生育能力强谦虚敏感易患乳癌不爱冒险；男性生育力弱表达力强攻击性弱方向感差无名指长：女性生育能力弱过分自信不易患乳癌爱冒险；男性生育力强表达力弱攻击力强擅长数学易患孤独症'], ['家庭用心经营一段来之不易的感情难能珍贵我的家人们周年快乐'], ['嘎嘎猜猜这是什么起床咯今天居然出太阳了赶紧晒衣服好久不见太阳老爹'], ['我记得前几年的单身都叫贵族怎么这两年都变成狗了呢'], ['哎没完没了的无效会议开着开着都能出现恶心你的情况'], ['啥都轮不到开十年熬出头可他终究是演员有过硬的专业出身爱豆过了青春年华可就没有任何机会了哎'], ['一缕萦帘翠影依稀海天云气写龙涎被焙制成的各种形状和被焚时的情景'], ['好久没有画画了感觉太棒啦久违的畅快遗失的美好'], ['就算想看女生的裸体也不是什么罪大恶极的事小孩子总是会对自己不知道的事充满好奇爱慕女孩子也很正常家长和老师要引导决不能像这个校长这样会给孩子留一辈子的阴影什么混蛋'], ['先后筹建建龙朋小学捐建石屏县立中学'], ['吃饭才发现现金都买药了昨天买菜还是刷卡的'], ['这歌吓死我了听到一半才发现不是歌词不一样不是原唱惊恐唱得太好了'], ['疯了以后睡觉手机绝对调静音'], ['为什么新农村合作医疗提到了元'], ['居然排第一可是我还想着要顺产呢'], ['突然想起一件很好笑的事情笑不可抑之前去参加宣讲会看到展板上的广告跟舍友说啊你看李治廷那张照片跟马里奥很像耶走进一看下面写着马里奥'], ['有人在你睡觉的时候吃瓜子是个怎样的感受'], ['袁隆平说我的工作让我常晒太阳呼吸新鲜的空气这使我有了个好身体是啊好身体是要晒太阳的只是现在的太阳不再是自然的阳光空气中弥漫的各类的化学物质使得太阳的光芒再也不是那样的可爱而是一种极具杀伤力的致病武器我们还要这样的阳光吗还敢迎接这样的太阳的光辉照耀吗你说呢'], ['对于已购村证房的购房者会进行一定的经济处罚补交一切非法所得及利益使购房者不能从村民住宅的购买行为中得到任何超额经济效益'], ['第七届美少女中国模特大赛河北区比赛落幕瞧这边很养眼塔坛杯第七届美少女中国模特大赛河北赛区决赛自月份正式启动以来通过海选初赛复赛于月日终于完美收官位美少女脱颖而出将代表河北参加全国总决赛看到数字小布很气愤明明这么多美女为啥只能选个'], ['滑动部分的总质量为±'], ['藤代孝七（ふじしろこうしち年月日出生船桥市古和釜町）日本政治家'], ['好不容易来图书馆装会儿×雨越下越大根本停不下来了'], ['一外线打电话来我接起说了问候语他居然来句你猜我打来干嘛的'], ['这个男的虽然挺不错的但是跟一个死人结婚'], ['希望每晚都能有你的怀抱或者激情散去生活归于平淡也能有你陪伴'], ['哪个傻缺设计的这个投票方式喊了一晚上声音都发抖了王源加油麻麻我也加油'], ['我讨厌这种话题最好不要和我聊有的没的'], ['一胡言乱语我活的战战兢兢时刻保持清醒做了哪些事情就该知道付出什么后果做错了一次下次一定不能再犯才让我在这样的环境里还算活的积极向上其实你不用猜我的你都知道我在想什么如果你不知道那我放弃了也理所当然你连我为什么放弃都不知道了人都是在失望里磨练出来的次数多了就要学会免疫'], ['人们还可以根据自己的心情改变手机链'], ['同时将个人之热量标准印制成小餐卡供每位受检者参考及保留并于餐后提供饮食卫教及餐后检查的注意事项指导'], ['这几天都好晚睡觉气色好差好差黑眼圈快掉下巴了还有满眼的红血丝'], ['总有一些事我们不愿它发生却必须接受总有些东西；我们不想知道却必须了解总有些人我们不能没有却必须学着放手总有些时间；我们不愿它流逝却发现根本无能为力'], ['现在回头看看女儿小时候的照片怎么觉得有点像男孩'], ['尸忆冥婚主题虽然屡见不鲜但本片以较有创意的叙事手法营造出新意故事从两条看似不相关的线索分开推进最终以一种巧妙的方式融合之前布下的种种细节也多了些可堪回味的意境缺点是吓人的手段还是一惊一乍老一套梦中惊醒这种梗不能再腻味了鬼新娘的造型有日式风格在民乐背景下感觉略渗人'], ['练年的体育我会成为国家健将'], ['看着厚厚一摞摞的复习资料还有所剩无几的时间想哭哭'], ['经过长期探索总结项目管理已成为现代管理学的重要分支和当代社会的主要管理模式之一'], ['对顺风彻底无语先有把快递寄成普快赚差价导致对方单位延收货物又有这次把两个单位快递都寄错方向了我真服'], ['太可怕了不光为医生感到害怕还为这个新生儿担心特么有了这种混身上下被迫害妄想症和暴力狂燥症的父母这一辈子活得该多辛苦'], ['好久了我都没有解锁太多人生新成就日子无聊到只看了一场观影人设非常有趣的电影以及唱了一场酣畅淋漓的五月天许嵩专场下个月到时候就可以有人生新成就了我会努力通关的放心我也不是那么差我最近总是梦到你也爱哭鼻子但是绝对绝对不会放弃自己'], ['我祈祷拥有一颗透明的心灵和会流泪的眼睛月亮'], ['我已经不是同担拒否了我现在是简直害怕别人成为我的同担大哭大哭大哭大哭大哭尤其是即将成为同担的人比我有时间的多的情况下感受到了恐惧'], ['菜园坝是渝中区连接主城各区的纽带地理位置非常地重要'], ['终于补课结束了来一首摇滚嗨一下努力让自己随心所欲'], ['半夜睡前突然很想念一盘炸元宵的味道'], ['（）管辂据三国志魏志管辂传载：辂随军西行过毋丘俭墓下倚树哀吟精神不乐'], ['尼玛十块钱我可以买十个玉米自己炖了都'], ['我只是有太多的惰性了这是病得治'], ['醉得好爽半路差点摔个狗吃屎哈哈哈哈哈哈怎么没有挂'], ['不開心我叫不高兴两万块钱的玄晶也曾离我这么近为了飘雪我舍弃了块钱的工资我好伟大轩辕得出多少发玄晶才能赶上大明湖一块'], ['（一）深交所是一个以金属和玻璃结构为主的大楼不少人可能没进到过大楼里面的办公区今天我去混饭吃顺便拍几张照片给大家介绍一下大领导在层办公办公室简约大方干干净净没有字画整体感觉有品味但是很低调'], ['下雨天就是容易心情不好尤其是晚上还得去听写作课'], ['一年多没发烧发一次要了命'], ['隔壁两个老头换班就像老婆看到老公回来一样开心'], ['以前一天完成好几张学案现在记几个单词短语都费劲儿真的需要调整好心态好好学习了以后谁和我说大学学习没用我给谁急'], ['和傻比大半夜聊完笑死我了恭喜傻比终于和过去说翻开新的一页路还很长卡车叔叔陪你走'], ['手机里存了好多怕困桑生～招牌动作还真多呢可爱花托还有专属庸医的背手～话说这些看着像即兴发挥呀真的很有演艺天赋呢小婊砸啦哇初雪晚安图'], ['清晨宝贝的一声妈妈把我唤醒心里甜甜的美美的和宝贝在一起真好早安亲们'], ['有点小鸡冻'], ['特征与对象活动和动作都是以实现预定目的为特征的但是动作受单一目的的制约'], ['我只想说在南北方争吵不休的时候能照顾一下中部地区么比如安徽每年冬天真是又冷又不供暖你们瞅瞅这温度心疼自己大写的心疼'], ['觉得说话中伤到人家了你这次真的过了喜欢一个人并没有错别人为你付出更没有错知道你心情不好这么大老远跑过来陪你你不仅一句领情没有还把别人弄的如此尴尬局面程梦莎你特么到底想要干嘛是不是觉得全世界的男人都配不上你是不是是不是'], ['一听就是某爀喜欢的⋯跟三斯密斯一样的⋯推荐一下量嗖嗖嗖↑'], ['一包模：先在模种上包一层厚度为的泥土做石膏外套除去泥土渍脱模种把搅拌好的硅胶和固化剂倒入套有模种的石膏外套固化成型'], ['他说红色很适合你自此他便红衣不离身那日他站在花树下花瓣纷飞落了他满身他一步步走近他那女子笑颜如花轻柔地为他拂去肩头的花瓣他说我要成亲了他点头新娘真美'], ['北京军都旅游度假村傍军都山而建这里蓝天碧水景色怡人小桥流水绿草如茵庭院深深'], ['辛苦工作一天吃饱喝足睡觉睡覺睡覺'], ['不好的梦为什么会持续一整晚我的心啊'], ['震惊鲜豆浆放置小时细菌暴增倍'], ['不舍云中歌刘病已再见啦终于改了新的简介陈晓‖年月睡兄弟网剧月安徽卫视五鼠闹东京‖静静等待→遇见爱情的利先生睡在我上铺的兄弟神秘家族云巅之上一味料理'], ['对于耿静同是女人同情加可怜不知悔恨愿你在里面一辈子对于李春我想弄死他平生第一次想至于死地虽然还没抓到抓到我一定会去看他'], ['大半夜的这么烦烦心烦人烦气透了烦得想骂人'], ['心中有一万只草泥马在奔腾不怕神一样的对手就怕猪一样的室友'], ['我特么的服了～都怕上热搜他又被骂居然一下子前十了'], ['昨天中午去吃饭习惯性地就买多了还以为吃不完的都可以塞给他晚上去小吃街晃悠一圈不知道吃啥还以为可以任性的说我不管你快告诉我吃啥去哪吃今天中午去食堂吃饭吃完走一半想起来没还盘子还以为有人会屁颠屁颠儿的帮我还'], ['最近变得油腔滑调了许多完全脱离以往高冷简言的风格而且有点吃亏就像是个不断学习的过程总觉得不太好我好像不喜欢自己变成这样但是想了想这根本不能评定好不好能够让喜欢的人开心就是最正确最最重要的'], ['你要是因为大事小事烦躁心慌伤心忧虑那并不可怕最可怕的是你连烦躁心慌伤心忧虑都不会了'], ['现在有点恐慌也不知道害怕的啥摊手摊手摊手'], ['文波与距离一个点名我就是不想黑灯瞎火的啊有错吗'], ['今天晚上点下班明天还要上点的早班还下这么大的雨还这么冷还没有对话到底想干嘛而且还要和讨厌的人一块上班这是要逼屎我的节奏啊'], ['为什么我每次明明洗头了却还是说我没洗头'], ['我突然发现我昨天好像是通宵了的为什么我现在还没睡'], ['前几天还在晒秋天的图片今早就这个温度了'], ['如果你不理智不客观不冷静不会忍耐而是片面的截取信息受营销号的鼓动没事只会去她微博下面和别的黑子互骂等等一些只会给她带来麻烦的人请你不要再爱她那样的你不叫爱叫麻烦'], ['多么希望你们像男人一样站出来失眠'], ['一大早上的就他妈的一堆破事儿'], ['手粉碎性骨折还能恢复如初吗为什么我这么悲催啊我这是什么点子啊什么时候才是尽头'], ['能不能有点稍微如意的事真是日了狗了'], ['感冒第五天第一次感冒发烧浑身酸疼没劲儿刚遛了一小圈儿竟然感觉体力不支连咳嗽再喘继续回家背床板儿我这就是老了吗'], ['只求买得起未来都市的小说和漫画版'], ['想买一部自己喜欢但没钱买的拍立得'], ['峰峰我好担心你啊我在此祝你早日康复你知道么当我知道你病的时候我的心如刀割峰峰我交给你一个任务吧这个任务就是好好照顾自己让自己的病快快好起来还有工作太累时不要逞强哦不要让我们担心哦蜜蜂可是操碎了心啊爱你哟'], ['这死丫头又熊抱又亲的我的表情是享受吗'], ['在给客户作项目的过程中经常会发现岗位价值评估没有办法真正落地有些时候是因为岗位很重要但是在岗位上的人能力没有跟上因为人不行就把我们的岗位价值完全打乱了'], ['有时候真的怕变成中年人中年人真的很可怕很可怕年轻人大家谈天南地北谈新发明谈新趋势新变化谈感情谈梦想谈职业谈人生困惑谈体育谈明星谈文化结果到了那些中年人就只剩下谈房子谈钱谈孩子好可怕真的很恐惧变成中年人'], ['广布于我国亚热带地区北达河南南部及陕西秦岭东至台湾平原地区向西达四川贵州和云南东北部及东部'], ['云笈七签卷一百一撰列诸尊神传纪亦首列元始天王纪可见宋时已当作一位尊神了'], ['这是要晚点的节奏吗每次来三号候车厅都会晚点'], ['高中的时候没有选择只有拼命学习大学了选择多了反而更累了人还是需要一个目标来鞭策自己'], ['从设计建造到实验埃文斯已经一路伴随这个项目走过了近个年头'], ['我们总想把不愿意记住的事情忘记'], ['孩子偷懒经常不做作业我心里特别难过都小学六年级了不知道该怎么办'], ['给你们看个劲爆的居然（棒女郎）是可以喝'], ['当一个吃货有了好吃的时候瞧那得瑟的样子'], ['易烊千玺小伙子我在认真的学习啊可是每天的告白不能少呢让皮皮来陪伴今天的你喜欢你真的是我做的非常正常的一个决定你说呢因为你这么优秀我也要让自己更好一点所以不能常常刷微博我要考第一啊'], ['你这是突然怎么了把自己交代的一清二楚'], ['在生活交际中最怕遇见哪种人我想最可怕的莫过于一种人他几乎渗入了你所有的圈子和你身边的每个人都是好朋友闺蜜基友遍天下在每个人的朋友圈都看到合影当你认识了一个新朋友你却发现他和你的新朋友又是朋友和你不同的朋友有不同的暗号昵称也许这是交际好的表现却不免让我不安和恐惧'], ['心情不好的时候就吃了俩个小时看怕不'], ['每一个申请组织都会收到一份关于优势和改进空间的评价报告'], ['晚上想起以前又想以后睡不着外面刚下完雪映的室内很亮也很暖和'], ['纪念我遗存在免疫实验室的孔庙祈福'], ['天天忙的昏天黑地的老岁不是梦'], ['越长大越害怕失去于是才懂得了珍惜珍惜那些对自己而言至关重要的人和事小编的日常我们对死亡的恐惧是因为害怕那些一直默默陪在身边的彼此关心的人还没等到我们初露锋芒有所作为他们就已提前离开甚至来不及作最后的告别'], ['恩这个月我爸妈还没打钱我恩生活费一千十一过后一直过着吃土的生活'], ['弗兰克尔的精神分析理论是精神分析运动的最新进展之一'], ['王老虎上任让自己像沙滩多大的浪来了也是轻抚着沙滩一波波地退去'], ['本来就烦还要念一堆事全部搞在一起超不爽'], ['丝瓜木耳汤丝瓜克黑木耳水发克白芷克料酒克姜克葱克盐克味精克胡椒粉克香油克'], ['特点罗旋形黄白相间层次清晰椰味浓郁松脆适度'], ['哎呦到现在心里还好难受如果我当时没报侥幸心理提醒一下就好了就不会发生了'], ['你们干嘛呢这又不是粉丝见面会'], ['太久没出去外边的世界被支付宝征服了'], ['迷失的自己晚安请做回以前的你♡'], ['什么破事都赶到一起了去特么的'], ['会计继续教育刷学时刷了一下午年的课程我尽全然不知'], ['．熟悉钢筋算量软件的操作流程与方法'], ['或许需要脑海里的画面亲手去实现或许依靠某时刻某瞬间的发现与感动或许本就可以大有出入却无关紧要想要的你都能给'], ['三种意思并不相同哪一个才算是正确的呢'], ['这几天辛苦的外婆帮我们看房子娅娅昨早醒来房子学校看来小家伙也心事重重啊可是房价真的好高好高高到我们再也没机会住卡尔顿了'], ['唐代将军号大减杂号将军的名称亦归废弃'], ['现在欠债的是爹真是去年买了个表我老公好说话不代表我好说话我们有钱没钱都不想便宜你这种无赖请你好自为之'], ['又是一个寒心的事情强奸六次从轻发落中国法律真是棒棒哒才怪'], ['我知道怎么回事儿了肯定是外星人控制了希拉里嗨呀好害怕的吧最右最右的图有点可怕吓哭了吓人（人造人希拉里厉害的来了'], ['一丢丢都不想待在福清不想待在融泉哪里是在上班根本是在养老期末就离开必须离开'], ['用法用量口服一次～片一日次；'], ['韩剧不让播美剧不让播港剧不让看现在连电视盒子都封杀我就像知道广电总局你还想封杀什么还想不让播什么难不成国民就看国产剧你们就不封杀么除了封杀和不让播你们还能干点什么'], ['据祝长生描述原先塔顶有一个小宝塔状尖顶塔身每层的飞檐还有铜铃清风拂过叮当声清脆悦耳'], ['这货让我一点凯旋门接她完了我还这么守时的到了这位大姐姐一会电话说饭没吃的好一会说要眯一会不然头太晕到底谁傲娇啊到现在还不粗来我想说我可以去把你的头拧下来当球踢吗身边竟是这帮孙杂'], ['今天一单斤猫粮送到俺家没有电梯快递师傅搬斤我抱着另外斤猫粮飞奔到楼中间没休息而且也不累我都对自己的体力表示惊讶'], ['时间太可怕了任何人都躲不过时间的检验请不要以失败告终'], ['吓懵逼了去贴吧里搜果然已经没有了秀色吧这得多重口味'], ['罗胖的天名字为什么会有魔力因为人是靠语言来认知世界的或者说语言就是人的世界本身比如有心理学的实验证明——让人做一个承诺如果还让他签上自己的名字履约率会高很多签名的人会觉得把自己的一部分已经放进来了名字不是事物的符号名字是事物的一部分'], ['双十一完了这个月生活费没了就把这个月剩下的日子过的去就行了'], ['一样的境遇不同的是人每个人不同的梦想最后不同的人生道路把自身的价值发挥出来我们的幸福才能掌握在自己手中幸福是自己创造的下雪了'], ['一段时间没吃面食居然会想吃面食还不是面条的那种面是馒头或者披萨那种面我要成北方人了么'], ['恐怖片中吓人镜头集锦将近分钟部影片简单粗暴直接吓阴险胆小慎点秒拍视频'], ['不要一味模仿西方的或者是大城市的教学模式了高效课堂不是桌子一拼起来学生就会自主学习的'], ['好累啊身体往往不比以前好了～'], ['高高兴兴的过完一字开头的最后一个生日'], ['胃病怎么养慢性胃病三分靠治七分靠养患有慢性胃病的人特别是寒性胃病者表现为胃脘怕冷喜温喜按饮热水感到舒服要尤其注意保暖以防腹部着凉而引发或加重旧病必要时还可用热水袋保暖胃病患者的饮食有八宜'], ['突然就有一种想要逃离这里忘记一切的冲动若一切能够重头该多好'], ['激光炮组和厚重的精钢装甲让这些壮观的战舰成为了宇宙中最强大的武器之一'], ['不能勉强不能勉强做不到做不到啊啊啊啊啊'], ['没日没夜的看完了白夜行真是百感交集莫名的心酸看完网上的书评更是忧伤男女主角长大后唯一一次出现在同一场景竟是生死相隔手牵手在阳光下散步终究成了永远无法企及的奢望'], ['茶农被狗舔了一下手真的是要被这个新闻吓死月中旬在拉沙朋友家中被他家狗咬了一口食指轻咬没破皮没流血用香皂使劲洗了手没有接疫苗我现在吓得睡不着觉了但是都知道狂犬病的发病因这个新闻真的不能全信啊真的好害怕'], ['其实你生活中的所有烦恼都来自于你自己的假想敌其实一件事情本没有那么可怕你把它想成很可怕又不敢去做就更害怕了其实并不是一件事真的非常简单说白了就是心理素质差多锻炼吧心理素质这么差可不行'], ['昨天大雪今天不用上班呢下去玩会吧'], ['圆通快递真垃圾一个快递从东莞到广州足足天还没派件就像消失了一样'], ['至少脸还好至少身材还好至少学的法语都没忘所有的不顺心都会过去嗯我喜欢现在的自己'], ['多少玩笑话在真心话中说出口只是不想懂的人怎么都不会懂'], ['因凹版印刷的油墨不同因而印刷的线条有凸出感'], ['每个人都有乘坐那一艘诺亚方舟但是只有努力的才能挤进去为明天加油千万不要放弃'], ['毕业快乐角色🏻角色🏻照片多到不知道怎么发只好到处发一条'], ['兴业银行太垃圾了刚去开了一张卡结果绑定了某证券被破开通了股票账户打电话居然没有投诉的地方'], ['站内信不同于电子邮件电子邮件通过专门的邮件服务器发送保存'], ['回家和昊昊玩耍惹他不高兴了我说：对不起哦昊严肃的说：说对不起也没有用不一会又说：吊起来去要饭这都是哪学的呀一问婆婆才知道好像是幼儿园的一个阿姨小孩子不乖的时候会说伤不起啊得好好改进才是'], ['又是十天小长假中午起床符號下午麻将符號晚上麻将符號夜宵循环循环循环'], ['我最喜欢的一个字是吃最喜欢的两个字是旅行最喜欢的三个字是你的名字'], ['烦死人了说不明白话不是说还不行'], ['我今天早上又被骂了心情真是不好说我对谈恋爱态度没有放端正老是吊儿浪荡的在这样叫我滚出去她老是说我老是说我好烦我觉得她是在生我短头发的气因为我看她骂我的时候一直盯着我的头哎心情不好我离家出走了要'], ['青春的最开始总是从一个最想逃离的地方开始后来渐渐成为舍不得的地方作为落幕'], ['可怕深圳一小车司机在高速上的这个举动看得交警胆战心惊可怕深圳一小车司机'], ['被吐槽头像换的太勤了以后不换了'], ['大概懂了为何老人都爱魔兽因为它是一个真正的团队游戏一个人如果失误或者犯二都会导致重来而且彼此都不会去责备而是想着下一次加油过天涯各地的人都以朋友的姿态去完成一个任务好开心'], ['大清早的保姆来按门铃全家一下子都惊醒了特么说是我爷爷吃了片安眠药（数字这么精准我也是奇了怪了）这是要干嘛'], ['橡胶充气内模气囊内模保管与维修气囊内模使用后用清水冲洗干净不用时应旋转通风干燥处不要触及油剂酸碱'], ['从山西迁往上述各地的移民后又转迁到云南四川贵州新疆及东北诸省'], ['早起都要出发了隐约觉得不对劲才发现那小孩儿在被窝里抽泣半天了印象里好久没因为我出差有过这样的反应了心里好难过鄙视一直以来的努力坚持瞬间崩塌了也不知道这份坚持到底还要不要继续'], ['最近认识了一个新的好朋友有故事有意思善良我讲话的时候偷偷给我画像我发飙的时候她在旁边着急给我扇风不让我生气我想吃椰子她徒手就掰开了'], ['感恩你们的幸福新婚我们又聚在一起了眨眼就十年了'], ['老妈去了寺庙空荡荡的家只有我一人还是很害怕孤独很害怕自己一个人还是会幻想还是会流泪放半个月假内心是恐惧的不知道这么多天要怎么过后悔退了去广州的机票很想去玩一玩去一次长隆在一趟厦门以后再去三亚拍婚纱照希望我想的以后都能实现下午回乾安看到同学又是什么心情怕尴尬恐惧'], ['祝我十九岁生日快乐一个人也可以很好'], ['我最珍贵的宝宝我在最好的年纪遇见了你以前的年我们在两个世界不过从第年开始你就是我的世界我愿陪着你'], ['第一次在学校和别人动口怎么会有这样的奇葩气死我了'], ['今天不知道怎么的就找起购车合同来了死活都找不着其实没啥用不过我爸说太重要啦太重要啦于是全家人开始找到底有啥用嘛车都提了'], ['我一天天的赶上客服员了谁得罪人了都得我收底我教你咋干活可以还有义务教你怎么说话怎么做人吗'], ['愿有人不怕天黑与厉鬼只怕你心酸与皱眉'], ['有种无奈就是我想贷款竟然贷不了想申请临时额度也申请不了好伤心'], ['她指责父亲从来不关心母亲和她这个家里没有亲情'], ['哎呀好久没画我宇了今日兴起来一张世间为何会有如此帅气的蓝紫'], ['阴雨绵绵的早晨一杯红糖生姜水一快阿胶糕棒棒哒美好的一条开始拉'], ['若干年后学生们翻开课本历史老师指着历史书说来划重点这一条考试必考的俄罗斯战机在叙利亚被土耳其击落成为第三次世界大战的导火索'], ['今天教师资格证考试合格这么重大的时刻我居然差点忘记发个微博庆祝一下这学期普通话一乙过了资格证也过了就剩下六级刷分了明年还有一战雅思梦想就是这样一步步实现的我始终坚信勿忘初心方得始终'], ['刚才知道党不要我和家里人说了然后他们说爸妈要你这一刻我还在上课但眼泪就流下来了'], ['专项二三四综合分析题文艺事业发展主题提出对策题官赖现象文章论述题安全生产主题刚打了电话说今天不值班干啥呢他在写恐怖害怕小说害怕短篇的那种还赚了点钱这个警察不简单啊'], ['家里的淮山多长出一个蘑菇样是怎么回事'], ['最开心的事就是回家回到家就是公主'], ['在一些熟悉她的人中已是萌系始祖的她甚至被奉为比公认的绫波丽更早的三无鼻祖'], ['草泥马听不懂人话就滚蛋不会说话就闭嘴傻逼不轻了越说越来劲了'], ['这种尚德精神在与西方神话特别是希腊神话的比较时显得更加突出'], ['晨读纪念一下今天要开始和宝宝分开了'], ['要求别个做事还这么理直气壮孕妇了不起啊哼'], ['校内教学办公生活设施齐备设备先进功能齐全'], ['要哭了为了刷票开关飞行模式手机坏了'], ['写完飞越疯人院的观后感突然就隔应了百度看的几篇影评里提炼出的主要情节都能回忆起来尤其写到结尾那个酋长用枕头结束男主的生命高三那个晚上一模一样的压抑顿时汹涌起来那时候没怎么看懂只有黑色背景下的苦闷而现在看着几个主演的照片都巨难受越来越想往外走'], ['从下巴测你的优势下巴是人类的本能象征它与人类的动物意识关系密切下巴结实的人通常具有忍耐力可以控制自我的动物本能先想想你的下巴是什么样子的吧纤细形；半月形；四方形；鼓腮形'], ['消防安全微提示话筒秋季正是火灾易发多发的时节秋季防火注意做到以下事项：出门切记关电源电器质量是关键避峰用电是关键冒烟漏电快排险发现火情莫惊慌私拉乱接最危险乱堆杂物埋隐患乱扔烟头最可怕烟花爆竹禁燃放消防设备常检查'], ['雜誌圖三五最新為拍攝的照片'], ['我记得要在白纸上抹上色彩我为能够做更好的自己奋斗只要有收获我就不在意小伤小痛毕竟精神的力量如此强大你也不能想象自己还能走多远'], ['这些日子天天跟两宝宝在一起完全沉浸在幸福的小日子里不想外面的世界也不关心他人事物给自己总结了下在什么年龄段做什么事在什么环境下做什么样的事'], ['牙疼不是病疼起来真要命智齿这东西真是要了我老命居然要拔四颗止痛药不能停'], ['安徽省书画院成立于年隶属于安徽省文化厅是全额拨款的事业单位主要从事中国书画的研究与创作'], ['一般加伦糖或公斤糖（约）可制造加伦的乙醇（升）因此在整个发酵过程中几无能量损失'], ['妈蛋十六集看的我想打死不跪下认错窝是不会原谅你的看预告大刘答应跟在一起了我简直有点大快人心不过好心疼最后最受伤的肯定是他还要笑着祝福他们个王八蛋渣男'], ['每一次发完脾气内心又愧疚又懊恼但是就是拉不下脸明知道最爱我的人会无限包容我但是却以此向他们发泄这样的我真糟糕'], ['杨思澍张树生傅景华主编中医临床大全·第四章外科·瘰疬云：因其破溃形成窦道及瘘管者称为鼠瘘'], ['期中考快点结束吧不然真的会累死在这边'], ['人事科负责局机关和局下属单位机构编制人事调配和劳动工资等工作'], ['区中波紫外线它可到达真皮层使皮肤被晒伤引起皮肤脱皮红斑晒黑等现象但它可被玻璃遮阳伞衣服等阻隔'], ['做好会刊网站各栏目的设计组稿排版校对工作'], ['亚历山大老总就知道要要要不停的要是要业绩'], ['土耳其击落俄战机土耳其外交部召集美国俄罗斯法国中国英国公使就俄罗斯军机坠落作简短说明启程看天下中国外交部发言稿预计大意如下我们密切注意该事件发展中方一贯主张以和平谈判方式解决相关问题中方呼吁各方针对该事件保持克制冷静只有采用和平谈判方式才是解决问题唯一出路'], ['为撒要用我头像为撒你自己刷微博看着不心烦吗姑娘'], ['你哭泣我都不知该从何安慰了不会说动听悦耳的话'], ['钢琴教授林振纲林振纲男沈阳音乐学院原钢琴系主任钢琴教授'], ['五号竟然说事实是一个男导员强奸的一个女生'], ['我靠今天真的是踩了狗屎了靠真烦'], ['一到周一就各种乱七八糟的事我脑子都要炸了哎我说你能不能不在别人办公室里抽烟这样真的很没礼貌好嘛'], ['没去过土耳其有人说是速溶咖啡那这里面的水是从哪冒出来的这么神奇'], ['他妈的能不能让我连上分钟老子就付个运费'], ['飘动的经幡转动的经轮祥和的诵经声飞舞的风马六字真言的祝福佛菩萨的保佑懇求'], ['深圳公安深圳公安我也是醉了松岗星港城满地的的警察跟协管除了抓抓超标电动车之外还能干些什么我锁了一台锂电池的车在停车场不到分钟就被偷了本来想报警的想了想以前的报警经历只能用然并卵形容'], ['玛戈几上个班这么辛苦还被说说说我是有不干事嘛'], ['行草则燥润相杂以润取妍以燥取险'], ['我去你妈逼看微博就看微博嘴别贱叨叨个屁啊你脑子进翔了'], ['求一千买个听说和纸质书没啥差别可是我辣么喜欢读书居然买不起'], ['节奏快了我惶恐不安；节奏慢了我也惶恐不安谁也不是谁肚子里面的蛔虫啊真的有吗在哪里'], ['昨晚车路士凭借坚强的意志征服了欧洲巨人巴塞罗那今晚看皇家马德里在主场班拿贝球场挑战德甲班霸拜仁慕尼黑支持朗'], ['抽了我三管子血我得吃多少好吃得才能补回来'], ['我现在整个人都不好了和原来国内高中老师聊天知道她好像得癌症了'], ['一个操控性好的车必须具备哪些条件必要条件一个敏捷而又准确的方向盘'], ['供暖后接连失眠盖被子热踹被子也不凉℃辗转反侧燥热不已℃就可以了毕竟还没到数九寒天咱们干嘛一下烧那么热慢慢来不好么'], ['后桥采用精度齿轮转动精度高运行平稳摩擦噪音小滑行长'], ['在梦里跟一个老头儿吵了一架醒来浑身酸痛难道我还跟他打了一架我自己不知道吗'], ['怎么搞了扣扣这礼拜总是显示异地登陆特别想爆出口'], ['我一个要么小时自然醒要么小时自然醒的发誓再也不要熬夜了'], ['偶真的不适合做饭做菜啊啊啊问题还是本身很挑剔'], ['最初筹建的特种部队有两个分队一支属于东京警视厅的第六机动队另一支属大阪府警察本部'], ['看着他们就像看见以前的自己一样心中还带有那么一丝希望与天真无邪他们谈论着游戏我感激自己当初沉沦在游戏时没有忘记什么才是最重要的谈论着爱情我感谢那些从我生命中路过的女孩让我体会人间冷暖谈论社会我感激在这世上还有那么一丝温暖给了我健全的身体人生本就是一个人孤独流浪的生活'], ['两个店的衣服自己却没有衣服穿每天都很头疼穿什么穿什么的问题'], ['如果故事到左结尾个一唔需要再讲任伤人伤己的说话要分注定会分勉强不了晚安'], ['顺丰快递和我有仇七点多开始了一早晨收到的这个是寄的什么鬼'], ['它由独立的电气部分控制自动恒温'], ['这就是目前我国发泡剂总体水平低质量不高的重要原因'], ['童子牧九牛的趣闻凤亭水库库区湖龙头山至石牌山一带有九个一溜排列的小岛活象一群闲憩的水牛浮游在湖中这就是被称为童子牧九牛的胜景'], ['危机有两种当雷曼兄弟或两房崩溃时人们不一定逃向金银他们更可能投奔美元或美国国债老夫称之为金融危机但是当美国国债爆发危机时更多的人注定挤向金银的逃命出口这时的危机叫货币危机而且是世界储备货币危机我们不知道这一天什么时刻来临但也许就在年内的某一天降临'], ['佐罗的原型简直是十七世纪阿萨辛啊'], ['呵呵呵呵呵还有点改好的稿子六点前至少要背出来七篇真是想吃大便样的'], ['吓着宝宝了泡了个月的效果这痘痘得有多少湿气和毒素啊'], ['太可怕了十年账单上面的数字让我受到了惊吓泪泪泪感觉我妈知道了肯定会把我头打进裤裆里泪泪泪'], ['我滴妈这孩子的字就跟印刷体似的'], ['美好的期待一个都没实现别指望人家会懂你哪怕是离你最近的人'], ['一平赣州的房价是要吓死谁'], ['这还从轻处罚直接枪毙和无期好不好'], ['快要冻死宝宝了在地铁门口排队走迷宫我动一步后边的大老爷们就要挤过去超过我一步算了反正这种人一辈子没女票死娘炮臭'], ['（普济力）治风着口面喎语不多转生地黄汁一升竹沥一升独活三两（切）'], ['对自行车等非机动车和拖拉机征税而对行政事业单位的车辆不征税显然有失公平的原则也不能体现国家的惠农政策'], ['气死我了气死我了气死我了都是些什么烂人啊'], ['两周年快乐虽然中间吵过闹过一转眼就两年了'], ['信道码资源共享使系统可以在较小数据包传输时仅使用信道码集的一个子集从而更有效地使用信道资源'], ['好可怕想到发抖的时候晚上被这种恐惧折磨的我真的想死'], ['从今天开始我就是岁了根据中华人民共和国结婚法我可以领证了哈哈祝自己生日快乐许个愿'], ['开放式办公室的工作空间通常是由可移动的物件来确定的因而工作位置可以根据需要移动变化'], ['今天游戏怎么这么卡八区都要排队'], ['过来人的忠告吃火锅去酒吧第二天一定要洗澡换衣服'], ['真是被邻居气死了吵架可以吵两个小时吵完了还要到我家门口聊天声音特别大真是醉了扰民不知道么扰民'], ['特地来等我下班去逛街吃饭今天真的很开心'], ['心烦到爆想找个人干一架今天在下面扇了一老油条一记耳光很是他妈不过瘾操现在有点纠结担心此事影响名声但是理智告诉我：喜怒哀乐皆不发发而无顾忌跟老油条斗还真他妈有点难度'], ['我想说：我不吃火锅可以吗牙疼'], ['勿以恶小而不为特别针对某些人'], ['那些我以为放弃的原来都在身边那些原以为抓住的其实都早已流走根本自己早已一无所有'], ['中篇分创办清华大学工程力学研究班继承遗愿创办钱学森力学班和钱学森培养英才的理论与实践等三部分内容'], ['猎奇漫画减肥最后她炸啦炸啦屎了屎了吗'], ['澳女子战胜婴儿出生恐惧症顺利诞下男婴原来还有这种病'], ['蒴果尖卵形连同短喙长毫米'], ['简直要被我家这只猫猫气死趁我不在家跑到我床上睡觉'], ['我麻麻为了养我这个傻儿子要去卖血求荣了我好伤心'], ['真心恼了理个发推销这个推销那个什么毛囊坏死将来会秃头啥的尼玛我要是真秃了我就学徐峥的找个真心剪发的真难下次不开车来剪我就说自己穷鬼一个没钱直接堵嘴算了'], ['可能学生想的简单些都说在北门加红绿灯也没有人听取也没有人问过学生的意见还有第二张图发生重大交通事故你没有孩子在上学'], ['尼玛一大早电脑就不停死机现在又得找资讯中心的人帮我重装系统'], ['有一定的幼儿卫生心理和教育的基本理论了解和掌握幼儿身心发展和教育的基本规律有正确的教育观念'], ['蜱螨亚纲叶螨科的植食螨类从卵到成体约需周'], ['我靠什么情况我从来没发东西阿这几天发的什么鬼'], ['虽然在亮度和投影效果上还不能达到最佳效果但尼康提出的这种崭新的交流形式可以随时随地和朋友家人一起分享激动瞬间'], ['即使是好朋友有时候也会有想砍死她的冲动哈哈哈哈哈我承认我有过这种冲动'], ['转个观点：早就说过欧洲根本没有所谓的叙利亚难民就是有组织有预谋的侵占欧洲运动当年的南联盟伊拉克现在的巴勒斯坦怎么没有这么多难民涌入欧洲基督教和穆斯林都撕逼两千年了欧盟这点事都看不透这个实在是太可怕了这是谁在全球下这么大一盘棋啊'], ['我们平时多么奉献多么付出都是应该的我们都不能生病生了病请她爸爸回来帮忙给自己亲生闺女洗个澡都一定会跟你发脾气这就是中国式土男人还以罹患直男癌为荣'], ['不专业不负责的媒体人是很可恶的怒四年前发的微博今天有必要再翻出来一下希望大家能够好好地看看我感觉齐鲁晚报和南方周末之见相差了个报利用媒体的影响力不经科学求证人为制造恐慌太可怕了怒'], ['撸剧吧真是纠结用会员看吧根本停不下来无缝衔接的每一集用非会员的看呢每集间隙的强制性插入广告又感觉自己的时间被非礼了该怎么办要不然去看书'], ['出院回家的溪哥每一天每一刻都让我过的提心吊胆不明原因的反复腹泻稍微咳嗽两声打两个喷嚏都会让我紧张兮兮真的是生病生怕了实在是不愿再经历儿科医院住院那样的日子了不愿再见到溪哥难受喘息的样子恐惧打针的眼神无法诉说只能哭泣的模样重庆·汉渝'], ['大学四年来最心烦的一段日子烦烦烦烦烦烦烦烦烦烦烦透了都怪我自己自作孽不可活'], ['下辖苏家团山安平三个街道办事处和安平乡汤河镇人口人系半山半平工农杂居交通便利物产丰富人杰地灵的新型城区'], ['如此金典哲理本宝宝彻底惊呆了'], ['寸紧人迎气口分当关心腹痛沉沉尺中有紧为阴冷定是奔豚与疝疼'], ['沙棘叶片含粗蛋白粗脂肪粗纤维无氮浸出物用沙棘叶可制作保健茶'], ['当再一次打开就像看到一个陌生人的时候就知道是时候往前走了'], ['冠山海·欢乐海岸隶属于广西嘉和集团旗下北海海门商务酒店有限公司是广西大型房地产旅游开发企业'], ['对光牙等人敢于对抗玛尔斯的做法感到钦佩；'], ['这是双十一有史以来最快的一次收货但是对于一个从来不看尺寸的我来说又是一惊（我还以为是小的便携式想不到那么大）'], ['原来我如此自私心肠没自己想得这么善良请叫我坏叔叔'], ['转发害羞是畏惧和害怕耻辱的情绪这种情绪围观可以阻止人不去犯某些卑鄙的行为'], ['植物名称猴头枣张品种全称猴头枣主题关键词干果果树枣品种简介猴头枣品种来源：由长红枣品种群的大马牙演变而来'], ['今天我觉得最大的幸福应该是一起学习（抄作业）到很晚哪怕再不舒服再困也都记得给我凉一杯水细节打败爱情在你手里变成了爱情成就细节辣火锅拉黑你就去吃药吧折腾死你算惹'], ['大学以后甚少再遇到聊天聊能聊的火花四溅的人好比心中小鹿不再乱跳'], ['第二十九条生产经营单位必须依法参加社会工伤保险为从业人员缴纳保险费'], ['全村共拥有农用运输车辆摩托车辆'], ['妈妈的随便评论了下竟然多个人赞我'], ['蓝牙是的注册商标'], ['这种人注定永远没有朋友让你好好作秀作死吧'], ['古人真会玩古人在文化和玩物方面真的比现在人要细致与极致的多君不见大到建筑物小到桌子上的一个摆件或者把玩之物都是精益求精各种讲究各种精现在的苹果手机人工手表在古人的玩物面前都弱爆了就从这方面来说古人比现代人会玩的多'], ['看个国足的比赛也真的是能不能来一场酣畅淋漓的比赛阿你以为你是巴萨阿控控控控泥煤阿都到了什么境地了放开怼打一个小香港慎什么'], ['依赖我爱的人这是我能想到的我想要的我现在拥有的最好的状态'], ['此后不久有新罗僧大通也至袁州仰山参学于释澄虚座下'], ['有没有治腰疼的好方法我也不知道为什么老是扭到腰好难过'], ['以后下夜班手机绝逼静音一时一个电话烦死了'], ['清晨醒的较早看着微博突然明白人的一生真的只有一生很短暂可以迷茫但不能迷失给自己一次珍惜自己的机会年轻真好'], ['尼玛老女人看了一眼我的简历居然哼冷笑'], ['如果当初坚定不去竞选就不会有今天的烦恼'], ['闹什么我觉得朴槿惠挺棒的一个女人经历了那么多的苦难毕生都奉献给了韩国你们韩国人还不买账'], ['苹果居然有这么逆天的统计'], ['攻击力恐怖惊恐惊恐惊恐'], ['看唱前他說他相信愛也相信有長久的愛忽然想到希望他們有一天也能這樣在衆多的歌迷面前大聲說愛'], ['你适合三国杀里哪个角色三国杀里的人物们归类起来有四种身份主公：反贼；忠臣内奸以你的性格来判断你适合里面的哪个角色呢'], ['居然百度可不可以不要婚礼婚礼重要吗想想也是醉了如果可以都不要多好'], ['日日都遇到低能同奇葩你地絕對係人才'], ['吉尼斯世界纪录的停车倒车漂移入库停车后车距仅有话说你这让停车困难户情以何堪（专业技能业余勿仿）'], ['我好像没有一件事能够做好就是这么失败的人生'], ['致力于通过积极投身于环境保护履行社会责任和促进经济发展来实现可持续发展'], ['朋友不是锦上添花而是雪中送炭心情'], ['十五期间学院教职工承担国家级省部级科研项目项市级项学院立项项目项'], ['一直忘了说奈良的鹿吓得我差不多要哭了太多了还围着人最可怕的是雄鹿太可怕了'], ['恨自己为什么重感情为什么会猜忌为什么会在意别人做个没心没肺的人多好'], ['东西大街全长米南北大街全长米'], ['绍丁指出该生物体（一种螺旋体）与其说是细菌倒不如说它更具有原生动物的特征'], ['每秒钟打一个电话一个小时打无数个电话都抢不进去我是有多么衰呀预约都这么牛逼'], ['终于知道为什么我过不好这一生'], ['读个大学还因为抢食堂从楼梯上摔下来想想也是醉鼻子嘴巴下巴膝盖全部都痛'], ['新中国成立后一律改称水上居民'], ['了发张的自拍纪念一下好好干活'], ['如果命运决定我每一件事的成功或失败那我也要去做我想要做值得做的'], ['见过最漂亮最有韵味儿的架子鼓女乐手'], ['更新了一下前两排多出来的是什么鬼正打算都删了看到了这个：兽性总裁的小猎物好吧我先看两眼再删'], ['噩梦吓醒手脚发麻很害怕一个人静静地躺着总是浮现噩梦中的情景无法入睡算了还是起床吧'], ['怎么办有种人只能偶尔愉快的玩耍可是一惹到我的时候我分分钟就想冲到他面前打屎他'], ['贴吧里遇见个疯狗一场骂战～真他妈的是日了狗了'], ['我能说我此刻的心情很糟糕么为什么我们要走到这一步'], ['可怕更吓人了怕过哈也一直档案所以这么说也不无道理⋯⋯希望有人问哆啦梦吃惊'], ['一边吃着三两的阿牛哥一边暴饮暴食一边喊着我要减肥伤心再也瘦不下来了'], ['女友愤怒四部曲最后让我惊呆了'], ['小绵羊遇到老虎注定要被吃掉怪小绵羊太胖不减肥跑不动'], ['摊上一个喜欢讲话讲一半问个问题半天不回一件事情全部讲完得花一天的导师心好累'], ['这几天下雨下得烦烦的关键伞还丢了这是今年丢的第五把伞'], ['双十一快递爆仓的情况下只有顺丰坚持每件都送上楼核对姓名并签收其他快递放快递柜或要求下楼拿也就罢了死申通把我娃的衣服扔哪儿去了还给我写个已签收'], ['像我对你也不敢讲永久连天都知这琐碎悲哀背后一切都不算得罕有'], ['一直在努力学习拒绝和挽留这两件事都让我感觉真的很无力晚安'], ['日中午在顺峰山上的水泥阶梯上看到一只小松鼠从旁边的竹林中窜出来的隔着上十级台阶抬头望着我赶紧掏出手机拍照还没拍就跑了就是下图松鼠的样子图片来自百度图片'], ['上高中以来的第一次下雪玩的挺嗨的可惜鞋子不防滑感谢第一场雪你们的陪伴晚安'], ['每次看到很多评论掏粪男孩的热评最后都消失了跟几个博主接触过他们都说不堪骚扰就删了卧槽既然真的很烦了那大家就都提出来啊怎么能被掏粪脑残们制造出一片和谐的假象呢既然脑残粉喜欢明目张胆的爱那我们就明目张胆的骂啊让脑残们不敢爱的那么明目张胆'], ['一头栽进被窝里却发现怎么也睡不着了突然有点感性只想轻轻的叹一口气然后继续生活'], ['有毛病啊通知以后增加周二晚上开会什么情况'], ['临床影像学临床诊断表现病理变化体积通常不大与临床诊断症状不相符'], ['我觉得我的身体严重的被毁了人心都是肉长的我付出的足够多了而你给予我的呢时间久了谁都不是傻'], ['真的受不了有些人那么浅显易懂的道理硬是要强词夺理有意思么'], ['种了一地的大蒜给物业铲了尼玛起码跟我们讲一声让我们自己来吧搞成这个鬼样子'], ['這是甚麼爛天氣和破暖氣簡直要讓人空虛寂寞冷啊'], ['今儿收学习笔记我特意看了看大家的笔记嗯写的很认真啊都写到了十二课了好吧我才写到第三课'], ['那些纯粹因为喜欢而去做的事情让人好开心'], ['卧槽这神马情况中午午休起来后就全身么劲了'], ['啊啊啊啊啊啊啊公司有个傻逼女的实在爱装逼老子最烦就这人平时讨厌虚伪讨好上司就算反正也招惹不到我妈的大中午大家午休那嘴巴是停不下来的一个劲的叽叽歪歪傻逼傻逼傻逼你这牛逼你还来上什么班啊傻逼真的是气死我了每天中午都要把我给的气的不要不要的'], ['天哪苏培盛原来是追妻三人行里的牛家威'], ['到了想吃火锅无论什么时候都想吃火锅的季节我饿'], ['每次经过这旧小区都让我忍不住停下脚步欣赏这沿途风景就因为这小区的老旧所以一层的都被业主自行搭建起来成为自己的私家花园真心觉得很舒服自在虽然业主们都堆满各种杂物但那也是生活的积累种种菜养养花多谐意'], ['今年我才刚刚得知竟然有的商场小时不打烊'], ['盼着收快递盼到没心情实在是久早都到了为何卡在分拨中心几天都不派发到目的地呢'], ['之前看的时候就在想老师会觉得太压倒性的力量无趣英雄协会的英雄不是他想要的英雄对于他来说英雄是真的是兴趣使然而不是为了别的什么吧虽然会希望有名气有粉丝可是现在看到的全部是负面名声的老师真正在意的只有当英雄的心情吧享受战斗的乐趣感受热血沸腾而不是为了别的'], ['速食中国什么时候才能变成让感受变成生活的主流'], ['额我只是个自卑又自负的死胖子而已额好像是这样的'], ['可我却每每能从矛盾的各处细节中看到过去畏缩惊慌的自己我又恼怒又羞愧唯有逃亡'], ['真是又想爆粗口了习大大你能别到处访来访去了吗回来管管民生问题可否老百姓生活在没有法律保障的水深火热的社会中你知道吗'], ['为了减少气味刺激拜托工人上周五下午粉刷房间然后开窗排风今天过来上班果然房间味道很淡但是刚粉刷好的墙壁居然又开裂墙皮脱落了'], ['唉睡前看到了虐也不能说虐生离死别的生离唉唉唉'], ['个老子蚌埠不南不北所以就没有暖气么'], ['生老病死总是不经意就靠近我们身边'], ['公司的人自己在拍拍拍毛啊站的都累死了还要走来走去躲镜头'], ['吃土少女的悲惨一天充错话费水卡忘拔回寝室忘连用流量看微博视频'], ['日了狗买了包就破产真的要开始吃土了'], ['最近负能量太多太多这样真的不好不好'], ['叶具羽状脉或出基脉有时在叶柄先端或叶基部具腺体；'], ['全社会形成了重视文化建设热情参与文化建设的良好氛围城市文化品位得到显著提升文化建设与经济建设互相促进共同发展'], ['我的手机高速运转着从高空落下居然屁事儿没有'], ['这个是什么东东像鼎像貔貅什么情况只进不出有去无回'], ['自出现以后即成为的专用飞机驾驶员从此不再开飞机'], ['最近给自己心理压力太大了吧所以刚刚拿洗发露当沐浴露用了洗完澡才惊觉的'], ['遇到这样一个渣老板真是气得胃都疼了'], ['妈蛋我觉得最近自己脑袋上顶着一块巨大的黑云凑'], ['宝贝今天你休息的第一天不能在你身边陪伴你照顾你心里好无奈现在你好些了没有'], ['桥面系用等边方石成对角菱形铺砌桥长米宽米'], ['聚少离多牵挂却从未减少爱有时候是一种习惯久违的感觉今夜又傲娇了一次晚安做一个坚强的女子'], ['但有报道以何首乌喂饲实验性动脉粥样硬化家兔虽能使胆甾醇上升较迟缓病变稍轻但不显著其疗效未能肯定'], ['我一直以为没有人能在短时间内飙涨那么多肉直到他发生在了我身上'], ['讨厌什么来什么如果说这是对我的磨炼的话我想说可以不要嘛每一天每一天都让我烦躁→→'], ['我今年也不知道还能不能等到这一天'], ['一客户来换韩元告知他只能去总行办理他问总行远吗我说远你打的去吧他走到门口看到一辆三轮车喊：黄包车过来'], ['由于得天独厚的地理位置和气候条件素有大兴安林小江南之称'], ['合租的几个人都他妈奇葩草泥马的老子受不了能注意点个人卫生不天天不上班就知道吵吵不睡觉的'], ['阿啊又是下雨原来又到了大家跑的日子女神看到下雨好像很开心'], ['还珠格格居然也已经年了好恐怖'], ['我日我老公身边没有人那么多人围着他'], ['我诅咒我诅咒偷衣服死全家死全家别说我恶毒悲傷氣憤氣憤'], ['影院看完回家看饥饿游戏爽爽的'], ['当你很想早点睡结果失眠很清醒时'], ['把贩卖人口的罪犯就应该直接枪毙现在的法律量刑还是太低'], ['駿河屋居然還不給我發貨明天是要把我餓死屋裡了麼我要吃肉'], ['专项二三四综合分析题文艺事业发展主题提出对策题官赖现象文章论述题安全生产主题刚打了电话说今天不值班干啥呢他在写恐怖害怕小说害怕短篇的那种还赚了点钱这个警察不简单啊'], ['看着别人有的都下班了我还在看大门我内心是崩溃的'], ['疼痛无助担惊受怕的绝望感只有自己真切的体验着～'], ['你别觉得你什么样我就得和你一样那能一样吗气愤'], ['如果佩兰都能称其为国家足球队教练的话那么把谢亚龙放出来让谢亚龙做教练都比他强佩兰的水平真的还不如一个中学体育老师'], ['太恐怖了太吓人了孩子一定得自己抱'], ['分享一个事：之前听人推荐说去韩国拍证件照会拍得很好看因为他们除了用专业打光还包图原想它只是把黑眼圈啊痘痘这些掉没想到今天照完相去取照片的时候奶奶个熊脸的吓尿了差点没认出自己来'], ['四研究规划制订全区群众性精神文明建设工作并组织实施和监督检查'], ['头疼欲裂连个安静趴一下的地方都没有'], ['则有尊锈蚀的巨人石像（）个头大小不等'], ['而在他小时候在降织千紫郎和他的爷爷的关心下终於重新接受他人的关心'], ['宝宝在考验我的耐性忍忍忍'], ['此次出演欧阳冬一角是欧阳震华继洗冤录后第二次与当红花旦佘诗曼演对手戏'], ['不要太幸福肉肉居然赞我微博了么么哒今天真是幸福的一天'], ['我居然不知道宋松在七夕节走了'], ['宝贝啊我到底是不是你亲娘啊你居然把我胳膊搞成这个样子要不是洗澡的时候看见了我还不知道呢可吓死我了想了好久才想起来是你睡前闹得时候连踢带踹的还带掐的好委屈咱家也只有你敢这样任性'], ['有没有考虑过别人啊难道别人的事就不是事你自己的事就是比天还大帮了一次就已经够了还要厚着脸皮过来别丢一堆烂摊子给我'], ['不知道麻麻你是怎么想的把我弄的狼外婆是的麻麻难道你想做小红帽不可吗'], ['麻麻不看大书居然也能讲故事'], ['终于有这个决定了我以为南方人都不冷呢北方的孩子在南方冻成狗'], ['在研究这一系列问题时民族语言学与人类语言学以及人类文化语言学有特别密切的联系'], ['我虚度我的时光我乐意你们虚度我的时光那就是谋杀'], ['昨天没有记录就关机了赶紧记录不然老婆大人又会生气的昨天老婆闷闷不乐就去睡觉了我不应该写作业的时候睡觉的我错了老婆原谅我'], ['你这一离开可是没了心事我可是等电梯的时候能看到你的东西坐电梯的时候偶尔听到你的名字工作的时候会经常听别人谈起你路过的走廊上还有你的照片心里五味陈杂表面还不能有多余的表情'], ['人的一生应该为自己而活应该喜欢自己也不要太在意别人怎么看我或者别人怎么想我其实别人如何衡量你也全在于你自己如何衡量自己'], ['客机降落遇横风布拉格机场上演惊险一幕机长当即拉起复飞降落时突然那下风切变机身整体忽然一沉右起落架这么看应该是接地过载了落下来后又弹起得做后起落架结构探伤了真吓人估计我坐里面得吓死了本来就恐飞秒拍视频'], ['为什么屏蔽要收钱就不能让隔壁首页清净一下真是烦死了'], ['竟然又开始感冒了气死老娘了'], ['二巡菲律賓馬尼拉場這髮型怎麼會這麼可愛'], ['以后我尽量不坐摩托车了走路分钟也比在摩的上担惊受怕好这人闯红灯开的飞快竟然单手骑摩托接电话吓我了'], ['心情不好也是一下子的事到底什么时候放老娘走啦'], ['哪个杀千刀的拿了我书包的糖果我恨你'], ['从小时候到现在看着一届又一届高考总觉得离自己很远甚至是去年我还觉得嗯还早着呢～现在想起来明天他们考完我就算是准高三了明年就该我了突然觉得时间好快'], ['由于钢琴使用过度音色疲塌像敲击洋铁盘子似的于是有人戏称这个地方为叮砰巷（或译为廷潘胡同）'], ['这是何老师写的第一封情书哦不愧是语文老师好文采虽然没把我帅气的脸庞写上去但是感受到了浓浓的爱意我一定不会辜负这份爱的'], ['钱没挣到几块需要男人的时候还摸不着所以要老公到底有何卵用'], ['说了再也不来可熬到现在还是放下倔犟登了微博只是有些东西突然还想回来看看'], ['这是狗带了吗号就到苏州了今天已经了'], ['这种人简直就不配叫做人直接拉出去枪毙好了'], ['谢谢你一直一来的陪伴虽然口上不常常把爱挂嘴边但你一直都用行动证明'], ['如果将某人的心视作太阳就注定要承受刺眼的疼也一定会经历泪流但有太阳终究是件好事吧就像夸父一样因为追逐而毁灭听起来已够壮美'], ['要不要这么强人所难真特么的伐开心'], ['一个小小的马尾居然有四五个跟我同名同姓'], ['在水中剥开的生鸡蛋原来是这个样子的好像是在变一场魔术（转）'], ['一朵栀子花在阳台开着使家里香着四天'], ['由此可见小人是生活中常见的是对我们不利的因此一定要预防这类事件的发生小人确实有时候另我们防不胜防但我们一定要防千万不能让小人得逞小人得逞确实能给我们带来非常不利的影响严重的会影响人的一生的'], ['为何大脸胖猫就被各种宠溺大脸胖人就被各种唉算了不说了不过我还是禁不住要问：大脸有何错我要掀桌纸'], ['只想狠狠的哭一场难过的时候有个人可以抱抱'], ['寝室的人一点都不团结一点都不知道为别人着想卧槽卧槽卧槽'], ['现在的你可以自己坐好一会只要手里有东西例如卫生纸不过没人看着你就会边撕边以迅雷不及掩耳的速度往嘴里塞唉什么都往嘴里塞能吃的不能吃而此时的正在喝奶的你似乎知道我在说你用你那长满八颗牙的嘴一次次的咬我疼死了就这样我先去撬开你的嘴'], ['冬天到了阴雨连绵给人一种沉闷的感觉感觉脸色都没黯淡无光了'], ['本人虽然长的不俊但走到那都招人喜欢燕过留声人过留名从哪里离开别人都没有说我不好的不知为毛偏偏不得现在主管待见一天不找个事不得劲还天天下班拖我到现在'], ['你朋友给介绍个同单位工作结果他犯了错老板叫他辞职他找到你要你和他一同辞职你同意了張嘴笑朋友你应该怎么办'], ['一日云雾四塞乡人遥看一龙旋绕山顶'], ['又一天过去了今天任务没完成困死宝宝了晚安'], ['下班了下雨了没有伞的孩子必须努力奔跑'], ['每天都能相见是一件多么幸福的事儿'], ['胃不疼了好开心今天家里要来客人加油啦早安'], ['最不幸福的事是晚上在公司饿得睡不着明天却有航班'], ['茅盾锻炼二三：前面跑的一位长身细腰瓜子脸雪白挺刮的护士衣露出枣红丝绒旗袍的下摆'], ['回复寂落乌托邦交友也是校园文化之一但谈恋爱影响学业的话就值得担心了寂落乌托邦这个真可以'], ['谢谢你们啦有好多好多的祝福就先发这一页'], ['好像如果一条微博都没有的话容易掉粉'], ['因为他们怀疑女孩并非他所亲生而是他的妻子和弟弟私通的结果并断定他知道隐情后报复杀人'], ['这噩梦做的我魂飞魄散真是惊醒那个惊'], ['到清光绪二十九年（年）墓前原碑坊已失石人石马华表均在'], ['十三做好办公室行政事务安全保卫工作为县政府领导服务'], ['靠刚刚一查连着还被扣了好多的流量'], ['我最爱的是我们争吵之后很快就又能互相说么么哒'], ['我喜欢属于自己的时光看看喜欢的人知道他们的事心中有净土就能会有阳光'], ['奏乐章以歌懋业择数码而现精工'], ['曾经以为永远不会的事情却在这种不合时宜的年纪经历；曾经以为已经忘记的事情却仍然心有余悸；曾经的曾经我以为的以为都已不复存在；明知无疾而终却依旧在这路上渐行渐远可是我却什么也不能说过去和将来'], ['这时包大人看过了药方就说这确实是宫中之物还说不妨一试'], ['跟哥哥和平相处的日子两年后再次走到了尽头好闹心都不知道该怎么跟他沟通解释'], ['就你那样给你妈妈留点面子吧太阳你先祖'], ['海淀外国语面试小游勾起了很多年暑假的回忆依然辣么美可惜不是你'], ['下班回家她跳水般扑向沙发顿感浑身酸痛只好静等老公归来他虽未能在工作中出人头地但按摩功夫堪比专业身为妻子这是她独享的骄傲他总是帮她捶背捏肩但这一次她只要他轻轻地揉'], ['境内山多田少俗称三分水田七分山'], ['自从上班以后我好像更热爱生活了并不是直男癌每天都在和自己谈恋爱一个人的时间多了就觉得身边的人都离自己远了大概是因为自己的世界扩大了吧晚安'], ['老豆换了两颗门牙用户体验：他说他再也不装假牙了吃起饭来牙齿跟假的一样🙄'], ['自从跟人合租后仿佛在意的东西越来越多了心情总是转换得莫名其妙情绪波动大不知道是好事还是坏事有时想想还是一个人住自由点至少没有期待就没有失望'], ['百色月日周二空气质量指数：空气质量：良'], ['文件浏览器由提供'], ['有心在一起的人再大的吵闹也会各自找台阶速度重归于好离心的人再小的一次变扭也会趁机找借口溜掉'], ['好像有点意思哦李沁和吴卓羲首次合作幸福归来太让人眼红了'], ['岁孩子就这么大了岁就生了'], ['苏联解体后俄罗斯政府不再为护理列宁遗体拨款列宁墓实验室也改名为全俄药用植物科学生产联合体生物结构医学研究中心'], ['今年的冬天来的好早还冷了许多可笑了都会过去的'], ['第天了真好昨天是天我居然想到了却没发今天必须补上愿现世的你们喜乐无忧安稳地过完你们应该享有的一生不论时间长短都默默地陪伴珍惜眼前放下那追逐了大半生的执念与真相只剩彼此再一次小哥欢迎回来想你想你们'], ['生活慢慢开始步步为营的都说爹妈以前穷但是以前大家都穷所以虽然穷却不像现在这么贫富差距巨大而产生恐惧一心想迈入中产阶级想去大城市为孩子买个学区房一想到均价那么贵税费那么高以后教育要用那么多钱又感到害怕算了算把吃穿用度都提升一个层次看看还剩几个钱吧'], ['人之患在好为人师——孟子·离娄上用野火实时精选随时野火必火精准客源就用野火野火实时精选随时上近朱者赤近墨者黑——傅玄太子少傅箴'], ['若能在无电流流过时进行测量型电子电位差计就可直接测量电动势了'], ['（十八）承办市政府交办的其他事项'], ['无论你做什么说什么做的好或坏说的对或错总有人会在背后说一些好的或坏的话每个人都一样我该懂的'], ['今天和一群傻逼来了一场说走就走的烧烤'], ['为什么屏幕上老有李易峰还消不掉'], ['其实今天回公司只是想填个报销单的结果陷入了一坨坑里'], ['现在死皮赖脸的要赖在我哥后面去南京工作刚刚我爸给我打电话说我哥好像签了上海的哪个公司哎呀我现在又整个人都不好了重度依赖症晚期'], ['三年级二班估计班主任会气死过去'], ['正有事电话你转个角你就在我身后出现了'], ['孩子的成绩一塌糊涂我是管呢管呢还是管呢'], ['今晚过后少说话多做事多换位思考玩笑不能随便开尽我所能改掉嘴贱的坏习惯心理素质差很容易郁闷的我不想得罪人不開心'], ['第一次给小伙伴过生日夜不归宿有点兴奋'], ['早起福利～～从早上开始能量满满～：又有一张可以冒充男友的照片了'], ['一天只吃了一顿饭也可以是活蹦乱跳的'], ['人有一种可怕的欲望想窥探别人的内心传递自己的恐慌为别人同自己一样悲伤恐惧而感到安慰想要操纵别人在得知别人受到自己影响时的自鸣得意这些都是难以启齿的我们心中的恶魔'], ['不喜欢杭州每天都是雾霾天又湿冷又阴冷基本看不到蓝天好像回家'], ['雨下的都要停不下来了太讨厌了能不能让我晒个衣服'], ['好久没清理黑头了又有好多害怕害怕化妆的宝宝一定要定期清理黑头哦因为化妆品残留会堵塞毛孔不清理的话毛孔会越撑越大的很恐怖惊恐'], ['什么时候才不用去学校啊又失眠了'], ['一来南桥我就火超大點燃點燃點燃點燃點燃點燃點燃點燃點燃點燃點燃點燃點燃點燃點燃點燃點燃'], ['严培明的脚步正踩在西方后现代的频率上'], ['今天早上做了噩梦梦到一个教授通过高科技跟别人换牙齿眼泪我真是被智齿弄的梦里都不放过而且是一个牙齿连着一个管子然后一瞬间牙齿就换了眼泪梦里那个教授真的超恐怖泪流满面自己之前真的太担心牙科了其实韩国没有想象那么贵眼泪而且药要拿着处方去药店买说实话服务好好做得也超详细'], ['这呼噜打的连闺女都很无奈的叹了口气叫我们怎么睡觉吖婆婆求放过啊'], ['请安静的路过我的世界不要进来见过的让人深思的微博简介嘴角上揚'], ['最后看到票今晚嗓子废了从点半喊道现在不过成果好棒不知道零点的时候有没有破万待会就出数据了好兴奋迷妹们今晚好棒'], ['无语天天删我粉儿我再也不在这里面花一毛钱了窝火'], ['完全错过睡觉的时间了失眠还有没睡饿了的吗'], ['庆幸一直有你从你奶奶你爷爷变成奶奶爷爷从你娘娘说出在自己家吃饭不用等从你妈愿意带我去认识每位家人从阿姨变成妈从你家变成我们家感恩'], ['成为对内镇压异已对外扩张的一支核心力量'], ['这个月真是破财月花了好多冤枉錢然后最近又是莫名其妙一堆事莫名其妙的人真是无语了'], ['我长了人生中第一根白头发教师真的好辛苦'], ['很喜欢的一句话：为什么有些人明明看起来友善却总是独来独往待人友善是修养独来独往是性格'], ['晚上睡不着白天睡不醒難過天好不宜上班天不好也不宜上班想睡觉'], ['于事件后离开美国入学日本东京大学致力于光学电学通信技术的研究'], ['我也是贱啊真是服了自己了'], ['十一点半到十二点是每天最痛苦的时候'], ['周一早上的号线上地站再也不坐地铁了进个站就分钟过去了臭外地都尼玛回家吧'], ['看的出来是一个人嘛简直是逆袭啊向下手势'], ['最近几天一直嗜睡经常觉得困但是睡多少都不觉得解乏反而更觉得累浑身没劲'], ['为什么要手欠去同步照片结果把照片全都同步消失了我从大学到现在所有所有的美好回忆啊'], ['年应用到东风日产天籁的发动机又使发动机继续蝉联世界十佳发动机奖项并成就了系列发动机连续次蝉联此奖项的业界神话'], ['怎么总在上班没有伞等公交的时候下大雨做大人好累'], ['一回来看到新箱子到挺开心的结果早上打了两个小时车都没打到立马崩溃'], ['万二分后悔剪短了头发阿悲傷倩影给我买了这个短头发也有春天啦哈哈哈好感动'], ['正当他呕心沥血竭尽全力为建设边防保境安民挥汗奋战时不知怎么得罪了阉党崔呈秀'], ['总是能遇到奇葩的人真的很不耐烦爆脾气直接出来'], ['年为纪念周恩来诞辰周年又增建了仿北京中南海的西花厅和周恩来铜像广场'], ['醉酒的女朋友完全不住行动无能碎碎念真是欠了你了孽缘啊'], ['爸爸晚上突然说想吃雪糕亲闺女立马响应说我出去给你买吧爸爸说好她居然站起来开门就走了'], ['他的诗歌直面现实出语新奇是当之无愧的桐城派始祖'], ['一早就做好了国企领导难打交道的心理准备没想到能恶心到这种程度'], ['做全职妈妈几年重新回到职场真心有点不适应是我自己怕原因吗为什么融入不进去'], ['卧槽秒后开始高能'], ['百度知道了一百遍方法太多还是不知道正解'], ['呵呵三年顶不过一个月换来一句你是谁我现在想吃人'], ['睡觉了一声不吭给我断电手机怎么充'], ['突然忘了这不正是我要的那感觉么曾经拥有过你就在现在的这个地方而现在已属于她人'], ['不知不觉这货陪伴我四年了早就变成生活的一部分希望你永远健康永远陪我永远快乐'], ['改变永远都来得及没有人可以回到过去重新来过但每一个人都可以从今天开始去创造一个新的未来美好一天从尝试改变开始早安'], ['健身过后来一顿清淡火锅也是不错的小伙伴们都蛮给力的'], ['已经很久没有一个那么令人厌恶的这么个人就凭你年纪大刚怀孕所以可以那么肆无忌惮发脾气就因为我好脾气第一眼看到你就觉得你长得很八月果然一讲话更八月还想让我叫你姐姐要不是同单位我想我该叫你阿姨装嫩行下次你见到我对你有所好脾气那也是我装的真太反胃了今年第一位'], ['我要像偶像剧中傻白甜的女主一样搂着自己喜欢的娃娃睡觉啦晚安我的小狗狗'], ['外面雨好大怎么都睡不着远方的你还好吗我要回家了以后再也不想出来游荡了我们真的成为彼此的过去了'], ['第一场雪把自己搞的哭笑不得朦胧的早晨格外美好上班路上把自己逗笑了两轮车变成四轮车分钟的路程走了一个小时对于今年的雪我只能呵呵哒欢乐多'], ['十幅风帆半城月最难图画是归舟'], ['随时都可能崩裂开的嘴千万别逗我笑别给我好吃的'], ['突然就跳身上来求按摩我肚子快被你压爆啦'], ['梦见在睡觉什么的最恐怖了环境都是生活中的实景然后在梦中醒来有次我住一个小旅馆梦见在睡觉醒来看见床脚坐着个老太然后吓得真的醒来'], ['今日放学接小淋同学在门口遇到同班小男生俩人手牵手进电梯当电梯快到的时候突然小男生亲了小淋子一下不但小淋子蒙了我们家长也蒙了这是什么情况两小无猜爱慕'], ['岛上有国家曲棍球训练基地重庆体训基地广阳坝农场（园艺场）以前刘湘在岛上建有西南第一个飞机场'], ['自己蒸的鸡蛋羹很好吃忘记放油了'], ['女孩子相处时如果她总是心不在焉敷衍了事或是以漠漠无聊的神情同你谈论碰到与爱情有关的话题她总是迅速的转开那表明她对你的情感很冷淡这时你就应该知难而退相反如果她经常以依恋激动的神色与你谈话表明她对你印象不坏她同你相处是愉快的高兴的希望与你发展进一步的关系'], ['在南京的这几年每年冬天都会经常出现一种错觉空调居然能制热'], ['是挫败感吗是就好了是真的放不下吧你大爷的放不下又怎么了忍着嗯忍着'], ['学习兴趣不高头晕脑胀🤒️前兆阿弥陀佛阿弥陀佛阿弥陀佛不要发烧不要感冒不要不要不要不要最近突然想研究课题关于下意识的碎碎念是否可以提高生理应激水平或者说一无是处'], ['实际钻探工作中如何掌握确定最优规程参数值是金刚石钻进的重要课题'], ['初雪最近好忙最怕忙而无所获吧'], ['他们路过上官仪的属地在驿馆中下榻休息上官仪奉命接待公主一行'], ['今天先黑色以后再茶色✌️'], ['爱一个人为什么要放手爱了就要在一起人生已经如此短暂不要浪费生命去争吵和冷战'], ['我勒个去如此讴歌伟大的祖国讴歌英勇的人民警察根正苗红的文章您也删'], ['所带的班级多次被评为盟级区级优秀班集体她本人被评为相应级别优秀班主任'], ['请允许我晒一下～写真会～我来啦～～～（但是要到明年月）等着吧'], ['火车上有卖雪糕的我的天竟然还有很多人买'], ['年月日马边张坝中学会进行一年一度的学校体育远动会'], ['隔壁桌那大叔扒拉扒拉吃着香喷喷的纳豆饭还舔干净了'], ['每次面试都能见到原来你们离得很近的校友这趟回来清远不像是面试更像是一场朋友见面会哈哈呵呵见到两个华工校友两个死党（每次回来去她家都准备一大桌子好吃的太懂我了'], ['又加了一个大连场是什么鬼挣钱挣没完了能不能让哥哥们好好休息能不能让我少吃吐'], ['来个剪刀手睡觉大家晚安～么么哒笑不可抑'], ['还是小学生的时候无忧无虑而当进入大学之后我不再是以前的自己不管发生什么我总是会告诉自己乐观一点在坚强一点有一颗勇敢的心困难总会过去的没有过不去的坎有时候都差那么邻门一脚你就做到做好的自己了所以无论发生什么都要坚持坚强的去面对'], ['道光晋江县志·张阐：赠端明殿学士谥忠简'], ['世界已经疯了吧刚回来明天又开会到底要干啥'], ['每天在寝室听到叽叽歪歪的声音麻痹真烦'], ['你的心愿也太酷了我也喜欢那我就翘首以盼然後就在小時內說走就走'], ['到了现在我才知道智商上的差距是不可逾越的'], ['已经打好前期工作何必要再去烦恼后期我也要考研我也想跑步谁不想放松谁不想呢'], ['每天都可以吃到带有温度的早饭然后度过充实的一天现在的生活很安心人生总有小惊喜这就是我的小确幸'], ['晚上去吃黄焖鸡对面过来一个穿高跟浓妆艳抹的姑娘因为对这种打扮的根本不感兴趣但是总感觉她老看我仔细一看是我妹'], ['我是不是疯求了这不是我不是不是不是'], ['气死我了臭猪烂猪大烂猪'], ['贱人算了不能因为你贱影响了我的心情你不配'], ['麻麻大半夜给我打电话就为了问一句姐姐把她的衣服退没退哥哥怎么样然后我又华丽丽睡不着了'], ['红塔山味道不错这个橙子想必也是极好的'], ['英雄联盟现在越改越恶心老子以后再也不玩了'], ['下大雪啦❄️为了宝贝看雪特意骑电动车来接她让她笑笑我拍张照片她还装开深沉了'], ['最好听的情话就是从爱人口中说出的我爱你'], ['这么多年了痘痘对我可真好一直不离不弃'], ['头大头大数字不敏感的对着这些简直要疯掉'], ['感觉没干啥事啊就流量了莫非要升级到想爆粗'], ['我的少女时代是我亲妈天猫是我亲爸仅限十一月'], ['不就是个小银鱼吗你一定要这样没有尊严的抢吗'], ['不会说话是要闹哪样～哪那么多实话真事啊～娘～～越来越发现您字字珠玑～教导的都是～为什么总明白领悟的那么晚～可是即使明白了领悟了还是要不撞南墙不回头～为什么这要叫这骨子里流淌着拗劲～我们家的字哪里去了～难得糊涂～还是我来补齐吧'], ['我先把他倒你们两个再上我疯起来连自己都打连垃圾桶都可以拿起来砸死他奥丽花'], ['双十一最受折磨的就是物流烦死了就怕耽误减肥'], ['对疾病以及心理方面的记载不仅对疾病治疗心理的调适有帮助且为下一代避免父辈的疾病提供相应的参考依据'], ['好烦呀这该死的才艺队吸取了我所有的精气还让我那么尴尬'], ['鼓起勇气看了恐怖游轮结果果然是浪费了个小时感觉是我看过的最差的悬疑片了'], ['好好看凯凯画的好漂亮细节都画的好好'], ['如果能重来高中一定要更帅一点再帅一点志愿者的小手袋'], ['修水县位于江西省西北部修水上游邻接湖北湖南两省'], ['下雪了可惜我不能出去给你们照照片'], ['明儿延签发现保险证明因为之前太早就弄好了所以在某一天自己打扫房间手贱专门从抽屉里拿出来然后撕了扔掉然后德意志银行莫名其妙又寄了一张给我也是醉了后天就录像一份谱子又不知死哪去了明晚还演出这都什么和什么啊'], ['震惊鲜豆浆放置小时细菌暴增倍'], ['是什么时候在公交车吃东西是那个什么还是那个什么呢'], ['韵达快递赶紧狗带昨天早上说派送尼玛老子等到现在都没狗带狗带狗带'], ['睡不着好饿拼尽全力克制住想爬起来煮碗面的欲望'], ['估计医生是安慰我明明听到在嘀嘀咕咕的居然说我没事'], ['其他费用需要实物交割的客户还需缴纳提货费或交货费'], ['小时候那么可爱结果越长越歪了现在只能用蠢萌来形容可爱已经离他远去'], ['这段时间很多人说我瘦很多我真的瘦吗我都不觉得'], ['文中说明了岑公祠历史和地位记载颂扬了棘阳城居民修葺棘阳关复建岑公祠的义举'], ['世纪星文学社成员的习作有篇在市级以上报刊发表'], ['人生第一个草莓夹心蛋糕閉眼今天人品好戚风没有收腰没有凹陷但素电动打蛋器坏了所以大家看到的奶油裱花是如此不堪我淘宝去了'], ['原来是这么玩的我是不是了'], ['我去搜了一下幽灵党的演员表那个被我吐槽一把年纪还激情乱射的寡妇居然是大名鼎鼎的莫妮卡·贝鲁奇'], ['肆意的情绪只能化为文字撑伞约上一个好友行在雨中的田间小道雨滴击打着伞布拎着鞋赤脚而走亦或冬日骑着车沿着河边小道追逐将要隐没在枝杈的落日麦田铺满了雪身影被落日拉长那样的日子我再也没有有过'], ['睡个午觉起来头昏脑胀的还要起来体测和引体向上真是哔了狗'], ['转眼间父母多岁了都过了大半辈子自己还是一无是处不怕自己累就怕父母不能享福吧'], ['为什么就不能让他好好学习呢他才高一正是打基础的关键诶爱舞台上的他就好了啊干嘛老是去打扰他的生活湖南如此现在北京依然现在对于他来说除了工作学习真的非常重要好吗北京已经很受宠了好吗干嘛啊这是妈的'], ['疱疹都长到了鼻子里外表上看不见美观了可是这个疼啊看还看不清碰还碰不得'], ['今年太霉了五月考试没过害我要苦逼两年过两年的穷日子六月才买的衣服提在手里都掉了九月机票输错字母打了一晚上的香港航空第二天肾六又被摸用了一年都没到还有什么事情要让我承受的悲傷悲傷悲傷悲傷'], ['汉水东西走向的多公里是当时两郡的分界线'], ['这条路一个人默默地走了好久'], ['好不容易睡着被蚊子咬醒于是就再也睡不着了本来睡眠就不好'], ['明中叶历史上最为强大的妓女群形成加之政府罚良为娼大批犯官眷属沦落青楼其中不乏才华横溢者'], ['每次都把自己气的要死也许少在意点会更自由吧深深的挫败感'], ['为什么是明年月不是月'], ['这种礼物的价值对于不同的人来说具有不同的意义'], ['生日快乐希望你天天开心好好学习天天向上小黑鬼'], ['我说我没事的时候那感觉背负着太多辛酸和委屈'], ['嘤嘤嘤嘤我双十一买的寄丢了等着吃的猴头菇饼干还没有出仓真是抓狂啊'], ['突然好想吃麻辣烫我的历史和军事网课终于挂完了下礼拜要考钢琴了我的内心是崩溃的其实考钢琴我是拒绝的'], ['某人昨晚刚刚从法国飞回来早上就看见这新闻吓人喇'], ['性是肉体生活遵循快乐原则爱情是精神生活遵循理想原则婚姻是社会生活遵循现实原则这是三个完全不同的东西婚姻的困难在于如何在同一个异性身上把三者统一起来'], ['届けなくても届きたい一番大好きな真琴この年間には本当にありがとうございますもう一度お誕生日おめでとう君のカンより'], ['肇嘉浜路地铁号线门一开一位年长的老头就立马吐了一口痰吐在地上让后面行走的人情何以堪啊素质啊'], ['看了昨晚的云中歌我整个人都不好了宣帝太帅'], ['看完升旗主动捡垃圾害羞是畏惧或害怕羞辱的情绪这种情绪可以阻止人不去犯某些卑鄙的行为（斯宾诺莎）'], ['我靠拆空调的人居然可以直接进宿舍营业厅的人接网线还得等我们进宿舍丢东西了谁负责哦'], ['很多话随着阅历年龄的增长话到嘴边又不想说了'], ['我今晚起码说了四句晚安然而愣是没有睡着要怎么样才能早睡浓密如我不要秃头不要长痘痘'], ['谢谢这些辛苦的工作人员第一届王老吉青春活力跑的成功举办离不开你们的辛勤汗水'], ['如果你再继续这样低迷堕落下去你的科勒很快就会一脚把你踹开是不是那时候你才知道自己有多愚蠢为了这样的女人荒废自己的天赋值得吗'], ['大家念的都是研究生差距怎么这么大宝宝不开心了放图'], ['早安～世界～我爱这段时间所有陪伴我的人'], ['而月份通过香港进行的跨境人民币贸易结算金额达亿元'], ['月初发行的周年纪念版不多说紫瓶名气响当当'], ['不管雪天雨天阴天还是晴天见到你就是晴朗的一天格格小王几晚安'], ['妈的老娘可以骂你草定会用吃奶的力气大声说出来'], ['随便看了一下结果好像发现外国网友对也不欢迎我记得奥巴马好像挺受欢迎的吧怎么这评论都'], ['世贸天阶看千玺长路粑粑真的费尽心思吧'], ['都等了年了吧我不管罗必须得是第十人如果尾田哪天漫画定下来第十人不是罗我就弃番弃番我要是尾田为了留住卡米亚也得让罗进主线我他妈看的这几个漫画吧银魂也不知道走什么神剧情都不够我遭心的'], ['夜深翻起相册看看到这还是记得当时的感动当不熟的客户知道你的状态不好也会及时主动去关心问候自己这举动感觉还是相当意外这种人性的温暖'], ['好久没有看着时间守下班了好饿'], ['睁开眼睛看这世界银装素裹无上美妙心也跟着清凉起来早安地球'], ['太饿了最近胃口出奇地好每晚都会饿'], ['◎落叶小乔木树干平滑叶对生掌状分裂秋季变为红色或黄色'], ['半夜睡不着因为想起保险没续已经过期总是我不提醒他就自己想不起睡得那么香对得起我这失眠的人吗'], ['刚吃完好吃的我女神就通知我婚期定下来了让我有空去试礼服感觉今天晚上吃的每一样都是罪恶的又要踏上我减肉肉的道路求不卡'], ['我居然接受了这个发型天啊我的底线在哪里'], ['竟然没脱衣服睡了一宿服了自己了太困了'], ['中国人民革命军事委员会铁道部决定设天津北京铁路管理局年两局合并为天津铁路局年局机关移至北京'], ['大晚上的被剧透甜炸了山下智久老夫记住你了'], ['妈的这些分析的微博真的让我生气总出来乱说话'], ['这个工作实在没法做了问部门人员说话都含含糊糊问领导也是含含糊糊从来都是话说一半留一半让你自个猜永远都这样'], ['生個閨女然後和她醬紫打扮一生都美美噠太有愛了'], ['难过为什么不哄我开心晚安橥头'], ['这么大瓶的爆米花两天个人干掉了两桶真够可以的'], ['这颜色只适合啊大老爷们很少穿这个色的'], ['由于要入侵苏联德国很需要芬兰这个有用的伙伴'], ['屋漏偏逢连阴雨到底怎么了我还能再囧点儿不'], ['为了打雪仗这是够拼的把这两辆扒拉成这个熊样了'], ['把那些没有素质的香港人拉去打靶'], ['因为我已经放弃了我知道放弃之后的不舍与难过所以我不会劝诫任何一个人轻易放弃我知道这是会后悔的事情哪怕是我也希望他们能够坚持咬一咬牙就过去了我不想让他们变成我一样连咬牙的机会都不会再拥有你们是我的朋友我做了坏的例子请不要学我我不允许'], ['这几天多军和空军打的都是刺拳所以今天我扇你一耳光明天你抽我一嘴巴别看热热闹闹没什么实际意义我能给的方案就是等你如果觉得无聊就安心工作别一天小时都盯着线看容易把自己看成神经病哪怕去看晓峰大战股侠也更有劲啊'], ['哈哈哈哈哈哈哈买来吓我妈大福'], ['连续三天加班到深夜的代价是嘴唇干裂脸上四处起痘浑身无力还头疼'], ['同样的网速看乐视卡的要死看腾讯十分顺畅'], ['心疼的感觉总是那么亲切可是自己还没有能去保护你在乎的人这样的男人是不是很烂像个孬种一样在一旁心疼呵呵'], ['十一月份的腿被咬成这样我也就只能默默地涂药膏默默地点蚊香默默地抓啊抓了'], ['带着耳机写作业西子湖畔安宁的声响偶尔抬头看看屏幕上清冷的女儿想着身常伴终年雪落的又何止一个纯阳宫啊然后你来了'], ['本年出生人出生率‰其中政策内生育人计生政策符合率人口自然增长率‰落实节育措施例'], ['才发现其实在这个偌大的城市里一个认识的人也找不到就像生病了没人慰问吃多了没人会送消食片想哭了没一个肩膀可以依靠一样我说过我怕冷怕黑怕看恐怖片但是你永远也不知道我最害怕一个人其实我很孤独从你的全世界路过'], ['釜山行～折射出人性丑恶的一面～自私很恐怖的一面有害怕有愤慨有感动泪好片子'], ['他说：只要你想要的我心甘情愿瞬间秒哭'], ['今天我的脾气再爆点估计就能挨揍了～'], ['有个语文不好还喜欢刷存在感的领导真是个闹心的事儿通篇被他标注的要改麻蛋批注没全改的情况已经被加到页都特么废标了跟我来一句你自己在改到页以内'], ['关于尊严的讨论得出来的结论还是死脑筋谁劝都没用但是她劝我有用吗我反而不一样她一味地支持我只希望她能告诉我怎么做是正确的我会听'], ['前几天所有照片被误删昨天便签又莫名其妙全部不见我要炸了炸了'], ['好多人都不报班我真是吓傻了是我看的太重了吗'], ['最怕的是关系突然变淡却连原因都不知道'], ['爱情是许多人人生的最缩影答案有浪漫有疯狂；有刻骨铭心有轻轻触动；有死生相许有背叛反复；有成熟有期许成熟每个人想寻找的答案都不一样因为每个灵魂都无比独特每个人最後寻到的答案不一样因为恋爱需要运气——九把刀'], ['特别不能理解一个没见过几次面的同性每天缠着某种原因不想理都不回每天还要发问题是不熟什么心态好害怕吓死宝宝了'], ['想要看一场偶像的演唱会来弥补遗憾可是要'], ['年总收入万元比年的总收入万元增加了倍'], ['很不開心飲了酒更清醒仲喊好多事想發洩但做不到好多事煩還在努力中我可以羅碟未我想拆碟呀我要安慰'], ['做了一上午的没有保存然后软件崩盘重启一切消失不见哭死'], ['大家晚上好今天的动物世界栏目为大家带来一只新西兰刷尾负鼠的迷之技能：树杈钢管舞；拉窗帘；发呆卖萌～希望大家迷上这个集才华于一身的毛球～耶～哈哈哈～晚安（留言都起床回哈现在好困）'], ['每个月都有那么几天真的比死还痛苦'], ['经常玩手机刷微博不正确姿势看书看剧的眼睛视力居然不增反降了真的好奇怪啊'], ['真是没有比出门前十分钟换飞机更惊悚的事了你他妈就不能早点通知'], ['农民人均纯收入元农民收入以种植等为主'], ['如果每被人伤一次都要心痛一分我的心一定早就支离破碎了'], ['外来生物入侵过程中的时间延滞或有或无或短或长从短短的几年到几十年或上百年更有甚者可以持续几个世纪'], ['又把微博安手机上了哈哈哈应该发个照骗'], ['因为有你每天都很开心愿我们白首不相离'], ['出屏效果是技术最重要的表现方式之一与效果中的景深效果相对应'], ['生产的封箱机轻巧耐用操作简单；'], ['环太平洋军事演习张严防中俄美军太平洋演习绝大多数不对中俄等国开放观摩的大门是有多方面因素的'], ['地震了整个屋子都在摇坐在椅子上有较明显震感第一次经历真可怕我在这里日本东京市新宿区２丁目５我在'], ['没什么特别就是想买几袋高级点的卫生纸擦屁股没那么痛而已'], ['沈阳圆通转运公司硬伤啊目的地明明是沈阳咋就发吉林去呢不是一次这样了沈阳圆通转运站沈阳圆通转站沈阳圆通转运站氣憤氣憤氣憤'], ['残余的进一步经碱液吸收可几乎全部去除'], ['坐公司的宝马溜了一圈没出息的晕车了'], ['基本天天下雨下了都快两个月了下的人都要发霉了撒'], ['連續兩天中午都吃乾炒牛河怎麼飲食遺傳這麼可怕的這是我的最愛卻也成了閨女的最愛這麼一大盤一個小孩幾乎吃光了'], ['一般通过在空中盘旋来观察和觅找食物'], ['兰州月日周二空气质量指数：空气质量：优'], ['内容简介一个时代的重要性完全取决于它留给后人的东西——无论那是学术艺术还是关于一个辉煌年代的记忆抑或一位伟人的人格'], ['在人家准备论文的时候各种事情都来搞突然袭击这是要熬夜的节奏···'], ['借钱滚傻逼跟你很熟平时没联系一联系就是借钱脑膜'], ['供吧还是起码西南这边得供啊坐在宿舍里和坐在山顶操场上感觉没什么区别甚至有时候屋里比外边儿还冷一件衣服都要好几天才能晾干北方狗表示很忧桑'], ['想骂人凶不能解决问题老的脾气改不了就算心有多坏的人是都在底层徘徊的上不了高层次的台面我愤我去'], ['我们俩在一起就是吃什么玩什么都不重要各自聊聊生活和工作在懈怠的时侯给对方打一针鸡血相聚时间虽然短暂但情谊不会改变看到老谭越来越成熟不禁觉得自己在村里是在虚度光阴了嗯我是要抓紧了要让每天都过得有意义咱一起努力最后逛的迪士尼专卖店童心都被激发了出来'], ['本来就心情很不好想对他发脾气来着竟然还惹我但是我现在用沉默代替争吵了怕他女朋友吃醋但是重点是因为只要我不说话他都受不了了'], ['字文举东汉末鲁国（今山东曲阜）人孔子二十代孙'], ['今天发现公交车上有可以刷微博啦'], ['这不是耍我吗没有下次姐姐我生气了'], ['想买个睡袋吃不起饭的时候起码还能有个温暖的狗窝睡觉'], ['到底谁能告诉我为什么我这么辛苦地上班居然还胖了好几斤'], ['李蔚勋我有时候感觉自己充满了勇气有时候又感觉自己弱到爆掉'], ['即使失败了还是得继续前进我做不到永远积极向上但至少继续前进我不会捷径至少智商的资本已经再也无法显现现在的我除了天生的伪装乐观就只有一颗被迫冰冻的心只等梦想的暖阳照进我的复旦梦'], ['看了一个开头要给吓死了恐怖吗'], ['为什么我解决不了复杂的问题实在感觉不爽'], ['早年凤凰城有个说法：邢家不摆案西关会不起'], ['可能是太久没动笔了字的毛概报告两个小时才憋出来而且写出来的东西我自己都看不下去惊恐晚饭偶遇学婊一起吃饭说到把一门课退了因为太难他竟然说你不是会因为难而退课的人眼泪其实我是的我因为害怕困难放弃了好多东西但是对错又有谁说得清楚呢'], ['不同的智力测定方法有不同的值；'], ['千万不要因为你自卑的嫉妒毁了你原本谦卑的风度'], ['世界那么大总是要学会暂时放一放的什么都要太贪心了谚语是怎么说来着总不能一口吃成个胖子嘛最幸运是有你'], ['希望新买的狗粮能消泪痕看着难受'], ['什么情况我要把腹肌撕扯成孙悟空愉快的腰疼'], ['本来这张脸就已经够丑了现在又满脸痘痘让不让我活了'], ['宝宝今天你已经个月零天了现在你时越来越知道事了能盯准我们看一会了有时逗你你会笑了唯一不变的依然是黑白颠倒'], ['压力加不开心控制控制不然明天要倒'], ['还有两个小时只能开始看釜山行了～据说没有这么吓人～⊙⊙保佑我不被丧尸吓死'], ['哎小伙伴的金丝熊说是冻死了天冷真的要注意保暖小东西本来就生命脆弱家里暖气又不是一直供应何况还养在厕所哎真是心疼想到了小呆子走的时候一点都不舒服'], ['心情很平静下雪了没有去打雪仗没有玩游戏只是发呆睡觉欣赏这一切的一切没有喜怒哀乐来张第二喜欢的跑车的照片法拉利就像一件艺术品晚安了这世界'], ['一早叫到顺风车顺便达成了冬季早班拼车意向今后每天早晨可以块钱晚半个小时出门上班起床困难症可以解救咧而且司机的车况不错还知道走不堵的道儿来公司的时间可以早餐运动都没问题妥妥的开森地嘚瑟一下'], ['为什么心情不好的时候总会想吃东西因为伤心欲嚼为毛我是开心的时候变为胃'], ['爱情对于狮子来说可以是全部：也可以全部的不是不是狮子的自私决绝；而是真心付出的狮子是经不起背叛更不会纠缠不爱自己的人；如果你爱狮子请百分之百的真诚因为狮子会付出百分之两百的真心如果没有爱了；看似没事儿的狮子内心早已千疮百孔了因为他她真的付出全部'], ['我就是我不一样的水果哈哈哈生日快乐⃣️⃣️'], ['等下次辞职不干的时候一定要先去旅游一次回来再找工作不然现在天天上班的完全没时间总觉得活得好亏'], ['死到臨頭了不知道的一群傻逼夠真以為你們多屌嗎還不是被我們耍的團團轉真是太天真了情商是負數真想像不到你們在屏幕那罵人的猥瑣表情噁心'], ['这是一道来自中国民航大学食堂的菜该学校食堂曾经出过西红柿炒月饼圣女果烩鹌鹑蛋等著名黑暗料理这次的新菜品是大葱炒整黄瓜它还有一个霸气的名字：青龙过江（中青网）'], ['姐姐给我买了新衣服明天给我寄过来虽然白色也很好看但是不耐脏嘿嘿有姐姐真是太幸福啦后天就买家秀啦'], ['年调查方向主要集中在信息标准应用电子病历临床信息系统以及区域医疗信息化建设状况等方面'], ['从单位出来的那一刻就应该自动屏蔽掉今天的工作和经历的所有不然情绪定会毁了生活'], ['我想要的爱情很简单：我说话时你会听；我任性时你会爱；我需要时你会在；我转身时你没离开'], ['随后金河仁每一部新作推出均持续位居全国文学类畅销书排行榜前列'], ['有时有些人喝醉了才是真清醒有时有些人不醉的情况下反而特迷糊'], ['五十个仰卧起坐竟然把我累成这样长期不锻炼的恶果'], ['谁再盗我号发广告家人就死一户口本盗号的出门被车撞死一天天给脸不要脸'], ['我真的好喜欢第二张仔细想想怎么觉得有点像爸爸去哪儿的嗯因为都是小天使嘛'], ['六点上车现在还在珠海兜以后都不敢去澳门的节奏'], ['妈个鸡你是不是脑子有点问题的小朋友在睡觉你在那高谈阔论笑起来的声音还很鬼一样听着就让人恶心真想用一句古诗来形容你两耳不闻窗外事一心只玩爱疯'], ['树洞烦啊烦说着不要不要的做的事情哪样是不要的口是心非的每天在那边叫忙都不知道在忙什么'], ['果然还是自拍充比较实际斜眼虽然穿着通勤服但是亚瑟号到了还是试一下悲伤感觉这种偏粉的红色对我这种皮肤黄唇色深的人一点都不友好拜拜拜拜拜拜但是买都买了说起来不知道是刘海长了还是怎么滴拍完照片看脸真他妈瘦长到可怕拜拜吓得我赶紧去液圆了'], ['大清早的技院就开始放歌真是日了他'], ['朴实中式早餐也是最快速的选择加入鸡蛋的煎馒头片更奶香脆黄也添加了蛋白质的营养'], ['天天都有人给吹头发的感觉还不错'], ['不要强迫别人来爱自己只能努力变得更优秀让自己成为值得爱的人其余的事顺其自然'], ['小孽小囍能告诉我为什么你看起来比我瘦那么多么高重三围'], ['有些为自己现在的心思惶恐有时候会觉得自己已经自以为地站在了比普通民众高一级的地方而不由自主地蔑视民众的思想这种想法真可怕'], ['对此招标投标法第三十一条第四款也有相应的规定'], ['哈怂真多动不动就给人轮胎扎个粗钉子怎么想的'], ['位置——但巴德区位于贾坎德邦在北纬°与°之间东经°与°'], ['每当深夜我总幻想自己是一个美男子'], ['我一直觉得女孩子傻一点才可爱吖'], ['這頭髮讓我鬱悶極了不會整理火大'], ['就不能有个好天嘛天天不是阴天就是雨天好想要有阳光的日子'], ['哈哈哈不吃不喝的做了一天的会计信息作业终于做完啦现在可以好好休息休息睡一觉了心情小兔子的第十七天'], ['每次院校抽检别的宿舍是抽检我们宿舍就变成每月例行检查即使我们门口装饰太美宿舍再整齐我的贴纸你们再喜欢能不能别每次都来每次都要在我那里拍照'], ['有多个品种出口到古巴伊拉克泰国越南俄罗斯等多个国家'], ['惟延展期限累积不得超过二十四个月'], ['潘玮柏什么时候有的儿子不对潘玮柏什么时候结的婚我怎么不知道'], ['没有水没有水没有水重要的事情说三遍停水三天了松原发布松原水务集团'], ['翻以前的朋友圈才发现我以前还有一个好听而温暖的名字――小流流可是叫我小流流的那个人却永远都不会再出现了'], ['我已经丑的我自己都看不下去了东北大妈啊'], ['为啥感觉歌词最近和踏踏农关系好好推上一直互动'], ['自己都佩服自己啊二十多公里是有多远'], ['今天被人这么夸了该喜还是该忧'], ['三周年啦四周年的时候我们就是异国恋了虽然未来会有很多不确定的因素和艰难险阻等待着我们但我相信我们一定可以一直走下去永远在一起我们都不完美但我相信我们都会是彼此生命中最不可或缺的那一部分亲爱的永远快乐我爱你'], ['做噩梦做的都不敢上厕所我也是醉了'], ['洛克对这个问题的回答对哲学界有着长久的影响'], ['打过点滴这么久了手上的淤青一直没有消略疼啊'], ['这比赛看的太憋气了干脆输了拉倒吧'], ['半夜睡不着今天在茶餐厅吃的菠萝油超大只不贵味道也很好还有辰辰抓心挠肝的想吃的猪脚饭'], ['一边吃面一边想事情一不小心咬到舌头流血了人生第一次麻足一天痛死宝宝了超过点半不睡觉今晚注定又是一个无眠夜'], ['厕所从五楼堵到二楼几天过去还是没有人来修学校这效率真是服了'], ['我妈说终于把我家爹送走了我告诉自己不哭不哭不哭'], ['读专业书读到已疯然而明天要做了求下次分到一本小说好吗哪怕是英文的'], ['偶然发现林家成的凤月无边一百万字我看到直接看了结局无奈其实我很想坚持看完的林大的小说女主都是我喜欢的强大型但可恶的是男主又都是我讨厌的霸道型无论他多么深情我都喜欢不上来于是我每次都因女主而看文又因男主而弃文没一本看完过'], ['我想吃饺子韭菜鸡蛋的想吃仨月了这会都要想哭了（实在不行肉的也行）'], ['热电偶多采用″或×螺纹固定也有采用″螺纹的个别情况也用″螺纹固定'], ['第一次梦到被爸爸抛弃梦里哭的不行了都然而老石头是本该是梦中情人一般的存在啊'], ['最近宝力雄工贸公司科研小组又承担了华侨大学石材研究室两项省级研究项目的实验试产任务'], ['不要以為妳道歉就已經解決問題了永遠不可能的想太多了除非消失在我眼前不然是不跟我裝的一副很熟的樣子我最討厭這種人了'], ['啊终于看到了真是演喜剧也超合适啊演什么是什么好卖力'], ['早安消失了一个月的太阳公公终于回来了不在阴沉的天让人感觉真舒服'], ['北京北京无数个傻瓜忘了流泪也忘了回家'], ['早上好亲爱的好友们：把早晨的第一缕阳光送给你祝新天快乐'], ['邓先生把这辈子的肉麻话在刚才的电话里都说了这老东西居然示弱了他居然示弱了还和我道歉还说满满地愧疚'], ['自从上班后感冒嗓子哑就从来没停过'], ['你不肯信教又不肯去死让我很尴尬诶'], ['遂宁月日周二空气质量指数：空气质量：优'], ['不要忘了当初是如何带着你走过来的只管闭着眼睛别忘了我是移动导航'], ['呜呜呜终于可以睡觉了明天我要早起'], ['麻烦死了下班了你瞎啊你知道你一天没吃饭老娘吃了么你知道饿我不知道么老娘要吃饭老娘要回家加班不给工资你他妈把劳资留这里胡逼逼屁的家常啊快滚'], ['在这桂花飘香的季节为什么有这么多臭屁虫它粘在我阳台的衣服上它趴在晒的被子上它偷溜进了我的房间打死了还一股浓烈的臭味'], ['\\ufeff听说现在结婚都不抛花球改抛猫了'], ['早上起来竟然发现尿床了昨晚是干嘛了'], ['突然发现我的号今天莫名其妙发了两条玛丽苏微博大概是被渣浪盗号了渣浪你怎么不去死'], ['点儿背的时候交燃气都能交你麻痹一上午各种交易错误最终还要上柜台排尼玛二十人长队'], ['听歌太无聊看弹幕里面咋都是表白的'], ['妈妈呀一个人坐电梯本来就是一件很恐怖的事情惊恐结果门刚打开一个女的披着头发面无表情的站在面前宝宝吓瘫痪了脸红脸红'], ['阜阳月日周二空气质量指数：空气质量：优'], ['我又不是会计干嘛老是要我算钱烦不过早点离开这不想弄这破事我根本就对钱转不过来'], ['数一数周围都是感冒的挡不住啊悲催的'], ['这货币我也是醉了真的舍得花吗纽埃币那个只有八百个居民的国家'], ['♀你们怎么就能喜欢一只乐队到那种程度呢♂那是救我于水火深渊的存在早成了信仰无关本质'], ['做事儿无标准无原则法克什么鬼'], ['妈呀几年前拍的电视剧居然播了'], ['最近真是喜事连连啊然并卵没有一件是我的喜事'], ['打电话都不接那特么要电话干啥的'], ['我的心真的没那么坚强为什么每次都要这样伤我我从来没有想过触犯到你的底线我从来不会想去说你会是怎样的你不相信我你总能轻而易举的伤透了我的心你说不喜欢我说脏话我一直都记得我那么害怕失去你我真的都被自己蠢哭了心真的痛了'], ['是的现在孩子真的不知道怎么教'], ['以后坚决不来我哥家睡了对是坚决根本睡不着不同的生活习惯'], ['亚得里亚海女王事件后同丽多薇雅·罗伦婕蒂一起被被英国清教秘密监禁在伦敦的处刑塔中面对史提尔关于神之右席的问询持不合作态度'], ['静夜梦；汝皆爱皆恨皆回忆残念断；吾不喜不悲不逝去'], ['这是什么螃蟹这么大大长腿浑身带刺'], ['对于普通大众冥王星早已被视作行星从小学课本到纪念邮票甚至到占星术冥王星已经被公众理所当然地接受'], ['早上起来突然变了一个人吓我一跳这是谁呀'], ['为什么女主一定要活泼外向大大咧咧的为什么不智慧内敛高傲的现在烦透叽叽喳喳的女主对外向型角色不会怎么爱这次选角也真的没比演小龙女好多少为什么吸引不了适合的人呢'], ['大晚上的不好好复习不好好睡觉在这看过去的照片我一定是疯了但是我是真的有点舍不得我即将结束的大学时光'], ['感觉我以后的人生都要在如何不拉稀以及如何拉出狗屎这两个难题中来回挣扎啊好难过'], ['简简单单最好要求太多反而会迷失最初的自己'], ['十月有毒进了十月身体没一天正常过'], ['次奥次奥次奥次奥次奥次奥次奥次奥次奥次奥次奥次奥次奥次奥次奥次奥次奥次奥次奥次奥真特么是醉了'], ['哪里有最堵九月这明明是更堵周一平时就算堵车分钟的路程开了近个半小时已经啥心情都木有了'], ['治疗原则：益气活血化痰祛瘀消肿散结'], ['同时最近结束了进军日本的日常操作通过评价和合并之后的持股法等半年的纯收益达亿韩元'], ['謝謝自己夠勇敢聚時一團火散時滿天星是最舒服的方式'], ['现以电子为例说明电子云几率分布的几种表示法：①用ψ和ψ随的变化表示图形表明它们随增大（离核远）而减小'], ['每次出差都有种想把领导掐死的感觉'], ['听说明天要降温把床单拿出来准备起了害臊'], ['让一个讲规章制度的老师来指导我们制动检修方向的论文鄙视鄙视鄙视张亮你特么不是在逗我你还我光头强'], ['名牌战略：积极培育和发展名牌商品依靠强大的品牌提升核心竞争力'], ['大爷的什么事都能扯上我们古月丫的工资不发关胡歌毛线关系谁能说的工资不发是给胡歌买水军的丫的又什么证据这么说什么事情都能扯上胡歌几个意思啊不发工资是唐人处事不行的问题扯上胡歌干嘛有的人就是没事找事'], ['南宋乾道七年（年）正式将澎湖画入版图并在岛上屯戍军队'], ['成年礼云南西双版纳布朗族行报告礼'], ['实习真的快结束了我好难过我还想多和我的学生们在一起久点'], ['气炸了一天到晚就知道玩游戏'], ['有没有人知道客运危险品资格证以前是一次性审现在为什么要分开审'], ['也就每月疼这么一下子提醒我还是个母的了'], ['啊啊啊啊啊啊啊啊啊世界上为什么还有这种东西根本不知道要说些什么'], ['一是在老中青三代俱全的同时中青年学者成为主体力量'], ['妈呀收拾卧室的时候发现床上掉下这个'], ['学校供应的开水从来就不热就不能让我洗一次那种特别特别烫的热水澡嘛'], ['物质决定能不能稳定的在一起而信任决定能不能长久的在一起'], ['邪教带我在在的名字却取了个恶心的名字在我在在个人内容和四字没有任何关系的微博下还要给插刀货找存在感不懂得圈地自萌也不看看对在在的影响这样的邪教你怎么样和她们求同存义你和她们讲道理她们当你放'], ['大半夜想吃巧克力熔岩草莓蛋糕～啊赶紧睡觉'], ['比起见不到面的乱想这种天天见面却不能说话的状态更让人抓狂潜移默化下被影响了那么多'], ['肉排太可爱了喂喂喂提着两把吉他出来一直在道歉说我没撞到你吧我肯定撞到你了对不起啊'], ['又跌錢今個月要忍沖動是魔鬼無知最痛苦節省點吧'], ['薛村耕地面积亩农业人口人'], ['给过你票我就开始想念你了看到你去二楼坐车我才离开看到你在一楼徘徊了一下早冯先生的动人时刻'], ['早饭前先吃一顿今天真的开运动会么下雨也开'], ['庆幸的是我们都找到了彼此的幸福'], ['今晚挤进城不是要开家长会的么这么这个会跑进我肚子里'], ['为何草稿箱里未发的辣么多想说的话都不见了'], ['锦州李阿姨打来电话焦急的问了我一些情况其实我和他们一样焦躁不安或许我在北京比他们办事有时候更方便那又怎么样呢只能这样了'], ['没有想到最多人选的竟然是第一个看来大家的三观都好正赞一个'], ['从前你很喜欢一个东西直到有一天别人有了跟你一样的东西从此就变成不再那么喜欢这是什么心理'], ['的模块更能兼容其它配置集成保障了对网络管理的投资改善系统的管理能力和降低管理成本'], ['能源建设在康河洛峪古塘唐尧新民村确定户沼气池建设项目已全面动工选料运料之中'], ['趁着送的一个月会员给自己设置一个背景哈哈哈哈哈哈哈'], ['我的今天就是一个字：衰两个字：悲催'], ['在你公司附近也不打算见了按自己饭量叫了吃的一天不吵架都难'], ['我还是回寝室了实在想看完一部电视剧因为昨天晚上犯贱看了开头就想都看完唯一庆幸的是昨天晚上没有熬夜看不搞学习内疚就是这个状态了可是不看完又看不进去学习这件事真的要人督促督促啊我真的管不住自己啊总是关键时刻掉链子'], ['冷一点冷一点冷一点热死宝宝了'], ['人总是在接近幸福时倍感幸福在幸福进行时却患得患失'], ['最近莫名其妙的人一堆莫名其妙的事一堆在这莫名其妙的情况下我还能正常吗敢不敢忽略我都忽略我好不好'], ['家庭版宫保鸡丁有这么详细的教程大家一定可以学会的喜欢吃的赶快√一起学美食'], ['发现好多人的狗狗名字好多都相同'], ['那个计算机辅助翻译课简直能上吐出血什么破玩意儿'], ['最近点这么背么肿么办有办法让我运气好点'], ['听说越长大上帝就会给你做减法拿掉你的一些朋友拿掉你的一些梦想有些人匆匆一瞥有些人分道扬镳生活其实归根结底就是几个字珍惜眼前感谢所有的陪伴与温暖祝自己生日快乐氣球'], ['唉最近花了好多钱欠钱的也都不还好无奈'], ['今天又办了一件蠢事发个微博纪念一下让你嘴欠下次还敢不敢随便揽事儿'], ['好忧伤长得好看的穿个破布都好看不好看的再漂亮的衣服都不好看'], ['这个时候饿醒有人下面给我吃真幸福'], ['爸妈不在我吃到了世界上最难吃得饭炒焦面'], ['再也不追港剧了剧情好可怕躺下都睡不着'], ['刚刚是被什么蒙蔽了双眼大脑短路了瞎指挥'], ['见过走人夫送酒送烟的没见过送鞋的'], ['唉一遇到事情钱都不算钱了昨天还满满地今天就剩这几张了'], ['晨星怀着同样惶恐不安的缄默晨曦被垂挂在你的窗前的树枝缠住就像在过去的日子一样我暂且忘记了时过境迁所以我来了；我不记得我向你袒露心迹时你是否转过头去使我羞愧难当我只记得你哆嗦的嘴唇上欲言又止的话语展开全文'], ['今天看到两个女生的字真的好漂亮很规整赶紧把自己写的合起来'], ['午餐吃什么呢饭堂的定食太难下咽了'], ['赤道仪的台架分为附有赤经赤纬微动杆的以及附装极轴马达追踪式两种'], ['现年岁的蒙特拉可谓高产射手在参加的场意甲联赛比赛中共攻入个球'], ['啤酒是我自己喝的白酒有大哥陪我喝这个夜晚就是这么美好虽然一样睡不着'], ['东北这多变的季节是跟俩呢'], ['下午说好地点等二美一起回家看绿化带右边停了俩车车外面还有很多人我就把车停人后边了刚停好那些人我擦死盯着我和大美给我看的发毛吓得我抓紧倒车倒车到了一个安全距离果然他们两车人有点小摩擦要打架那意思差点卷入这场意外吓死了'], ['人生第一个同性恋朋友以及他一个很浪漫的小物件怎么做到的'], ['很小的时候我认为这个世界上最浪漫的事情就是一个人跑很远的路去看另一个人现在也是'], ['美好的一天开始了每天给自己一个希望试着不为明天而烦恼不为昨天而叹息只为今天更美好早安'], ['几年前的杂志现在还有人拿得出来我这真是越长越丑'], ['的逼我骂人两个纯傻逼贱人'], ['本宝宝不开心本宝宝有家不能回站冷风中饥寒交迫'], ['我不是温柔的人却为你做尽温柔事'], ['佩兰我大爷的以前弃用张稀哲黄博文这场好容易转性了却又把前面磨合得已经不错的边路进攻放弃掉这货就是一大屁眼子'], ['长沙这种雨下个不停的时候又来了又得一个星期出门真的特别烦躁'], ['天呐忙了一上午看微博的时间一丢丢都没有'], ['這世界怎麼這樣了內地有死刑應該判他死刑'], ['小时候看小人书印象最深的是芳汀为了女儿卖衣服卖头发后来全买了而她的女儿却在寄养的地方当奴隶后来看原著注意力却放在冉阿让身上歌剧质量不错那什么今天放这个电影也太巧合了吧'], ['真为你高兴亲爱的这次真是太不容易了我都觉得你该放弃了呢以后会更好'], ['肠道健康发酵后的天贝有更强的抗菌活性'], ['老板一边耐心地听着他的抱怨一边在心里盘算着怎样向他解释清楚他和阿诺德之间的差别'], ['草你吗你妈没教你做人东西对着那么可爱的动物你下得了手你它吗是不是心里变态啊阴沟里的生物贱东西等着被人肉吧'], ['拜托帅帅的领导们快点点吃饭好嘛我要上厕所了就别聊天啦（房间没有厕所真的很不方便）'], ['达赖的故居坐落在山村中部当彩藏语意为虎啸'], ['大概算了下我五年吸了根烟一根烟连起来已经了'], ['看了好久好久的一个包'], ['再年轻也抵不过每一分每一秒'], ['真的很讨厌睡眠被打乱目测还能睡个小时要疯'], ['我一聊到美食就絮絮叨叨没完没了吗为什么都没有人告诉过我'], ['我真是无法掩饰对一个人的讨厌之情'], ['内疚的感觉真的不是一般的糟特别是别人用心的事情而我竟后知后觉'], ['当立法者面对这些问题不愿也不能立法的时候美国人民将他们的目光投向了司法系统'], ['她妈的一共三个人不想说了我草'], ['占有欲太强这该怎么治烦的想吃冰棍儿'], ['决定了自己要走的路就要义无反顾的走下去从现在开始努力倒数着年半后离开这片土地去追寻自己的真正想要的梦想与生活心情心情心情'], ['各种成绩倒数感觉很糟糕我需要心灵鸡汤安慰我'], ['拜师于长谷川良夫北村昭镝木创贵岛清彦柳沢刚等人学习作曲'], ['原来杨健比杨毅高这么多一直坐着还真看不出来身高居然有差'], ['下次你的个人演唱会也想跟你一起海星快点来个个人演唱会吧我们都好期待'], ['来自对的回收利用通过将它改造为一个漂亮的挂钟与之前不同的是挂钟的钟摆是一个漂亮的苹果'], ['涨姿势乳牙萌出顺序图好可爱'], ['可能这一辈子都成为不了高冷的女神因为我就是一个乐观开朗活泼的小逗比'], ['以为来得不算晚简直可怕惊恐惊恐惊恐北京·天安门广场'], ['也是对美国的无语了世界上发生这么大的事他们还在纠结全面娱乐化的媒体驯化出短视的人民贵美国要完'], ['翻了一下我的微博全是科学育儿啊'], ['对于一个白天疯一天半夜各种醒早上四点起的熊孩子耐心真的磨得尽了尽了'], ['核酸可分为核糖核酸和脱氧核糖核酸两大类'], ['由下向上突破线为由弱转强由上向下突破线为由强转弱'], ['早生华发呵呵呵呵呵呵这几年遭的是什么罪呀'], ['老婆不管你怎么作儿不管你怎么闹老公都会对你不离不弃老婆从昨天晚饭过后我们已经算是公开了就让我们轰轰烈烈的爱一场好嘛我准备好了老婆你准备好了么'], ['我很感谢你给我带来的欢乐谢谢你亲爱的我会好好的藏在心里的'], ['不知道什么时候自己的泪点变得这么低了看到朋友的父亲把手交到新郎手上的一刹那眼泪止不住地流出来自己希望这一天能来的晚一些'], ['我没看完就迫不及待的想先问问：无期徒刑不是关到死那是什么'], ['一直以为蜡笔小新是没有鼻子的结果啊哈哈哈哈哈哈哈哈'], ['历经千辛万苦好容易从山里爬出来一出来就很命正的碰见交警然后没有然后了我现在在山脚下被扣着寒风凛冽谁能救救我'], ['人的一生总有那么一个人之于我们很特别从未谋面却念念不忘如阳光般温暖白天时默默的把他的脸看了好几遍以便能在夜里复习做梦时不止一次去拍他肩膀回过头来却是空一场的自己然后被吓醒心有余悸的去回想当有人问我他长得怎么样我深情的对他说就那样吧太原·迎泽区'], ['我从来都没有想过有一天早上起来的时候发现世界其实真的很美好早安'], ['熬夜重温北京遇上西雅图已不想多评只能说真暖心'], ['想要一个更好的生活常态需要时间沉淀下来'], ['健身回来又饿了就自己卷寿司今天的寿司特别乖切的时候居然没有散架'], ['成天跟我斗智斗勇的等着屁股开花吧'], ['被盗号了昨晚明明改了密码把乱七八糟的人都取关了今早又冒出来这么多谁能告诉我这是为什么'], ['一想到见你我就乐呵呵这么多天以来最高兴的一件事'], ['这期跑男是怀旧的吗一想你的微笑这歌都出了十一年了'], ['每天早上的惯例就是打开最爱的这首歌明明可以那么霸气的唱摇滚却也可以这么温柔'], ['只有我每天晚上睡不着吗然后午觉醒来天都黑了滚来滚去翻来覆去这是我第几次拿起手机了脸色惨不忍睹'], ['有时候理智叫我们做一些清醒正确的事可感情偏偏逆道而行随手拍低头族'], ['妈蛋凭啥要老子统计全面场所和数据啊重点是凭啥下午才通知明天就要啊凭啥啊'], ['没想到才十天疲劳度精神食欲已经快折磨史我了今晚更是食欲爆棚都想把健身器啃了'], ['冬闽盗沈师进入梅州他率兵平定被孝宗称为仁者之勇赐直秘阁'], ['公司结构福州公司总部设在福建福州市台江区苍霞新城总部办公面积近二千平方米拥有专业培训基地四千平方米服务网点五十一个'], ['今日是什么日子发神经自己做错事又系到发癫彩巨都傻噶'], ['青盐用来炮制药物始见于宋代太平圣惠方如木瓜切头上一片为盖子剜去瓤并皮子如硫磺青盐在内'], ['忘了有多久没发过微博了竟然找了半天才找到在哪编辑那几个女的你们天天哪来的时间刷微博我都看不见你们更新也回复不上'], ['今天农历十月初六我爸大寿本来开心的过个生日突然想到件很心酸的事'], ['从来没把这件事情放在心上今天却有点想流泪'], ['早上好今天跑操排了多米的队'], ['早上醒来才发现充了一夜的手机竟然没有插电源'], ['美团也真是够了让减肥的人无路可走啊'], ['大概是人生中第一次如此希望时光倒流七年才换得一次见面好痛苦'], ['单方验方：治肺热咳嗽：抱石莲甜牛力鱼腥草白花鸡屎藤各克水煎服'], ['对于触碰到我底线的人也没什么可说的了走着瞧自找的别怪我'], ['天么天的还有点儿别的事儿么册那'], ['最近忙得焦头难额累得到死不活的为什么有这么多鬼事情嘛烦死了烦死了'], ['机器的进料口放气孔内严禁进入铁器等杂物'], ['车祸真好可怕一辈子的阴影走不出来'], ['由于地转偏向力的方向与风向时刻保持垂直于是在拉转风向的同时地转偏向力本身也不断向右偏转也就是越来越转到气压梯度力的反方向去'], ['公司具有健全的管理制度完善有效的全面质量管理体系有反应迅速服务周到的售后服务系统'], ['表演完要等同校的其他队伍坐着看表演和女生们去买吃的给你带了一个手抓饼她们说我对你好好不知道你喜不喜欢的自己脑补你说给你吃这种东西因为你一般不吃小吃的我喜欢沙县的蒸饺哈哈'], ['劳资就是不爽你们这一类人没完了啊特么找完这个找那个我特么真有男朋友烦死了'], ['不想开玩笑强迫我做的事我是很生气'], ['我人生的最后一节课最后一场考试我都错过了是不是应该遗憾一下'], ['从那以后对他老人家无比的崇敬和细怀之情产生学习他的书法的决心'], ['有一个名字让我刻骨是张艺兴说不清你什么最好但就是谁也代替不了我喜欢你没有原因可能就因为你是张艺兴吧早安蛋蛋哥'], ['想装个文艺来着尼玛这是个啥意思'], ['任务一件接着一件窜的你甚至上个厕所都上不利索睡个午觉吧楼外那吹手声鞭炮声熊孩子们的喊叫声简直不让人活'], ['圣诞终于到了高价收的好心疼'], ['我好累啊我已经站了一上午了尝试了两次挤车但失败了人太多了这让我想起来釜山行里的一群群丧尸太可怕了不知道今天能不能回到家了真想买张动车票打道回府啊这究竟是假期啊还是噩梦啊十一比春运更要命泪'], ['当乾隆皇帝第一次见到和珅的时候就发现和珅长得酷似当年死去的年贵妃且额头上也有一块红记'], ['謝謝親愛的你世界那麽大讓我遇到這麽好的你'], ['缪嘉蕙于岁进宫在皇宫中呆了年她在慈禧去世后不久的年离开皇宫以岁高龄结束了她的宫廷生活'], ['回忆若能下酒往事便可作异常宿醉醒来时风仍然分明天依旧清亮而光阴的两岸终究无法以一苇杭之'], ['好久没像今天这样好好做饭啦๑´ㅂ๑'], ['你们通通都消失在我眼前'], ['很喜欢这本书一口气读了一半多第一次读将历史与医学结合起来的书籍感觉一种从来没有过的新颖赞一个烧伤超人阿宝'], ['不就是不让你蹭我家网了嘛就跟我妈告状我熬夜我哪一年十一点后发朋友圈了'], ['达摩发现智武对阿司深怀好感他让智武在机缘成熟时还俗与阿司相守'], ['简介张初称承泽亲王府在西四北太平仓胡同路北'], ['昨天一个的女孩在水下出现状况升水后晕厥等抢救过来忘记自己怎么了连酒店都不知道真是可怕才第一潜就这样吓死人了闭嘴泰国'], ['只有这里可以畅言舒坦幸福地睡不着我爱的人也深深爱着我宠着我我是世界上最幸福的女人感谢老天让我遇见对的人'], ['昨晚就睡了五个小时早上搭地铁站着都能睡着了现在心情特不好'], ['哔了狗了都快大三下学期了来个指纹打卡那么多天没课在学校吃屎嘛'], ['确实是辛苦劳动而得到的果实最甜了'], ['刚才有人说你这么大了才学钢琴我这么大了我还没到呢怎么就不能学了难道给孩子买就是对的给自己买就十恶不赦了么活该你当孩奴'], ['昨天连续写了三四个小时的字没停笔手磨得好疼我在想高中写文综的时候是怎么过来的呢'], ['小号就是自在写出来是发泄却又不想被别人发现没有心里负担反正也不在乎回复也不需要在乎大号是写给别人看的小号是自己心声'], ['玩儿游戏玩儿的笑肌疼还认识一只暖男大哥哥'], ['心情好灰暗下雨天天的要去练车'], ['被定义在一个自动部署文件中：'], ['永远对情敌尤其是男友的前女喜欢不起来有这么贱的人么分手了还叫他去接车垃圾女'], ['气满满的中班伤到手指撞到膝盖水笔漏油下班回来拿个快递拆开一看货不对板洗个澡发现一身的红疹不知道是不是过敏了这个世界怎么了'], ['心情给一只陈大慢的熬鸡汤'], ['她说我们语音聊天吧他说下次吧我现在玩游戏呢下次了她说我们语音聊天吧他说下次吧我练弹琴呢目标是一个月弹出歌；下次了她不是不想和他语音聊天了；而是怕他找不到拒绝她的理由了可是她又笑自己他怎么会找不到理由呢一个人想拒绝你总有理由'], ['我才发现这张图里有四个陈学冬——四冬'], ['这对畜生夫妻不该枪毙吗把好好一个女孩子的人生给毁了中国的法律又再次让人失望透顶'], ['他真诚希望顺德同行洋为中用古为今用北为南用多走出家门国外'], ['泥煤的又写邮件让我准备周四的报告还让不让我活我今天有一个报告晚上回家还要写部电影分析周五之前还要交页纸的又是几十页的古文要看还不如让我看文言文我真的不想活了做梦都在看书'], ['人的眼睛在失败的时候方才睁了开来——契诃夫'], ['面包来自老板娘人太好了既可以闪送外卖又送蛋糕和醉蟹真是醉人又醉心～'], ['比赛结束爱村总比分晋级小孩要高兴疯了'], ['我现在好想吐自己做都嫌弃的事情可想而知别人是什么感受鄙视明明都能感觉到却选择视而不见鄙视是懒惰吗是习惯有人来收拾烂摊子了吧鄙视'], ['偶尔也会欲哭无泪也罢就听这雨声滴答滴答'], ['我天吃了几个起酥小面包体重就又上去了我不要再上称了'], ['长得丑个子矮身材差脾气臭嘴巴毒不讲理没良心没素质没人品没品味没气质没本事等等唉都知道我在说谁那就是谁了'], ['天啊噜每天都有写不完的作业做不完的事崩溃啊'], ['不想被大家吼于是我在这里吼感冒啦感冒啦感冒啦一感冒就比常温状态更怕冷然后明天我要酱紫出门'], ['总会有人记得谢谢我最最亲爱的你猪头兔子脸'], ['弘昼煽动各王府家眷赶到德州水茨向钮祜禄氏皇太后告了头状'], ['从约会方式看他会招惹桃花吗当他第一次主动约会你的时候他提出的约会方式比较接近于下列的哪一项约在咖啡厅对坐谈心约外出打球或者爬山约在夜店狂舞（解析如图）'], ['都说现在孩子学习压力大压力到底有多大悲剧一：楓葉岁女孩因学习不好被亲妈打死楓葉医生接诊时女孩已经不行了楓葉刚开学没考试何来成绩差之说❤悲剧二：作业写到凌晨岁男生猝死课堂懇求'], ['寝室我真的要受不了了每天晚上发神经一样在那边大吵大闹真是脑子有坑'], ['今天给我的牙齿拍了个片也抽了筒血还在纠结智齿拔不拔大牙松不松的循环中'], ['什么时候才能全部到位双十一买的东西一个还没收到'], ['最讨厌等人了下次再让我等这么久你就给我滚回宜春去'], ['街心两侧门面过去大都是铺面保持了明清时代前店后坊还有后花园的传统住宅模式'], ['感觉就是闭着眼睛闭了一中午中午睡不着觉真的难受'], ['爱上一个不该爱的人说实话我真的很后悔为什么付出的得不到回报'], ['第一次出前夜很多不懂的但我特别想做好'], ['贡献出了人生第一次的小龙虾终于消除了我对小龙虾的恐惧把害怕的东西变成好吃的就不害怕了图二是什么你猜'], ['烟抽多了还是酒喝多了胸口一直痛'], ['舍友们都钻进了温暖的被窝甚至发出了均匀而满足的鼾声只有我还坐在凳子上忍受冷风吹别问我为什么上床还要脱衣服'], ['岁以后的人生真是无不为要成为一个现充而加倍的努力着啊'], ['难忘的一天舅舅永远的离别'], ['吹大风的时候我想我该找个男朋友了；下雨没带伞的时候我想我该找个男朋友了；听到难过的歌的时候我想我该找个男朋友了但是我还是没有等到你所以我迎着风冒着雨听着歌流着泪像奔跑似的满满走着走着'], ['就这网速什么都打不开我真是无语了还有没有人管了网通公司'], ['在年月日的联合国气候变化峰会上中共中央总书记国家主席胡锦涛向世界庄严承诺中国将积极发展低碳经济和循环经济'], ['月日刚好是东方神起出道周年也是你金俊秀出道周年'], ['人生道路中的一次穿梭多少得失中计较如是匆匆过客莫需惊心动魄不必惴惴不安好的坏的皆是人生路还长心且宽'], ['我简直马路杀手表示有了阴影年前的自行车阴影到现在都挥之不去'], ['女人你要嫁的人很重要；他决定了你一身的层次和高度'], ['作为鱼店老板的女儿长大的宇理子家的孩子在岁的时候继承了被跨国公司泰隆改造成兽人的母亲的基因'], ['睡一觉起来耳朵下面肿了一个大包这是什么情况'], ['妈个逼你怎么这么贱的呢妈个逼妈个逼'], ['我知道要脚踏实地一步一步但也不要这样对我啊'], ['今天彩铅也许会到哦加油又是一个需要自己努力过好的一天'], ['经过刘裕的以身范物（以身作则）先以威禁（预先下威严的禁令）的整顿内外百官皆肃然奉职风俗顿改'], ['哈哈哈哈无比荣幸爱你哟么么哒也祝我们生日快乐'], ['抖着孕妇浮肿一般的双腿迈着步子艰难回到寝室说我像装了假肢的你们够了吗'], ['清理杂物时发现以前自己写的读书笔记突然感觉最近几年自己的时间都荒废了'], ['冬天的初雪温暖的校园我还会陪你度过几个冬天'], ['且不说洗衣机拿到手就是坏的格兰仕售后服务实在太差安装工人和售后沟通有着严重问题其内部管理和沟通机制的不健全一目了然第一次也是最后一次买格兰仕'], ['没有一天好的睡眠总是好多梦梦里好多熟悉的人'], ['一杯咖啡下去困意全无正好加班干活心情出长差的后果就是回来后常加班啊'], ['地理位置优越距旗政府所在地天山镇公里距通辽市公里是阿旗对外交往谋求发展的绿色通道和黄金地带'], ['睡觉睡的好好的硬是被楼下的炮声吵醒了明天又要上班了最近好不想上班'], ['每天的无时无刻都在找东西真的让人抓狂'], ['最近每天这个点都要莫名的一把鼻涕一把泪的'], ['每次开会就会有越听越想辞职越听无名火越大'], ['打开晚报投诉天津公交路九连山开往喜峰道毫无羞耻感的司机行车途中停车等红绿灯停车间隙不忘聊微信吃东西一直躲避监控看的出是惯犯龟速行车不按交通规则走恶意超车变道猛踩急刹抢灯每次甩得我左摇右摆后背痛从上车到下车精神都处于极度紧张的状态车里是心惊胆战下车惊魂未定基本到站不停车'], ['闭着眼睛突然眼泪又掉了下来在我拿不动很重的被子的时候你在睡觉在我肚子痛的要命的时候你说你有事在我迷路的时候你我不知道你在干嘛在我伤心难过在宿舍外面吹着冷风的时候你恐怕还在和家人说着我的坏话吧然后安心的睡觉然后理所应当的觉得你受了委屈这些都是很深的疤'], ['为什么最近胃口总是特别好啊我现在有点想念今天吃的牛杂面钵钵鸡还有烤面筋了明天要演出了加排这么久终于要结束了真真是极好的还有就是希望我们班明天的答辩可以住全场我这个星期也可以顺顺顺以后看到我不停吃东西的亲可以拦一拦吗我不打人的'], ['年月被中央军委任命为工程兵工程学院顾问'], ['亲爱的蚊子最近几晚由于你的亲密接触让我变成红点达人看着手脚上的红点请允许我向你说声谢谢你这么爱我可我真不喜欢你所以请到此为止吧不要再咬了'], ['真是个好东西本来要大哭三天三夜的心情哭了一天就筋疲力尽没时间没力气了多多大人对不起'], ['看别人不顺眼是自己修养不够人愤怒的那一个瞬间智商是零过一分钟后恢复正常人的优雅关键在于控制自己的情绪用嘴伤害人是最愚蠢的一种行为'], ['不管别人发生了什么何必要纠结于此既然命运选择了你你就应该学着去掌握命运你知道你是不幸中的万幸但你不知道你终究是幸运的无形之中幸运在拼尽全力支撑着你不幸的是你却不努力去争取'], ['提到就不得不提雷霆之怒逐风者的祝福之剑和萨弗拉斯炎魔拉格纳罗斯之手了'], ['微博的轻触关闭视频是什么鬼我只是想看看进度条而已'], ['我们希望这一次就一直是我们'], ['总说过去就过去吧可是真的过得去吗只是自己骗自己还是会记得晚安了昨天'], ['啊我怎么不记得啊你不喜欢吃番茄炒蛋吗我喜欢吃'], ['工作中就怕这样的傻逼我已经想好了不能忍了'], ['国土资源所副所长屈永军大声怒吼：我看电视剧跟你有啥关系上班我在我房子我还不能看电视剧你还来查我了出去滚出去——一个小小的基层科级干部花纳税人的钱不为人民办事还这么有理'], ['你说你心情不好我有想过很多原因但我不希望是我的最坏猜测'], ['喜欢的小心思总是会把很多偶然认为是注定呀地球一定是收到我发出的频率了歐洲非洲'], ['双旺镇矿产资源丰富周旺邦杰两村的高岭土最适宜烧制优质精美的高级瓷器深受区内外厂家惠顾'], ['美好的时光就这样散落在身边不经意的就会惊艳到我们可是如果你不停留不仰望不用心就一定会错过这么美的冬日清晨让我醉在其中不可自拔懇求'], ['天啦只有天时间御情人能用出如此效果逆天了逆天了你叫专业去痘的情以何堪'], ['你们下饭是菜让我饭下饭不说了我刨饭克哦我怕一哈饭都不让我吃'], ['噫吁兮真的是画吐的不要不要的我们每天有十张有十张有十张累的颈椎又犯病了'], ['发现了一张许久之前的旧照那时候手机的像素啊很无语的也没有什么美颜功能青春啊一去不回'], ['技术宅玩魔方高端大气上档次狂拽酷炫屌炸天'], ['关于未告知申请权及期限时的最长申请期限行政复议法也没有作规定'], ['今个粗去饭看到镜子后面正在自拍内女孩儿哇塞了美成这样式儿的吗'], ['本专业为外向型企业培养高级会计管理人才'], ['昨天下❄️了我特别喜欢下雪天应该也没有人不喜欢吧虽然很冷但是能打雪仗啊虽然没人陪我打雪仗记忆里那次玩的真的很开心以后都不会再有了有雪没人同学你那里下雪了没要不要再打一次雪仗这次我不会摔倒了張嘴笑'], ['教室那么多双人位置不做为什么要坐到到我身后的垃圾堆秀恩爱帅超你个狗'], ['口渴想吃橘子没忍住一口气吃了个（还是差不多和拳头一样大或者再稍微小点的那种）不知道后果会怎样上火倒牙'], ['幼承父训勤学书画少年时即面世梓里颇受好评'], ['金妹都被你搞糊涂了你们还有粮食出口到美国'], ['地铁飞机加出租在酒店也是躺下汗蒸按摩大把时间去胡思乱想说是胡思乱想其实在对照过去从去年到今年放假时还是隐隐害怕假期结束去年在那远离市区的地方呆着早上迟醒中午胡乱吃点下午收拾或者读一读书立刻又到晚饭时间一天倏忽过去叫人胆战心惊'], ['一个好觉也不让睡大早上一堆电话起床'], ['现代版清明上河图估计又价值连城'], ['小短腿的姐姐大眼睛的妹妹我两个小侄女都辣么可爱好笑'], ['好焦躁焦躁害怕怎么办怎么办爸～妈～你们回来陪我吧'], ['感觉一直在忙工作日上班休息天各种事情'], ['现在看看右边你已经熟悉按钮和进度条'], ['寶石见过瘦的快的没见过瘦的这么变态的笑不可抑笑不可抑笑不可抑一天斤吓死宝宝了莎莉姿只有你想不到没有它做不到'], ['自制葡萄干红枣汤在冬日里温暖我的胃'], ['赚钱没那么容易每个人有他的诡计'], ['我看过这样一段话这辈子我从没牵过你们的手这辈子我也许和你们说不了一句话；这辈子我只求你们开开心心；这辈子我只想好好保护你们不让你们受伤；这辈子我看够了世事的虚伪；这辈子握没后悔喜欢上你们；这辈子我的青春岁月只为陪伴你们走过；这辈子我也绝对不会提前离开'], ['面对发生过的事情不去后悔面对将来发生的事情不害怕坦然的接受面对一切；许多事情既然发生那么无论是有多大的不利影响都只能坦然接受而对于未发生的一切：纵然会有多么可怕但它毕竟都未曾发生我们控制不了所有但是我们还能掌握自己的心态'], ['我父亲和朱爹爹一到西柏坡第一件事情就是进行土地改革'], ['我去你大爷尼玛贱人缺爱抱你妈去艹长得丑不怕人就怕自己不知道自己长得丑还来恶心人坏人太多远离陌生人特别是长得丑的'], ['故凡获一兔犬必摇尾以视艾子自喜而待其饲也'], ['他们要善于总结自己亲历的感性知识或经验更要善于将这些知识或经验升华到理论的高度'], ['四十多天了每天能吃能睡没有任何呕吐迹象正常吗'], ['和艺术学院的妹子学做玫瑰花越来越有感觉了今天是特别的一天我离我的成就又近了一步很遗憾大三才遇到了这些妹子们但是能遇到已经是一种缘分现在的我很幸福'], ['活了二十六年从来没有遇到过一周之内三次见血的好事最近不宜接触任何利器钝器需要去拜拜'], ['有时候是不是真会可悲到有个人关心你你就像抓住了救命稻草一样'], ['见过把自己老婆孩子凑上电杆拍屁股跑路的男人吗这么肮脏的事就怎么让我遇到了'], ['火箭是要摆烂吗真是打成屎了'], ['夜～夜～夜在段里保障客车机车出库正点'], ['碰到一个小肚鸡肠的人真他娘的小人'], ['就是很想吃吃饱喝足就满足了'], ['医院设妇科内科外科中医科等十二个临床科室及放射科检验科特检科等辅助检查科室'], ['我的心好累好累好累好虐好虐好虐救我'], ['我才发现很久之前的评论突然被赞了这么多下'], ['最近几天涨了好几个粉宝宝感觉到惊慌哆啦梦吃惊哆啦梦吃惊为啥粉我啊点错了人格魅力偷偷暗恋我吧会不会再取关啊惊恐惊恐留下来的粉粉们别跑了哆啦梦汗吃个香锅压压惊'], ['晚上睡不着中午午休又不得睡我好困噢呜呜'], ['好想哭憋了好久好久哭出来是否好一些'], ['虽然不能直接回但真的好想说一句——你才扫大街～哼～～'], ['第一次丢失快递还是宝贝的好多好多衣服'], ['早餐花生酱香蕉三明治水果玫瑰花茶吐司是抹茶味的颜色好漂亮～早安'], ['其实我吃一份饭吃到一半就不想吃了但是又没有人帮我吃又不可以浪费食物'], ['我现在怎么觉得只要是女的都长的比我好看'], ['再引申义：普通民居正室左右的住室'], ['我从不愿意勉强别人为难了别人难为了自己'], ['把不能留住的东西都放开吧不要害怕人际的险恶历练自己一定不要把自己局限在那么小的地方里来世界走一遭却连世界都没看过是很可悲的所以接下来的天让自己变得忙碌为以后走出去好好活一次加油'], ['一听到别人说你怎么这么瘦真想把他们打死'], ['我拯救不了你的坠落没关系因为我也一样堕落'], ['炊烟待人归秋色路若迷闻香风不远回头色香齐'], ['真是服了我自己了一大早辛辛苦苦拿着奈良新买的萌萌伞结果在岚山下站发现伞不知道丢到哪了了只好又买一把天龙寺人很多拍照都没心情了广川和豆腐各种排队我们饿得只好买点可乐饼和鯛鱼烧垫一垫'], ['最幸福的事就是每天能听到你的声音对我说早安'], ['你说你靠能力你没经验没学历没特长靠刷脸你没颜值你说你还好意思堕落天天无所事事不思进取吗'], ['第一次一个人坐火车感觉没有害怕感不知道是不是因为长大的原因少了那份恐惧现在在广州候车转回他身边只是有点小小失落感失望明明计划好要去广州玩两天的谁知去不成了这就算了明明说好来接我的谁知是我独立一人回去每次准备好的事都是出状况的也不知道该说什么好委屈'], ['晚上受了委屈现在想到了我妈天我居然在床上哭了我要给我妈买好多好多的东西'], ['吖肚子好痛好像吃辣条吃拉肚子了老子不舒服咕噜咕噜又不是拉肚子就是肚子痛好老火吖'], ['每天准时下班回家教你英语陪你玩看你老爸臭美氣憤日子真的简简单单的真好'], ['这种异常活跃的生物固氮不可能从根际群落得到暗示存在不同于以往的高效生物固氮系统'], ['现在只有一句话能告诉我自己去死吧还有比你笨的人吗没有了→→→→'], ['我整整工作了个小时我大半夜下班还要回来做饭二半夜在吃饭可能世界上真的没有什么感同身受'], ['抬头村按拆房顺序抓安置房我妈抓的层室一卫是挺高的真不知道那米长的大沙发怎么搬上去住楼有什么好的～竟是困难～垃圾房'], ['年月大连晚报社被大连市委授权全国文明晚报全国优秀晚报'], ['我最喜欢你了一年一度的生日又到了'], ['这个竟然可以吃山上好多好多野生的哇哦顿时觉得我们生活水平杠杠的'], ['渣浪更新后一点都不好'], ['这里表现出的是人工剪裁经营的艺术匠心画家构图之完美'], ['你觉得你伤了你最爱的女人那我和孩子算什么我彻底看透了原来你心里真正的在乎的只有她而我和孩子什么都不是刘小春你害人不浅最终会害人害己而已明知道会是什么的结局你们一直要沦陷下去不用我恨你你自己总有天会发现你自己太可笑觉得那个所谓的爱情'], ['这几天情绪不稳定什么话都不想说'], ['饭卡找到了里面的钱也没了我这暴脾气哪个恶心的女生干的诅咒你月月掉饭卡年年掉饭卡'], ['深有体会真的很羡慕能睡觉的人常年失眠凌晨三点四点五点那种惧怕白日来临的恐惧随着七点的来临越来越被放大然后在白天的头痛中循环往复二十多岁的我已经有着三十多岁的心态了：孤独悲观失眠冷漠和怕死韶华不为少年留'], ['现在药店的售货员服务怎么这么到位啊您说的那个药效果不好我们有更好的不用了就要原来的牌子那个见效慢有别的你是卖是不卖老纸就是喜欢原来的配方熟悉的味道行不行忽悠别人去'], ['脸过敏真是够了我这皮糙肉厚的还能过敏'], ['男子地铁车厢吐痰还见一个骂一个奇葩天天有地铁特别多啊'], ['公司现有员工人是军队复转人员具有吃苦耐劳团队协作精神'], ['身为土生土长的河南许昌人从小到大是吃面条长大的一年天有天吃面条而今天这顿面条是因为家里没米了才想起做的老爸的黄豆酱也终于派上了用场一碗捞面配上一碗白面汤还有那熟悉的新闻分（在家时每天中午一边吃面条一边看新闻分）突然想家了'], ['把那三个综艺关键词都搜了一一遍然后可以偷笑了哎我好坏不过咱们艺兴是真的幸运呀'], ['成了超人的女友了这个世界果然已经被基佬占领了吗'], ['就因为我说想讲个电话还没有等我说出原因就立马打过来这样我真的感觉很暖心'], ['网上一名动手能力强的网友放出了一组触目惊心的图片：雾霾生活在雾霾笼罩下的石家庄人似乎已经有半个月没见到阳光了现在让我们一起见识一下雾霾的真面目吧：我们每呼吸一口气就有成千上万这东西进到肺里瞬间整个人都不好了'], ['成虫体长约褐色带紫头胸部黄褐色；'], ['感觉在看一部热血沸腾黑吃黑谍战片'], ['为什么要对我这样的贱人那么好因为太感动总是很喜欢黏着你可是这总是不太好呢要不以后你有了男票的话我去打死他'], ['我这个不争气的每次买股票股票就大跌'], ['我很幸福比谁都幸福我很幸运比谁都幸运我很美比谁都可爱'], ['真想不知死活的睡在雪地上做个好梦'], ['有时候觉得自己坚强到无所不能然而夜深人静的时候所有软肋才会突显出来似乎读懂了那一句陪伴是最长情的告白其实都明白战战兢兢的原因只是因为我们没有把握的未来延安·宝塔'], ['我想先发篇但是为什么要先写呢说因为比较重要认同但是的就要写三页啊的双栏啊最不擅长写东西了今天开会总算是正式说了看做的进度准备发二月份的所以一月份的那个是看我一定做不完了对吗'], ['推理大赛决赛队伍经过一番角逐决赛队伍出来了他们分别是联合国织梦者茶会以及中大新华贴吧拔粑霸气队让我们一同期待号决赛之夜他们的表现吧'], ['我们丽江从来就不是什么艳遇之都从来就不是不要用这么低俗的词语来侮辱我们'], ['看看大黑再看看瘪瘪的钱包去抡起菜刀吧'], ['而临习所用的正文图版则据整幅墓志重新剪拼并稍作放大以便读者更清晰地把握笔法与结构'], ['但这并不代表艾丽和钱婆一样会走类似的出位路线'], ['我现在特想找人打一架要不心里不痛快'], ['真心好东西顶呱呱洗鞋神器刷完跟新的一样'], ['天凉了要多穿衣服天凉了要多买衣服注意保暖噢'], ['吓人惊了哆啦梦汗可怕'], ['瞬间尼玛无爱了这些人在前面走的无影无踪留下我一个人在后面给他们拿饮料'], ['就让我们晚点在一起不需要晚多久就再过那么几年那时我们有稳定的收入靠谱的工作所有的一切步入正轨我不再是青涩的毛头小伙而是成熟男人你不再是追梦的漂浮女生而是只寻求安稳生活的女人如果真有那么一天你会否再回到我身边做我们未做完的事情而非一切都被取代'], ['我觉得我的身体真的越来越残啦真的老啦内分泌也开始要失调啦什么办我还是没有找到真心的好烦躁呀'], ['临上班工作前就莫名的恐慌有没有什么病叫做要上班恐惧症快上班焦虑症这种病'], ['对于未知变化无能为力别人的看法多少都有恐惧因此停滞不前但时间会流逝梦想也会因此别让恐惧挡住了前进的道路今天是你所拥有最宝贵的财富一切从今天开始生活就是煮一壶月光醉了欢喜也醉了忧伤惊恐'], ['好久没这么早睡了今天早点睡大家晚安～～'], ['我们都在宇宙中像一颗粒子一样慢慢前行即使失败也是一种成长；即使迷茫也都是青春的代价只是我们都觉得每走一步都要对得起自己也许根本没有正确的选择我们只不过是要努力奋斗使当初的选择变得正确'], ['什么时候能变得真正的坦然呢每次遇到现实的冲击都会首先质疑自己的选择这种纠结痛苦懊恼相互交织的感觉真不好满满的负能量'], ['真是绝佳的身体啊力量源源不断的涌上来二周目用了小时练到困难难度过瘾了'], ['讨厌你说话不算数以后不要来见偶'], ['当遇上不听招呼的会计和呵呵呵呵的上级'], ['各位大神俺自己的微博某条想要置顶在自己的文章前面点击那个置顶的提示咋就不行呢'], ['喜欢盼盼的朋友们扫一扫加我哦'], ['小女生心目中渴望的徐太宇好感动好温暖好想好想属于我的小幸运快点来'], ['点多点睡不着了就起来准备早饭今天的粥浓稠度可以媲美米饭了还有一盘菜和小菜没有拍照因为做好叫某人起来吃饭我开始洗布丁一会儿要吃的蔬菜等他吃完走我现在开始吃因为菜已经吃过了拍出来不好看了索性就不拍了有布丁坐在餐椅上陪我我吃她看好温暖'], ['可草早日记把噩梦当作最可怕的事情你也是够天真的还有噩梦成真噩梦变本加厉的成真以及习惯了噩梦成真后的冷漠和麻木无梦最好没有期待也没有痛苦'], ['看不懂流行了嘢买个杯子似乎要双手捧起供起的赶脚不是用来喝水的镏金大牡丹→→亮瞎了本大人的钛合金钩眼'], ['我曾在很多个夜晚和朋友和家人聊到入眠却唯独不再有人说着我爱你伴我进入梦乡我知道这世间最珍贵却也最卑微的就是感情奈何我像个逆生长的怪人越长大越看不见真心而我总会需要有人对我说爱我'], ['早安新的一天新的心情新的开始加油'], ['早上出门的时候被小区里满眼满眼的大雪吓一跳因为赶车没来及拍路上干干净净的不知道昨天清洁人员费了多大的劲反正雪很多树枝都低下来了有的树都压断了我不是胖嘟嘟我只是肉很多'], ['以前从来不但是最近一上来那个劲儿是真生气真生气'], ['冻成狗还好有一杯热腾腾的黑豆浆'], ['神经病变态佬好杀杀去屎死变态超级变态变性关你屁事氣憤氣憤氣憤氣憤氣憤氣憤氣憤氣憤氣憤氣憤氣憤氣憤氣憤氣憤氣憤'], ['岳阳一厨师工作时剖出稀有海螺珍珠价值远超黄金'], ['如此羞耻的损招亏百度想得出来奖励可别坑'], ['并随着移民的迁移如交州使原本没有文字的越南人使用了汉字造成了当时中国和越南意识形态和文化背景的等同和相似'], ['吓死了男神女神真实年龄大曝光'], ['我大糖糖十亿女王怎么就掉山寨坑里了'], ['接下来六句写京路上所见夜景'], ['感觉要感冒感冒一我要照顾好自己才能照顾好宝宝想想从生下来那天到现在个多月了过几天就百日了照片翻了翻这小子一天一个样一天天长大陪伴他满满长大就是幸福爱你'], ['二字出头的年纪以前想过很多自己岁的样子怀着忐忑恐惧的心情觉得到了青春就彻底结束了现在转眼就到了心境却没有曾经想象的那种对年龄的惊慌感对自己和人生都有了更深的了解毕竟人生终归是一条自我探索和探索世界的道路岁后是另一个阶段的全新开始过好自己想要的生活永葆初心'], ['朵粉们今儿个看到我们家朵拉的皂皂突然感觉咋辣么像糕呢'], ['捂住口鼻慢呼吸美国纽约外科医生斯塔福德·布鲁曼德建议如果身边有人打喷嚏或咳嗽应该捂住口鼻轻缓地呼吸走到至少米外能够防止吸入致病菌'], ['只想找个跟自己价值观生活方式性格脾气都差不多的结果低不成高不就的这么的磨来磨去就老了'], ['午后漫谈回家做餐消磨时间曾曾明晚就离开不舍不够不满足厭倦'], ['回老家无意中拍到的牛羊过马路哈哈很有秩序不紧不慢的'], ['最大起飞重量是指因设计或运行限制航空器能够起飞时所容许的最大重量'], ['就这样把第一次争取上台的机会搞砸了'], ['越忙越烦的时候就会有更多越忙越烦的事儿'], ['爸爸我还是喜欢坐在环保袋里舒服一点'], ['今天才知道身份证校验要收费宁陵县火车票代售点医院医保办开个证明也是要收费的'], ['不得不说评分高是有原因的～累点笑点恰到好处最重要的勾起了内心的情怀难忘的情怀～'], ['月日在南京另立国民政府与武汉国民政府相对峙并协同帝国主义对武汉实行经济封锁'], ['什么把我当亲生女儿不要脸跟心机婊住一起没有一天心情好哪天怎么死都不知道'], ['四平月日周二空气质量指数：空气质量：良'], ['国足踢得不急不慢能再烂一点吗'], ['擦杰尔夫和梅比斯是情侣'], ['只是下了个雪他们居然都变身了孔子墨子爷爷都成了表情包'], ['以前一天得浪费多少时间在看别人的生活和无聊地在朋友圈互动而且还得受各种束缚感觉这里的世界清净多了不管这里有谁都比朋友圈自在'], ['妈呀我的北鼻你肿么长这么大惹'], ['釜山行釜山行在我网盘里躺了很久了但是因为是丧尸片一直不敢看在听很多看过的人都说不恐怖之后今天终于把它看完了真的超级震撼比丧尸更可怕的是丧失人性穿过了三节车厢的怪物却没有穿过一节车厢的人心无私的人可能不会活到最后但是自私的人绝对不会活到最后听全文'], ['一大早还在睡梦中就被我妈抽了两试管血好吧是我自己要求全面体检保证从内到位各项指标健健康康的化验了一上午虽然我还没亲眼看到体检报告单可是听妈妈说我也贫血了怎么会虽然蹲久了突然站起来也会头晕可是其他地方完全不像贫血啊'], ['找啊找啊找找到第九张我笑了'], ['最近深深地怀疑这世界上还有没有信任这件事是真是假有点分不清了被伤太多次也不敢相信自己的判断了'], ['二临时羁押的请求可以通过国际刑事警察组织以及双方同意的其他途径进行联系'], ['虽然以前已经讲过了但还是要再安利一个好东西的口红超级爱号色显白的不要不要的嫩死人不偿命堪比大牌因为它我连都不用了就是很美很美很美啦～～～上我最爱的徐阿姨的图（不是我不是我）当初就是被这个种草的'], ['当了母亲才知道自己根本没有害怕的权利我还有个受惊的孩子要安抚'], ['有一种人跟他讲话就特么想抽他'], ['原来我已经连续吃了多天的包子了'], ['哈哈段同学尽力就好所有的知识都会用上只是或早或晚不要怀疑'], ['现有在册员人人其中大专以上学历和中级以上专业技术职称的人占员工总数'], ['我就是喜欢破了规矩再守规矩再破规矩再守规矩'], ['晚上熬夜早晨六点就起床中午饭都没有吃的给他算数据到最后明明就不是我的错还被训的哭鼻子这样的老师我还要忍三年'], ['把香港队往死里打回国全国人民纳税于你报销'], ['五十三花花有的时候我就炸了你会不会嫌弃我其实有的时候我特别生气你让我冷静冷静就好了我害怕伤害到你'], ['散户操作策略在目前货币紧缩的环境下投资者为了抗通胀通常会选择进入股市楼市或是购买黄金之类的保值品'], ['哐哐哐楼上的小妹妹你到底是在干神马氣憤氣憤白天哐哐哐姐也就忍了你大半夜还哐哐哐是弄啥嘞'], ['最近简直拖延症爆发知道有很多作业但还是不想做结果就是越堆越多赶作业的时候痛苦的要死等撑到毕业我想我再也不会有去上学的念头了'], ['积极乐观还好我有你们我的美娇娘和大宝'], ['好吧实在有够大的用力顶吧大伙用力转'], ['刚刚跟医院小护士聊到演唱会她竟然不知道是谁我也是醉了作为同龄人你活在哪里啦'], ['我也是知道自己不知道喜欢哪种类型的歌算了早点睡好了再不睡就要饿死了'], ['这次是给专爷们儿推荐的：大蒜英国一个大学的研究：多吃蒜排出的汗会更有男人味儿更吸引女性为什么英国的研究走势越来越神奇'], ['心情不晴朗我的快递被永嘉驿站弄没了非说还没到他那里投诉无门的感觉'], ['不要总是害怕与恐惧犹豫不决勇敢的去面对与拼搏才会成功人生无非是做好自己尽力拼搏'], ['谁来拯救下我的智商竟然拿涂嘴唇的去涂脚涂好之后才发觉'], ['晚八点头痛睡下中途醒来毫无睡意失眠到＋'], ['人脉市场渠道为王积累这个词经验也好常识也罢简直了'], ['变成一个有脾气的人变成一个有情绪的人不然真的要烦死啦'], ['人丑嘴不甜长的磕碜还没钱就你丫的拿什么资本坐那一个小时不说话装碉堡傻'], ['超级开心每天都有惊喜又收到礼物啦哈哈哈哈哈又要收手机了新手机壳保护我婧姐么么哒'], ['看着满屋子需要收藏的厚衣服和满屋子需要洗的脏衣服脏袜子无从下手情何以堪幸好今天晚上没有课只有大洗了唉'], ['无论是变革转型还是发展都必然会出现很多问题会面临很多问题'], ['什么原来我已经不知不觉耍了半年多了'], ['一期为别墅组团二期楼高六层的电梯洋房组团分别为为组团组团组团'], ['全国最大的楼盘项目数据库项目详细资料超过个全国最大的房源展示平台万个楼盘详细信息'], ['尼玛果然送分题连我这样式弃数学很久的人都知道'], ['六个月的你老爱调皮今天去听了胎心一切都很好等段时间去做个四维看看你的小模样'], ['再精湛的点菜技巧也敌不过那拙劣的厨艺老子闭着眼都比他烧的好吃'], ['继力学老师后又遇两位性格十足的老师或许是第一年的实验班待遇不错'], ['做一件事情的时候总是得到负面情绪久而久之就会产生抵触心理'], ['目前课题组拟以榔梅之名报请有关机构注册以填补我国植物物种空白'], ['我简直不想再解释自己只是过敏了不是起水痘的事情了我真的很闹心了我传染不了别人好吗只是过敏的痘痘简直要疯了第一次被放假放的这么心塞'], ['吃屎吃屎'], ['使我久久不能入睡的是我仍不肯相信也不愿相信这些是真的被偷走的那几年可以找回来吗我可以找回你吗'], ['在周秦乐府音乐大厅进行募捐与爱心义演'], ['乌云压頂准备暴雨一轮了没带伞等下谁来为我撑伞我会很感谢的白云白云白云可怜可怜可怜'], ['真的害怕因为这次希澈的受伤会伤害到韩庚他什么也没做他一直希望成员们过得好他犯了什么错他那么善良怎么就有人容不下他呢在会受伤害离开了怎么还会受伤他们怎么忍心让这么善良的宝贝受伤'], ['有单没单都痛苦的苦逼业务员不想上班上个屁屁班起来嗨'], ['因为国家金照相要穿系服没穿去了只好临时穿男生的了原来男生西装的扣子真的是跟女生的不一样哇'], ['雨夜呆在家里开始看书晚上登到网站里核对了毕业信息但是我想说为什么每次拍证件照我都辣么丑长的丑怪我咯伐开心哼'], ['昨晚梦见你了但是要不要告诉你这个恐怖的梦呢我发誓是真梦见了白眼就是这个梦吧不太吉利跟你说吗妈的现在我坐在黑暗里总觉得有脚步声惊恐'], ['学的懂的更多才能更自由做喜欢的事'], ['次奥为什么会有人同意干这种把简单复杂化的事纯粹为了玩一轮又一轮的审批人吗设置如此繁琐的流程也不见得能有什么实效以万计的差评'], ['此处不留爷自有留爷处我会让你们后悔的'], ['很多时候宁愿被误解也不愿去解释'], ['心里空落落的难过多想你给我一点实实在在的安全感想要感受得到体温的陪伴多想你在我身边而不是一个人在夜深人静的时候惶恐和忧虑我该不该爱你我该不该怪你'], ['平时一沾枕头就睡临近毕业这俩天胡思乱想不肯早睡其实都能想得通可毕竟无忧无虑的日子早已远去不要说我矫情谁还能没有情绪不任性人活着嘛最重要的就是开心啦来笑一个'], ['你妹啊腾讯怎么和爱奇艺一样到最后几集都要收费了'], ['对于某组织的我只有一句话有多远滚多远好吗'], ['在你拒绝我的橘子的时候我就放弃了哦'], ['（英雄联盟）核心装备就是杀人剑啊没杀人剑还怎么玩这游戏改的一年比一年差五杀都没了'], ['就记住了一个镜头茅十八最后死死抱住荔枝这情煽得有点泪目你看无论你过去是什么样的人遇见了最好的谁谁谁你总会变成一个不一样的自己变勇敢变软弱变得有点无所畏惧却只害怕分离特么每次想要惆怅一把都会想起某个多年未见的少年'], ['有点想打当年设置密码安全问题的我你特么是我吗谁特么会设置我最喜欢的东西是什么这种问题给喜新厌旧的我啊'], ['大哥受胡适千块大洋资助自然眉眼都是妙的他胡适有什么满腹经纶不报国一无是处沽名声那能和曾国蕃比战战兢兢如履薄上在满人下为国统一大业他胡适算个以相而论正观三角脸青色正是神鬼煞气相极必反应了大相顶一副斯文挖鼻只不过皮囊一具'], ['你因为他的一句话生气自己生了很久的闷气等着他来哄也许到最后他根本都不知道自己哪句话说错了所以我现在明白沟通一定是最重要的你生气你不理他你哭只会让他觉得无所适从你以为他能明白你以为他能理解事实总是不近人意'], ['怎么又停电啊肚子疼撞上胃疼就想暖暖的窝在床上'], ['人要学会用自己的左手温暖自己的右手要懂得生活中充满着挫折和希望生活在你不经意间就充满了希望也充满了挫折我希望自己能够勇敢乐观的面对世界没什么大不了的收起今天的懦弱有什么不可原谅有什么不可放下想一想明天会因为今天的懦弱更懦弱心存感激谢自己给了自己一次机会'], ['最近心好累莫明的让我蹲在墙角哭一会'], ['如果不充满力量的保持自我就不可能有爱情－卡尔维诺'], ['学校有特级教师人国家级骨干教师人省级骨干教师人市级三五人才人市学科专家组成员人'], ['好想洗个澡我连洗个澡的时间都没有了'], ['下雨☔了今天却没有暖气热力公司你们怎么搞的没有一年正常的'], ['—年先后任语文教师保卫干事离退休干事校办副主任兼任历下区文明委副秘书长'], ['我不想熬夜了（认真脸为什么会发生半夜不睡觉思维活跃精神焕发的事情我的身体完全不受我的控制我要哭'], ['每次都被财务气的死去活来不開心做财务的'], ['我们都在变谁还回头看谁就输了还是向前吧陪伴的是时光人总会有缺席的'], ['我来还愿啦苦笑苦笑苦笑谢谢神明大人老公找我了开熏开熏开熏'], ['这周的怎么星期二就出现了看完了又觉得这周没盼头了'], ['有生之年起了两个大痘郁闷小婊砸限你们明天给我消失'], ['第六章附则第六十四条设区的市县（市区）交通运输主管部门可结合自身实际制定具体实施细则和管理办法'], ['气死我了逃了五分钟课去接快递在报了密码后等了二十分钟'], ['牙疼加早搏真是要疯了'], ['出处：周易·杂卦革去故也鼎取新也'], ['关于计量性能要求示值误差根据温湿度计生产和使用的实际情况确定温度最大允许误差为：±℃'], ['想买个前阵纸手机丢了到现在还在用旧手机呢'], ['好恐怖惊恐台风来的时候不会倒么'], ['算到一半然后整张纸就成这样了'], ['你们太过分个个都在炫瘦不行我也要发个圈'], ['气死我了颜色越来越淡明天我要画个骚气的颜色'], ['召唤系的基础技能主要包括召唤和加强基础的召唤兽'], ['双十一的第一个快递送的小花鞋很好看哇親一口只是为什么我最近腿这么粗啊天呐噜'], ['迪拜女人只花钱德国女人只工作曰本女人只带孩子中国女人就是超人女汉子你得工作创业洗衣服做饭带孩子打扫卫生收拾家教育子女对外和谐社会关系对内和谐家庭关系谁说女人是水做的中国女人是水泥做的'], ['我曾经多么相信只是矫正了牙齿如今看来我也是太天真本来看奔跑吧兄弟觉得怪怪的而且镜头超少大晚上没事截几张图'], ['餐馆经营中餐以烹制鱼宴为特色有千岛湖标志性美食——淳牌有机鱼'], ['午睡一小会把语言学的内容复习了一遍果然醒来就想不起来了'], ['考三次会计从业资格证的钱心酸'], ['发现了一个新大陆男神居然'], ['彩云之南去那里放飞自由'], ['不开心不开心某人说我活该没有男朋友'], ['先让文章发表再收取稿费叫文章先收稿费然后文章发表叫软文：写了文章就发表没有稿费叫博客：随便写几句就发布还得自己掏钱付网费的叫微博——王小峰三联生活周刊'], ['早上在外面各种嗖嗖嗖嗖到处闻尿回家大鼻子在我脸上蹭啊舔啊你这样真的好吗'], ['她是你们的谁呢她怎样关你妈的屁事你们要知道她如果不是因为唱歌如果不因为（）你们会认识她都你妈的脑壳有屎婊子养的'], ['我有自己的思维跟想法也从来不需要用别人羡慕的眼光维持生命和尊严只想活成自己不过毕竟人人都有自己的追求你要的就去争取我不是你并不想听这些无聊的人生观最烦这个碎觉'], ['这个这个这个有点像大力水手哎'], ['最近被气的半死都不想看到他们'], ['这是研究土壤的形成分类分布肥力特征以及进行土壤制图的最基本的传统方法之一'], ['你演的是个心机婊么装失忆好回到陵哥哥身边你的孟珏呢真的忘了么'], ['真的求供暖啊魔法伤害真的是穿多少都冷啊'], ['今天这一出真精彩炸出了多少破事我们以前到底有没有粉丝心疼'], ['我竟然还能干出因为员工薪资少发而找领导一天的事是不成熟是缺心眼儿是逼得喝的'], ['昨晚洗头发前用了山茶花籽油结果没洗干净导致今天头发一缕一缕的'], ['很多时候我想哭但是我选择了坚强'], ['以我长肉的这个速度让我想求着能不能出现点烦心得都吃不下去东西的事'], ['一个上午蹲了次马桶了肚子疼死了'], ['一早上班戒掉好难啊'], ['每个人在交往中都会保留也自有自己全盘付出傻不傻啊'], ['哄睡完一出门某同学就在他屋里嚷嚷出大事了俄罗斯的战机被土耳其击落姐撇嘴道这是什么大事过了会儿又道不过土耳其还有不少好东西都没去看可惜了某同学说是啊也不知道来不来得及姐又说咱明天就去吧某同学大喝一声你找死啊'], ['冰箱里面怎么会有这种东西吖'], ['北京现在好冷一件衣服都不住了'], ['中国足协干的那点破事啊请了个这样的教练都不知道如何排兵醉了'], ['下次再有什么乌了八糟的事再也不吵架了能动手非要动嘴太累太伤肺'], ['出来喝杯咖啡都要偷偷摸摸的憋气'], ['嗯今天的我也是如此英俊祝我生日快乐'], ['哈哈哈哈哈哈笑死我了木风哥有晨跑的习惯喜欢跑去人少树多的地方通常跑到目的地后就往回跑今天早上他又去跑步了跑到目的地后突然肚子很痛想拉屎可是附近没厕所于是他很艰难才找到部摩的并且以近两倍的价格打车回家回到家后又不急了现在他在厕所蹲了好久不知拉出屎没'], ['妈的都下班了还要叫人来来去去就特么因为住同个小区醉不醉啊我又不是修电脑的电脑弄不来能不能去找维修人员啊'], ['本来事情发展不是这样的你是要死的刚开始没想到给你所需要的所有的东西你却活过来了没想到这么快就比如人一样利用完你就相当于一颗灰尘没价值还嫌你污染空气'], ['大半夜公寓的报警器响了不知道哪一栋一层有火灾预警人心惶惶的有不少人都下楼了平静了一会儿房间的警报也响了让大家下楼避难慌忙套了件衣服准备出门群里的小伙伴说刚打电话给管理中心了应该是误报心有余悸如果真的是灾难来临'], ['本来这个宝宝头发被淋得塌塌的吃东西又怕烫自己默默地在一边不抢存在感就算了突然被工作人员点名夸说好帅先是愣了一下然后大眼珠滴溜溜转了一圈把大家看了一遍就耍面瘫害羞了起来哈哈哈'], ['终于找回微博密码了这几天弄得堵心怒'], ['真是你想着别人别人自私的只想着自己好想骂人真的不能太善良了'], ['今天买到了隐形眼镜今天还需要把衣服给退了感觉好累'], ['周日在浙江工商大学教工路校区上课的时候在教室钱包没了一个粉红色米黄的钱包里面有我的学生证件回去工商找跟我说监控坏了就没法看说是丢了就丢了吧丢的最大笔的金额就在包里了里面的除了证件还有很大笔的现金'], ['今天上街的时候看见一群人围在一个角落'], ['不爽不爽劳资醉喽呵呵呵呵呵呵'], ['貌似格格推崇的角色是萧二哥和意绮行翻了翻年表按这个推格格入霹雳起码九年了我勒个去九年我得补多少季啊з」∠我去填个坑冷静一下'], ['努力的想睡去却怎么也睡不着哎呀'], ['这凯迪拉克营销做的啥法都有'], ['什么东西我夹个菜都要被人说我夹的太多有病的吧那人简直就是神经病的吃个饭都跟后面落啦滚蛋'], ['给本大王记住了你今儿个让本大王不爽本大王让你活不过明儿个本大王就只是给你更新你丫的给本大王装逼哼～'], ['梦到数学练习册补不完好难过而闹钟响后发现不必担心我已经成功从练习册时代穿越美好的一天就开始了'], ['在一个单身狗面前谈婚姻这样好吗'], ['妈呀啥时候手滑点的赞自己都不知道'], ['既然青春回不去又恋旧了谁陪我再去一次重庆长江索道再陪我坐一边朝天门码头再陪我坐一次朝天门号再赏一次江景午夜十二点再去一次富侨再让司机师傅带我们去一次他们常吃的火锅老店回不去了回不去了'], ['距信阳市公里距京广铁路国道公里距省道公里有简易公路可直达景区'], ['真是脑子被屎灌到对家这么拽了你还不投票要看着只在台下看别人领奖发表感言吗要让他们坐在台下被别家粉丝嘲笑吗他们心里有多难受他们的手是来领奖的不是用来鼓掌的爱奇艺偶扑银联给我操起来'], ['不就是打工么上班真受气'], ['为什么总是做梦梦见我和同学在一起从小学的到大学的同学都快梦一个遍了神奇的是八百年都想不起来的人梦里都能出现这是为神马呢'], ['如果缺乏有意识地突破你所处阶层的局限你将永远无法看到更加宽广的世界更精彩的人生世界很大探索才有趣创新才不会乏味'], ['无数东京出身的日本人都告诉我京都人腹黑所以社长早上起床给我做早饭我是心惊胆战惶恐不安的日本·京都'], ['系列站驾式适用场合：适合平整地面上的中短距离的托盘水平搬运结构小巧紧凑特别适于在类似货车内部这样的狭小空间内作业'], ['朋友有两种一种需要经常见面否则连话都难接上感情更淡漠；另一种朋友不必天天联系三年五载甚至更长彼此音容模糊可一朝晤面宛若朝夕相处——虹影好儿女花'], ['人生若有三个这样的朋友真是太愉快了'], ['我真的太想吐槽这些老师莫名其妙的理解能力了说了几十遍哪里不清楚的问我我说你高冷个啥报上来的材料全是错的让你返工你还不高兴了我也很不高兴谁来照顾下我的情绪几十份登记表错了我还要帮你们改漏了还要通知你们补不高兴了还骂我一顿我真是'], ['我的红鞋鞋和俊俊的白鞋鞋都变成了湿鞋鞋'], ['气死我啦我都要吃速效啦道题就对道最可气的是她都会就是瞎写气死我啦'], ['果然没让我失望嫂子介绍的棒棒哒'], ['我的脚丫好酸啊这个点回来宿舍阿姨竟然锁门'], ['听的我头要炸了一个个非主流么音响放的最大声旁边还有个唱破音的'], ['在文化方面被很好保留下来的是古诗词在古代文人圈子里这也是游戏的一种比如曹植就很喜欢叫一群伙伴对赋不过现在大家没这闲情逸致了所以还是古人真会玩'], ['脾气差脾气差脾气差找不到男盆友估计就栽在这硬伤上了'], ['天天看到买家秀而我的却待那三天了就是运不来武汉好燥'], ['艋胛走一遭求个上签～耶耶耶虚空结愿结人缘保得人安愿未还得兔忘蹄真绝迹敢将初誓谩轻瞒'], ['又多花四个小时来睡觉我心怎么这么大然而也并没有睡好'], ['大红袍红楼梦西厢记玉梨魂等都是他们的著名剧目'], ['就说今天大家都说我是骗子原来如此啊哪个畜牲干的'], ['莫名看了果子被打的片段又想撸了虽然我很少看但是果子被打虽然是假的也很心疼'], ['回家的路上雨越下越大大楼广告牌车灯的光线照射下的密集雨丝都让我看得有些入迷雨密得仿佛纷飞的小雪好想把那样的画面拍下来突然想到之前我们一起去的寺庙清净之地虽略显破旧那绵绵细雨之下的屋檐是镜头最好的留恋照片最佳的记录在那住上一阵粗茶淡饭也是很好的享受'], ['今天竟然不堵车太受宠若惊了～笑不可抑笑不可抑笑不可抑早上出门时门卫小弟还递上一杯姜汤顿时感脚我们小区还是蛮不错的嘛'], ['根据伊利集团奶源建设的发展规划未来五年伊利在此基础上还将增加建设个不同规模的牧场从源头保证了绿色产业链得以实现'], ['要记住无论我们最后生疏到什么样子曾经对你的好都是真的（风停了货也发完了咖啡也喝完了回家睡觉）'], ['一年做饭的次数一个巴掌都能查过来不过每次都受表扬'], ['韩家坟村隶属于云南省曲靖市师宗县竹基乡斗坞村委会属于山区'], ['剧情好冗长感觉会有好多人看不懂前后几部有关联像是谢幕告一段落貌似串联起来涉及到的角色都死光了'], ['中午吃的都白吃了哎殊不知我这个月已经花了这么多钱了'], ['无底洞吸血鬼烦死'], ['今天是人生第一次吃客家擂茶饭非常的素有些不惯以后还会多尝试其他的店家最近也喜欢去吃潮汕的快餐真心感觉潮汕人讲话的声调大都好有力量有魄力有冲劲的感觉'], ['最烦打扰别人睡觉还没有自觉的人了'], ['谢大妈送礼辽剧小戏剧目创作年月大连瓦房店市辽剧团首演'], ['主峰高米云海茫茫'], ['横叉子于水中倏忽来去疾如流矢猛悍如西楚霸王故本草纲目论曰：鳡敢也'], ['一回想忽然发现已经七年了时间过得真快就是想问问你还在不在我知道在原地等着什么的不科学就是想知道你有没有追上来我走路很慢我会慢慢等你就是希望你能赶上还能在一起'], ['没事的事事一件件来冷静处理才有满意的答卷'], ['没事就好可是想到了还是火大很不甘心'], ['哭出来了没做好准备功课讲讲了极限挑战结果连赞助商都忘记了这都是命啊'], ['公司的班车比公交车还要不靠谱好生气啊'], ['我不开心不开心不开心不开心不开心'], ['什么态度下雨天拎了一大袋东西在下车时完全动不了司机一脸冷漠的说道：你搞快点我当时火大'], ['甩掉一些粘糊糊负能量满满的人活的好清爽'], ['他妈的这么偏僻的地方难怪大家都不愿过来等了半小时站点上公交车还不来一辆'], ['明天一早去香港提案距起床还有个来小时现在的我却苦逼的拿着临时从公司带回来的联想安装软件包为什么拿电脑后不检查一下为什么不及早买个自己电脑可连接投影的转换线'], ['对啊做收银员的时候见过那种把钱扔桌子上的感觉刚讨厌了'], ['这样来尽量减小每个模型的大小提高计算机的运转速度'], ['他妈每个公司的老板娘还是都更年期奇葩打个电话找人不能好好说话就直接喊不在是喊不是讲他妈的'], ['老总说未来的日子里要经常加班了心好痛'], ['学校早饭最好吃只是能早起吃到的时候少嗯就是老师恶心点事妈就是她烦她烦她烦'], ['纷扰过往尽数消逝莫忘初衷且思且行'], ['截至月日两县县乡村三级医疗机构共接诊伤病员人免费为灾区民众发放了价值万元的药品'], ['安莪镇行政辖安莪古令文科应为文料华山琶垌大六三南龙埠石印柳村等个村委会个自然村'], ['开个视频不容易啊还要给你打马赛克呀'], ['最近睡眠质量真是越来越差不过开心的是我还在长高哈哈哈哈哈哈哈'], ['不能早睡不能躺尸头好晕我好累我要睡觉夏麻麻扎头花'], ['水路与公路游览游客可任意选择充分领略大自然赐于的优美景区'], ['适当的时候跳出自己的朋友圈做自己的事不要随波逐流的与他人一样'], ['我一直把你当成我最好的朋友所以我习惯了有你在我身边'], ['年他参与兴建报德堂；'], ['之前看到有人直播吃饭我觉得很奇葩想不到回到家就遇到一个老人家吃饭的笑不可抑韩国人吃东西永远离不开泡菜泡面基本上每个播吃饭的韩国人都要干掉一大盆泡菜'], ['他还说普什卡是个花心大萝卜芭丽需要好好管管自己的妹妹'], ['至于赔不赔如何赔还须根据保险合同条款规定办理'], ['小盆友终于睡了睡前最后一出妈妈我让你看看我穿睡袋怎么上下床啊'], ['请问一下首页甲级捞齐柏林的提督斩杀完恢复的磨血配置削甲是否有效用的是水打在捞感觉反航有些拼脸'], ['遇到这样的人才公司也是醉了耽误一个家庭'], ['搞不明白为什么要把胶东话作为山东方言的代表以前有演员学山东话就是胶东话一直在郁闷难道自己不是山东人'], ['晚安想念的时候总觉得时间过得很快'], ['第一次玩微博好落后啊这都年了我的天亏我还是个后'], ['真擔心自己某天因拉肚子而翹辮子好不容易好多了又復發'], ['早上做了个很恐怖很灵异的梦惊出一身冷汗（不是吓出因为我其实并不害怕这些）'], ['北京交警四海桥附近爆堵请问又为哪位重要人物封路了能让老百姓正常上个班不平安北京'], ['．研究并向国家提出关于铁路运价税收财政信贷和金融方面的政策建议并进行相应的协调工作'], ['生活简单就迷人人心简单就幸福'], ['刚到金宝贝果果奶奶就对她印象奇差果挡她路把果一把推开后面宝宝们在一起玩两个孩子在一起抢玩具那女孩抢不过就上来抠果果的脸脸被抠破那奶奶不但不问还说我家孩子就是爱抠人再大的孩子都抠更何况这么小的大傻叉幸亏我家果被抠的第一反应还给了她娃一个饼'], ['⊙扩展能力：可以扩展到其它语言及行业特种专用字符集'], ['晋王杨广为了和他哥哥杨勇争夺太子位表现得不好声色甚至琴都断了弦上面布满灰尘'], ['姐从小就是小脸巴是哪个没眼神的说姐脸大的'], ['困到不行接个电话挂了之后就忘了刚才说过啥'], ['难得一起休息吃烤肉为什么还要买路边的包子'], ['年月调任南京军区副参谋长'], ['昨天没锻炼开来就狂练接发力量和速度导致现在双手痛到不敢用力'], ['也许一个人要走很长的路经历过生命中无数突如其来的繁华和苍凉才会变得成熟'], ['平凡到不能再平凡那么多年连名字都能写错服了'], ['发了朋友圈就后悔了还特么说呢'], ['嗯大概应该足够了吧想一想啊真是还是心有余悸啊可是不是要怎样啊不是要钱要人要心啊而只是要舍得和体贴呐之前也的确是被讨厌了啊话都说到那个程度了被认为成是那样的人不想吵还是不知道解决互相膜拜'], ['婚姻和恋爱是两个不同的概念恋爱凭借的是激情而婚姻凭借的则是责任和做人的原则一个女子只有到老了还有钟爱她的男人守在身边那才是最幸福的早安'], ['切水果切到手就算了连刮眉都能把手搞破'], ['昨晚没睡好最近每天晚上都痛醒差不多一周了吧白天也一直痛着'], ['今天真堵呵呵上周白白准时到了一周今天一天迟到温泉票就和我没缘了'], ['后不受约束任性没有责任心他娘的谁喜欢被逼无奈去承担一些破事去对着一头猪说话'], ['抗日战争爆发后任八路军师旅供给部长八路军驻陕西办事处经理科长西北贸易公司经理兼西北农民银行行长陕甘宁边区政府工商厅长'], ['我爸说我精神不好还说没事别总回家'], ['我一直以为乌龙闯情关是恶搞的呢原来真的是段历史阿'], ['盒子里面居然有凸起的偷工减料的也太明显了吧一盒只有半盒还指望我再去买吗失望华味亨官方微博潮州日报卜蜂莲花'], ['该公司于年加入国际有机农业运动联盟（简称）成为正式成员'], ['完全完整所期望的各部分都被得到这种情况也让人产生完美感'], ['你是猪吗这猪脑子'], ['这玩意儿吃着吧容易想到一句歌词：我总是心太软心太软独自一个人流泪到天亮笑不可抑笑不可抑笑不可抑笑不可抑笑不可抑'], ['二增加促进建立和完善少数民族事业发展综合评价监测体系推进实施民族事务服务体系和民族事务管理信息化建设的职责'], ['看着梅西怒气冲冲的奔着比自己高一头的兰帕德就去了真替他担心挨顿打倒是次要的玩意兰帕德再吃张红牌得不偿失啊'], ['真想骂人一大早上各种添堵跑的浑身是汗腿都软了地铁还带关门迟迟不走的都是骗子说不出话来了我'], ['也有一些闲置的空地裸露着浑圆的脊背像一个巨大的树墩'], ['看燃烧吧少年第一次觉得李宇春很有魅力自信有理性分辨能力落落潇洒间控制局面'], ['北京提醒儿李小娜的娜年娜月：大望桥下刚才这个男人在偷东西他偷东西把我吓着了所以没拍到照片还以为他跟那个女孩儿一起的还好那女孩儿机灵感觉到了大家小心了'], ['我希望那奔跑的道路永远没有尽头我的想念也没有尽头'], ['曾为布兰妮菲姬小野猫阿肯等知名歌手作曲'], ['数不清有多少次因为害怕开着灯才敢睡数不清多少次做噩梦惊醒可总不能流血就喊疼脆弱就想家终究还是要长大最漆黑的那段路还是要自己走完'], ['任何时候口红都要比纸巾更重要有浪费纸巾擦泪的时间和力气不如好好补个妆然后重回战场'], ['隋朝仁寿二年壬戌公元年因地濒太湖而改名湖州'], ['峰峰欧巴要是我在你身边就好了'], ['虽是新开发车型这一年也一如以往几乎是毫无故障的跑完撒哈拉沙漠'], ['好人真他妈不能做艹艹艹艹艹艹'], ['很享受这样的时光很久没有这样肆意的笑也许会成为我很重要的回忆'], ['身高真是用来救命的哈哈哈哈右手暴青筋了尼坤也是天生神力谈笑间单手擒妖'], ['亲爱的谢谢你一直陪在我身边今天满满的感动'], ['眼睛痛没进沙子却越揉越痛掉了一只樱桃耳钉的不爽然后下雨的天要去排舞'], ['哈哈听见一个兵哥哥喝多了之后对我的评价絮絮叨叨就那几句话人好漂亮豪爽值得交谁娶你有福气舌头都喝大了'], ['今天一整天都呆在实验室感觉很充实很有成就感最后即将结束的时候突然发现我们的最终产品不见了原来我们把产品倒掉了'], ['真的用尽了包容和体谅退步了很多次现在连自己都说服不了自己安慰的话都找不出来了不想自欺了太委屈算了吧算了'], ['我知道我误会你了当我挥起手要打字时候我在想这样很合适吗我要真实的说出我的想法吗看着一排排的字我手指在颤抖我怕你看到了伤心我怕失去你'], ['幽灵党已经是的第部了自从看了有苏菲玛索的黑日危机便对电影深有好感必追之剧呀虽然看多了总感觉和之前的谍中谍那么雷同情节也是看了开头就大概知道怎么发展但是一听还是会去看的棒棒的'], ['上大学就轻松了这是世界上最大的谎言现在我都困了一会儿还要干着干那的特别烦'], ['某某送的爱心早餐三明治爱心爆满俩鸡蛋培根沙拉蔬菜醉了'], ['我要被楼楼虐死了就算最后楼楼活下来了又怎么样有能力爱的心精神灵魂全都已经支离破碎再也凑不齐的人生再也无法见光的心一直活在阴影里不想继续走下去但注定一辈子出不来'], ['有时候被一些话语伤害却要还强笑着只因为我们是朋友'], ['对于盆腔融合肾或位于胁腹部者插入输尿管导管的平片将为诊断提供第一条线索'], ['我竟然一天没发微博真的是要我狗带了狗不过话说回来岁的生日真的很快乐还吃了老妈给我烧的满满爱意的生日面有家人的陪伴就足够了想哭的赶脚出来了笑不可抑得到的祝福虽不多但还是很谢谢我一定要努力做一个『勇敢善良正直可爱』的慧儿加油希望能像这样二下去吧'], ['有一种朋友叫不黑他你会死有一种朋友叫不黑你他会死'], ['据该所介绍今后集装箱船有向超巨大化发展的趋势并且对发动机以及各项航海性能提出更高的要求'], ['真想投诉啦让三年级的学生回家背社会主义价值观'], ['找不到这张当时不造被扔哪个旮旯里了'], ['破题都这么大了还要做题做题做题做题都活不到八十岁竟要学将近二十年的习我要疯了'], ['最近真的有点累有时想想其实自己没那么坚强何必一直逼自己做元气少女分分钟笑容满满我也想伤心一下也想有人可以靠一下后来想想还是算了吧好像没有人可以纵容自己这样都是岁的大姑娘了还有什么娇可以撒大家都在忙大家都在累谁会管我难不难过记住了你只有自己可以依靠'], ['这段时间憋的我越来越重了'], ['最近脾气越来越暴躁啦一点就着一不顺心就发脾气这几天在微博上看了好多为爱付出那么多却得不到回报的小女生真想一巴掌把那男的乎死自己的媳妇儿不知道好好疼好好宠这种男人要他何用啊俗话说的好：男人不能惯越惯越混蛋'], ['中国是一个神奇的国家中国有这样一个群体他们是中国最大的一个未成年人群体他们对于破坏地球的生态坏境做出了令全世界骄傲乃至全宇宙未知震惊的成果吓到了火星人每当放假时比如现在是一个令全世界的树木资源为之恐惧颤抖害怕的节日'], ['真心觉得现在的我很幸福有一班很好的同事好朋友都在身边父母健康常在工作上也让我学到很多东西我也知足了'], ['太阳当空照花儿对我笑像盼了一个世纪太阳终于终于终于出来了要不要告诉你们太阳光刚好照在我的办公桌上了'], ['也太嚣张了吧那些都是无辜的人要打仗就光明正大的打啊干嘛欺负手无寸铁的百姓啊真的是够了'], ['衡量一个人是否值得你穷尽一生的去爱并不是只看他在心情好或是你们热恋时他对你的好能好到多好而是要看他在低落难过厌烦生气的时候；对你的差能差到多差'], ['熄灯成了达理人的魔咒好可怕一直被我遗落在角落的充电宝大大成了我最贴心的宝贝也终于明白充电式台灯畅销的缘故了趁着还没熄灯电脑充电也是很重要的是时候来治治我的拖延症了我是该哭还是笑今晚睡觉前蚊帐一定要拉好蚊子陛下啊求放过'], ['什么姐妹都是骗人的你明明就有买我只不过问你你去哪买的我也要买你竟然转脸就说你没买那你上次跟我说你买了啥'], ['臭贱人孟可乐偷吃我的子弹头昨晚还强迫我给她买帽子拉完屎还欺负我'], ['在植物性食物中又以绿叶蔬菜的含量最高'], ['我的少女时代女主长得太像我的初中同桌分分钟跳戏小成本电影中还算不错的电影了虽然有些剧情有些老套刘德华和言承旭是尖叫最多的点哇'], ['好的照片里有故事好的故事让人流泪脊背发凉甚至毛骨悚然我发誓我没有夸张说辞'], ['尼玛的净顾着和他吵了忘了低调不过还好声音不算太高家里人过来问我和谁吵我只好是胡乱答应说是在和同事说事儿而已原本是想在这里抒发一下自己心里的怨气或是想法之类的却没想到我前脚发他马上就能看到整个一个监控器我也奇怪他是怎么做到的不爽'], ['恐怖片中吓人镜头集锦'], ['脚门框进了楞是没判命不好只能任命佩兰下课重要吗足协改革不彻底只能呵呵'], ['地铁上突然有个人对我说：有时间你要上网多看看圣经信耶稣好可怕'], ['底部衬有较柔软的植物材料毛发和马鬃'], ['好烦为什么经常都好像皮肤过敏一样'], ['这是昨天最大的收获不爱吃泡面为了还是得吃哈哈哈哈哈'], ['和你说大道理还不如我对牛去弹琴操'], ['我会把所有的想你改成喜欢你心'], ['遇事好好商量不争吵这么多年这句话我们两个始终还是做不到我发现我们俩遇事从来意见就没统一过难道我们彼此是为这么对方而存在的吗'], ['早六点半起来的并不是很早但今天感觉却特别好七十二变变成了什么模样明天见'], ['恐怖分子手持狂扫这些家伙是疯了么'], ['好姐妹在一起打打闹闹的日子过的挺快的希望老了以后还能这样聚在一起跳广场舞'], ['一大早像个神经病一样在寝室喊徐珠贤加油还好寝室就我一个人'], ['今天真悲早上去练舞就因为太高从中间调到后面谁来就我'], ['这个天天叫我宝贝的男人给了我极大的安全感他说：只要你想嫁咱们随时结婚女人一生听到最动听的话不过如此了吧～'], ['遇见这样的老板恐怕我很快又要辞职了'], ['又到每个月感冒一次的日子了不開心'], ['害羞是畏惧泪和浮云害怕耻辱的情绪这种情绪可以阻止人不去犯某些卑鄙的行为'], ['整理小组的物候观测表格整理得电脑都没电了整理完明明保存了为何不见了心碎成渣我想静静不要问我静静是谁'], ['厦门第三次入冬失败我买的厚衣服还能穿上吗'], ['半夜腿抽筋了真的好疼好疼疼爆了看来还得吃钙片'], ['地有秦州之成纪陇城清水天水；'], ['今年双十一快递速度感觉特别慢去年也没这么夸张买了很多东西到今天物流根本不动明年双十一不会再买东西了'], ['塞上耳机让醒一下大脑哈哈这时候的歌对我竟然还有疗伤治愈心情的作用一年来每天都会单曲循环的歌'], ['最近在看抗战剧越发讨厌真是恨透了小日本气死我了～～～～～'], ['这两天火气都是要分分钟绝交的趋势么'], ['除了解放日报和徐汇报另一份报纸单位随机分配于是我随机到了一份全年订阅最贵的报纸——经济日报也是无语了'], ['看看电影喝喝咖啡聊聊天～空气都美美哒❤️前任攻略确实好搞笑'], ['吃上了想吃的汤圆跟身边的人快乐融洽总会被关心问候；有人一起聊天嗯～真好'], ['今天带去体检预防针估计下周才能打还有一点流鼻涕都十天了'], ['我这压根不是粉花了一个多小时把微博全看了根本不是禁系爱抽烟喝酒吧啦吧啦吧啦逗是挺逗的哈哈'], ['就像送佩兰一句话——骗子死全家'], ['新版微博看秒拍视频一点就退出一万个差评'], ['是呀明明知道不能那么想你可是有什么用呢'], ['玩这个老游戏我简直是叼到没朋友'], ['心灵盲从所谓真理；行为被道德或法律约束何去何从'], ['甘肃省西和县兴隆乡下庙村位于西和县城东部北临党山村东接上庙村西接季阳村'], ['如果选择了一个人漂流希望日后风风雨雨你都可以一个人承受'], ['烦恼事情日日多为何上天不眷顾我地'], ['管东厂的太监称为督主经常以司礼监秉笔太监或其他太监兼任'], ['早安一切似乎总是那么的美好'], ['周：离预产期越来越近离安全期也越来越近反而越发的担心胎动和分泌物稍微不正常点就各种担惊受怕怕早产怕提前破水走路也会越发的小心这样的心情怕是要到周以后才会放松些吧开始给宝宝准备物品了作为新手对此一片茫然只能翻翻别人的攻略跟风买买现在最大的心愿'], ['终于看到太阳了心情好的不得了'], ['很久不看青春片不是不喜欢而是不敢看因为不知道哪一个场景哪一句台词就轻易触动了那些尘封已久的神经原来我们和爱情曾经靠得那么近'], ['多景楼上引颈遥望观音谷天然巨石雕刻的日月观音左右紧伴着终年流淌不息的日泉和月泉美轮美奂'], ['我只是一个普通的女人我要的很簡單簡單生活认真做事用心待人好好做人'], ['我觉得我受到了这个故事的欺骗它辜负了我跌宕起伏的心情'], ['风沙粒的运动方式有种：①＜毫米的沙粒在风速每秒米时呈悬浮状态移动称悬移'], ['依然是不懂事我还以为觉悟会提高呢原来高估了'], ['购买本地的产品购买本地的产品能减少在产品运输时产生的二氧化碳'], ['宿舍的姑娘们都疯了不约会了不化妆了不睡懒觉了不玩手机了竟然连饭都不吃了一心在琴房练琴提升自我逼格'], ['这个高山流水的盲少年是怎么变成眼神炯炯的高富帅的'], ['今天晚上木有一件事顺心开骂模式'], ['不想再说关于你的话但是目前我们永远没有能交流的时间段你起来之后回个信息会死啊'], ['国道东西横贯全乡与东部的周南公路的四通镇交汇交通运输便利'], ['郁闷有些事情帮别人做了还会怪你没做好唉这世上没有什么亲情可言只有金钱'], ['好喜欢这种都是雪坐在屋子里热乎乎的小火炕上在吃个烤地瓜烧土豆的'], ['从小就知道世界可怕有很多的坏人可是从没正真在意过因为没有涉及到自己的身边惊恐而当今天小偷大叔将手伸入我的口袋被发现未遂后又从容离开而我有没有勇气阻止的时候才明白面对危险时无能为力而又独自面对是一种什么样感觉我的心情日记'], ['喝了三口没了全是冰块草泥马星巴克中国'], ['现在有医术又有医德的医生真的太少了不管小病一去就是抗生素一大包的药简直是不拿不准走拉着去付钱连一两个月的婴儿都不放过反正药开得重病总会好的真不知道这些医生的心里到底是想救人还是想害人'], ['噢艹好烦怎么可以吻我康总啊'], ['谈判日复一日持续了半年之久柴鲁尔仍一无所获英国人不允埃及独立'], ['组织各级论文和优质课竞赛参赛工作'], ['是否有人如我般觉着『』有那么动情那么动听'], ['但缔约国任何一方可以在本协定生效之日起满五年后任何历年六月三十日或以前通过外交途径书面通知对方终止本协定'], ['为什么会弥漫着恐怖感和恐惧感一大早的心累哎好累'], ['最讨厌一些王八蛋自己找我聊天却半天不回'], ['心情好成交量就高成交量高才有钱买多多衣服'], ['聚贤哲而论道集骚人而赋诗挽知已而诉怀邀星月而吟唱'], ['这个老逼头子看我吭哧吭哧干活你特么是不是老开心了'], ['每天都是各种事情都没有时间让我思考一下人生不开心'], ['好可怕我要得密集恐惧症了吃惊'], ['单曲循环米亚宝到现在第一次听觉得一般现在简直中毒到停不下来副歌太好听振焕和东赫的部分超爱主要是声音超爱'], ['园林景观以近千米长的蜿蜒水道为主线清风游廊实木栈道亭台楼阁环绕周围辅以树阵花台成现出自然的生态园林景观'], ['我从未想过放弃爱她的脚步我努力想给她最好的我把时间精力都放在她的身上我从来没问过她到底想不想要我只知道我不会把这些东西给别人'], ['我特么长称了导致心情非常非常非常不爽'], ['据永乐大典卷站赤上载河南府所辖站处马匹'], ['快疯掉了想挠墙人家只是三天没去健身房竟然胖了斤斤斤你大爷的明天还想请人家来家吃饭呢'], ['每天早上挤电梯就跟打仗似的要全神贯注不然一不留神就被插队了好心累啊上个班'], ['别再延期了高三狗等的很辛苦的'], ['保持一份平和与清醒身居闹市而自辟宁静；固守自我而品尝喧嚣；在人生的旅程中全然切断时间的概念享受悠闲相拥的过程欣赏岁月沉淀和时间的幽深不辜负你我不期而遇的美丽时光；脚踏实地；不漠视：不虚度快乐悲伤都要记得：就算心碎也要拥有最美的姿态'], ['此刻像极了韩剧里的苦情女主下着雨又没伞又没车可是不是应该有男一来送伞和远远观望的男二既然都没有至少要有一碗牛肉面吧'], ['靠右站稳左侧通行是不是不会'], ['这个摩天轮摩天轮比锦江乐园的要大人一缆厢就靠在湖边往下看是湖水荡漾还是怕怕的所以始终动作僵硬即便是雾茫茫的还是可以看到桃花岛以及氦气球小朋友从高处观望了几次过山车后得出结论：妈妈这个太可怕了惊恐'], ['原来这家杭州这家脆皮玉米店人这么多'], ['先是过敏性鼻炎然后咽炎发作接着引起了感冒胶囊忘吃了几次药就升级成了发烧我去作死滴节奏啊'], ['参考坐标系应通过扩展头位置数据文本段识别（见节）对于叠后数据本字段用来填纵向线号（）'], ['佛说看破不说破继续做朋友否则将泄露天机妈呀我得泄露多少天机了'], ['天哪噜看样子不能在微博上随便评论啊那个中国红客联盟宣战的辟谣的微博下面我就这么随便评论了一句就被喷了我是无辜的啊妈蛋喷子真多'], ['亲爱的你们要好好的我会想你们哒只是我没有一一的问候你们但我没忘我们的爱'], ['安全操作收割机作业前须对道路田间进行勘查对危险地段和障碍物应设明显的标记'], ['一个横梁一个中柱一群人乱踢敢不敢进一个'], ['向来悠游寡断忸忸怩怩害怕得罪人舍不得损失总要塑造高大伟的形象到现在也不见得我有多受欢迎别人眼里大概只是个沉默寡言的孱头想怎样就怎样没什么好畏缩的没什么好隐藏的没什么好伪装的谁会在意这么多呢'], ['居然能在工作日睡上小时太幸福了昨晚还做了好多梦还梦到收到短信我以为是真的一大早还惊慌失措的翻手机哈哈哈服了我这个一天到晚活在梦中的人鬼脸今天阳光明媚八年前的潘小婕你好啊准备好开始一段奇幻的旅程了吗'], ['笨宝宝又吐了前天吃的东西都快吐了'], ['〖一些彩色吸管有致癌危险如何快速辨别〗尽量选择透明无色的吸管红色等色彩艳丽的吸管添加染料会很多此外还要将吸管对准灯光查看管壁是否均匀无杂质有杂质的可能是采用劣质塑料制成闻一闻是否有浓烈的塑料味如果塑料味很大就要警惕'], ['说实在的很羡慕她毕竟不是像我一样花着家里的钱'], ['小家伙告诉我因为雪下的太大明后天不用上学济南到底下了多大的雪'], ['无论你在天涯海角还是在我心里爱都是付出都是感受都是体会都是经历只有这样才能真正懂得什么是爱爱是不断运动的过程真诚的投入才有真心的相爱'], ['清新的空气快乐的气息透过空气射入你的灵魂里将阳光呼吸将幸福抱起泡一杯甜蜜的咖啡接受祝福的信息早安啦'], ['百度投票那里是什么鬼我喊十次有九次出现这种情况还让不让人投票了'], ['其形如玉龙戏珠色彩鲜艳刀工精细口味酸甜'], ['我第一次知道公交车能加升油加一次将近块'], ['我都快没脸见人了痘痘什么时候才能消了'], ['妈妈等我睡了再给我清洗我的游戏区妈妈给我划分了阅读区音乐区益智区休闲区哈哈你们能看出来吗'], ['三叔说我弟弟不抽烟不喝酒会不合群没朋友说不抽烟喝酒的人人家不想理你叫我弟学抽烟喝酒你家不是有一个儿子马上初中了吗你怎么不从小抓起教他学抽烟喝酒吃槟榔啊真是气死我了谁说不抽烟不喝酒就没朋友了你安的什么心'], ['宝宝压力好大啊需要冷静冷静'], ['十万个草泥马在奔腾'], ['雪纷纷下葬了象牙塔多年恩怨月后诉它'], ['．我的世界里面：有好多好多的秘密关于你却只属于我'], ['虽然作为一个文科生但是感觉这笔是越来越拿不起来了'], ['什么时候会安心只有自己才最清楚天不负有志者事竟成不论遇到多大的障碍我依然对未来充满信心'], ['昨天试了下拍风景拍飞机拍久了总得换换口味嘛'], ['今这是我的第一次去了虹口看了鲁迅故居和内山书店旧址然后去外滩好久没去那里还有好多人'], ['我快把肺咳嗽出来了而且咳得根本停不下来'], ['我这是皮子痒了不上班居然不习惯不自在不舒服浑身难受'], ['刷了半天也没人找我玩你们这群狗崽子去死吧'], ['你觉得做事累是因为拧巴自己做了不擅长的事你觉得说话累是因为绞尽脑汁想要说出别人心里的话你觉得交际累是因为对方跟你具有太多不同的品质还是纯粹点好'], ['此地背山有靠山青发秀接衡岳之神韵；'], ['今日教言：嗔心生起之时如果观察它的来处默然静坐片刻怒火会自然熄灭——索达吉堪布入行论广解'], ['以前应该让我去工地就去工地现在想自己装修房子铲墙皮我都不知道怎么铲'], ['又要迟到了破快二几秒钟都不肯等'], ['芬兰的一位妈妈在她的小宝贝女儿睡觉时用衣服毛巾啊这些家里的道具给摆出了许多故事里的场景姿势拍了下来每张照片就花几分钟的时间很自然的创意和造型她把这些照片集成了一本相册：的白日梦太可爱了妈妈们一起来发挥想象力吧'], ['宝宝今天去复查黄疸医生说恢复的很好还夸宝宝长得漂亮嘿嘿～宝宝妈妈好爱好爱你'], ['今天居然睡过了没有去上课明天要填毕业什么什么表的要早点睡了晚安酒练岗'], ['下了好大的雪今天我跟我妈说我想吃麻辣烫我妈说这么大的雪怎么去我说我爸开车去我妈说你爸不吃麻辣烫可是就被我拽去了个人吃了块的麻辣烫'], ['让花店送到后及时通知与回复'], ['心情好的时候也丑心情不好的时候更加丑那我是要心情好还是心情不好呢反正都是丑所以我还是开心不起来'], ['今早的成都天空有一条神奇的天路小伙伴们早上好'], ['继腿伤之后第一个没睡过头的早晨好开心'], ['今天真的是什么事情都很咄咄逼人啊真的火大到不行前面的妹子打印东西已经二十分钟了刚才又有个男的把我给撞了'], ['兴奋到这个点睡不着我也是醉了'], ['年缪勒回哥伦比亚大学继续从事遗传突变研究'], ['度愚方丈学贯禅教律净瑞云中兴当与此不无关系'], ['尼玛太吓人了今天在家乐福买的肉煮出来汤是黄色的咱把萝卜煮了萝卜都黄了尼玛要日天啊'], ['马伊琍最近的电视剧居然都是真空上阵真是'], ['今天我的小公举第一次说不跟我去玩了'], ['在古人眼中玉器是有特殊功效的灵物很早人们就开始以玉石敛尸企盼着死去的肉身能完好不腐地再生轮回'], ['为什么还是不开心呢一定是我太在意别人对我的看法'], ['其实我想说一句小薇把头发剪了差点没认出来'], ['这么晚了还不想睡双十一过了我以为我不会买了我以为我该买的都买了可是心里还是感觉缺今天我爸给我打钱了还想继续败我都忍下来了心里总觉得缺什么我肯定得了买买买的精神病'], ['这样参加个毛招聘会啊拍个毛毕业照啊'], ['我睡啦今天这样讲上话也挺开心的晚安海肠哥'], ['什么鬼发了这么多天还在广州啥时才到惠州啊'], ['谈恋爱的目的不是为了一段浪漫的故事而是为了有结果而真正能给你结果的男人并不是充满梦幻感的他们或许没那么好看没那么好的条件没那么浪漫但却有一个共同特点那就是靠谱他们不会让你冷落不会让你难过因为好男人的心里始终都有你'], ['我家泰格的日常霸气侧漏的小二货我的小混蛋小乃心小棉袄小傻瓜小宝宝小妹妹小屁孩啊呀呀呀呀呀呀呀呀'], ['乡内矿产资源丰富储量较大主要有煤铁铜等多种矿产资源这些资源有待开发利用'], ['生活即使再艰难保持激情总是对的前方路还很长阳光总会温暖到你🌤'], ['全村共有个村民组共户人土地面积亩'], ['济南女子凌晨被短信吵醒银行卡内元被莫名转走'], ['①一级深度：森林经营设计应达到初步设计深度'], ['老乡们被玩得惊魂未定高潮迭起真的以为京沪永远张都提心吊胆攒钱度日看看谁受益吧背后有高人指点这是一场局现在已经把资金逼向了三四线城市去库存的任务即将完成大量超发的人民币被成功锁死还拉动了经济没有出现日本模式也没出现莫斯科模式真高'], ['上课听老师侃大山我就默默地看看微博突然听到老师说教学效果与音量成正比我震慑到了'], ['漓江农村合作银行的前身是桂林市郊区农村信用合作社联合社成立于年月'], ['山梨县的宝石加工业也不仅仅局限于水晶玛瑙玉器等加工产品也非常有名'], ['笔试过了笔试过了笔试过了（重要的事说三遍）还有口试还有口试还有口试天啊天啊天啊我的心啊十篇导游词上万的字啊'], ['或许只有悲剧才能叫人记忆深刻这一次换我来抱你了'], ['的贱人不干你来干熊非逼我爆粗口泥马'], ['心理学上说：女人大多数只对有安全度的人发脾气因为在那个安全度之内：潜意识知道对方不会离开你胡闹是一种依赖'], ['在中国符合法定结婚条件的男女'], ['小时候被两个恶梦困扰好几年其一是闭眼就会看到一条笔直的大道伸向远方两旁是深深的森林没来由觉得阴森可怖还有就常看到一只硕大的手指压向自己就象捻动一只蚂蚁而且感觉粘腻如蛇令人恶心恐怖这两个恶梦使我少年时就常失眠和夜惊'], ['我好饿我不想吃稀饭我要吃东西好吃的只喝粥吃菜包真的好饿'], ['年的香港连续剧由廖伟雄恬妞黎彼得主演'], ['田子坊逛不够～好喜欢一家店的音乐盒哈哈以后再买吧～'], ['吃水果也是一种学问果断收藏'], ['为什么我错过了一次还不懂得珍惜'], ['民国政府成立时废黜京兆之称'], ['为了挣钱竹马竟然提供这种服务'], ['没课的时候你可以随便叫我去做实验让我请假就为了给你做实验就算我上课不是特别认真我也不愿意请假啊'], ['每天早晨当我从迷糊转到清醒时我都会把我一连串的见闻从扣扣发给他然而等到我下早自习了他也就会从睡梦中醒了然后迷糊的看着我说的一堆仔细醒醒脑子来理顺我说的这些不合逻辑表达不清楚的话哈哈哈我觉得她好幸福我好羡慕她有我这么一个中国好闺蜜'], ['原来北上广里的陶可道和梁伊分别是巴拉拉小魔仙里的游乐王子和小黑魔仙我要静静'], ['我不开心我一点都不喜欢她们在我跟前挤巴巴的跳减肥操好烦啊因为想静的时候别人动来动去最心烦了还那么挤'], ['爱过又怎能甘心当朋友即使再望多一眼还是想拥有皇上臣妾办不到啊'], ['其实啊那些你可以大大方方分享给别人的事情都是你放得下的无论是云淡风轻还是依然动容只要是能把事情客观完整说出来就证明你放下了；而那些你根本不愿想不敢说心有余悸地回避着或者用我有一个朋友来带过的才是遮遮掩掩的难为情抚州·天上人间咖啡茶'], ['黑妞妞到现在也还是不能提不能写'], ['今天一天觉得很充实而且效率很高❤可能因为快要见到你了就有满满的动力心情充饭卡取快递吃烤肉去超市买洗发水和纸回学校去办公室盖章然后给小曦找资料和小美洗澡再吃饭看电影今天很累明天还要去南区但一想到要见到你就好开心好高兴'], ['因为羽毛痕迹只会在细致的沉积层中保存下来有些发现于粗糙岩层中的化石保有了羽茎瘤羽茎瘤是鸟类的飞羽附着点'], ['心情不太好但是看到你们就又变好了挪用下贴吧君的图跟你们说晚安啦'], ['好恐怖啊生病生病太吓人了'], ['不喜欢的人怎么做也是徒劳的可能你做的越多我越觉得烦就连聊天都觉得你特么好幼稚'], ['只能帮忙扩散不知道这样的事情还有多少在发生着'], ['我简直是作死晚期患者了看了个恐怖电影图解脑子里就只剩图片里突然冒出来的大眼睛了一点都不动人不開心重点是那句'], ['望家祠堂：位于宜昌市夷陵区太平溪镇新集烟竹园'], ['突然眼睛酸酸鼻子酸酸别问我为什么'], ['猫的报恩是真事儿啊上次是一直血淋淋的大鸟'], ['跪了一下午我现在特别想大吼一声：我掉级了'], ['突然惊醒想起了我的爷爷音容笑貌宛如还在眼前不知在另一个世界是否安好'], ['感冒真是难受脖子哑舌头起泡嘴巴长痘买了好吃的也吃不了晚安了'], ['戒毒局这群人办事能力也是慢的没话说了老纸要上班'], ['仙桃出啥事了怎么交警全部派到人民医院去了'], ['我在车里咔哧咔哧的吃着这个芝麻条师兄开着车默默的看着我吃的欢然后说你不是有密集恐惧症还怕虫子么我：对啊他：那你为什么不觉得这个可怕我：因为它是吃的啊为什么可怕白眼他：你赢了这么简单的道理都不懂是不是摊手摊手摊手'], ['我今晚真是气炸了天天养生有什么用气一次都要死了简直被整疯了'], ['这几天被银行折磨疯了什么奇怪的事儿咋都被我这个公户碰上了'], ['傻叉蠢货你去死吧去死吧以后再理你我就不是人'], ['下雨天冷的一傻一傻的妈蛋能不能出个太阳太阳躲在暖气机底下不肯离开了'], ['喝远远一起吃原来备孕期间男人也要吃叶酸'], ['上海终于一秒进入寒冬模式走在路上耳朵都要被冻掉了居然还看到有妹纸光着腿也是蛮厉害的看得我冷得直哆嗦'], ['好开心啊哈哈哈哈哈哈今晚一定发一个很美很美的梦'], ['五负责纪检监察工作理论及有关问题的调查研究'], ['邪教带我在在的名字却取了个恶心的名字在我在在个人内容和四字没有任何关系的微博下还要给插刀货找存在感不懂得圈地自萌也不看看对在在的影响这样的邪教你怎么样和她们求同存异你和她们讲道理她们当你放'], ['二十晚安谢谢记得我生日的你们'], ['行有本事你以后就天天一到我上班的时候就下雨'], ['大方一中创办于年经过几代人辛勤耕耘和不懈努力年建设成为完全高中年被评为贵州省省级示范性普通高中现有师生多人'], ['长征出发时王稼祥因在第四次反围剿中被敌机炸伤弹片还在肚子里所以只好坐担架随队行动'], ['怎么会有这种人存在这个世界上的喜欢侠岚一天到晚又在损侠岚又说若森的坏话既然是若森粉为啥就不能尊重一下他们的辛苦呢一天到晚没完没了的在损若森有必要吗'], ['贵阳机场官方微博贵阳机场号线等了个多小时快乐两个小时一直还没有到受不了了还美丽空港'], ['爸爸妈妈去港澳旅游了我还要呆在学校里上不喜欢的课'], ['直到今天它仍稀疏地分布在非洲的热带草原上成为那里的特有风景'], ['一共说一句话且很平常语气不大声'], ['头疼看书看的头疼四年了都没这么拼过'], ['京东白条居然可以用信用卡还我居然今天才知道'], ['作为一个没有粉丝的小号为啥这条微博阅读量这么高'], ['我都不相信已经十一月了下雪梦破碎'], ['吸了一下午的毒结果实验失败心里一万只草泥马在奔腾'], ['今天是某人的喜日子但是我是不会祝福的哼凉薄之人不屑为伍'], ['世上没有完美的事：也没有太完美的人愿意放弃才不会苦适度知足才不会悔：人生的成功不在于拿到一副好牌而是怎样将坏牌打好；当心灵趋于平静精神便得到永恒给自己一个微笑吧太阳每天都是新的'], ['东南北三座楼平面矩形皆为二层砖木结构红色清水砖外墙立面多采用仿英的券廊式屋顶坡形出檐短浅'], ['晚上要求加班早上要求提前上班草泥马这什么公司'], ['吃的快递总是那么慢～慢死了～'], ['看第六期真的挺讨厌的她前面不是说其他人算什么去评判她但这一期她算什么去评判智珉和作为同样的参赛选手你为什么不直接去当评委呢'], ['真想砸电视啊又是最后时刻门将冲到前场年了一点长进没有'], ['听了一夜的的老歌不过瘾又把伦敦演唱会翻出来了超爱啊超爱'], ['这里是天地会还说是整人会啊'], ['小贩不容易但也不值得可怜在公交站边马路上卖东西缺德大了'], ['足球视频最后防线竟这般暴力血腥门将们的大让人胆颤心惊残忍犯规秒拍视频（使用秒拍录制）'], ['要么有自己要么没自己主权不在何需多言为什么要把娥逼到像个泼妇一样你们才听'], ['呛死我啦我吃了饼干吃了饭喝了汤还喝凉茶搞到我吐'], ['不是残废等同残废～宁愿你真的残废卧槽什么废物你不知道你让身边人多累多辛苦多心累就为了你自己的所谓的舒服自在宁愿你真残废'], ['如何才能再遇到一个彼此深爱的人'], ['年月组建直辖后第一届委员会'], ['每次自拍看到的脸都像切了一半的煎饼好忧伤'], ['打了六个电话不是通话中就是通了没人接你到底在干嘛'], ['同时唐代高级官员都有一个表示其身份的鱼符以袋盛之称为鱼袋'], ['惊魂时刻：今天抛下小布去官桥给大姐夫家请是在一个小村庄里然后回来的时候我开车经过一家门口不知怎么我撞上了人家楼梯的角把我汗血宝马的悬挂都给撞坏了右前轮直接不听使唤好可怕直接叫了拖车我爸去把我们接回来可怜的行楷现在还在路边等拖车回来后我妈一直叫我去睡一觉休息一'], ['好久好久以前在网络上的一个视频上看到给你的这么一段话我心疼的时候你已经痛过了我担心的时候你已经烦恼过了我看见的时候你已经把伤口包好了我落泪的时候你已经一个人站起来了好多人不懂偶像究竟是什么没关系只要我一直知道你是值得我永远仰望的意义'], ['你发如雪凄美了离别我等待苍老了谁'], ['你幸好不是我孩子不然早就被我打残废了怎么就那么废你投胎没投好吧'], ['坐落于广东省素有岭南名郡之称的惠州市创立于年月'], ['其实大多情况下没有你想象的那么严重：你的抑郁症是矫情你的拖延症是懒你的强迫症的特征是闲的发慌你的失眠是根本不困你的选择恐惧症是因为穷广州·嘉禾'], ['我還有堅持下去的理由嗎我還有繼續下去的動力麼只是感覺好痛好痛'], ['作者简介臧里性别：女职业：编剧'], ['坚持了这么久还是感冒了真难受'], ['有些事情烂在肚子里也许更有意义'], ['请不到晚自修的假晚上八点才放希望罗老师能重新定义一下点分'], ['在颠簸的飞机上好紧张旁边的人还问我怎么在飞机上没见我睡我好想说都害怕死了惊恐'], ['有什么事非得半夜打电话脑子有毛病啊'], ['那些我们一直好奇而又有一些惴惴不安的未来深圳婚纱摄影工作室有时候在我心里隐隐约约的感觉到广州婚纱摄影工作室它们是明亮的亲亲充冰聚文清心诞薏寒'], ['当我们面对一个害怕的人一桩恐惧的事一份使人不安的心境时唯一克服这种感觉的态度便是面对它——三毛'], ['我大徐州雪景美可惜我看不到虽然我怕冷但是我还是喜欢'], ['听说学校附近开了家辣凤芹于是全宿舍和同学满心欢喜的一起订了九份九份然后按说好的时间去新大正门拿人家说在新大附中呵呵跑到新大附中人家说米粉没了好歹我们九份也是大客户吧'], ['为什么要有考试这个东西人与人之间就不能多点信任吗我累我累我累'], ['真是不想吐槽了下午不来倒是告诉我一声啊我也就不从被窝出来了辣鸡主任'], ['今天死神来了被缝纫机搞到手🤕'], ['忙了一晚上多少觉都补不回来昏'], ['先母王氏育子女多人存者仅先兄宗晏（在台病逝）三弟宗煜暨幼妹淑兰四人'], ['看到宝宝从第二名变成第一名的感觉真是棒得不得了'], ['真是醉了你滴心眼可真多当谁傻呢'], ['妈蛋我又只睡一个多小时就被吵醒了睡不着这次是蠢狗睡觉做梦蹬腿在床上把我踢醒顺便今天生日收到好多祝福开心'], ['遂命使人令诣某处追寻果如其语'], ['孕前爱吃鸡蛋灌饼小葱涨蛋炖蛋茶叶蛋松软面皮混着蛋液的煎饼果子俩字儿蛋控孕后每天一个白煮蛋如今看见蛋就忧桑啥啥炒蛋都次不下了'], ['一起出发不是湖北的节目吗为啥在黑龙江播上了'], ['都是人都是客户怎么差别就那么大呢有的二话不说该付钱付钱该做货做货；有的怎么就那么烦呢不满意这不满意那磨磨唧唧的一提到这就万千草系动物在我面前奔腾而过'], ['老天快点赐我睡意吧晚上不睡觉痘痘爆满脸了'], ['想哭每次都是这样的上班死都起不来但是休假自动早起'], ['真羡慕你们能认识这么美的我哈哈哈哈哈哈哈哈哈哈'], ['想知道这几天广州该穿啥杭州很冷我要穿着棉袄上飞机请告诉我下了飞机该怎么穿'], ['今天睡到點半好開心下午又開了一次黨會會議好無聊哦明天又是忙碌的一天加油我的旋我的寶貝晚安大美女寶貝愛你夢你'], ['又过了一周接到大阪医科大学图书馆事务科长的传真是山中的讣告称我们采访山中的第二天山中在入浴时死去'], ['而诗称之子于归者皆指女子之嫁者言之未闻有称大归为于归者'], ['不同的人对待同一件事有不同的看法和处理方式'], ['钱江晚报：恐怖台州一轿车被上百根钢筋彻底贯通昨天下午台州临海大道西洋村附近一辆沃尔沃轿车先后与一辆出租车和一辆满载钢筋的三轮车碰撞三轮车上的上百根钢筋全部刺入轿车将轿车扎成刺猬沃尔沃的驾驶员一个飞扑居然在数百根钢筋的缝隙中找到了一小块空隙逃出'], ['上班以来最不顺的一天各种打脸肯定冲着啥了憋挺'], ['我摔倒后的本能反应是爬起来结果大概是我爬起来得太快车主竟然只回头看了我一眼就扬长而去天杀的你没看到我就是起来后还站在原地半天动不了吗不是不想叫住你是因为我当时恶心想吐而且连说话的力气也没有更别提我后来在那靠着公交站牌晕晕乎乎的半天才缓过来你的良心都被狗吃了吗'], ['气了好想爆粗口了我好怕怕哦吃颗糖先压压惊'], ['草他吗啊全明星票刚出来就卖没了'], ['别人拥有的你不必羡慕只要努力你也会拥有自己拥有的你不必炫耀因为别人也在奋斗也会拥有多一点快乐少一点烦恼不论富或穷地位高或低知识深或浅每天开心笑累了就睡觉醒了就微笑早安'], ['那孩子出生了生孩子的妈妈跟孩子是不是叫弟弟或者妹妹然后孩子的爷爷奶奶叫妈妈爸爸乱了'], ['一个麻辣香锅彻底给我干倒了一夜三次连拉带吐还在培训中崩溃'], ['太仓市经济发达经济综合实力在全国百强县（市）中一直名列前茅'], ['日了狗了组长谁他妈爱当谁当吧傻逼一个草我明天才不去呢妈的傻逼'], ['合作博弃面临的问题就是如何分享合作带来的利润合作博奔强调的是集体理性强调的是效率（）公正（）公平（）'], ['双十一就是这个价但我还是买不了'], ['偏头痛都气犯了身边总有那么几个人渣嘴那么贱真想扇它几巴掌'], ['最近真是太忙一直没有好好吃药现在我已经预感到了一大波疼痛正在靠近'], ['以后再在兰蔻旗舰买东西我就是棒槌'], ['很浅的睡了一下下就醒过来了好不舒服啊感觉要发烧'], ['我彻底相信一句话功夫不负苦心人老娘这眼睛也快瞎了他妈的终于找到那个微博了'], ['刚看完霍建华上非常静距离那期好难过'], ['年赴美国旅行考察在旧金山西雅图斯托克等地讲学并举办个人画展'], ['做了一个幸福的梦空气都是甜的希望美梦成真'], ['做最好的自己换个角度看世界'], ['一部剧里居然同时出现俩傻逼吐血'], ['我感觉我也好不到哪儿去了天天做网站冒了好多痘痘不按时吃饭肠胃也不舒服天天对着电脑什么都弄不出来我要爆炸了天天被织梦弄得烦死了再这样下去我真的要猝死了'], ['穿上我的同款我整个人又美了'], ['关爱单眼皮（小标题：我为什么完不成作业）：一条眼线的背后是无尽的汗水只有如此观看才能隐约察觉它的存在'], ['成长就是勇敢面对自己害怕的东西并慢慢学会坦然面对你可以克服心理的恐惧西安·雁塔区'], ['所以当你回过头我依然在原地等着――晚安世界'], ['要有足够的勇气去面对悲欢离合要有多久才能做到不以物喜不以己悲'], ['大学以来最大的进步就是不断的各种思考思考导致每天脑细胞太活跃失眠'], ['我一个女孩子家家容易吗不容易所以呢呵呵哒最后一次滚你的'], ['因悟性强虚心向学善于博采众长学中有创岁就熟练掌握年画制作全部技艺尤以刻版最精'], ['下雪咯曼姐姐要穿多点哈下回给我堆雪人'], ['昨天自己把手打了今天居然发肿了'], ['后来我拼命挣扎要醒来很痛苦终于醒了这个梦有以下几个感觉我躺下两三分钟被梦魔袭击没有压着心脏梦中很痛苦想醒来心里很恐惧很害怕是不是意识在压制潜意识两个在搏斗'], ['罗技的鼠技也是越做越差滚轮中键又不好用了两年换了三个鼠标倒底是我手残还是它质量就有问题'], ['对于自己工作挣钱后最贵也就买双的女屌丝我实在看不上我要是工作我一定入所以我没有工作'], ['手机新浪网改版太差只好放弃了我想肯定已经流失了大量的用户了用户体验不好改版还改个毛线差评'], ['我表示要卧床了窗外黑乎乎的没个鬼影子天冷了人和老鼠都缩到自己的洞里了我也马上进洞睡觉因为我就是老鼠'], ['迷失了性情的变化带入现实生活里那么你还能被社会接受吗必定被抛弃生活充满悲剧现实的打击下越发迷恋的空间口味与手法会越来越重也许会发展到不可收拾的余地不停的自我调教完全由肉体到精神的进化'], ['最近发现年的那种感觉再次袭来说话心不在焉内心充满恐惧害怕担忧只想把自己封闭起来不想问世事也不想跟人说话更不想搭理任何人只想默默的去一个没人认识的地方成都·桂湖'], ['好像与茶有关的人或物都是无与伦比的美丽全民饮茶日美丽美女写真清纯美女'], ['外部空间是指地球大气层以外的宇宙空间'], ['考完整个语文后整个人都不好了不開心™谁出的作文题'], ['那个夏天我带着给文蕾的礼物惴惴不安的等待一纸公告决定我的命运我来学校却没看到文蕾问舒旭伟才知道她不会来了我把信和礼物托舒旭伟带给她我没有如信中所写的那样哭泣我看到自己在高二（）班并且排名不是太低我激动地抱了站在身边的娘娘——小红日记'], ['嘿它也会像你的小黑那样撒娇耶～我很怀念拖着疲惫的声音也要给我打电话的那个你'], ['天天忘带伞天天下雨天天淋雨头疼头疼到底要下到什么时候'], ['人心还是抵不过时间任凭怎样变以为不过是人是物非偏偏却以物是人非结局勿轻言须知话如水易泼易说收不回别忘了说过的话便是最好心会变再多的话语和解释都显得那么苍白无力'], ['喵了个咪的几个月没登微博被盗了都不知道'], ['是你对自己不够自信还是厌倦了说话'], ['我好像得了精神病吃不下睡不着'], ['碧玉中较名贵的品种有风景碧玉和血滴石'], ['平时十分钟的路因为一袋米整整走了半小时'], ['偶们公司肿么辣么落魄居然要被电信赶走了无爱心慌慌死巫婆以后见一次打一次'], ['越想越来气下次来我一定还嘴艹艹艹艹艹艹艹艹艹艹艹艹艹艹艹艹艹艹艹艹艹艹艹艹艹艹艹艹艹艹艹艹艹艹艹艹艹艹艹艹艹艹艹艹艹艹艹艹艹艹艹艹艹艹艹艹艹艹艹艹艹艹艹艹艹艹艹艹艹艹艹艹艹'], ['我想有一天我跟一个人足够契合我们可以一整天没有电脑没有手机可以吃着好吃的听着音乐聊着天南地北的话题甚至于两两相望静静的坐一整天也很自然'], ['总有一个人放在心里确告别在生活里'], ['真烦走到哪里都有人在耳旁说些话来影响你不管你们是什么目的劳资都没兴趣听'], ['书香云集分享我正在阅读九夜凰图：佣兵大小姐花期未末'], ['妈的不认识路就是麻烦出个门都要导航大爷的'], ['最心疼的就是眼看着事情发生却无能为力爱莫能助'], ['人依旧物依然又到周末想也好忘也罢：只是问候闲也行忙也好；开心即可今儿好明更好衷心祝愿周末快乐'], ['我很生气不高兴狂躁想打人骂人'], ['再不救我未来两周什么都没得吃就剩块钱'], ['昨晚梦到我带着你回家还和奶奶一起有说有笑我知道这是不可能的不知道奶奶在另一个世界过的好不好我好想你'], ['我保证抽你绝对没有错这是第一次'], ['在银河系中心时太阳系受到强大磁场的保护但一旦离开了这个中心这种保护就被大大减弱了'], ['将所有热情都给予你我便再也没有办法爱上别人我在这里等风也等你'], ['好不容易休息一天还一直给我打电话说工作的事情真是这不是逼我发飙嘛'], ['不知为何感觉现在教育好无力面对孩子的任性家长的宠爱不知道该从何下手不知道该如何正确的教育谁能帮帮我吗'], ['实拍可怕的中医放血疗法网友直呼：吓死宝宝了秒拍视频（使用秒拍录制）'], ['他的成就辉煌的理念已经风靡全球各地的培训活动和大小会议并正通过新的媒体广泛传播'], ['貌似现在下手正合适需要有点调色基础又有的玩了'], ['我现在每每打开乐视视频准备追剧的时候首页里最不愿意看到的就是安又琪捂着嘴什么十周嫁出去她的个人问题以节目形式秀总出现总捂着嘴真是审美疲劳'], ['在展馆中空间位置与秩序对展位设计尤其是对空间界面设计的影响是重大的'], ['不知不觉短发已经剪有一年的时间一年过去了还是幼稚鬼'], ['二百五厂家老师每次和你聊天都要气的我半死变脸比变天还快除了要钱还是要钱'], ['出差据说这边冷今天老天真给力出太阳热死人了关键穿多了'], ['究其产生演化渐进以至趋于完善的历史发展既包括了自然地理的因素也包括了社会文化的因素'], ['今天第一次上晚课忽然感觉在文化课班工作比当艺术老师恐怖多了'], ['中午吃完饭蹭一下同学家～我的妈呀楼下宝宝了'], ['成天放假还让不让人好好学习了'], ['真听不了有些人的声音特别的影响心情和工作效率惡魔惡魔惡魔带上耳机也不管用'], ['都他妈不打表忻州定襄出租车有几个打表的'], ['每年这套指南都要卖出多万册占到所有英语旅行指南销售数额的四分之一'], ['每天一睁眼就烦恼吃哪家选择太多好累'], ['著名人物邱峻明成化十三年中式举人任浙江义乌知县'], ['接近个小时的电影包含的信息量让我看完后百度了好久对于片中好多地方也思考了好久几段话所不能概括非常耐人寻味的一部片子还有这部电影的主演制作组都已经不在世上了感谢他们给我们留下的经典乱世佳人推荐给大家'], ['这一天从一开始就那么美好～～开心～～谢谢你～～'], ['人到了晚上都是感性的动物会想很多事而且多半是痛苦的这种情绪控制不住轻轻一碰就痛'], ['第四十条地方各级人民政府应当建立健全基本养老保险基本医疗保险生育保险和社会福利等社会保障制度促进计划生育'], ['昨晚上去打网球那人问我小伙子八几年的啊我心想看你年纪也不大怎么能这样瞎'], ['网友评论卧铺哥真是太不像话了穿成这样乘坐卧铺车实在是让人接受不了'], ['有些东西你没得到不代表你不够好或许只是因为那并不适合你我一直想说的话'], ['怎知焕宇的谎言却激起克柔的同理心感叹彼此同病相怜无意间拉近了彼此的距离'], ['外国网友的水平太牛了目测已经达到了级差点以为是真的'], ['来了个我特讨厌的人还不走真讨人厌'], ['麻麻承认自己不是一个生活好能手一个人照顾你兼顾家务生活麻麻搞得一团糟糕麻麻有时候也累也沮丧但是看着你一点点成长一点点地进步麻麻还是觉得很幸福为你一切都值得爱你麻麻亲爱的滨滨滨'], ['每天两个包子又省钱又饱饱的'], ['去北校打印东西走到迪信通居然被的卡通人给追了'], ['居然有广告了'], ['年东京帝国大学支那文学科毕业'], ['像母亲有时为她所分娩的亲爱生物而牺牲一样我们就不应该爱惜自己就应该准备为它的成功而捐弃我们的生命应当去私心；以勤奋的精神为之奋斗到底贡献没有够也永远做不够'], ['最近怎么这么倒霉就这个车一会儿刮一会儿蹭瞬间气的没一点心情了'], ['天天下雨又阴天都吃不到鸡腿了办了健身卡也不去运动还天天吃吃吃又胖了买了也都没怎么看过我天天都在干什么'], ['不好意思让这种东西出现在首页可看到就实在抑制不住体内的煞气了这两个丧尽天良也就算了人渣总是渣得超乎想象可特么从轻处罚是个什么鬼这个国家法律难道就这样啦'], ['吃完午饭从食堂走到图书馆猛然发现书包没了恍惚中找工作焦虑综合症'], ['妈的连微博都有人盗害的我好几天不能评论'], ['有时候友情二字真的很让人怀疑是我多想了还是它真的从来都不曾存在'], ['昨晚上梦到去领证了但忘了跟谁一起去了'], ['成熟的标志之一是学会管理自己的情绪明白别人的行为：对自己有严格的要求对别人则放下无畏的抱怨；从凡事锱铢必较：学会了风清云淡'], ['冷了换了厚被子蜷缩在混着被罩的清香和久不见阳光也不见灯光的柜子深处的被子的发霉味道里安心的可以说晚安'], ['一场突如其来的告白完全没有心理准备'], ['安静的夜晚是人在清醒的时刻吧'], ['就喜欢有个人陪我自拍两个傻瓜就这样一起傻一辈子吧'], ['本来以为杨洋演的已经够帅的啦没想到你们两个都能演的这么帅啊期待'], ['遇见这样傻逼的女开发的时候就真的好恨自己为什么不早对自己严格一点这样以后才不会再遇见这样的人啊'], ['树干上结果实见过吗：此树名为：贾布提卡巴（）又名巴西葡萄树是一种很独特的果树它的果实是不寻常的因为它们长在树干和树枝而不是茎上'], ['今天的太陽影子希望明天還能看見妳'], ['我的东西别说抢敢觊觎都跟你玩儿命特别是我的男人'], ['不试试怎么知道我不行我不行因为我还没开始就拒绝我怕我不行因为没开始就气馁我怕但是我不能一辈子只做一个只会依赖的小孩吧我不想长大但是现实是我必须长大所以还是把握机遇尝试一把吧笑容笑容笑容加油晚安'], ['这也太夸张了吧照这样一算小姐今年才岁年幼的你就这样游离在不同男人的床上也真是一门技术算了算了我也不和这些想玩文字游戏又显露自己没文化的货计较'], ['啊啊啊为森么找一个合适的乐队演出这么难桑心蓝过睡不着'], ['市政行业：城市建筑给水饮用水消防水热网回水煤气天然气输送高速公路埋地排水及绿化带浇灌等通道'], ['眼睛前两集还感叹刘病已比拓拔真那样的渣男有情有义下集预告就原形毕露了都是一路货色这剧演到贝儿爹挂了就该罢看'], ['趁着一家人还呼呼睡偷偷洗了个澡我的天小胳膊小腿竟然比怀孕前还细这可如何是好'], ['给自己一杯力量之水开启一天的好心情'], ['不准贷款的管理中心应当说明理由'], ['十年后你若未娶我若未嫁那我们真的是太惨了太惨了'], ['胎监超结果都非常好没有宫缩医生说不明原因的出血让回家观察儿子你真努力加油足月再出来我亲眼见证一女的要生了感触好深我也要做妈妈我们加油谢谢微博姐妹们的关心谢谢深夜你们给我的关心和陪伴愿宝宝们都平安'], ['兰州人说兰州听说睡觉手机放枕头旁边会有辐射吓得我赶紧起来把枕头扔了吓死宝宝了月亮'], ['有时候有些事我们都是自以为却忘记了现实是多么的残酷人总会迷恋美好却忘记了美好背后的人性'], ['最近感觉不太好昨天坐错车今天坐过头不在状态呢～'], ['偶已经到家了呢偶每次进去都是俩保镖护送到酒吧的包厢抽烟者去门口哈哈'], ['你妈逼滴真是新人好欺负了噶睁着眼睛说白话也怪说得克呢'], ['如今的很多知名艺术家当年都是这里的常客'], ['拓展课后进教室刚说完作业班上的豆子们就齐刷刷气急败坏地反应：老丝肉肉们被动过了位置都不一样了只有预备来过我们又换回来了这份恪尽职守让为师很为自己的强迫症汗颜'], ['都等了年了吧我不管罗必须得是第十人如果尾田哪天漫画定下来第十人不是罗我就弃番弃番我要是尾田为了留住卡米亚也得让罗进主线我他妈看的这几个漫画吧银魂也不知道走什么神剧情都不够我遭心的'], ['每天出门前用冷水洗头发洗脸刷牙那感觉就是透心凉心飞扬而晚上睡觉的时候学校发的被子太短脚一不小心就会伸出去不得不起来重新掖被子长沙的冬天大概就是这样每天从头凉到脚'], ['人生一个攀登的过程偶尔回望一路恩典那是继续前进的力量❤️笑容'], ['李易峰帮你剪个头感觉李易峰长得特别帅气快点帮我剪发吧看他的眼神真的感觉特别的害怕超级恐怖'], ['上天还是对我好的没有延误我去旅行的计划一场说走就走的旅程即将开始玩的开心虽然天很冷但内心是热的'], ['为什么男人一个月也总有那么就好擦'], ['田亮王源重庆联盟这个话题没人刷自己却上去了'], ['凶器车头幻想恐惧症抑郁了他们吃面吃粉馋坏了我好想吃好渴望解放好痛苦的历程恶心反胃发颤不通不舒服的感觉消化能力强大胃口无比滴好无所畏惧无所顾忌的我呢'], ['能告诉我特么为什么每天下班都你有事一个小时之前不对半个小时之前问还特么说今晚没事特么下班了拿一袋子药回来新增你有毛病么有毛病么猪队友烦死了'], ['肚子不舒服好难受不開心不開心不開心再也不敢乱吃东西了'], ['没有人能说清这座庙建于何时有何来历但它显然已存在了数百年'], ['荣石和张贺则认为这是个把吕良彪拉到抗日队伍里来的好机会'], ['昨晚上偶尔进了个福利群一大波人在直播看得我热的一直睡不着这世界原来这么疯狂这么有激情'], ['依稀记得小时候爸妈总是在八九点钟电视剧还没看完的时候就催促我们去准备上床睡觉然后小时候的我们因为害怕还不能违抗父母哪怕心里一百万个不愿意也会乖乖上床把眼睛闭上这一觉啊没有噩梦没有思念的人没有被眼泪弄湿的枕头可是不知怎么那样的日子再也回不去了'], ['怎么样很壮观吧这个大胆的设计可以让你将一整面墙都堆满书籍前'], ['减肥减到强迫症而且还是病态的我也是醉儿了'], ['该矿三水平延深工程年底完成井巷工程量米投资万元'], ['一主要职责一坚持二为方向和双百方针鼓励和推动文艺工作者积极进行各种文艺创作活动争取多出优秀作品多出优秀人才'], ['有人说她是歌永远得不到的谁谁其实若干年后没有人会记得这么一些和歌毫无瓜葛的女人她们今后的生死沦落也和歌毫无关系除非对歌做出相当贡献和付出的女人后人才会铭记她们的历史功绩今后的生活遭遇困难歌的人也肯定会鼎力相助那些伤害歌放歌鸽子的女人巴不得她们死快点'], ['我想换个因为我还用着年前的诺基亚'], ['记住我才是你唯一的同桌毕竟咱两做了那么长时间笑不可抑（原谅我这该死的占有欲笑不可抑）'], ['每次逛万达都是楼上楼下吃饭看电影今晚发现原来还有更美的地方秀一下男神的拍照技术晚安'], ['好久没烧饭了于是今天做了咖喱鸡白白糯糯的米饭配上香香的咖喱～'], ['其弹性金属丝垫在塑料层有一定的嵌入深度该瓦面可通过一定的工艺过程分别与不同的瓦基钎焊而成为弹性金属塑料推力瓦和弹性金属塑料导瓦'], ['感觉像是一大早自己真的收到了他的情书情書'], ['我再不相信你了你哄我说实话让我以为你已经懂了结果又把我气一顿讨厌你讨厌你讨厌你'], ['十多天被折磨的身心配备心力交瘁'], ['如果我喜欢一个人绝对不会让别人替我表白'], ['啊我实在是累了本宝宝想要休息一下了'], ['是不是都在努力找回以前的感觉为什么要去找真的是因为曾经丢了如果有失而复得的喜悦你能说没有心有余悸的惊慌即便找回来了也永远错过了很多不能复制不能回放的生活就好比绝版的一本书中间几页被撕毁了你永远也看不到其中的内容只有缺憾感觉'], ['对阵中国香港两回合中国队八次打中门柱被漏判一次点球被误判一次进球老天和裁判都在做对就这样中国队几乎提前无缘年俄罗斯世界杯最让人心痛的是当国歌声响起的时候香港人在嘘国歌一群忘本的走狗'], ['真的是人算不如天算明明都说好了还是不能走坑爹啊有没有这么恶心的什么话都不能肯定不为啥为的就是不伤自己爱人的心心情超级无比沉痛'], ['太饿了就吃了一碗拉面结果差点没咸死我这大概就是做了自己不该做的事就要受到惩罚'], ['回家的路上努力克制住了自己想把手机砸了的冲动'], ['老乔昨晚竟然梦见你了哎好开心'], ['客服说我在前名额外的一个刷头会补送瞬间昨晚的心头火就灭了'], ['其实真的很害怕未来也不想回首过去就希望一直停留在现在不希望有烦恼不希望有胆怯想有人像现在一样一直伴随你左右不离不弃没有伤心没有背叛没有欺骗没有尔虞我诈'], ['好想我家的那只狗狗啊再也见不到了好想再养一只'], ['我要一个人看电影吃饭工作给自己浪漫和孤独做伴'], ['丑大了麻痹车开回来了结果侧方位停不进去我也是醉了真不晓得驾照怎么到手没谁了坐车里我也是很无奈'], ['发际线后移是多么恐怖的一件事惊恐惊恐惊恐保持好心情好好护发'], ['最近的幸福来源于大家都在说我瘦了'], ['师居此山专修念佛三昧远近道俗闻风来归不久即成一大丛林——云栖寺'], ['找不到情绪的出口谢谢还有你们'], ['梅森被分配到第一空骑师进攻直升机营的连'], ['忙我都害怕死这个字了所有倾注的东西似同泡沫一般破碎可以执着但不是全部深陷在这泥沼的温暖里越是缺失越期盼能抓住一丝却是更多的失望害怕过不好这一生明媚的时候感觉一切都无需安静的时候总是对家人有无尽的思念又该如何的掩饰好自己的软肋对于家庭以及未来的恐惧'], ['注定是惊魂未定的夜晚和朋友散步朋友在人行道上被酒驾司机撞倒一声巨响注定要在我心中留下很长时间的阴影这是我第一次亲身经历交通事故场面太吓人直到现在心情仍未平复感谢上帝伤势不太严重希望朋友能尽快好起来祈祷'], ['从我可以自己做决定开始我做的每一个决定都让我得到了上升而之前别人给我的做的决定让我相信那些决定导致了我孑然独行战战兢兢不敢有一丝错误'], ['外面下着雨我怎么有点小激动呢还没睡着'], ['黑色星期一我一年的粗口都爆完了'], ['块钱买个教训吧或许发发传单更靠谱'], ['长这么大第一次面对那么多人的课堂而我是老师从开始紧张到发抖到后来的适应感谢锐姐和班长的陪伴感谢晗哥的早饭感谢副部们的支持'], ['丑开怎么还不直播别逼我发你丑照皇族'], ['宝宝哭闹到现在麻麻完全没睡意唯一可以堵住她的就是牛奶可是你不能光吃不拉啊麻麻好捉急'], ['倒霉倒霉倒霉倒霉他妈的最近是倒了什么霉倒都倒不完'], ['暗恋狗的日常她一想到他不会喜欢她就丧失了斗志'], ['老师你明明说的点上课结果你自己记成点半不说到点了还发信息说会迟到分钟你讨厌我今天那么困'], ['奶奶的现在韩剧中国这些播放器都不买了么我这么多播放器没有一个有的还得挖这些犄角旮旯的小网页这清晰度啊真要命'], ['徒手炸薯条在印度北部的阿拉哈巴德岁的老汉徒手油锅炸薯条他将手伸进摄氏度的沸腾油锅中却安然无恙说自己裸手炸食物已年未曾受过一次伤'], ['我梦见云南地震了等过你的宿舍楼塌了这都不可怕你死了也不可怕只是你死了以后我会哭会想你这令人毛骨悚然'], ['后靓女恋上岁大爷为爱疯狂拍片（各种恩爱照）来年结婚'], ['一段感情里在起点时我们彼此相爱到结尾时互为仇敌你不仁我不义我要你知道我们始终势均力敌失恋天'], ['今晚真烦难道是陈奕迅来中山开演唱会所以石岐好多地方都堵得慌'], ['看到自己一路走来的心情突然明白是真的能放下了晚安'], ['这几天晚上天天看维秘每次都能被模特和霉霉美哭怎么看都不腻'], ['多适用于中原华北及东北地区'], ['昨天作为班上选出的代表之一参加了年级个人半分钟跳绳比赛他跳了个获得三等奖能参加已经让我非常惊讶还能跳出这么好成绩真的要掉下巴了'], ['感觉不念书真的会死比如发考卷了老师刚好在旁边看到分数然后就盯上你了的时候宝宝心里苦'], ['身边奇葩一堆堆人面兽心的我好想回家呀'], ['昨晚梦到哥哥依旧帅气如初好开森'], ['那些曾经我们都很害怕的事现在回头想想都已经过去既然如此那还有什么可怕的呢'], ['我也不知道该说什么反正好久没上微博了今天就想来看看结果一打开好奇怪以前发的微博竟然都消失不见了不開心怎么会这样伤心'], ['今天是年月日嘿嘿嘻嘻纪念一下'], ['因此电子层仍可进一步分成一个或个电子亚层'], ['哈哈拨开云雾见晴天媳妇儿咱俩一定会长长久久在一起的'], ['不得不吐槽下如此坑爹的路线弄得我围着山转了一圈'], ['网上惊现长脖子哥这脖子我服了好山好水好脖子'], ['最近只要沾床就害怕到不能自已内心极度恐惧过往的一幕会重演导致睡不好觉人越发苍老这种害怕也不晓得说给谁毕竟谁也不信你会那么恐惧更不知道那恐惧有多深摊手还好今晚开始终于可以抛去担心睡一个长长的愤怒觉了好想哭摊手'], ['基因饰品是将个人基因载入饰品中使个体基因的唯一性与饰品的装饰性完美结合我们称之为看得见的或生命信息挂件'], ['双之后公司竟然拖工资我现在只想要交房租'], ['我暑假的时候就看过了不是已经上过热搜了吗一堆人称赞然后一堆人又批只说没实干谁能告诉我怎么又上热搜了确定我不是生活重复'], ['要想作到这点必须结合其他鉴定方法进行综合分析'], ['某些女生总是喜欢午休的时间在走廊上大声喧哗尼玛不能道德点吗'], ['真为我的前途堪忧呀咋办呢努力'], ['神马潘帅有儿子啦是不是只有我现在才知道呢'], ['外面好像下起了鹅毛雪我不知道为什么发不出图片→→那可是你的美帅截屏啊华哥晚安'], ['怎么还是跟高中一样上晚自习睡觉听见门响还是会惊吓到立马醒来'], ['想来一份热热的金鼎轩榴莲酥安抚我内心的难过十一月有人在感动有人在幸福有人在烦躁而我只想吃一个榴莲酥'], ['姑娘们啊机遇机遇懂吗想整容的就抓紧整该减肥的就赶紧减时时刻刻做好准备做最好的自己懂吗该见面的时候就见面别不自信唯唯诺诺看着自己喜欢的男生对别的女生好你受得了算了你原谅我在这得吧得就是有点难受'], ['齐齐哈尔月日周二空气质量指数：空气质量：中度污染'], ['研究生的生活一点都不好各种虚伪恨不得明天就毕业远离这些人'], ['治疗疗效与长期临床预后例如肝细胞肝癌或失代偿性肝硬化之间关系尚未确定'], ['长得漂亮我倒是觉得没什么长得美还很努力的生活不断提升自己这我就害怕了——来自一个整天不思进取的而恐慌的我'], ['年的第一场雪虽然很冷但还是给了大家一个小小的惊喜有没有觉得很美呢主页君可是看到好多小伙伴在打雪仗哦～还真是童心未泯啊～明天道路可能会结冰哦大家一定要小心路滑注意安全哈～：今天去环教的风孩子们你们辛苦了你们的付出总会有回报的～大家晚安'], ['一直很抵制恐怖片的胆小怕做噩梦生病但是抵挡不住微博轻轨上大家的连番轰炸哆啦梦汗作为恐怖片确实是合格的足够让你不敢上厕所了至于有些逻辑不通：比如僵尸为了配合快轨跑那么快自私的人把可能尸变的人轰到更安全的车厢哆啦梦吃惊考虑到主角光环也可以理解哼'], ['经常在网上看到哪里哪里又发现了金银古代的什么什么文物其实就是不停的挖死人的坟墓太缺德了不能打着考古的借口而让那些死了的人几百年都不停安宁'], ['草重复做没有意义的事才是真的瞎忙好东西审美疲劳了非得要土不拉几的我顶你个肺'], ['想起了那一天被欧皇大壕控制的恐惧肝帝欧洲地主真可怕ω･哆啦梦吃惊哆啦梦吃惊'], ['两人决定不在电影版中重复漫画的故事而是采用全新的原创故事打造出一部让原书粉丝们大吃一惊的'], ['真是受够了在装满服务器的过道里办公尼玛植物都长不好的地方天天在这呆十个小时拿命在上班还说我们不满工作量受够了'], ['王俊凯粉丝太棒了早起的时候还没补完作业时发现已经第一了'], ['刚给妈妈买完生日礼物花了接下来要吃一个月的土'], ['每次说要早点睡可是到最后都会睡不着好心塞'], ['我们在天才的作品中会认出被自己丢弃的思想他们陌生而又庄严地回来了——爱默生'], ['（）向银行提供银行认可的担保'], ['碰到路痴真想骂娘冷的肚子疼想想自己也是这样的人'], ['一点都见不得别人好的人简直十恶不赦'], ['吞下长生不老药后炼成了刀枪不入的身体怀玉他们都无法制服他'], ['当有人跟我说我希望你变成什么什么样然后讲出一堆举例说明然后又我就特别想说：去你丫的难道变成和你一样重要事情说三遍去你丫的去你丫的去你丫的'], ['重看了跑男嘉年华真心觉得主持人太差劲儿了主办方就不能请一个专业的吗'], ['搜了下阿泽的原型叫李昌镐李昌镐和一个比自己小岁的女记者结果了忽然有个脑洞会不会阿泽和珍珠'], ['为啥港澳台国际提前小时才能进入让大家都在外面等着太过分了如何为客户服务的和现在的大环境格格不入好好反思吧'], ['天天提醒自己早点睡每次都到这个点抱着自己圆滚滚的小肚皮充满愧疚的睡去'], ['我想静静隔两年就整一出作死立马后悔'], ['真的饿死宝宝了→→满脸的痘痘看不見看不見自拍下下烦躁靠边'], ['总以为一周已过突然发现才过了四天怪不得还疼'], ['放弃往往是很难受的但有时候理性必须大于感性'], ['什么狗屁选修计算机二级一个选修课遇到这么事逼的做这做那会做我还能在这儿听你比比叨么吃屎去吧'], ['一大早起来心情就不好为啥为啥'], ['把人惯坏了又莫名其妙打白勒是安的撒子心'], ['年月开工建设年底完成主体建设周期年'], ['卡的尼玛要死要死的'], ['吓死宝宝了上个月竟然用了这么多话费费怎么养的起自己哟败家子儿'], ['该把版权方拉出来吊打你们这样老霉知道吗'], ['星期三的早上欧巴早安各位橙子早安降温了大家都多穿点啊今天也请继续如彗星般的前进吧心情'], ['經濟課可以睡覺啦我的內心是喜悅'], ['人生总是有遗憾的但我多渴望能完美'], ['小马哥你的声音是你自己的么肿么赶脚有气无力的像在说悄悄话似的⊙﹏⊙'], ['我也想像别人一样过节放个假不用恐惧害怕这种感觉我好累'], ['日子过得蠢死了不完全统计了下这周日程明天要交的三个作业全没写完东大的学长找了好久都没空回这种一团乱麻的日常什么时候才能到头'], ['二傻子拍完一脸惊奇的和我说看我把你的眼袋拍出来了——真（）棒（）我的内心是崩溃的'], ['你不懂我的欲言又止我不懂你的沉默不语'], ['刚刚售楼中心的竟然给我打电话问我买不买房'], ['踏马被渣浪了靠鄙视渣浪一万年'], ['从今天起拒绝鸡汤鸭汤对我心灵的摧残'], ['上班以来木有坐过公交车交通工具交通工具因为懒惰早起不来花了好多冤枉钱第一次早起坐公交心情美美哒悠闲的上个班美好的一天即将来临'], ['无论是感同身受的用有限钱币帮助难民还是勇敢机智地逃避追捕执行任务期间不经意对粉丝来个爱的浪漫告白甚至是被猎人抓到时无奈地摊手耸肩和顿足懊恼都是我们最爱的最真实的易烊千玺'], ['市北区人民路号居民小区内摊贩严重扰民摊贩全天摆摊高声叫卖严重影响小区居民正常生活小区居民强烈要求封闭小区门头房摊贩室内经营扰民摊贩去小区周边的正规农贸市场摆摊还小区一个干净安静正常的生活环境青岛市市北区四方街道办事处你们收费居民遭罪'], ['你可以是开水烫死我也可以是冰水冻死我但不能是温水耗着我我要的是黑白分明干净利落'], ['国诚向耀华说出鉴证科在键盘上初步检出倪锋常用字得知是以数字为主'], ['月日前县人民政府将本地实施方案报市综改办'], ['九女泉：今电石厂附近冶峪河处石间九水流出'], ['苍天啊要么赐我一个客户⋯⋯要么赐我一份工作吧⋯⋯我要崩溃了'], ['陪宝子玩完台球台球玩扑克输给我啦劲酒干掉哈哈'], ['我有一个问题请诸位静听为什么一到冬天进了被窝暖和了之后就想上厕所呢明明夏天都不会的'], ['作者：水经注的作者是北魏晚期的郦道元'], ['艹你大爷真心有病还能不能好好让人待下去一大早一件接一件神经病你不挑刺不能活吗'], ['有机超滤膜分离法主要应用于大型钢铁项目冷轧厂乳化液超滤膜处理也在其中'], ['有一种想死的心情越在乎越容易做错啊'], ['据中国地震台网测定北京时间在河南省周口市太康县扶沟县西华县交界北纬东经发生级地震震源深度公里咦哦睡梦中又地震居然毫不知情啊'], ['妈个蛋不用还进不去逼朕下了个投完最后一发睡觉'], ['不如意的事情太多了就像一个火球随时会爆发'], ['话说下面这幅美国大师的黑板涂鸦价值亿人民币⊙⊙噢'], ['这张图太好了'], ['后说话潜规则后阿姨们惊呆了后的姥姥们目瞪口呆'], ['中国电信服务态度太差了说好的三天都已经五天了等得我不耐烦了'], ['又没喝酒一上车就困得跟个啥子样眼睛都睁不起的感觉嘲笑了一晚上劳资的头发冒火全部夹上去了'], ['听说要灭亡了我慌忙的想去搬走那些青春又清纯的回忆看到年前的自己写下的字句眼泪奔涌直下我一直问自己如果人生可以倒退站在那些分岔路口我还会不会选择同样的路你们呢'], ['在正式量产中工程表对需要进行管制的特性值提供了制程进行各种监控及管制的方法说明'], ['都市栏目云集当地中小家政便民服务机构的服务热线购买用户可以将此栏目收费'], ['嘴馋吃了包龙嫂米线已经好久好久没吃了吃的时候很爽重口味好解馋吃完很后悔重盐重味精又要浮肿几天了'], ['没有你这个超暖又有爱的暖宝宝这寒冷又漫长的冬季我该怎么度过'], ['五双功能水浴恒温振荡器使用前须知使用双功能水浴恒温振荡器前请详细阅读本说明书'], ['早餐吃不下中餐又难吃空调也不给开'], ['效率能再高点吗望京通讯大厦营业厅的工作人员你们也不觉的难堪中国联通'], ['我能说我刚才善良了我现在后悔了吗'], ['蜜月旅行虽然缩短到不到一个星期可是是自己喜欢的人物价不高打车费就不说了人生如果能缩短些烦琐的事多些自己喜欢的～该是多美丽'], ['致青春和那些年后又一个觉得好看的电影小幸运'], ['而接近专业级的数码摄像机是用作为其感光器件'], ['老友记和在看狂犬惊魂记我还以为多恐怖呢结果看完一脸懵逼'], ['昆明市卫生学校最近火了不行人家怕怕怎么没人发去百度这样么大家就可以搜了嘛'], ['都是些什么人～大清早的就气死我了～不来就不关我什么事的～'], ['拆了装装好角的方向又错了又拆'], ['这个女孩被人强奸一次了还敢继续住在那里还让人家多次强奸'], ['今天这一天过的啊怎么说呢从上午和老太太谈完话后一直心悸到现在长这么大能让我这么生气的终于让我碰上了真是可怜之人必有可恨之处内心一直有个声音告诉我：亲爱的你作为女生可千万别骂她心情心情心情'], ['平常流浪的猫猫狗狗还可以在草地上休息睡觉一场雨雪下来多少小猫小狗没了踪迹'], ['记得当初很爱很爱一个人但记不起爱的感觉'], ['瑞贤餐厅中午我是打死也不去啦'], ['呵奇了怪了我自个儿挣的钱那还不是我想买啥就买啥'], ['看新闻和一群人咋呼决定认真思考一下真打起来的话是跑去斐济还是躲去乡下或者是呆在上海乖乖躺平看蘑菇'], ['简直是我不能忍受的但是在我岁的人生里我的确碰到过很多这样不注重细节不尊重她人的人'], ['看到你们的留言了每一条都仔细看了有的写得真是太感动了谢谢大家一直以来的支持我也会为大家争取来更多福利这次没拿到的你离下一次福利也不远咯'], ['真的特别害怕夫妻干仗看到听到时心里都极难受骂得难听打得狠决都跟要杀了对方似的却解决不了任何问题不光会受伤还伤了感情有矛盾坐下来好好交流不行吗为什么非要以这样一种极端暴力的方式解决呢做一个有知识有文化有素养的讲理的人吧（楼上干仗受到惊吓的我展开全文'], ['女人如果遇到一个好男人那么就一辈子都不需要成熟起来'], ['别的地方都已经开始穿棉袄了为什么这里还这么热电风扇都不够用啊'], ['昨晚真是醉了疯了什么时候放下低级的工作呢高级的工作为什么不让我去做呢我要向前走啊天啊给我的答案的相信我的能力好吗别瞧不起我好吗'], ['直接免去了传统充电器或适配器改变了人体直接接触市电提高安全性能'], ['办公室已经丢了六台电脑了我想说值钱的东西很多电脑最不值钱了小偷你能专业点不要不你都偷完也算弄得我们天天守着您留下的两台破电脑'], ['拉我一下能死吗和难道我摔下去才拉吗这两句话区别很大吗为什么会被联想到轻生的事情'], ['在线观看离爱只有半米远以上内容来自于'], ['我们原则上只招收清华北大的我受到了点伤害'], ['今天晚上我的客户话都特别长特别笨'], ['特么画画画伤了股票股票你麻痹賠死'], ['阳光真好～晨读真好～努力做好眼前的事吧～一起加油加油～做好自己想要的都会有的迟早的事嘛不着急'], ['每个看到我的人都说我长胖了我的内心受到了一万点伤害'], ['不要觉得恶心这种现象真实存在无需回避可是我还是忍不住想吐'], ['一个打乒乓球的足协主席弄来一个固执的法国傻子做教练搞的以前还能在场上有几脚浪射的球员只会在比赛中倒脚练习传球了操你妈的'], ['河北省政协委员河北省政协科教文卫委员会委员'], ['我真的心情瞬间就不好了我靠真的是神马玩意儿'], ['南方供暖是应该供暖的冬天特别的难过啊'], ['周日人生第一次参加宝宝运动会表现棒棒哒还没开场就跃跃欲试进去了就不愿意出来各种项目都能很好的完成最让妈妈惊讶的是只用讲一次你就能明白规则啦最喜欢钻那个什么帐篷和过桥桥重复一次又一次小霸王居然还把前面的小朋友一把掀开让我来害臊害臊今天第一次愿意穿睡袋了～'], ['再后来航海家把他们的习惯带到了世界各地'], ['顺其自然而来的结果大都不会太差'], ['斑马斑马你还记得我吗我是强说着忧愁的孩子啊～'], ['你给我老实点懒得拆穿你请自重'], ['跑完了八百米感觉自己差点死在了操场上'], ['天啊老妈重温铁娘子（妇道）居然有靳东和周奇奇'], ['吃个宵夜我容易吗人都快拉死了这完全是不能出厕所门的节奏嘛'], ['可用于形容秋天之景或寓意其中表达时间缓缓流逝之意'], ['终极问题：哪天自己将要死了还有事情想做这是什么感觉（妈的我不想死'], ['不知道是不是错觉突然觉得你能开始慢慢地接受我了前所未有的幸福感'], ['上班路上遇见一大片菜地好新鲜啊我那么闲拍照说明在堵车啊'], ['妇科小知识严防疾病感染从自身检查做起櫻花白带异常外阴瘙痒下腹坠痛腰酸乏力月经不调等症状者櫻花性生活史年以上者櫻花经常及不定期服用避孕药者櫻花有个以上性伴侣者櫻花有过流产史者櫻花已生育女性櫻花偶有不正常症状出现一直未就医者'], ['雷电六星南向列土公吏二电西营'], ['气死我了偏偏这时候联通卡故障'], ['即使开通了会员还是不显示我的微博来源唉浪费几十元'], ['师资力量学校现有教职工人其中专任教师人占教职工总数的'], ['害怕贴这面膜出去晚上都能吓死人了'], ['咳不出来又不敢使劲还不能吃药真是上辈子欠了你的出来先屁股抽三下'], ['昨天被大哥约跑步那家伙半个小时前居然还在吃执手相摸肥肉竟无语凝噎两个人傻逼一样在那狂笑小朋友说明天有美食节她叫我摸摸肚子别吃'], ['在你们看不到的地方我也在很认真的生活学习攒钱去面试只希望有一天飞上蓝天'], ['感觉今年自己好怕冷啊冷冷冷'], ['失眠中是想的太多还是自己不够努力'], ['起床了美美的一天心情好好的事情顺顺利利的'], ['最近肠梗阻的好多啊今晚第二例了'], ['上下文由一组名称到对象的绑定组成'], ['这个月帝都的房租一家老小不容易啊笑不可抑'], ['这个世界怎么了城里人都太会玩了岁的老头和岁少女不为人知的背后竟然是儿子一手操纵信息量太大让我脑子歇会儿'], ['流量不清还不如清了呢分分钟跑那么多真心不够用'], ['杨秉东汉宰相著名政治家教育家从杨震起至杨秉后裔杨彪（世）均为太尉后世称为四世三公'], ['重感冒头昏脑胀咳的肺要炸了每天四点半起床上班晚上九点半下班想请个假却被告知实习科室快要结束太忙人手不够我操你妈'], ['装逼什么鬼气死我了'], ['我不太会踢球但是要是有人嘘我祖国的国歌我拼了老命也要让他服'], ['心仪的旅馆竟然提前半年也预定不上了'], ['蔡振华佩兰都滚吧张莫斯已经跑到快断气了'], ['我就靠了几百年不玩会游戏好不容易心思打把电脑坏了开不开了服了'], ['客机降落遇横风布拉格机场上演惊险一幕机长当即拉起复飞降落时突然那下风切变机身整体忽然一沉右起落架这么看应该是接地过载了落下来后又弹起得做后起落架结构探伤了真吓人估计我坐里面得吓死了本来就恐飞秒拍视频'], ['无机高分子絮凝剂以其高效适应性强无毒价廉的特点在各种污水和废水的处理中得到了广泛的应用'], ['大早上冻的睁不开眼说好的早上六点半起呢拖拖拖到七点七点半八点不情不愿吧啦起来嘟嘟囔囔咋嫩可爱好了我再睡会～'], ['死扑街的某个司机开车像赶去投胎一样'], ['什么破老师啊讲课讲不明白读个东西也读不顺好像刚学会说话样这都大三了她是学院派来跟我们闹着玩的嘛真是能不能给我们换个好老师好好教我们啊让这种老师教太侮辱我们这些坐在教室里学习的同学了我实在忍不下去了必须吐槽是不是学院没老师了啊把打扫卫生的阿姨给征来当老师了啊'], ['з」∠辩论队的队长姓喻我们都称之为喻队喻队人特别温柔但也特别腹黑基本上生气了不会说出来但会以各种方法给我们加比赛喻队是个妹子ಥಥ'], ['今天有个客户一到我就说我长得像郭敬明'], ['军训了这么久看到要结束了结果今晚又被体罚了明天还要出早操五点多钟就要起床好烦啊'], ['我可以爱你也可以不爱你我可以纵容你也可以离开你自己看着办'], ['睡觉敢不敢不说梦话都被你吵醒了是要吓死老娘吗'], ['操噩梦连着做中间吓醒四次但是太困了自己瞬间睡着然后又做梦见现实害怕的所有东西不怕梦不全反正日子长'], ['以五十步笑百步只会崇拜强者却又鄙视弱者的你真'], ['中午无意识上了地铁坐了三站地发现坐反了赶紧下车下午又和游魂似的又坐反了这是要提醒我老年痴呆症要提前发作嘛'], ['骗人害我看分钟也看不到最后一个球'], ['你看失去缘分的我们在一个城市也不会相遇'], ['午睡这样被吵醒真的是欲哭无泪中年人打电话都是这样要把电话吼烂才甘心嘛耳朵都要聋了'], ['类型汽车防盗器就是一种安装在车上用来增加盗车难度延长盗车时间的装置是汽车的保护神'], ['半夜只怕是睡醒了才记起来还有一个甜品没有上现在想起来好不爽'], ['你曾经说我是你的阳光却亲手把我害死在晨曦下我再也不惧怕鬼神因为再可怕也可怕不过人心必须坚不可摧抵挡一切让你受伤的来源我的心愿是世界和平始得初心'], ['练琴伤到手指无名指中指酸到代码都没法敲'], ['我折腾一中午没睡着那几只睡得现在都还没醒说好的三点去图书馆呢'], ['生药鉴别性状茅根根茎长圆柱形有时分枝长短不一直径'], ['搞得好像我在家里等他似的～～～我也很忙很忙很忙'], ['凡在国内外已用外文发表的稿件本刊不再接受'], ['老是在生气控制不住的节奏已被自己逼疯'], ['梦到曾经的人和事大家都没有变还和以前一样是最近累了吧想回到从前回到那些人身边❤️'], ['每个月总有那么几天不想上班即使上班也不想做即使做也是拖拖拉拉的'], ['此时脑子里要观想你叩拜的神佛化成一道光进入你的体内'], ['肚子疼醒一顿拉稀这大半夜排毒养颜排宿便耶'], ['英国心理学家理查德·怀斯曼做了一套实验表明运气和你的思维方式和行为习惯相关幸运儿总是发现事情好的一面所以形成良性循环'], ['知道去年的分就能去中传我快炸了'], ['气鼓鼓的動物河豚動物刚下班迎着寒风赶回家这公司真是够了本来就不景气还养了一堆脾气比本事大心眼比工资多的员工'], ['竹园面积亩道路绿化亩村庄绿化亩农村林网绿化亩经济林亩葡萄亩'], ['我一直是个简单无比的人又是个有种复杂小心情的分裂狂总是开心起来很快失望起来也很容易无限敏感胆小懦弱想得太多每到晚上就周而复始睡醒之后又好像没事了这种性格真的不想再这样了'], ['滴滴出行每次呼叫都是一两公里外的滴滴抢到抢到每次要等分钟以上很耽误时间'], ['人生有那么多相遇却偏偏喜欢与你的那一场'], ['没有品牌文化即使是再好的产品和服务也不能被认识不能实现有效益的销售'], ['这一上午的时间半小时的被思想教育半小时的道歉会一小时的打不通电话一小时的当地往返结论：工作单位的人际关系一个未考虑周全就会引发一系列的人品败坏；找政府部门办事别指望电话咨询可以解决（占线中）'], ['第一局比险胜对手之后波兰人率先做出了变化突击两人结合部的打法很快让他们占据了主动'], ['以诚相贷一个勇敢的人从不害怕去尝试失败的滋味因为在他的字典里失败并不可怕可怕的是没有战胜失败的勇气现在起做一个勇敢的人自信面对生活的每一天（图文来源于网络）'], ['大学过的第一次阳历生日谢谢小伙伴'], ['你再也讲不出的过往陈词滥调我无心听我说不出的故事索然无味你无需问匆匆的时光里我少了你你没了我'], ['生活那么美好只可惜这里不下雪'], ['刚拿到的新版人民币为什么唯独第三张的明线印的位置不一样呢'], ['每个人正在死亡的路上行进不要回避或否定这个看似可怕的问题很多人怕死就避而不谈面而不对掩耳盗铃做很多自欺欺人的事其实当我们客观看待或面对死亡时就反而不可怕了更加坦然自在轻松了怕的是这个恐惧过程会让神经紧张气血不通而死得更快如大多数癌症病人就是如此悲壮快速而去'], ['要成功先学会忍耐等到你足够强大的时候你再也不用害怕'], ['我这是被盗号了吗怎么转了这么多乱七八糟的删到手痛'], ['心疼的没法直视他的图片我一定是一个人'], ['说好的十一点前咪咪结果失眠了喵了个咪的'], ['天天这么骚扰各种给我下套真是辛苦你了每天担惊受怕生怕以前的污秽之事被曝光了你也真是挺不容易的'], ['永远也不会忘记的绝对不要再体会一次勿提勿忘'], ['的评分还真不是盖的看完还想再看一次'], ['首先对于任何一门语言语音是基础它不仅包括单词的发音还包括真实交际中连读失爆弱化浊化重音缩读等多种音变形式'], ['让我老公胖妞妞不舒心的人都要儿屁'], ['（）奥曲肽通过直接抑制壁细胞及胃泌素释放而减少胃酸分泌'], ['不知道是不是错觉～反正自从有了～我发现我的经常打开图片都很困难～呵呵～还有今天很热很热很热～'], ['院长一抖脚感觉整个办公室都在抖'], ['方毅成辽宁省种植结构调整及高产高效栽技术辽宁科学技术出版社年出版黄国勤江西省耕作制度理论与实践江西科学技术出版社年出版'], ['對方喜歡你選的禮物才是最開心的事'], ['真的要奔溃为什么不能好好吃饭'], ['作为鬼子进村的顾问之一他比其他村民关注更多的是村子的变化'], ['我居然买错车票去了南宁东火车站'], ['网站保持客服与同时在线'], ['维护法律尊严维护人民利益维护民族团结维护祖国统一'], ['贱人就是矫情说的就是你来看吧'], ['湖人会爆冷赢勇士上班就去压块的请让我知道有这想法的不是我一个悲傷悲傷'], ['楼上巨烦臣妾想看个游戏王都他妈静不下心来楼板要要塌了对楼上无语典型奇葩护犊家长熊孩子组合有病死孩子千万别被我逮着'], ['早晨别忘记给自己一个心理暗示：美好的一天开始了快乐度过微笑生活我能行'], ['为了一个鼠标求了三次要求真不高就五百'], ['世界噪音太多一辈子做自己会是最大的成功和幸福'], ['为什么总把自己东西弄掉珍贵的不珍贵的都弄掉了又把眼镜弄掉了'], ['杨咏威年在美国史丹福大学毕业后成为神经外科医师'], ['海贼王更新得实在是太慢了看得不过瘾啊呜呜呜好想一次性看完一个岛哦以后就应该一个岛一大集'], ['在此以前殷长年加入了江苏省餐饮业协会'], ['主要内容包括：一是改革货运受理方式'], ['今天宽厚里走一圈发现手绘习大大'], ['今天一个同学发给我当时在教室睡觉的照片一下感觉像没多久一样回想来看长发都及腰了那么短的妹妹头都中分过脸了时过境迁沙漏沙漏再想一下我都是以为十位数来计算年龄了心里就不觉的忧伤起来了算了这大半夜我就不感叹了还是乖乖睡了吧'], ['在济南市硬笔书法家协会组织举办的书写汉字传承文明规范汉字书写大赛上名同学获市一等奖名同学获二等奖名同学获三等奖'], ['把腿给烫伤了这几天都什么状况啊悲傷'], ['选了一晚上特别的给妈妈买了一箱抽纸不出意外老妈收到的瞬间我会被骂哈哈哈～不管了～🤗～睡觉睡覺安呐～傳情'], ['搜文献果然是最开始漫不经心时找到的最准确可气的是一旦错失再也找不回来'], ['感觉自己现在就像是在打怪升级游戏人生我喜欢'], ['微博客服网友不能发微博了不能评论了还说什么存在安全风险要解除结果在自己家解除还尼玛不是常用登陆地点搞什么鬼不用手机不能玩微博的'], ['我就想找个没人认识的地儿想说什么说什么想做什么就做什么什么都不管了'], ['太过分了中国队进球了裁判竟然不算投诉裁判'], ['在微博上搜索东西就看到了这个惊恐太恐怖了惊恐惊恐某些不坏好意的人啊别想得逞怒当你做龌龊的事的时候律师函等着呢白眼'], ['女的突然发飙＂老娘上次输这次输你都能把钱取出来牛逼啊你密码是啥不说把你废了＂男的战战兢兢吐出六个数字＂＂'], ['姑父每次出差回来都带这些东西特产'], ['心疼广东人民以及四次进入冬天失败的南宁人民'], ['突然想起来信用卡挂的是老妈的手机号啊'], ['老子遇的到非要半夜来闹一责像闹的好耍一样'], ['坑爹导师你粗来宝宝保证不打死你起了一大早回学校见你你居然说说错了不是今天是明天知不知道我昨天一点多才回家很困啊'], ['活得善良的人更容易有各种害怕我一亲戚孩子被人脸上抓了几条痕他母亲看了心疼得不得了问：谁抓的我去找他孩子说：我又不是打不过他用你找母亲说：打他了吗孩子说：没有牙打掉了怎么办母亲说：你不能打他身上孩子说：骨头打断了怎办我只把他举起来又放下了恶人总是无所畏惧'], ['真的好漂亮大家都好熱情明天又要飛了～有點捨不得'], ['如果敷面中途感到皮肤痛痒或红肿应立即停止并彻底洁面涂上凡士林以镇静皮肤'], ['外人的一点好当成莫大的恩惠所以觉得你善良亲密的人给你全世界变成理所应当所以无所谓了结果不过伤人罢了'], ['前兩天不在家請老爸幫我餵狗他居然給了一個雞腿給豆豆吃結果現在他對肉有了瘋狂的熱愛狗糧都不怎麼吃'], ['能相识已是缘分每个人的出现都是有原因的'], ['今天依旧有好好打榜现充准备考试和体测乱七八糟的事只有看夏宝宝有好心情啦我们家两个越来越好越来越帅啦很开心晚安希望你们两个也能天天开心'], ['的善琏的快递死光了吗两天不送货'], ['现在的女孩子要身高高就算了还要不要瘦的这个到底是什么鬼啊我的天'], ['以前想着我一直坚持一直在你左右一直关心你一直付出一直把你放在心里最重要的位置或许就会有结果最近的我发现我大错特错如果我一直下去那我永远忘不了你所以我做了最勇敢的决定断了联系希望你安好'], ['看了天天向上昆凌不错我这是爱屋及乌吗'], ['草想想我们学校这么晚放假我就闹心'], ['为什么电信在这网速特别慢不至于啊'], ['我爱的人我都用尽全力去爱你不会后悔爱我'], ['我头像好看吗超有味道耐看美得不像话我女神角色🏻角色🏻角色🏻'], ['他虽不懂她的琴他却懂她的情她虽无明亮的眼却有明澈的心'], ['说出最真实的感受就是对我越好我越害怕没那么勇敢曾经对全世界都坏只对我一个人好的人说过永远的人又等了我多久勇敢的走出了第一步却越走越累我爱哥哥可是我更爱自己'], ['每次外出只能拿大包不能拿行李箱我就好想说脏话'], ['最喜欢你啦陪伴是最长情的告白我想我大概会爱真琴一辈子吧'], ['焦冒着生命危险只身化装离开延安到西安向中共和共青团陕西省委汇报陕北情况后暂留团省委'], ['第六条信托资产归属信托贷款收回后甲方可提取委托存款也可指定新的委托贷款项目'], ['终于买了眼镜去看了虽然听不全懂但是可以猜啊'], ['维修更换保外零件可免费保修天由维修网点负责'], ['双十一神马都是骗人的老子一百多大洋买的东西双十一之后竟然降了多老子只剩下了一句汹涌而出的卧槽可以说了卧槽鄙视鄙视'], ['声优什么风的～啊哈哈哈哈啊哈哈哈哈好き'], ['卧槽他嘛这逼老师咋一比一个贱呢怎么上个课还得一天二十四小时都陪着你你想啥时候上就上不想上就不上是嘛你的时间宝贵别人的时间都算个屁是嘛蛇精病'], ['昨天还得瑟自己流量多刚才一看只剩一百兆了'], ['曾经家里卫生间漏水淹到楼下那家人跑上来吼了我一顿今天邻居告诉我楼下那家已经年没住人了'], ['你看帮我拿包拧瓶盖的是你牵着我手过马路的是你生病了背着我去医院的是你上课偷跑替我答到的是你有氧训练可以做一百斤的是你跑八公里的是你会看电表的是你陪我睡觉陪我吃陪我闹陪我任性的都是你活出了你想要的男朋友的样子所以你才单身啊'], ['心情不好果然不能喝酒'], ['今天快递给我打电话第一句竟然问我你还在吗我愣了两秒钟回到我在啊什么情况啊'], ['怎么跑都跑不过盆友圈里的那几个再跑不到第一把在我前面的都删了'], ['\\ufeff毕业了真的不是很开心有你们的大学生活怎么可以过得这么快我怎么就这么舍不得呢'], ['网友爆料今天上午瑶海区花冲老年公寓一男子居然持刀抢劫自己的爷爷'], ['学院下设的国家级研究机构有污染控制与资源化研究国家重点实验室城市污染控制国家工程研究中心和长江水环境教育部重点实验室'], ['只有会计才能懂这其中多么细腻的感情❤️我遇见最美好的事就是把你从在建工程转入我的固定资产～'], ['还有出席一个勺子的发布会就出席呗帅成那样儿的究竟想干吗呢想迷死个人的吗╭╯╰╮必须得果断花痴一下酸溜溜一下了╭╯╰╮'], ['提示中心负性记忆的低注意依存性和强辐射性'], ['被百度地图坑了居然带了条不通的路迟到定了'], ['夜盲怎么破我草拟大业啊刮大树上了'], ['再来一发面霜的表示现在真的特别特别特别的不爽啊'], ['晚安啦我敲可爱的果回归越来越近了掌声'], ['销售模式直销植雅其它类包括了植雅洗手液植雅凝露'], ['如此就好彼此解脱我相信我会有真正值得爱的和爱我的人正如其他的都会来到'], ['如果你不能陪我到最后就不要半路进入我的生活你知道我本可以习惯独自一人但是我们都接受不了本来有人陪突然就一个人了'], ['根据本办法规定由监考人员对违纪行为进行处理的监考人员应当依照规定进行处理并接受司法行政机关的监督'], ['弄不戳像了心好累我真不适合干这个烦死了我这人就怕麻烦还这么的纠缠不清吹毛求疵的受不了啊'], ['为了方便读者在实际工作中进行书信写作我们随书赠送书信模板光盘张'], ['\\ue11a蝴蝶结有骨气就用实力证明自己只要思想不滑坡方法总比困难多渐渐地我相信了超越永无止境渐渐地我相信了天道酬勤这个世界不相信眼泪没有伞的孩子更要努力奔跑懇求\\ue14c没有船的孩子更要努力前行未知的世界更适合闯荡风雨交加的夜晚更适合飞翔闺密早安\\ue437'], ['传统的资本市场只能提供狭义的制度具体由投资银行运作'], ['想买咩咩代言的索尼大法耳机虽然不是很贵可是我依旧很穷'], ['这个小狗死了没有传说疯狗日内必死可怕这个不可大意没事儿少招猫逗狗有点恐怖'], ['四是突破了地域和时间限制提高了交易效率降低了拍卖成本'], ['少女解禁区逆概娟骇人听闻打哈气的连环凶杀案恐怖的傲拆'], ['原来那趟飞机上的一帮温州旅客在法国过境时被海关卡住原路遣返一张机票只在空中飞了个来回'], ['咳死我算求麻痹'], ['我还以为昨晚老总说的是胡话会忘记今天请我吃饭啊啊啊啊为什么他说的是真的这个电话我真不想接各种理由各种借口掉奶奶滴不是上班时间你还占用我时间当我是机器啊困累晕各种的'], ['例如稗史汇编认为：瓷有同是一质遂成异质同是一色遂成异色者'], ['母乳的妈妈太不容易每天晚上哄完孩子还有逼着自己吃撑为了夜里孩子不脱奶都坚持了将近九个月幸好我是吃再多也不长肉的人呐'], ['他们需要一位他们自己的领导者'], ['啊啊啊不知是遭上帝妒忌还是坏事做太多遭报应可我发我真是善良姑娘一枚啊所以没错就是太遭妒忌所以害我病痛缠身简直痛到心底底去了啊啊啊怎么还不天亮喉咙已经不行了神经也快要衰落了简直就是逼着我绝食'], ['利物浦大学在利物浦大学他回到他早先研究的课题即对拮抗肌的神经支配的研究并发现反射抑制在拮抗肌中起重要的作用'], ['真的不想说话做多了遭决做少了也遭说不关我的事还是遭决一句话形象不到位'], ['不要问我为什么上不去车左脚上来了右脚被踩住了'], ['色彩斑斓的花朵满天星辰的夜空波光粼粼的河面童话般的乐园和美妙的歌声画面赏心悦目充满希望如同每个人最开始的梦想被嫌弃的松子的一生仿佛集合了所有事情最坏的结果以为无比珍惜背弃时更加彻底该放弃时异常执着她的人生在重拾希望处戛然而止怀抱善意却不得善终'], ['妈个鸡有人跟我说我不服气我就要选屁桃妹'], ['李众星都他妈是你犯贱活瘠薄该艹'], ['冬夜的雨冷得刺骨骑车差点摔一跤裂开的手机屏应该救了我的膝盖很惊讶我自己的淡然有些事情我开始下定决心可能之前不够勇敢有些事情或许该尝试一回'], ['有些人永远不懂什么叫做感恩不知道什么叫好真想断掉算了'], ['渴望这么一天可以身边都生活一群真诚的人'], ['好烦有种想死的感觉怎么办'], ['好久没有享受睡到自然醒的感觉了苦逼的不要不要的'], ['小宝现在很爱翻滚为啥一给粑粑看就不动了呢'], ['办公室政治成了炮灰超级恶心的人'], ['什么木头这么硬啊门坏了一个约六七毫米厚的木条大锤轮圆了都打不进钉子'], ['\\ufeff我们像傻瓜一样哭着笑着～～原来这才是真相～这才是我执意以为玩笑的真相～～～有犹豫就千万别做事情～别指望别人因你而改变～别浪费眼泪在不值得的人身上～～～即使忍不住～～～'], ['在咖啡上面棉花糖都会下雨下雨了下雨了'], ['心情差极了好久没有这么生气了中介就是个引子赶上他倒霉今天一天都不顺利很少有这么差的运气和心情了只想骂人骂人对不起这个微博小号了全是心情不好的帖子啊啊啊啊啊ಥಥ还是好郁闷'], ['园中的主要亮点是钵池山和水面面积达亩的山子湖这里是淮安市最大的综合性公园'], ['那些上下班时间在车里吃面吃包子的在轻轨上吃烤肠的看到人多就放屁的'], ['中戏学院奖这应该是微博上颜值最高的一个话题了'], ['我觉得坚持画画是唯一让我变得有点特别的方式父母希望我一生稳妥安定谈个中规中矩的恋爱找个安稳的工作可我啊还是希望自己能浪漫一点成为一个有自己风格的插画师可能这个以后只会是个副业但只要我坚持下去画技能不断长进我也就心满意足了'], ['四个月以后一个中转的航班都能被订完万能的微博这合理吗'], ['最讨厌的就是他们相处不一会儿就一个吵啊咆哮啊一个大哭俩人纷纷找我快帮忙啊你看你儿子我搞不定他不让我管那个妈妈不要爸爸没有耐心技巧和长进的爸爸我真是恨'], ['俄军真的向土耳其发射枚巡航导弹'], ['真的是喜欢他太喜欢怎么看怎么喜欢'], ['转眼明天又星期四时间过的不是一般的快'], ['这人情搭的我心不甘情不愿感觉自己像个傻比一样合着嘴里含口土不光得笑着咽下去还要谢谢喂我土的人我他妈下次再搞不清楚情况瞎感谢就罚我变成罐头被端午吃掉'], ['另外还包括每日的国内证券交易提示和上市公司公告摘要'], ['史上最难用卷发棒我编个辫子再拆开都比它夹的卷'], ['完全没得瞌睡～明早怎么起得来啊'], ['卧槽太他妈的可怕了我要匿了深藏功与名吓死我了'], ['钟情于黑马的我们有多久没见了呢那些我们曾经说好了的如今还算不算数'], ['周一早上状态不佳都怪昨晚作死'], ['貌似再有一个多月就要到年了我擦还啥都没弄'], ['给你们看一下什么叫做瓢泼大雨和鸡蛋大的雹子'], ['学业事业爱情终究不能兼得'], ['很多事情都明白就是放不下也忘不掉'], ['我只想拌个黄瓜结果又是黑暗料理'], ['那些我们一直好奇而又有一些惴惴不安的未来深圳婚纱摄影工作室有时候在我心里隐隐约约的感觉到广州婚纱摄影工作室它们是明亮的汐邦芳朗贵进萌民'], ['准备买房了突然有了压力以后各种的活动旅游都没有了'], ['听说在北方冬天收衣服真的是这个样子的'], ['于是在红十月市场投资尚未全部收回的情况下米恩华没向政府要一分钱无偿将市场迁到了西大桥北侧'], ['我已经被楼上装修的逼疯了一到午休时间就轰隆轰隆'], ['都这时候了睡觉还能被蚊子咬肿了嘴巴也真是醉醉的蚊坚强带着你的弟兄们快离开'], ['图超有爱的好吗我才不会告诉你我看了二十几遍'], ['素质啊素质没救了只顾自己停车停的爽'], ['每次看到这糟头发我就想吃药长不长头发难道还是剪'], ['老公生日快乐虽然我们平时经常意见不合虽然你不够浪漫虽然我们争吵不断但是还是谢谢你能够包容我在以后的日子里我希望我们会更好的走下去'], ['我真的很烦那种伸手党朋友圈不敢抱怨空间不敢抱怨就让我在微博怒吼一声吧你们的手用来干什么的'], ['黄龙寺与周边散布的文化痕迹无不向世人昭示其辉煌历史'], ['静不下来静不下来静不下来～～～'], ['然而清军采取积极防御进军陕西江西以切割叛军'], ['无所谓什么一直在等你准备好娶你'], ['难得小小君这么早起床不过坐在同济的最高处鸟瞰佛山中心似乎很不错的呢没有去过同济的佛大＆们要抓紧机会啦分钟带你逛完同济'], ['真的有那种人让你分分钟想抽他几百遍'], ['南充高中转着正在感叹学校修得大气磅礴教研组长王老师大汗淋漓跑来解释这石雕：石打九书（十打九输）上面顶了个日晷（日了鬼）刚刚还在感叹人家学校雕塑多有文化书籍和时间结果瞬间自己变石雕了'], ['年月北京商务印书馆出版由总目索引附录三部分组成'], ['嘤嘤嘤翻牌了开森受宠若惊晚安么么哒'], ['心疼哭找个医生好好照顾他赶紧好起来呀我们要看到一个活泼的健康的其他的都不重要了'], ['这个月我都第二次躺病床上啦他大爷往年没这么衰啊'], ['这一天天的天天背题头都大了'], ['对臭虫深恶痛绝因为它昨晚不仅把我吵醒而且在我做梦梦到鹿哥的时候把我吵醒简直不能忍'], ['电脑屏幕坏了眼镜也坏了妈的脑子也坏了'], ['昔日寒山问拾得曰：世间谤我欺我辱我笑我轻我贱我恶我骗我如何处治乎拾得云：只是忍他让他由他避他耐他敬他不要理他贪心无足厌'], ['以后还是对自己好一点吧别让自己受太多委屈'], ['韩束那个居然是演唱会双以后哪还有钱买门票'], ['燥死了烦死了还是一个人睡好'], ['肥成猪明天开始真不能吃了争气一点啊我'], ['你要做一个不动声色的大人了不准情绪化不准偷偷想念不准回头看去过自己另外的生活'], ['果然还是很享受快节奏生活耶耶戴耳机穿过慵懒的人群那才是我嘛哈哈哈耶'], ['这位居然是赵忠祥不同角度的视觉效果也太不一样了'], ['啊啊啊啊啊啊啊啊破整死我算了'], ['多条腾讯微博删了两个小时终于删完了放下重新开始感觉自己棒棒哒'], ['原本就缺乏安全感的我每天都在战战兢兢地担心在我们号凌晨见面之前你就不要我了'], ['蒙面女郎豪放劈腿秀翘臀舞姿引吉祥物偷窥八一男篮的主场宝贝演绎性感拉丁之夜蒙面女郎性感热舞无惧走光豪放劈腿'], ['各种屁事儿烦翻天谁特么都别来烦我我不保证会发飙'], ['有个问题是听过一万张唱片是什么体验没什么体验就是每次被问你最喜欢什么类型的音乐时张口结舌好不容易说个没什么固定类型还是看好不好听又烦自己废话那么多'], ['有优秀的教师团队和良好的教学风气'], ['测量到最大的塞鲸为米重量介于至吨之间'], ['答应过的一定会做到只是时间问题等我'], ['结果死掉了～～～真是养什么死什么'], ['对玉米秸秆进行精细加工处理制作成高营养牲畜饲料不仅有利于发展畜牧业而且通过秸秆过腹还田更具有良好的生态效益和经济效益'], ['蚝仔香芋丝瓜粥蚝仔洗净沥干水份放入姜丝和料酒腌一会丝瓜：芋头去皮切粒备用大米洗净放入锅里倒入适量清水大火烧开转小火；熬煮至开花放入香芋丁煮软然后放入蚝仔：最后放入丝瓜丁；煮软后；撒入盐和胡椒粉搅匀即可'], ['那些我们一直好奇而又有一些惴惴不安的未来深圳婚纱摄影工作室有时候在我心里隐隐约约的感觉到广州婚纱摄影工作室它们是明亮的雪花'], ['充满乐趣的一夜现在正宵夜着因为欢乐所以记住每一个初识的人'], ['记住了千万别惹我否则你怎么死的都不知道'], ['分钟讨论说分钟已经是我无法改变的风格了但是那个不要脸的面试官居然说我没有贡献主题是我确定的宣传方式我说了好几种最终活动是我说的售后是我总结的居然说我没贡献长没长耳朵'], ['老師成功拖堂六分鐘七分鐘'], ['我一想到要回到那里心如死灰真的好想逃避永远不要面对那些人和事'], ['什么叫做深闺大小姐我只是出了车祸在家里养伤过两天自然会去上班碍您哪里了一直待在家里游手好闲的可不是我'], ['连续吊了两天每次针孔插进去的那刻都怕'], ['应委员会的邀请各地区监管组织也对修订工作提出了意见'], ['与其说战争是政治的延续不如说战争是经济的延续这次局部的摩擦明显已经在向危险和不可控边缘滑落它反应的是目前世界经济状况堪忧大国之间的资源争夺与政经博弈在全球都会进一步的加剧——如果子弹代替了合作那只能说明经济形势已经糟糕到合作已经无法共赢而只有用刀子抢劫了'], ['本喵了新技能技能点都点在这些没卵用的地方了考试怎么办'], ['快被蚊子咬死了不知道这一躺下什么时候又被咬起来了'], ['喜欢微风拂面的感觉清风袭来所有的烦恼都跑光了或许还会有意外的收获'], ['不是一个月感冒四次是压根没好过谁叫你不好好吃药'], ['你爱喝的咖啡调配比例在这里在这里在这里'], ['我大三食放了剩下的盛夏清早心情好'], ['天天在想跟谁可以借钱都不能安心看书了看书效率也低可能都考不上了不想考了出去流浪算了'], ['我第一门语文考完就知道作文好像走题了于是就是不眠夜啊今天考试我昨天就开始紧张现在做梦梦到高考还会惊醒一辈子得噩梦'], ['狄龙的三节棍真拉风袖里双刀非常适合声仔秀刀工那段萌爆了孙仲的剧情很抓人他明明把悬念点开了却知其然而不知其所以然逼得你不得不看下去探个究竟我不以为然让你不杀人的理由是你爱上了那个叫小凤的姑娘若是换上另外一个跟你毫无感情的人未必能改变你的作风台词赞'], ['看看这位武林人士拿着一把大刀留着一头极为个性的头发行走在茫茫人海中穿梭在大街小巷回头率％我想说的是您老是不是穿越过来的'], ['我也不知道我为什么大冬天啃冰棍嗓子要冒烟彻底感冒'], ['今天又吐了那股子胃酸冲口而出真是让人恨呐钞票都不能让我兴奋了整天没有欲求觉得好无聊没个盼头没个念想的对物质对生活的热情和欲望就这么一下子没了老公给再多的私房钱也伐开心啊孕吐什么时候才能过去我还能变回原来的我么'], ['今天有点高兴我把我的爱都画进去了我知道你知道'], ['真好至少我还有一个大酒窝可以时时刻刻提醒我笑一笑'], ['我晕真的是不想管了真的受够了郁闷烦躁'], ['这辈子最讨厌的就是写计划报告这些东西了这简直就是自己编给自己的谎话然后再给别人看'], ['真希望你可以明白我对你的心没有太多的感动就像她们都是酒店而我才是家我会等你回头看到我我会把我所有的好都留给你如果今天的你给的我不是这个答案那我就把攒足了的温暖和拥抱都给你然而一切都是这么不尽人意我会把这份爱深埋心底谁也不可能触及继续做我的女汉子最后真的没忍住真想哭心真疼'], ['真受不了自习室两个男的聊天声还特大要不要脸我要发飙了'], ['制作方法先来讲述用水草来制作鱼巢的方法'], ['為什麼球門有框真的是醉了國足你們能不能讓大家歡呼一場'], ['这一年说是不幸运的也可以说是幸运的幸运的是在你紧要关头还是有希望突然出现而这突然出现的希望往往可以慰籍你整个生命里头'], ['今天是什么日子啊我妈对我不满意我爸对我不满意我妈对我爸不满意我爸对我妈也不满意我对我爸妈不满意都不满意还有今天的地铁也挤得完全没人性'], ['剧情最完整场景最真实人物最多最清晰的一次噩梦惊醒的时候都不知道自己在哪里泪可怕'], ['天天在另一个号混已经忘了这个号了然后惊奇的发现有人送这个号三月会员感动到死好我要报告我最近干嘛去了大概就是前天吧病的比较严重当时疼得比较厉害在我们班长和老师陪了一整晚打吊瓶后就完全恢复了'], ['竟然是民主党我一直以为自己是自由党'], ['妈蛋刚睡着被个酒鬼同事打电话又给吵醒啦'], ['今早瑶破天荒点就醒了要知道平常不到点半绝不起床赖床大王提前出门送瑶去学校本来每天只送到学校路口今天头脑一热把车开进了往学校的小马路果不其然被堵在里面掉不得头超不喜欢这样的下雨天～'], ['督查办：负责案件评查代表联络等'], ['手机砸脸上了真疼生气了不玩了碎觉'], ['人人有剪刀人人会剪纸人人有作品人人能创作是学校的口号和目标'], ['之后凭着超凡剑术连过几道少林大师的关到藏经楼'], ['建议直接物理阉割化学阉割太便宜他了不是人的狗东西'], ['三天补完了黎明之前最好谍战没有之一全剧智商在线就是太虐了啊波酥心疼死我了'], ['单恋最开心对方一个问候就会高兴个半天不管对方怎样反应自己开心就好可是在一起后便开始计较得失总是希望付出与收获成正比计较着计较着也就没多少感情剩下了'], ['惊喜年年有今年特别多这篇文章简直让人瞠目结舌'], ['关心时政关注民生是时代赋予我辈的政治品质也是欧阳诗作的重要内容'], ['做了一个很可怕很可怕的梦特别真实吓人的我都不敢告诉我的舍友'], ['为什么总是要在只有我一个人的时候互相残杀这样我会很尴尬的啊我害怕啊鸡皮疙瘩掉一地已经没有什么比捞死鱼跟恐怖的事了抓狂抓狂'], ['整天生一些有七没八的破事折腾人天怒人怨遭雷劈'], ['突然意识到一件事其实从喜好到口味我算胖蛋的男粉吧'], ['没个晚上网都那么差每天都想吐槽等到期了立马换掉你碧池'], ['前面醒来两脚冰凉这会已经不太冰了再量真的又烧起来了'], ['宝宝昨天满三个月啦麻麻太忙没有来得及发微博感觉每天好忙好忙麻麻希望宝宝健健康康快快乐乐的成长'], ['未来知识管理将发挥前所未有的重要作用并且并不仅仅对咨询客户来说如此'], ['今天他因为我关了他电脑他捶电脑了很恐怖原来他应该是有点暴力倾向的当初我玩游戏他关我电脑我也没这样啊说实话我很害怕我觉得我不敢跟这样的人一起生活现在是游戏以后我要是动了他什么东西可能就该打我了吧很伤心'], ['买闪闪拼团的周边真的好蛋疼总是被自留不说总是被捆不说还特么要快'], ['好像上高中以来第一次被骂的要哭鼻子酸'], ['介个女人说会疼我一辈子牽手我信啦'], ['睡前诅个咒背后捅刀的那些小人生孩子没肚脐眼'], ['真是个不容小觑的恐怖组织令我开心的是组织内没有中国人但居然有新加坡人呃'], ['今天我一看到扭曲两个字直接吓哭全身瘫软后来问了医生和比超师他们都说没问题这是术语我好害怕真的真的什么也不能承受了脐带扭转是我这辈子的噩梦求上天保佑我这次一定平平安安的把宝宝带到这个世界上'], ['中山南二路宛平路我很多长辈都住那片儿土方车真的很吓人车身沉重刹车不便司机视野也很不好正常人看到了都会下意识让让开的——但是有很多土方车闯红灯抢黄灯已经很习惯了遵纪守法不乱穿马路的老百姓是不是应该去团购钢铁侠的铠甲啊'], ['通过这份介绍手册您将对大连百川工业用布有限公司有一个基本的了解'], ['重点是桌子哦我觉得我超甜'], ['这让在甲骨文工作的同学感到不解'], ['一些小偷堪比强盗从二楼开始撬门撬到五楼把家里翻得低朝天打他们一百遍都不解恨'], ['人一旦遵从自己的内心不顾一切的话是非常可怕的事情因为人心本来就是险恶的一切罪恶的源头都来自于人心可想而知有多恐怖'], ['早安一般不赶时间都会走这条小路清净没有那么嘈杂反正就是爽'], ['亨特国际是贵阳首个城市综合体项目'], ['完全不懂回答的格式到底是怎样的我担心的果然发生了'], ['还没拷贝学生提交的作业就关机了下节课还要继续讲怎么和学生交代教师机有写保护想恢复也恢复不了'], ['短短几天不在家我居然瘦了这么多坐车晕车吃不进去饭这瘦的速度太惊人'], ['巴黎警方那天晚上突袭剧院时攻入的特警先锋用的盾牌个弹孔'], ['真是痛苦疑问牙龈发炎红肿求方法好了好去拔牙'], ['对民兵大队长马文育说：派一百民兵在邢村西沟沿和四沟河部置两道防线我带五十名民兵去支援二朗庙'], ['他是一个奇才独特的眼光使他总能准确看到业的未来独特的管理手段使得不断壮大的微软始终保持活力'], ['哈哈合肥下雪拉不过好小今年冬天的第一场雪突然想起小时候听刀郎唱的那首歌哎下午要考试了说考完后去可是陪吃饭真的不是可以用那个叫的词可以形容的是煎熬发张大幂幂的皂片压压惊'], ['通常与甲基红终点碱度结合使用'], ['我竟然独自从地铁站走回了酒店全程仅依靠导航以及一位热心小哥的指导←←只是下雨夜走在黑黢黢的路上还是有些方'], ['星星穿不过栅栏爱情过不了冬每年都在失恋明年呢'], ['人生的驚喜可能就在於未知吧但在面對自己最愛的人的時候我好想有預知一切的能力這樣我就能知道到底要如何做才能不傷害他'], ['发新专了送张专辑怎么了碍你们什么事儿了简直了'], ['我创建了一个微访谈睡不醒头（）欢迎大家前来提问不见不散'], ['显示细节测量的附加信息如：房间的面积体积等只需一个按键即可显示'], ['简介安徽凤阳利民村镇银行于年月日正式挂牌开业成为安徽省第二家村镇银行'], ['哎呀一下子下这么大的雨木有雨伞'], ['嘻嘻我就是那种爱撒娇爱卖萌爱捣乱的女友'], ['显然两者规定不相同但作为协调制度归类的法律依据是前者'], ['世界上最美丽的地方英国摄影师'], ['在我们日常生活中我们会观察到下面的现象它们很好的解释了胶原蛋白多肽氨基酸之间的关系'], ['我的妈妈不强大岁月你别伤害她'], ['就一些问题始终和母上大人达不成共识心'], ['把我的眼睛画的跟鬼一样还说画的跟李英爱的一样是我眼睛劈叉了还是那女的瞎了呀还在我眼睛上用了眼线液眼线胶笔卧蚕笔完了各种推销我只是买了唇刷而已'], ['接到一个语的网站～日语西班牙语俄语法语中文英语～头都大了晕死做吧期望以后不要再有这种单子了'], ['（额头突然出现大拇指大的黑色团块是病危之象）不会吧来个人救救我也好啊不要吓我我还没到往生的时间呢'], ['老黑村隶属于云南省楚雄州楚雄市西舍路乡西舍路村委会距离西舍路村委会公里距离西舍路乡政府公里'], ['双十一入的鞋本来这时候快递慢些也就认了坑爹掌柜竟然还给我发经济快递看着物流信息几天几天的不更新'], ['很累脑子混乱打算好好休息一阵子'], ['老娘已经负能量爆表了没法好好说话了病房病房病房何解'], ['好困还不让睡觉还要听着这个该死的舌头漏风的老师讲课老师啊你说话就别卖萌了好嘛'], ['师院阳光等了好久终于等到你还好我没放弃'], ['对于这种一而在再而三地延迟发工资的机构真的很失望也不会对它抱任何希望明年拿到证书后立马走人'], ['衰会考一个比较恐怖的名词做起来也不是那么恐怖说是闭卷考试其实和开卷有什么区别啊前名得是没我们这么好啦我刚好以后生物地理课要干嘛呢'], ['听歌～学习～努力～为了不错过明天更好的自己～'], ['上海犬舍宠物诊所畜生不如的王八蛋'], ['想想也真是命好艰难的时候总有人惦记吃喝玩乐总能跟知己一道书看少了真是连表达都不会好好来了嘤就这样'], ['专辑命名为乐队的头面人物依旧保持低调让我们来记住他的话：来自停尸房的宇宙般广阔的声音'], ['尼玛合同都签了钱都收了跟我说没位子这么大雨还在外面冻饭都没得吃还加上投诉还卖毛线位子氣憤'], ['那些我们以为念念不忘的终会被渐渐遗忘'], ['梦见在睡觉什么的最恐怖了环境都是生活中的实景然后在梦中醒来有次我住一个小旅馆梦见在睡觉醒来看见床脚坐着个老太然后吓得真的醒来'], ['俄联邦委员会（议会上院）主席米罗诺夫国家杜马（下院）主席格雷兹洛夫和俄议员政府官员将军以及各国驻俄使节等约人出席了就职仪式'], ['这真要出了事一飞机的冤魂找谁说理去民间恐怖分子太可怕了傻逼真的杀不完啊'], ['冷啊冻脚放眼望去就前边一个车挺背啊'], ['像加拿大的不列颠哥伦比亚省当地政府会给特效公司经营成本的补助'], ['脑袋最近都不好使昨天误删了一些东西就要重新做到现在眼珠子都快爆出来了'], ['睡醒觉的我家那谁给我拍的还是蛮好看的'], ['话说盆友圈现在是一个打广告的好地方虽然我自己也偶尔打个广告（尼玛那不是自愿的好吗）'], ['明知道你不适合我可我还是死心踏地的爱着你明知道你的兄弟位置比我高可我还是天天和他们比较明知道你还是挺听你妈妈话的可我还是没去讨好你妈妈明知道我们的感情已变成情感生活的依赖可我还是想回到过去你以我为心的时代'], ['有人给我造谣在我背后骂我说是小偷看着他的手看着他的手我给孩子找本书吓得我紧抱着我的包感觉他们在背后指指点点说我感觉那些周围的人光想打死我太可怕了这些人太可怕了在我后边造谣的这些人在我背后骂我的这些人诈骗我号楼一套公寓楼楼中楼还想利用公共场所有人的手打死我石家庄·海悦天地（商'], ['不按时发工资的公司不是好公司遇周末推迟发工资的公司绝壁壮大不起来'], ['且不说洗衣机拿到手就是坏的格兰仕售后服务实在太差安装工人和售后沟通有着严重问题其内部管理和沟通机制的不健全一目了然第一次也是最后一次买格兰仕'], ['要把十天的觉补回来这辈子也不下炕了对就让我睡死'], ['现在才反应过来仔细看结婚照真是越看越来气啊呵呵不说什么了当年简直就是糊弄某度天天看你发就是挑的拍好的拍特别认真的发其实对新人很多细节早就走下坡路了要不是有朋友认识吧呵呵呵呵呵呵好几年了没功劳也有苦劳算吧要有朋友再去绝对不推荐'], ['在企业经营上明确战略目标重视经营报表同时合理利益分配机制让企业永续经营'], ['没发烧没感冒的出了一身汗是什么鬼'], ['网友肉多多爆料：世纪广场这什么情况'], ['靠你自己的錯這種口氣跟我欠了你似的火大'], ['渐渐的知道了很多东西可遇而不可求不属于自己的何必拼了命去在乎'], ['爆了一脸痘痘心情真是糟糕透了加班到现在才能睡觉想想也是挺拼的这是用生命在工作啊问题是还没有工资差评'], ['青山宫为供奉历史人物神——灵安尊王张悃的宫庙常见于福建台湾及东南亚等海外华人聚居地一般祭祀灵安尊王的庙宇统称青山宫'], ['求合作渠道啊不然没钱吃饭了'], ['和这个傻逼排了排了一个下午的队去交学费看到人那么多就想着坐下休息休息结果刚到我们刚看到希望结果人家要下班了三个小时就这样傻不拉叽的'], ['每一次的假期都是在考验国家的基础设施和国人的素质强壮好去客运站买个票结果把人吓傻了紧张恐怖惊恐满满的都是人围观围观围观围观围观围观围观围观围观围观围观围观围观围观围观武汉'], ['惊疯狂半挂车撞坏执法车又撞伤执法人员日潍坊司机王某驾驶超高超宽半挂车路遇执法人员拒不停车接受检查还闯红灯逃窜；在逃窜过程中撞击执法车致使执法车受损三名执法人员受伤日这名疯狂的半挂车司机因涉嫌妨害公务罪已被刑事拘留'], ['要达到上述的研究目标仅仅使用现有的分析方法是不够的'], ['昨晚生日在晚夜班度过好桑心呀'], ['骨灰级话唠又要相遇了笑不可抑遥想当年坐隔壁一起上班的时候常常聊到完全没法工作的节奏来着'], ['所有电器都启动了安好顺利吧睡觉'], ['下湾潭àāá湾潭村委会驻地'], ['是的当我得知做了两个月的实验从头到尾都是失败的时候那感觉就像怀了两个月的孩子流产了一样让我哭会'], ['是真的还是因为习惯呢让我好好想想'], ['除了每章中大量的单片机系统模块及有机系统的介绍外实例点拨环节还展示了许多相对完整的单片机系统实例供读者学习开发时参考'], ['好嗨森啦你们都不知啊车子又烂在半坡上坤仔娃说的他个乌鸦嘴幸好小问题修好了'], ['一周有七天本周的工作日为天领导为了我们的茁壮成长真是操碎了心'], ['这种工作量我也无法了分分钟都想发火凸凸凸'], ['六是可开发利用土地较成都市双流县主要城区宽余'], ['好心对你竟然这么对我别怪我今天开始记仇'], ['卧槽卧槽卧槽把我女朋友饿着了老子不砍死你'], ['看来上下班高峰期哪条线都很挤三号线是五号线也是姐的眼镜都被挤飞了'], ['悄不响的给我整套蓝秋衣多奇怪的品位'], ['额我也是醉了就借台电脑给同事打印一下尼玛我一早上全白做了'], ['不能说自己多孝顺毕竟常年不在身边陪伴能做的太有限愿我这一生中最重要的男神生日快乐健康平安懇求懇求懇求'], ['双十一买买买到啦整个少女心都被填满啦〃▽〃'], ['当撕开一个伤疤的时候那种疼痛只有自己能体会当你画了一张没有眼睛的画像的时候那种失落只有自己体会当你迷失在人群中的时候只有自己站在原地不知道去哪里当站在一个广场的时候也只有自己明白自己的影子是孤独的一切的一切只有自己能体会'], ['这么多的玩笑话我该相信哪些我觉得这娱乐时代都快把自己的判断力给模糊了'], ['想到今日與舊時摯友的談話原來有和我一同守護美好回憶的朋友多年未見前塵往事歷歷在目我們都還記得那些年的小事好感動邊打訊邊流下眼淚原來老天在多年後安排這樣的劇情讓我們依照著紅線牽起我們的緣非常老套但十分動人太開心了難以言喻啊親吻我們都好幸福感恩'], ['我也是醉了上班还没一个星期办公室钥匙就被我开断了'], ['十二点就爬上床睡觉到现在都没睡着'], ['今天才发现华为做的不错啊除了系统不如流畅应该可以和玫瑰金比一比了'], ['简单的午餐服务员竟然说我不够吃哪只眼睛看到我能吃了'], ['马格机吃顿饭的功夫真就把校园卡丢了尽管还没出食堂门就发现丢了回去转了一圈又一圈也还是没找着」∠蠢我真是神蠢'], ['送外卖收到这钱第一时间都没敢拿'], ['理事长：邓爱国中国软件行业协会副理事长深圳市软件行业协会名誉会长'], ['在网评论里经常看到有些人说话好难听我说谁谁谁也不是坏话是建议然后我又说中国最近也有事故有个人评论我说我死了对吧给他点赞的人还有这人他父母他全家已经惨死过了吧不然不会那么没有素质教养我骂你吗我可没说啥就说我以后再也不在那里评论了太可怕了'], ['吃醋是最明显的告白等待是最愚蠢的告白陪伴是最长情的告白'], ['妈蛋最近被各种人催着找对象从小学同学到研究生同学从亲爹妈到不认识的叔叔阿姨真是够够的再烦我我就去读博'], ['普通话报名教务系统密码记不清了试了所有的排列组合依然错小样儿防盗系数这么高自己都破译不了了吧靠'], ['换了别的医生大概也会这么想零全身上下只有白和红这两种鲜明的颜色她躺在路明非那张妖冶的紫色绒面大床上跟周围的环境格格不入'], ['忙的时候时间不够用闲的时候时间用不完'], ['自动洗衣机吞了我的钱却不干活真是气死人了'], ['晚安公管与恶龙缠斗过久自身亦成为恶龙凝望深渊过久深渊回以凝视——尼采'], ['我妈总是让我在感情泛滥的时候把我堵的心痛做作业做到现在我也不容易啊'], ['冯潇霆传球给中锋杨旭冯潇霆传球给右边后张琳芃冯潇霆传球给左后卫邹正麻痹阿婷是我们的组织核心啊踢的一坨屎'], ['真是受不了老拿学历来说事再这样老子不陪你玩了'], ['最近这几天也不知道怎么背成这样手受伤丢钱金钱车車也被不知道哪个王八蛋划成这样没素质'], ['每天都是一只打不死的小强啦啦啦早安啦各位'], ['读书的时候最怕的就是自己一个好朋友跟另一个好朋友冷战特别是大学宿舍里天真的我以为毕业了就摆脱这个顾虑了万万没想到我爸跟我妈居然也来这套而且今天已经是第七天了简直心累到想狗带'], ['室友给我准备了生日蛋糕刚刚掐着零点送给了我还给我唱了生日歌悲傷悲傷悲傷悲傷悲傷悲傷呜呜呜呜呜感动啊啊啊啊悲傷悲傷悲傷悲傷悲傷'], ['恐怖片中吓人镜头集锦将近分钟部影片简单粗暴直接吓最适合无聊的时候看秒拍视频'], ['使用温度可达℃℃'], ['企业经营宗旨：为人们的安居环境提供优质环保的涂料产品与服务并不断创新创造财富贡献社会'], ['一上午头都要炸了要炸了好么简直要疯了'], ['一张白纸一枚硬币就能自查疾病'], ['原来我真的没有详细写过插入欸最多是用几十字带过了'], ['想撒泼气死了看来下了自习一定要跟这个占我位扔我书的人吵一架了'], ['他妈搞行政的是不是都喜欢让人证明你妈是你妈'], ['早上不到八点到这里生生等到八点五十签了三个名字一个处还要再签两个就你们人多是不是敢不敢给点章程没人说过要签五个名字好么档案不要了行不行'], ['尼玛这些拐卖的抓一个杀一个'], ['尼玛的要停水能不能提前说一声太太太他妈的过分了经常突然就停水这会我等到两点都没来水你他妈的叫我怎么睡觉'], ['不想再去到黑乎乎的地下停车场想花钱去租个长期的地面车位才发现我想太多过来人说排了一年都没轮到'], ['二姐的梗绿王断网看还能用流量如此师姐（终于）暴露属性了'], ['换了科室就没一天开心过想发泄都没地方妈蛋妈蛋妈蛋'], ['失业了工作也不好找怎么办现在饭的没有吃的了很快就流落街头了'], ['实拍可怕的中医放血疗法网友直呼：吓死宝宝了秒拍视频（使用秒拍录制）'], ['就下午去喝了一杯摩卡竟然我也会失眠了'], ['老师艹两个小时课压成一个小时耍我啊'], ['减肥开始了劳资瘦回去不该再的肉哈麻烦给我消失失失失'], ['史上最坑子的菜放冷烟花的巧克力地雷炸开后一小堆带烟熏味的水果色拉还丧心病狂的卖五十八创意菜从今往后拜拜了'], ['比赛结束了收获的只是气愤妈蛋原来可以这样玩我们助你登顶原来就是利益你一人全占原谅我太单纯妈蛋以后不能一起愉快的玩耍啦好吗'], ['听到凡有井水处必歌柳词我竟然想到凤凰传奇'], ['每次工作出现纰漏的时候心里都好难过好难过'], ['对组最好两位数字没有特定含义仅用作顺序号以识别同组中的不同铝合金'], ['除了和神棍寄吃的来和店店来成都给我带的稻香村就没有收到过吃的了'], ['貌似卢洪哲要回归无挑了虽然消息还不确切但是随着郑亨敦的暂停活动韩国国内粉丝呼声很高让我们无挑粉一起期待疯孩子那明朗的笑容吧'], ['．自发光体这种材料经常被当作光致发光物体'], ['美味的辣椒就要离我而去好伤心'], ['宝宝进行早教的建议早教有加速先天潜能变为现实的能力但要注重时间点的选择因为宝宝的智力发育是有阶段性的要讲究适时教育宝宝是否有语言智能数学逻辑智能空间智能身体运动智能音乐智能人际智能自我认知智能自然认知智能八项中的某一项潜能需要父母在生活中去细心发现'], ['一个大写的坚强｜故事说到最后只是几句话却又包含了多少滋味'], ['以前手机屏保也是我现在全是安安安安安安安安安安安安安安安安安安不说了我再也不发安安照片了生气'], ['合掌露齿菩萨合掌露齿菩萨是大同华严寺薄伽教殿内的著名彩塑'], ['不计较结果的学习本身就是令人喜悦的成长'], ['宝昨晚从点睡到点吃奶后点半睡到点半才醒了一次太棒啦今晚趁他睡着跟他爸溜出去看了场电影有四五个月没进过电影院了真不容易啊以前跟老公看完电影都会去吃个宵夜再回家今晚看完就马上回家心里很挂念家里的那个小人还好回到家他还在睡晚安宝贝'], ['写教案做讲课上党校考研谁再告诉我大三好玩'], ['真是怪了每到这个日子只要有人喊我名字我就有想把喊我名字的人的嘴给缝上的冲动'], ['这什么年间了一晚上喂蚊子了大夏天都没被蚊子咬过别的我就不说了眼睛肿成缝了'], ['这个投票方法实在是太无耻了难道是老三想出来的主意'], ['家用植物定制机亲爱的您见过吗'], ['真尼玛受够了声嘶力竭无休止地争吵没意思就赶紧散伙吧'], ['坐个轻轨热死了本来就容易秋燥→→'], ['兰州美食吃了梅子的感受：自从昨晚点吃了梅子之后的一个小时辛苦肚子里的气体就开始笑不可抑笑不可抑我才起床就有想的感觉果然笑不可抑笑不可抑笑不可抑很顺畅我会坚持吃的吐舌頭吐舌頭吐舌頭期待惡魔'], ['一公斤也能带上飞机安检人员干什么吃的'], ['今天朋友又问找没找对象了没作为一个金融从业人员这个问题真心不需要问的'], ['原来我还有这么多我自己都不知道的特质'], ['姐们儿在夏威夷度假没想到发过来夏威夷的皂片跟我想象的完全不搭啊我第一感觉是在厦门咧'], ['无论我们变的多么生疏曾经你对我的好是真的'], ['拍完合照进去的时候有个家人摔倒他一直回头然后就叫我们不要拍了脸有点臭的说跟他进去的时候紧张死了'], ['尼玛一到冬天脚就是一坨冰感觉不是自己的脚怎么解'], ['大白天你车开的这么快做死的节奏'], ['什么时候我也开始小心翼翼跟你说话了我记得我以前挺嚣张的原来喜欢上一个人之后的第一感觉竟是自卑我喜欢春天的树夏天的风秋天的黄昏冬天的阳光和每天的你'], ['昨天给那段话点赞了哦'], ['人与禽兽的差别在于人会知恩图报而禽兽则会过河拆桥'], ['失了缘分的人即使在一个城市也很难遇到'], ['貌似我长大以来第一次输液肠胃炎就因为吃了我爸寄来的核桃太坑女儿了悲傷吐的胃都快出来今天瘦十斤'], ['最近这两天老是梦见自己关于结婚的事这难道意味着我的内心是疯狂的想结婚了啊'], ['快递公司是不是有病度无死角透明胶捆绑考虑过拆包裹的人的感受吗'], ['好几天了家里一个暖气片都不热我去'], ['以后空间都不敢发照片一张一个脸大一张一个大脸好心疼自己'], ['周泽楷生日快乐阿楷生日快乐'], ['追了两年坑了两年的书终于有消息要继续更新了而且出版了～～～开心转圈～～～～'], ['年万向设立了专利工作机构对整个集团专利进行集中管理并逐步走向规范化程序化系统化专业化'], ['唉每晚十点左右截止数据做二十分钟表格发出去我好想睡觉啊我比别人干的多加班加点还是那点破工资凭什么一个办公室他们可以休息凭什么什么鬼'], ['我们的宿管是世界上最讨人厌的宿管'], ['世界上什么鸟人都有特他么不要脸'], ['专家们认为如果美国的广告艺术使中国的吸烟人数仅提高那就是万人他们中间至少有万人可能会过早死亡'], ['真心爱过的人没法做朋友因为再多看几眼还是想拥有'], ['我每天都在笑你猜我过的好不好就连你们都觉得我很好呵呵呵'], ['双十一瞒着家人买了个却不敢拿出来用我这是脑子坏了吗'], ['就这么一道纹让你老了不只八岁'], ['今天说话所有人统统不回我就我一个人急所以我现在作文还有小论文怎么办呢心累'], ['心情不知道该怎么讲就是不想说话不想动什么都不想管好端端的迟到个几分钟就扣我半年的绩效工资扯淡啊什么烂玩意儿想骂人憋死老娘我了'], ['每一次睇到呢种都会倒吸一口冷气深深地惊讶及佩服'], ['睡眠君把我带走吧我不想失眠明天还要上班'], ['长了小姑娘的脸老婆娘的嘴真的是林子大了什么鸟都有'], ['半夜睡不着出来吓人红唇嘴只看唇不看脸还是可以的笑不可抑你送我的活动还记得么'], ['做题时心浮气躁数量资料正确率一直上不去尤其资料分析简直没救了看都不想多看一眼套题分数一套比一套低唉'], ['我说我看半集云中歌就睡任思蒙就嘲笑我其实看到陵哥哥死了的时候我也不想活了后面也就随便看看不动感情了'], ['冷家骥（年）字展麒山东招远人'], ['坑爹的咕咚运动自己的垃圾闪退之后数据中断了还不给申述又不是没提供数据证明悦跑圈数据上面还不够清楚嘛居然这样子都申诉失败你们还在活动页面上写大大个申诉出来干嘛居然这样子都不给申诉成功那就好好检讨好自己的啊咕咚网'], ['如果我现在开始走应该可以在你的安排出来之前到遵义你妹的再不出来我就真要走回家了'], ['我喜欢这样的冬天白雪皑皑超有感觉冬天就该是酱紫'], ['从烟台到桃村高铁站和諧號人都没得车子就更不见踪影居然出口处大门都没人来开真是醉了估计桃村北站是我见过最牛最荒芜的和諧號没有之一'], ['毕竟我以前用过翻盖的手机现在是我还想用难道就不能给我个机会吗'], ['好吧只是偶然发现的居然是阴性血'], ['头发越来越短难道是老鼠每天晚上啃我头发吗'], ['下班拖着沉重且疲惫的身体恨不得立马倒头就睡可还是去洗了个澡不洗澡我会死的每天都累的个半死真心不知道图个啥连穿漂亮衣服脚踩高跟鞋的机会都没有就别说有什么休息时间约个会啪几发每天都把头发全部梳起来简直不像个人样累死了'], ['生日愿望就是：所有考试过过过家人身体健健康康钱多用不完'], ['今天总经理不在人事经理请假人事主管外出来了几个面试招商总监网销经理的主管让我去面试他们当时我就震惊了吓死宝宝了淡定淡定'], ['大冬天的开了几朵樱花妖怪啊'], ['忘记关缓存开关走掉了个的流量'], ['遇到事情不要抱怨受到委屈不要发脾气尽自己最大努力做好学会当天调整好自己的心情也不要总打扰的生活不要带太多负面的东西给他努力成长吧晚安努力的我们'], ['想买件羽绒服过冬不过听起来好像跟评论里的大家比起来一点说服力都没有'], ['侯的爵位要比公的爵位低一等'], ['为啥和香港差距那么大呢难道不都是中国'], ['谢谢所有记得我生日的人虽然还没到谢谢你们提醒我'], ['张华北民主不能当饭吃但可以保住女儿台湾财信传媒集团董事长谢金河：台湾的民主奋斗了半个世纪不是凭空得来的大家要珍惜民主当然不能当饭吃但没有民主你的未来跟动物没什么两样前一阵发现大陆很多主播被领导相中必须献身是的民主不能当饭吃但可以保住你的女儿'], ['有一天我闪婚绝对是因为我实在在家呆不下去了'], ['为什么会有这种无知又丧心病狂的夫妻记得以前也有看过一则妻子在路上骗一善良的女学生回家给丈夫强奸的真的是只能说蛇鼠一窝吧垃圾爱垃圾'], ['寄居蟹们围绕着火鸡是不是很有节日氛围呀感谢您使用租房'], ['一直以为大好时光片尾曲是男女合唱结果是赵可唱的'], ['算了来这里骂一句发泄一下让贱人都去死吧'], ['年月日喜得千金母女平安小公举好乖么么哒'], ['顿时心情特别不好头疼再继续想休息会就去午休了午休打啥电话打电话告诉我你要注意休息我想说去你大爷的吧我正在休息你打扰我了中午大把的时间你不跟我联系单单挑我午休的时候真搞笑'], ['叶子都落了等不到的就别等了蜷着过冬吧挺满足的'], ['辣么哦我和我的小伙伴们都惊呆了'], ['修改稿逾个月不寄回者视作自动撤稿'], ['毛线料理这些美食竟然都是用毛线编织出来的'], ['月日宜春市委向省委正式请示要求将高安城乡统筹国际合作示范市大城先行区列为全省统筹城乡经济社会发展一体化试点'], ['冬天来啦妈妈送我的小红帽子终于可以戴上啦就是这个毛让我洗了一水染红了'], ['真的不要帮别人带东西真心不爽苦了自己帮别人的事到最后别人还认为是必然的没给带到东西在那边叫有本事你自己花钱过关消费去呗吃了哑巴亏似的好心还被抱怨还好这次没有很累不过也好赶下次出境要静静的不要告诉别人呢'], ['我不想要你将就我也不想成为将就的对象——西雅图不眠夜'], ['很开心我的世界里出现了一个令我感兴趣的男人'], ['城南紫阳绿色农产品（物流）工业园城东紫霞纸业皮革工业园城西紫光高新技术工业园张家垅工业区和白里经贸小区等经济开发小区落户镇内'], ['我不想吃土求生活费就好了'], ['计算能力等于啊卧槽算错算错算错乘法都能算错线代概率非常不爽'], ['就大半夜看到一篇文听了一首歌哭得停不下来止不住了'], ['单位要求员工把护照上交统一保管要用的话得填表申请个部门审查盖章我都办好了领用时又要求在出发前一天才行间隔时间太短万一丢失都没有补办时间岂料我这么一说该处处长脸色一变说放在你那儿才会丢才不安全我们保管这么多怎么会丢她这是怎么了还是我没说清'], ['肥胖从未像今日这般威胁到我让我如此惶恐甚至让我陷入极度难过悲伤害怕气哭自己脾气暴躁我一点也没小题大做今天是'], ['你们真的好吵啊不知道一个个吵什么'], ['岁当兵时我随部队赶过骆驼去阿里'], ['臭美吧吃煎饼果子吧停路边充电吃完煎饼果子电瓶没电了等人来救吧'], ['有的时候劳累了一天只为了一个差评'], ['有时候真的希望自己能早出生几年可是转念一想那又能怎样呢人生际遇就是这么奇妙遇见谁错过谁似乎都是冥冥中注定的'], ['原来这家杭州这家脆皮玉米店人这么多'], ['杨洋你过来我们谈谈杨洋'], ['太可怕了摊手大四的我回家吃喜酒被各个亲戚轮番轰炸你男朋友呢找到男朋友吗过几年就该你了以后这种喜酒一律叉我还小太受惊吓了'], ['在上世纪年代江西书坛上崭露头角作品在市场上也颇为看好'], ['心烦静不下心设计痛苦又不知到几点明天还得上班直接到天亮得了睡个屁啊'], ['郑恺发飙营销博的内容都有待考究事实是啥搞清楚再争没意思睡了'], ['也许一直没放下过不然怎么还在我梦里乱窜这是怎么了困惑至极的我'], ['公司对待绩效考核的态度很是明显：员工最初的战战兢兢到无所谓；神马管理层最初的振臂高呼到一声声叹惜；企业家从最初的激情到不理解及责备而这一切的变化让人力资源工作者也是只能暗淡地退场'], ['弄什么破软件还非得去掉那个对话框劳资又不是计科的又不是微机老师'], ['我结婚的日子定住了你闺女的还没定凭什么要让我明年再结说你闺女今年要结又没有怀孕干嘛什么事都要我让着'], ['从来没有觉得这个工作做起来这么心烦过走一小会都怕被督察离开一会都要书面请假真真真的是够了'], ['转移灶的形态和组织分级可与原发瘤不同'], ['我比这个照片丑了多少都问我这照片是不是我不是我是你啊'], ['哎于大宝多么精彩的进球啊裁判竟然没看到真瞎子呀'], ['只要你真心对我好不管你是谁我都会加倍对你好但只要你对我假情假意处处算计甭管你是谁都不要指望我会给你好脸色你假我比你更假处不来就不要处我又不缺真心的人'], ['我不想再離開妳了～媽和妳在一起好幸福'], ['王维诗公子为赢停驷马执辔愈恭意愈下是借去声为上声矣'], ['我等你因为我不想逃避我的心；我等你因为我舍不得放下你；我等你因为有我们的回忆我等你因为我相信你没有骗我'], ['周：离预产期越来越近离安全期也越来越近反而越发的担心胎动和分泌物稍微不正常点就各种担惊受怕怕早产怕提前破水走路也会越发的小心这样的心情怕是要到周以后才会放松些吧开始给宝宝准备物品了作为新手对此一片茫然只能翻翻别人的攻略跟风买买现在最大的心愿祈祷平安祈祷'], ['男性在女性面前变得勇敢其实是因为对比起女人其它事物都不值得恐惧之所以干得出来是因为害怕'], ['草草草一减肥就他妈的什么都想吃不减肥他妈的什么都吃不进去'], ['等会儿去电影博物馆连饭都没空吃了'], ['我就是分享了个宝贝没想到反应那么激烈'], ['今天我妈问花千骨也是胡歌演的么我说有么我怎么没印象有胡歌啊我妈说就是那个师傅啊不是他演的么我说你是脸盲嘛～那是霍建华'], ['逛累了却吃到了有史以来最难吃的一餐快气死我和我丫簿了童夫人'], ['我爱的人经历了多大的诋毁就接受了多大的喝彩禁得起多少的赞美就经历了多少的黑暗用倔强的自我与世界为敌最终获得理解和释然希望你也是如此路还很长陪伴晚安'], ['流年不利诸事不宜好不容易搞个拓展训练把自己整感冒了想切个柠檬泡水喝希望感冒快点好又把手给切了偏偏刚泡下去一盆衣服卧槽还得手洗'], ['寄存器组器件的大多数功能是由寄存器组来控制的'], ['还记得第一次战战兢兢的给你修眉还给你画了一点点顿时觉得我男人好他妈帅啊'], ['以后睡在我身边的人要是打呼噜我就一个枕头憋死他去'], ['到了樊哙的军营前陈平命人筑起一座高台作为传旨的地方另外又派人持节（一种信符）去叫樊哙'], ['大盈姐送的转换头和帅掉渣了自带魔幻特效'], ['睡觉前的最后一翻微博我损失大了妈蛋网红发东西考虑一下大家的感受好吗求我的心里阴影'], ['跟着女老总做事压力真不是一般大临时被通知去企业尽调现场拿到一沓厚厚资料我还没好好翻翻看就要求我当面立马把历史沿革部分梳理好来之前我连企业名字都不知道我能预想到未来一段时间我在这个项目上的悲惨命运了'], ['忽然想到去年活色上快本的时候等等生病缺席电话连线哥哥还说等等年纪比他大身体没他好结果今年自己也病倒了'], ['乘上飞机那一刻生与死都不是自己决定的强大的气流是我最恐惧的那种不安和惶恐无法形容旅途中无论多晚多累都不重要平安抵达就是最好的已安全到达昆明机场了明天开始我的云南之旅艳后'], ['马少帅的人神共愤帅到没有我这种反派太让人心疼了'], ['半夜老鼠大胆的爬过我的脚吓得心脏不停跳手脚发抖失声尖叫才发现我离真汉子差了一只老鼠的距离氮素我现在很想骂街很想很想真的吓死了宝宝受惊了尼玛去尼玛的我要买老鼠粘可是粘住了之后呢谁来料理后事想想都感觉整个人都不好了嗯再爆一句粗去你大爷的真的真的吓死爹了泪'], ['百分之一的持久力晚安么么哒'], ['希望今年月日点分有人和我说一句我爱你让我知道这世界还有人在乎我无论友情爱情还是亲情'], ['我的耳朵热的发烫烫的都要炸啦玛德谁踏马在背后讲我坏话'], ['每个都是一把刀年危险搞了万亿基建货币这几年搞了吓死人的土地货币经济预期还在高速上涨总有接盘侠这个模式就可以继续玩一旦全社会情绪悲观预期下降庞大的储蓄量立刻引起保值恐慌万亿外汇储备够不够万亿货币兑换的汇率完蛋回到解放前这是绝不允许的'], ['这段时间一直把自己缩进壳中一直自以为是原来自己还是原来那样什么都不懂什么都不会在自己手下的人如果没有表现好别人首先想到的是你没有带好而我竟然还傻乎乎的和别人说这说那管理是一门很深的学问'], ['好好照顾自己别再受伤我会心疼'], ['睁开眼睛时候暖气给了我夏日一般温暖得拥抱喜欢北方的六点半'], ['有血光之灾的日子里我对自己太狠了太狠了熬夜熬到咖啡有了上顿还'], ['真的不想和他们交流了很不喜欢他们的态度可是还得忍着'], ['美丽的花儿中药就这样凋零了叶子不缺水不缺肥的难道是冻死了还能救活吗心疼呦～'], ['麻痹头不要再疼了好不好感冒快点好好不好'], ['穗穗说她脸越来越大都跟饼一样了我还心里暗爽假惺惺的去安慰她：等着我带你去打瘦脸针我出钱然后点开她朋友圈看了一下她的照片果然是我太单纯了她跟她女朋友的脸加起来都没我的大吧心机爆棚宝宝生气了'], ['美食是一种回味无穷的魅力每个人都拒绝不了一种美味摆在面前不多说属于吃货的你还在犹豫什么'], ['好久没有看电视剧看到欲罢不能我的粉红少女心又复活了'], ['修建董府所用的木料来自甘南沿黄河顺水放下'], ['迄今为止以二次承包形式制作了攻壳机动队钢之炼金术师翼·年代记等许多人气作品'], ['上一次在冬天敢打毛子的人叫希特勒'], ['许多低等动物主要采用化学和触觉信号'], ['这么好的车胎我就纳闷了这螺丝是怎么扎进去这么长'], ['几天没好好吃饭好如意做了顿面条竟如此吃法'], ['二期工程新建二层商住楼套在东侧建标志性牌坊一座总建筑面积平方米总投资万元'], ['不过没有看到丁家大太太和秀儿坠楼的窗户'], ['被以及洞洞拐神夏官方刷得一愣一愣的索性个彻底纯属一时脑洞时间线硬伤请无视'], ['我好想睡啊怎么这么精神我还想明天早起呢'], ['突然发现人越深入了解越恐怖怎么办我很害怕离开了大学身边没有了小伙伴大家都各忙各的有各自的家庭再也没有人能细细听我说长到短而遇到这些事我真的不知道怎么办越往下越可怕黑线'], ['这是越南人的传统小吃越南人吃鼠肉很正常并非博主所说'], ['四川省美术家协会副主席四川省政协常委四川省德艺双馨艺术家国务院特殊津贴获得者'], ['死女人贱女人贱得很的女人不对不是女人你是贱人'], ['北国银装素裹雪花片片南国广州仍然阳光明媚温暖如春'], ['四库提要在介绍和评价朝野类要时指出：宋至今五六百年其一时吏牍之文与缙绅沿习之语多与今殊'], ['大晚上听歌突然觉得他声音很好听然后再看人也觉得帅了小眼睛聚光有神'], ['老师怎么还不让我下班啊天哪明明点就该下班了我要下班'], ['连青训都整不明白的中国足球就别去指望世界杯啦'], ['这个月我号都有朋友过生日我灰常高兴祝号生日的家伙生日快乐'], ['不识相的真是讨厌真是太久没说的脏话要飙出口来了'], ['草泥马的；这啥球；这心看的堵得慌；'], ['昨天跟我说不接现在打电话说来接了'], ['不同阶别的傀儡有机械战甲钢铁金刚等形形色色的外貌高阶傀儡其外观与人形无异'], ['绝对震撼奥特曼假如核战爆发这假如尼玛也太恐怖了啊吓的我三天没睡好觉啊你敢看完吗吃惊视频'], ['我们害怕的不是能力不够最令我们恐惧的是我们拥有的巨大力量我们对自己的光明面而非黑暗面感到恐惧今天我号召大家克服这一点我们需要接受自己可能在他人的生活中扮演无比重要的角色事实重视我们对彼此生活的影响认识到这种影响超越金钱权利头衔和权势'], ['史上最吓人游乐设备心脏再好也不不愿意陪你玩'], ['每个人都有这样的经历吧躺在夜里却怎么也睡不着会有许多许多的画面在自己的脑海里曾经的你曾经的我曾经的我们或悲或喜或忧或痛很多人不是你想一直陪伴就真的能一直陪伴着很多事不是你想怎么样就真的怎么样你无能为力什么时过境迁物是人非都可以成为很好的理由共勉'], ['北上广不相信眼泪里我最喜欢的人竟然是她：叶昭君铮铮傲骨用心守护'], ['大概有个可以彻夜谈心的好朋友是一件很棒的事情吧～'], ['都有一种不想干的念头了有时候在想现在每天这样的忙碌的工作到底是为了什么压力好大啊好累'], ['到底什么时候去考试啊老是忽悠我再拖下去没心情去考试'], ['马上要被调回平安东莞分行总部了四年来每日往返东莞和塘厦两地百公里路程不过一切值得在这里收获了友谊在这里收获了知识在这里收获了职涯所有的成绩所有的帮助都离不开我的领导和我可爱的同事终于回家了新的地方新的岗位我会带着感恩的心更努力工作'], ['和从九点聊到现在感觉自己棒棒哒'], ['今天生日很感动有一群好朋友那么的忙还一块开视频跟室友陪我到点一起给我唱生日歌可能你们说我矫情但我真感动哭了发自内心的谢谢你们猜那个是寿星呢'], ['哈哈哈哈哈哈哈哈这么经典的照片好害羞谢谢老姐'], ['大半夜餓的睡不著突然想起來麻麻回老家之前包了很多餃子在冰箱瞬間幸福感劇增'], ['一件事儿你明明知道不应该去做可是你做了就说明她对你来说多重要'], ['小时前我在茂名小时前在顺德现在广州我不怕累不怕苦不怕颠沛流离只怕收入微薄只怕常常心有余而力不足下个月如何且行且看'], ['艸艸艸靠靠靠对面一个地方看着地图都他妈的找了半个小时也是醉了为神马是路痴癌晚期啊靠关键是最后还是没找到掀桌'], ['那个谁谁姐姐忍了你很久了再这么没完没了我要发火了'], ['请回答系列前两部没看知道是猜老公的梗不过看好像重点不在这亲情友情近邻的线比较多细节总是打动人韩国这种看似爱情戏的家庭剧真是炉火纯青'], ['昨晚粑粑说我说了梦话很自然的说宝宝麻麻忘记了'], ['有能力的女性都逃出国吧这形势太可怕了虽然我工作很稳定但是好害怕以后会强制配婚'], ['嫁了一个始终心里有妈的人什么事情都是向着父母就算他父母做的事是错的都是向着父母真心'], ['静我宁愿你现在就不要那份钱快给我回来姐姐和家里人担心你你快回来吧我知道你也很着急想快点回家你今晚记得没车就打的回来'], ['每天收腹真的很重要时刻提醒自己腹肌君我们明年夏天见为啥跑步机记录的数据跟差别如此之大相差了'], ['我想要这个月的生活费块我真的不想再吃土了'], ['由于低纬度与其他纬度相比不仅位置特殊所反应的各种地理事物和现象也是很特殊的'], ['真他妈不顺天天上课上课火气大想骂人'], ['对于这个语法的更多信息在下面微软知识库中的词中得到查询'], ['不能就我一个人受到惊吓拜拜嗯首页有空可以打开感受一下军队应援拜拜大清早吓得我觉都醒了泪'], ['今天我看他貌似睡着了：刚准备把他往小房间抱去；他就醒了瞪着圆圆的眼睛生气的说：你不是有妈妈吗以后我挨着我的妈妈睡你挨着你的妈妈睡'], ['昨天晚上竟然梦见马云给我点赞'], ['今天已经是我第三次摔手机了感觉不久之后它就会死在我手里'], ['有些话不说出来不代表心里没有比如我爱你比如我想你比如谢谢你比如对不起'], ['申通绝对是到学校里最恶心的快递全峰汇通圆通哪怕顺丰都比它强省内啊就卡着不过来～客服打不通我自己去取都不知道上哪取'], ['原来美丽里的张惠春真的就是好声音里的张惠春'], ['第一次切真的感受到双以后的物流同城卡三天真是慢跪了啊'], ['活这么大才一刷了为下月现场做准备但我陷入了女主究竟喜不喜欢饭桶的困惑之中如果爱不意味着二者择一的话那又谈什么忠贞不渝无法接受女主以吻的方式教会他爱深陷师生梗出不来了'], ['下雪的时候一定要约爱的人出来走走因为一不小心就一起白了头'], ['六研究制定和组织实施全县对外科技合作与交流计划；'], ['长歌控制人跳崖也就算了还能控制人神行了简直脏的一塌糊涂啊'], ['‼️‼️我真的没有看出来你那白白滴脸不化妆滴脸也会那么那么的脏让我刮目相看了'], ['眼镜丢了小珠珠丢了头发毁了宝宝表示很不开心'], ['黃瑋翔可怕不索取東西坑我不會感恩就算了給我雪上加霜的假閨蜜假姐妹嫉妒心的人覺得鄭煊家境好黃瑋翔沒有看過家境好的是不是家境朋友我個眼瞎怎麼遇到最差男的沒有責任和良心的男的一個種馬男我會不會被鄙視被人說我我突然覺得害怕那些人說我抠鼻屎'], ['特别喜欢今天不要问我为什么喜欢就是喜欢'], ['兔子尿毒我看都毒不过你的烂嘴巴'], ['真想举报你昨天开始派件到现在还没到手机还关机仗着东西在你手中你等着'], ['脱硫酸常为氨基聚糖糖链降解的限速步骤'], ['说说关工资最开心了麻痹滴开心看到工资表上面一个礼拜耍几天滴人工资比天天上班滴人工资还高我'], ['被老板拍下了心情的证据我只想说为什么不帮我小点'], ['夜班下翻来覆去睡不着眼已瞎晚上还接着值班来瓶红牛吧'], ['今天辩论赛大家都很棒小菇凉又长见识啦～'], ['真是日了个狗着急着急着急着急我就是想回个家屁事咋这么多'], ['岁月会告诉你终点在哪里路还很长努力走好走下去'], ['它是香港国际瑜伽教育协会有限公司在中国地区的唯一授权学院'], ['真的是吃饱了不想家今早上课最后一节课饿的我只想家'], ['小狗：妈妈别人喝咖啡都是一小口一小口品着喝你怎么像喝酒一口就干了'], ['怎么就在一个问题上想不开呢我要疯了'], ['今年第一盘关心情复杂阔别太久陪我烤嘎嘎吼好嗨声'], ['我·第一次·这么深切的·想骂·裁判·'], ['妈的一大早碰到个死三八씨발'], ['我要睡觉我要睡觉我要睡觉论闭上眼睛如何能快速进入深度睡眠'], ['我终于给笔记本换了新内存现在开始重装系统我之前特么是有病才会一时脑抽装了呀唉说多了全是泪'], ['然睹其文而有梅花赋清便富艳得南朝徐庚体殊不类其为人也'], ['连刮两天的大风停了云层依然很厚突发奇想遂订明天远行的机票忐忑且兴奋又忆起七年前一事倍觉神奇电话无人接听诉说未果下午去买些进山需备的物资'], ['心烦死了谁能管得了谁就不能打电话了我一打电话就火我怎么这么欠呢我啊破烦死了'], ['今天看了女主角顏值特別高還吃了好吃的年糕火鍋大滿足特此奉上女神照片一張'], ['每天能被烦死相亲相亲相个大头鬼恶心死啦'], ['只是确定个论文题目就要把我逼疯了'], ['上课的同学我都认识不过老师我怎么从来都没见过你呢你是新来的吗'], ['你说当个留学生很容易嘛语言能力有不是特别好活在一个很陌生的地方容易吗'], ['国足上半场踢的这是什么看的让人想爆粗口'], ['白霄是班级里的班长这个信息很早就出现了就是为了后面他实力的真实正展现埋下伏笔'], ['（转）老太太是个老北京今年了在马甸儿桥公交站前面的地下通道卖点水果蔬菜没有儿女在身边老伴儿去世六年她也卖了六年左耳几乎失聪右耳能听见一点儿每次路过都买点儿小零碎儿听老太太聊两句今儿说到攒了四年块钱买了个助听器不好使人家也不给退了又到了一年冬天老太太您好好儿活着'], ['在一些消息报道的后面抄录人对原件作了一些补充和说明如附录又录外史臣云等等'], ['我家媳妇儿任梓淇送给我的圣诞节礼物～和他的一模一样还是情侣的～哈哈爱你'], ['以后再也不想再那个破店买东西了客服太多差差差一说我收到的东西有破损就不回话贱贱贱'], ['久违久违的晴天☀️心情瞬间美妙值'], ['于是我不由自主地坐直了些想看看你的脸没有让我失望你清秀的眉目和挺挺的鼻子还有脸颊完美的融合真的是很好看的一张脸蛋呢我甚至都不敢相信这么一个女生我以前从没见过而且现在离我还这么近度斜角也是个很好的位置可以很方便的偷偷看你呢'], ['当你喜欢的人问你喜欢谁时着实令人尴尬'], ['今天的书没看完但是很开心喜欢玩排球砸女王的游戏'], ['月日明代晚期的孔府御书堂乾隆御用古琴拍出万'], ['此外还击伤一艘－巡逻舰'], ['为什么老师看见我的桌面会问我：你平时是不是打游戏'], ['这是什么鬼邓超也玩借贷宝我肯定看错了'], ['铜陵日报现代教育导报中国现代教育等媒体均进行多次报道'], ['把时间花在值得有意义的事情上面时间是自己的也是宝贵的别因为一些杂人杂事浪费了它'], ['女人多的地方就是可怕嘴欠嘴贱'], ['每一段感情的发生与结束其实都是记忆的战争受过伤害的必将迟疑畏惧因为他记得那么清楚他害怕的不是眼前人而是过去的人他不只是和新认识的朋友交往还同时和自己的记忆谈判作战对方可不知道这样的关系何等艰难只要你真认真了问题的解决比想象起来的容易的多冷眼'], ['想回家心情低落时自己安慰自己怕哪天正能量耗尽怎么办'], ['我一个人吃饭旅行到处走走停停也一个人看书写信自己对话谈心'], ['连我女儿都知道打喷嚏要用手捂住怎么三十几岁的人都不知道呢'], ['突然很想家觉得当初在家什么都不用愁什么都随意的日子好幸福'], ['这这这这这是要下雪的节奏武汉的雪比以往早了一个月啊'], ['我希望一句话是引人入胜凌晨：'], ['你们看微博从来都是只赞不评吗口亨'], ['遇見就是緣分可天下沒有不散之筵席剛相互瞭解卻又要分開這種感覺真不好你一定會幸福的'], ['我今天也来更个博我就搞不懂有的人了怎么自己做的那么差劲还有脸在这骂别人呢自己做的怎么样心里没数么还是觉得亏了自己啊还是怎么着自己做不好你现在怪谁怪我狠心么还是怎样真不知道是哪来的勇气'], ['就在几个小时以前系统当机耗时近两个月要赶制片子百余条后期配音配乐顺序完全被打乱最短的间隔只有秒画面衔接完全乱套感觉天塌了'], ['尼玛币啊我暴躁了这个事情之前看过一个新闻是一个孕妇也是差不多的原因因为想让她男人得到满足祸害其他小姑娘最后给那女生弄死了'], ['当你情绪化地指责别人时一定是自己内心有过不去的负面情绪也许是羞愧自责也许是不甘委屈也许是恐惧也许是害怕丢脸害怕失去总之好好去面对自己这些情绪再去和那个应该被指责的人沟通效果会更好别让别人为你自己该负责的情绪买单——张德芬为什么要去指责别人别人说你全文'], ['无言无辜又被骂一顿我想吃点好的'], ['祝福弟弟生日快乐家庭幸福晚安'], ['唐崔致远都统王令公诗之三：便谋训鍊欲赴战征愿折豺牙仰瞻马首'], ['每天的小惊喜你说：只为让我微微一笑'], ['以后能不能不要动我的东西算我求求你了'], ['超旅团太棒了绝对是我最爱的电视节目之一四位主持人各有特色少了哪一个都不可以所以继续在一起为我们带来更棒的节目吧爱爱爱'], ['从点晓得成绩出来到现在本宝宝都还没进到网页看成绩表示心酸酸的'], ['你们不能欺负我宝名字是四个字的吧说易烊千玺加油要不就跳到搜索页面要不就说不对说千玺加油也不一定能感应到真的是能不能靠谱一点啊'], ['凝固点℃比热容约为（卡克度）主要由三种烃类组成主要成分为环烷烃（约占）其它的为芳香烃和烷烃'], ['我怕你最好的朋友不是我了可我最好的朋友是你啊你说过没人会像你一样疼我了的真是难过到家了'], ['刚刚突然发现半年前在考研论坛上的网友竟然就是亲爱的雅心'], ['假期比火箭走的还快又要上班了不开心'], ['麻痹啊啊啊啊啊啊啊啊啊啊啊啊啊啊啊啊啊啊啊啊啊啊啊啊啊啊啊啊啊啊啊啊啊啊啊啊啊啊啊啊啊啊啊啊啊啊啊啊啊啊啊啊啊啊啊啊啊啊啊啊啊啊啊啊啊啊啊啊啊啊啊啊啊啊啊啊啊啊啊啊啊啊啊啊啊啊啊啊啊啊啊啊啊啊啊啊啊啊啊心疼死老娘了我他妈为什么要当个亲妈粉老娘还没到整天为这死孩子操心'], ['下雨天我还坐错了车能长点脑子不'], ['不知是因为昨晚没见还是要出去几天很是惦记呀这种情景在电视剧中出现时往往是不好的预兆忐忑＝＝'], ['看个世界杯预选赛看的一肚子火辣么明显的进球裁判你是瞎子吗瞎了你别来当裁判啊回家养牛去啊你靠'], ['还没有睡刷微博突然家里睡着的猫在客厅大叫呼呼的吓得我突然清醒安静了一会猫就进来了以往它就睡在我脚下了今天却特别执着一直用头顶着进被窝直往我怀里钻贴的我特别紧也许刚刚它是做噩梦了现在只想找一个依靠它又睡着了兔子'], ['电影故事说莉璐璐发现了大雄的秘密到达镜面世界并建造了基地'], ['青年感染诡异怪病深夜不睡摆弄手机遭亲友唾弃说的就是我的故事'], ['女的跟女的求婚誓言是我有房子每月工资块我每个月只用剩下的你想买什么买什么这社会怎么了男的这么不可靠吗我也是醉了'], ['一口气爬到楼做死的开门仍然打不开这是为什么呢因为我住楼呀真的是蠢到家了最近真为我的智商捉急'], ['有时候啊感觉自己心里住着一个小姑娘不管多大还是会有很多幻想和幼稚的东西想要被爱啊被宠啊被喜欢的人重视啊被珍惜啊想很多很多但是呢现实又不会让你一直这么幻想下去所以啊还是要独立的'], ['第一次爬梯子到屋顶换瓦片我以为这么简单的事情结果爬上去有点腿酸腿卵腿抽筋'], ['什么时候胃口能变好对自己负责对宝宝负责'], ['屋里有谦忙内生日快乐霸气忙内越来越克里斯马了越来越帅气了以后就可以跟哥哥们一起出去嗨了生日粗卡'], ['一个人成熟的表现在于面对既成事实的处理方式即使无法释怀也该笑着接受然后安静的继续生活'], ['可是叫起来真的太可怕了体会过那种独自一人路过人家院门口突然一群狗都冲你叫还随时可能窜出来的绝望当时那一阵真是觉得一辈子都不想再看见狗了太吓人了'], ['真不明白有些傻逼是怎么活到现在的'], ['最讨厌的三件事：涂了口红问我咦你今天嘴巴怎么这么红；画了眼线问我咦你今天眼睛怎么这么黑；画了眉毛问我咦你今天眉毛怎么这么浓你瞎啊傻啊没长眼睛自己不会看啊'], ['其实我知道你一直都在写微博只是没有公开而已让我这么久了都没有看到你微博的更新'], ['可能真的是这样明天还要早起实验难过的点却不在这里'], ['好特么惆怅啊啊啊啊啊啊啊啊啊啊啊啊啊啊啊啊啊啊啊'], ['踏马的逼站程序猿扣三个月鸡腿好吗最近也太不稳定了吧'], ['死气白赖的跟着你换头像最近本人换回了自己的头像时不时纠结这事问怎么换成自己的了那我用啥呀你也换你自己的呗不正是情侣头像了我不用我自己的结果他果然是变态没错'], ['我改了个贴近我的微博名字结果都占用我也不知道现在这个名字能不能被认出来'], ['整体外形犹如一个巨大的能源处理网络体系寓意地下蕴含的石油正是美好城市的主要动力源泉'], ['要么有自己要么没自己主权不在何需多言为什么要把娥逼到像个泼妇一样你们才听'], ['红心蛤蜊炖蛋蛤蜊洗净：用开水烫开备用鸡蛋只将鸡蛋打散倒入烫蛤蜊的水（冷却后）将蛤蜊排列入蒸碗盖上保鲜膜盖上锅盖蒸分钟左右仔细看炖蛋非常完美：非常平滑生抽少许加水调匀后倒在炖蛋上滴入几滴麻油撒上葱花完成'], ['我真是一个傻逼天天一身臭毛病去死吧一个农村小伙子矫情个鸡巴'], ['李小小差几天个月今天第一次和粑粑单独带她出去和朋友聚餐在她没有大哭大闹的情况下我和粑粑也没能好好吃饱吃好在喜欢的餐厅看着美食近在眼前却不能大快朵颐'], ['七承担建筑工程质量安全监管的工作'], ['笔落纸上勾勒你从前模样墨色渲染思念谁在心上'], ['触不可及有点难懂不过片尾曲我喜欢'], ['痛苦毕竟会过去人脑可能更倾向记得甜蜜的那些截点'], ['早晚这对爪子要被茶水间的抽风式笼头烫死已尝试尽各种角度倾斜水杯'], ['明天就要上稿了有一种期待已久整顿待发跃跃欲试的感觉虽然自己准备的不够充分业务素质不够但相比之下更开心的是与我的好伙伴一起上麦'], ['③药性论：止妇人漏血主耳聋'], ['现在网购越来越让人伤心了东西质量各种保证后反倒假的多了快递是越来越慢了感觉回到了解放前没有十天半个月东西是不会到的'], ['应该是接完哥哥去麦当劳所以才这么高兴'], ['在什么地方都好怎么死都好死前只要对死亡没有害怕和恐惧就行安详的能欣然接受地死坐化岁前战死沙场睡着后默默的死去躺在床上安详的睡去最后希望自己可以被海葬克服了自己的恐高'], ['太阳穴附近受伤刘海斜着梳眼皮受伤刘海直着压我记住了'], ['寒冷的冬天到了哦有些小冷大家要注意保暖哦然而今天确是阳光明媚哦赞赞的快去沐浴这难得的阳光吧'], ['光绪二十二年（年）北洋西学学堂正式更名为北洋大学堂'], ['哎看了人家发给我的照片感觉自己太胖了该减肥了'], ['实拍可怕的中医放血疗法网友直呼吓死宝宝了秒拍视频'], ['先是无法分享现在是记录中断在下次就卸了你'], ['好想还能有个说中午吃什么的人陪着再吃口你的'], ['大彪把我吃剩的一小碗面给吃掉了对于一个吃饭前都要先擦一遍碗筷的人来说那一刻我是震惊的'], ['真的特别害怕夫妻干仗看到听到时心里都极难受骂得难听打得狠决都跟要杀了对方似的却解决不了任何问题不光会受伤还伤了感情有矛盾坐下来好好交流不行吗为什么非要以这样一种极端暴力的方式解决呢做一个有知识有文化有素养的讲理的人吧（楼上干仗受到惊吓的我悲伤）抱抱自己全文'], ['他娘了个腿的又感冒了气死我了'], ['心中无数个草泥马飘过'], ['笑死了大东北已经风行很多年了'], ['傻逼室友打了一晚上呼叫都叫不醒害我早上晚起早上居然还把我锁寝室里了这节课居然还点名了等我出去一定要杀了他'], ['农博会上开开眼界原来玳瑁甲片就是从那个家伙身上来的'], ['我沉默不说是给你起码的尊重也是不想和你计较太多可你别蹬鼻子上脸我他妈的保不准有一天会穿双十公分的尖头细跟高跟鞋往你脸上踹'], ['不开心同事都是大爷领导布置的任务让他帮我找个他们部门的资料都不愿意还是我自己去翻找的也就用完让他帮忙放回去而已居然说我翻乱了想把资料扔我脸上怪我咯简直莫名其妙委屈'], ['这么简单的赛程豪华的阵容却打出四连败冰箱不下课说的过去嘛'], ['关之琳小时候和杨颖安猪拉卑鄙小时候长得一模一样啊'], ['晚上没睡好早上起来莫名一肚子火'], ['今天这个足球赛绝对是裁判眼瞎我们反正是沉浸在足球进了的兴奋里没有拍照分的时候明明进球了可是裁判居然没有看见进球世界杯预选赛本来就是这么重要的比赛明显进了那么长的距离还装什么装噢对还有一个点数哨子没吹'], ['今天成绩肯努力的孩子运气一般都不会太差心'], ['遇到一个温暖的人相伴一定暖暖哒～～～温暖的人请举手'], ['今天在同学的亲切提醒下我特么明年要过本命年'], ['晚安睡觉咯心情棒棒哒么么哒'], ['突然不开心了设置权限是什么意思'], ['乃共与）立宛贵人察为王与盟而还'], ['还记得小时候的版本：老子需要一群不喝酒不打架的兵'], ['星星星星星星星星星星非常好看全程无尿点很燃剧情紧凑加分大段的追逐戏和动作戏扣人心弦飞车枪战戏码很精彩看的肾上腺素飙升几处泪点很虐妈的哭死☠毒品果然是万恶之源缉毒警们都是铮铮铁骨阿（致敬警犬炒鸡威武还是要感叹一句小孩子真可怕阿惊恐全文'], ['因为瞌睡喝咖啡喝到肚子疼也是没谁了'], ['好喜欢张玮这种敢拼敢争的性格如果今年他上我是歌手我一定追啊啊啊啊啊还在耳边就跟着一起来啊啊啊'], ['说不出的无力就好像我再怎么努力你都不在乎'], ['人一辈子最重要的就是个人信誉如同人的性命一样重要任何时候都不能丢失这是一个人的根本'], ['把人活活气死才是杀人不见血的最高境界你有种'], ['多说又要让人担心不说又实在难受大半夜随便发个状态过会再删掉以后我有孩子我会跟他讲你实在要走就在国内走反正地方那么大随便你走至少都是中文都是中国人能沟通'], ['五表示充分残心后左足遂渐引退右足后方左手离开刀柄移贴左腰带刀同时从右袈裟方位振下行振血'], ['有些人行万里路却依然没品味没见识还会乱扔垃圾'], ['\\ufeff我他吗再主动跟这狗东西说话就自己撕烂自己的嘴'], ['另外超鞭毛虫是动鞭亚纲中唯一被证明具有有性生殖的种类'], ['一个人在陌生的地待了一个多月了道不明心里真正的感受只是经常回忆从毕业到现在的所有感觉真正获得的并不多真正成熟的地方也不多唯一变的可能是对任何都没了信心'], ['该村有占地亩的汉沟奶牛基地奶牛存栏达头'], ['无论疾病还是健康或任何理由都爱你照顾你尊重你接纳你永远对你至死不渝直到生命尽头'], ['不愿见彤斫为君堂上琴（山行见孤桐诗）'], ['心好痛我就只想跟你好好的你懂吗聃聃我真的不想再失去你每一次吵闹我的心真的好痛好痛'], ['在利益面前哪有什么朋友一切都是扯蛋'], ['年月日明军人攻打黄州宗义智再弃黄州撤往平壤与日军主力会合'], ['无论是哪个小螃蟹缺你一个就是缺了一份力量我们需要更加努力来度过这最为艰难的时刻我还在'], ['记得小时候总是在八点钟前电视剧还没看完的时候就催促我去准备上床睡觉然后小时候的我因为害怕被骂就乖乖的睡所以现在看到有小朋友点后还在玩就很奇怪这一觉啊没有噩梦没有思念的人可是不知怎么虽然现在有时过和小时候一样的作息但那样的日子再也回不去了'], ['從昨天網上開始就一直發郵件給我發了多封'], ['被玛丽苏践踏了千万遍什么鬼剧情主要主要是我竟然看完了'], ['整天就知道黑小三能干点正事吗'], ['再热的情一盆冷水浇下来温度也会变的'], ['每天上班各种虐各种出其不意各种匪夷所思各种奇葩事每天都在找虐是有多犯贱'], ['不要试图改变男人女人的心慈手软与男人的口是心非成正比不要妄想试图改变谁因为谁也改变不了谁只有他愿不愿意为你改变女人往往喜欢坦白心事男人则恰恰相反要明白一个道理男人可以轻易的喜欢一个人但不会轻易的爱上一个人女人恋爱的时候就像与世隔绝般'], ['新房想要智能家居惴惴不安的跟小黄鸡请示小黄鸡直接给我带去体验店还当场拍板全要高配进口货给我预算升了两级我好感动泪'], ['四五十个文件分有价格和没价格的两种现在内容信息全部要改真是吃的空了重点不是就做这一件事想屎的心都有了'], ['这把终于赢了把对面消耗爽了开始对面简直无敌来两个杀两个不过我也蛮无敌的'], ['龟鳖线在侏罗纪时便有了很大的发展虽在中生代末期大量的爬行动物相继绝灭而龟鳖则能依靠坚固甲壳的保护繁盛生存至今'], ['气死我了再也不想和王跃栋进行任何娱乐活动'], ['还是失眠了仅有的几个小时也睡不着以前始终好奇同学朋友结婚时的心情现在自己终于体会到了'], ['记住了千万别惹我否则你怎么死的都不知道'], ['真该那天下午拿刀把你那只手给剁了'], ['看到高数就生气谁他妈发明的大便一样'], ['双十一入的鞋本来这时候快递慢些也就认了坑爹掌柜竟然还给我发经济快递看着物流信息几天几天的不更新'], ['突然之间就重感冒了感冒躺床上迷迷糊糊～～～一醒来还以为是半夜点忘关灯～一看才点真是把自己给吓到了～'], ['回家一段时间了翻出学生时期的一些东西满满的都是回忆很开心还以为那些东西都没有了原来还有真好'], ['简而言之当时你面临一个明确的取舍要剑还是要朋友选剑就必须面对孤独和未知造成的极大恐慌我非常恐惧选后者事实上我无法放弃前者后来遇到日剧一切就自然解开了尼玛上面还有好多人好多层后来连老虚这种天人都碰到了'], ['简单的生日过去啦即使是简单的祝福都是最暖心的一家人还有谢谢你的用心'], ['柿树目与山茶目的亲缘关系较明湿'], ['这个产区以前的名字叫做凯隆斯直到世纪人们才将这里改名为：圣爱斯泰夫凯隆è'], ['好难过我找不到吃肉的动力了我有病'], ['昨晚睡了接近个小时可是早晨还是困会不会脑子睡瓦特了'], ['一年多以后突然意识到她是在生我的气不知道是我太粗线条还是她气得太冤了我居然没意识到'], ['扶轮小学的学生不多只能复式教学即两个年级合用一间教室一班上课另一班同堂自习颇像山区农村的学校'], ['突如其来的对婚姻的恐惧惊恐一想到如果结婚就会被对方看到放拉臭臭便秘秘惊恐妈太恐怖了'], ['明方孝孺郑氏四子加冠祝辞：日之方升其辉耿耿'], ['牛奶出了名的富钙食品其所含的钙质容易被人体吸收是人体日常生活中获取钙营养的上佳选择'], ['黑色星期一'], ['不知道行不行不知道对不对不知道能不能但这样至少没有太惨烈'], ['此作重点评述了改革开放后中国散文的流变与发展'], ['已经在七星路王府井附近栽过两次了上次是难吃的陋野猪扒包这次是看似很爆满的川藏面线这个面更过分一碗的碗杂羊肉面线羊肉超小粒一碗不到五块羊肉块的三鲜面更坑爹了明明一堆海带你告诉我是哪三鲜你说明明是海带面里面只有两块小小的排骨块钱给我吃都不要'], ['生气了吗我忽略了你们本该花香弥漫的水仙难道都开始进入深冬眠期了吗希望过完年回来能够闻到一室幽香晚安好梦'], ['内心好压抑想哭脸上却是笑着的这是什么病'], ['建康为东晋王朝首都佛教非常隆盛'], ['遇到一个喜欢的人其实不难多少爱情都开始于喜欢结束于了解后来明白所谓合适的人没有定论大概是三观相似兴趣可以不同但决不干涉对方有话聊相处和独处一样自然这一路你是你我是我不是没你不行但有你更好'], ['日本印度等国也具备饱和潜水能力'], ['二十多年了我最对不起的就是我的心没几天让我的心好瘦过'], ['和你在一起一辈子都不腻看不腻想不腻玩不腻吃不腻总之感恩生命中有你晚安'], ['为什么我觉得新郎越看越像李敏镐'], ['温暖老妈做的菜永远是我的最爱'], ['公司给寄个新婚礼物全程都是行政姐姐帮申请的早上通知我去拿某纯傻逼听说了赶紧打电话通知我你有个礼物在我这儿～我谢你全家点多午睡的时候来邀功你是有多怕来不及'], ['已经冷到我在被窝里放了个屁蓝朋友让我别把热气放跑的地步'], ['参加锦州赤峰保卫战东北年夏季攻势和辽沈战役'], ['昨天参加了一场特殊的家长会孩子们总是能给我们带来一些惊喜虽然这次考的不好但还是有种吾家有儿初长成的感觉我知道他内心肯定有沮丧失落但还是表现的很镇静自信此时我想我要做的是信任平复鼓励共同成长'], ['怎么那么多蚊子蚊子蚊子你去死吧'], ['我只是随便点进一集开始看然后就被震惊了直男癌到这种程度我也是醉了儿时的偶像剧啊一杯鲜榨西瓜汁挽夏一杯血糯米奶茶'], ['公亮质之曰：赐宴不赴是不虔君命也'], ['那个算命的说跟我最合是比我大三岁或者比我小一岁而且比我小一岁最好确实有个比我大三岁的人喜欢我还要等我但是我一点不喜欢他比我小一岁的男生也有可是他太好也太远我配不上'], ['夏婵就是傅嘉莉饰演的吧看了真的受不了演技太差了'], ['为什么我掏出车钥匙她头也不回的走了'], ['心塞的不要不要的再这么下去我估计我得疯了'], ['查处民办非企业单位的违法行为和未经登记的民办非企业单位'], ['我真的超级无敌讨厌下雨天衣服全湿了还要拿把伞到处跑烦死了真的好来气啊'], ['妈蛋开会开了两个小时饿的胃疼不说还生了一肚子气'], ['人间有真情人间有真爱还是好人多'], ['和你没那么熟只是陌生人谢谢劳资眼瞎过一次就没有第二次煞笔烦偶准备好棺材'], ['每次差一分钟心情好不爽不能再迟到了'], ['啧啧啧在我大早上睡觉的时候发生了什么意大利日本澳大利亚闹哪样'], ['早上磨磨蹭蹭看了一些下午下班留在办公室看了一小时而且决定奋斗的这些天每天下班晚回家一小时晚上没看多少稀里糊涂做了份卷子唉计划着吵得时候做卷子刷题安静的时候看书复习可是计划赶不上变化啊我怎么状态总是不对呢不认真效果不佳啊总有种考不上的赶脚'], ['下雨打不到车挤不上公交提多东西边走边掉妈蛋都去死'], ['站的高度决定你的视角又在手机重新登录微博了'], ['双十一大家都买东西了吗收到货了吗开心吗我双十一买了双鞋今天到了饭都没吃顶着风开开心心领快递去了到了寝室撕开快递的那一瞬间我还是开心的打开鞋盒的那一瞬间我以为我眼花了从鞋盒拿出来放在地上我的内心是崩溃的妈的我等了六天就是为了买一双一顺脚右脚鞋'], ['下午淋了一阵子雨感觉自己快病了'], ['我容易嘛我黑眼圈青春痘眉毛皱纹全在这两天爆出来了还有不断的担忧担忧担忧除了担忧还是担忧泡个澡心脏都闷得不安宁'], ['今天居然有时间生气那该得多气啊'], ['和你在一起的每一天都是从一口的甜蜜开始早安来的路上被两片树叶砸到啦好幸运就像突如其来的你其实昨天有点不开心你说舍得我走我对你来说是什么呢'], ['盐酥鸡鸡肉切小块用调味料腌分钟鸡块均匀沾上一层地瓜粉：捏紧之后静置片刻等到表面的地瓜粉变潮即可放入油锅中炸至金黄色且酥脆后捞出油锅熄火后丢一把九层塔叶进去立刻盖锅盖；油爆声停止了再开盖捞出；盛盘后洒上胡椒盐即可'], ['最近合川区太和镇上空经常听到剧烈的爆炸声和飞机的轰鸣声是个什么情况'], ['其内容涉及考生所熟悉的日常生活领域'], ['想去漫展想学萌萌的舞蹈想唱歌想和小伙伴们吃吃吃想回我浙看看基佬们作业一大堆没有进展做一科的作业都赶上我毕设的量了我这趟如果能活过来一定是病倒在床上即使这样我还是看了一晚上'], ['最近的两个星期工作量骤增整个人都不好了'], ['再也没有办法像大二大三那样愉快的玩耍了每天事特多总感觉天天都好忙想着还有好多任务没完成心更累'], ['没吃还在瘦掌声开始居然还以为宝宝的反馈是水军惡魔惡魔惡魔'], ['我现在也不知道形容我现在的心情有家不能回去朋友家被被尴尬出来学校回不去身上十块钱旁边连个银行都没有走了两个多小时的路脚都磨破了手机掉水里电话都接不了我想没有人比我更惨了哈哈哈'], ['开心朋友被求婚配图是什么个情况鄙视'], ['还有天时间过得好快有你以后每天都很感动你的每次跳动都牵动着我的心谢谢你我的宝宝加油'], ['本来剪了头发挺后悔的但是又突然喜欢上了'], ['恐怖我打车从来不坐副驾驶座警惕性还比较高同事的真人真事太可怕了'], ['要求书第十八条除非要求书载于仲裁通知内申诉人应在仲裁庭所决定的期间内以书面方式将要求书送达被诉人和每个仲裁员'], ['第一次节假日上班老子竟然因为担心明天运作太忙想东想西睡不着了（我现在觉得又刺激又害怕）其实睡着了半小时因为连续做了两个相同的噩梦惊醒于是'], ['一天晚上部队来到敌占区白沟村外金戈随即要派尖兵侦查'], ['好好的一份爱却在我的手中坏我知道自己变不成一个暖男和真正的男友有的只是亏欠一份爱除了爱情需要的还有经营和相互的付出'], ['上了大学最大的领悟是不再那么害怕周日还有对于节假日的到来不再像中学小学阶段那么盼望如果周五是某个假期我们会从那周周日晚修到校一直期盼着心情也是很好的不会有周日离家恐惧症今天看到手机日历显示一号觉得震惊的感觉突如其来的感觉'], ['并于公元年收复里斯本从此建都于此'], ['做梦梦到吃了一碗双份丸子得牛肉丸子面心里觉得好满足'], ['亚洲小王子你和你的有仇么这神奇的拍摄角度'], ['有些人就是喜欢犯贱我又不能阻止她莫一天张起狗嘴乱说跟个一样嫩个想看别个私密你去当狗仔撒好久没嫩个骂一个人了我都以为我淑女了'], ['老板说吃点什么来个酸辣肉丝打包结果回来一看一大半都是辣椒好吧老板算你狠'], ['年他以中共广东区委书记中共中央驻粤代表老同盟会会员和老国民党的身份协助孙中山改组国民党'], ['我听说···男人在决定是不是喜欢一个女人的时间是在秒之内真的假的'], ['月子中偷偷刷会儿微博人家是餐餐没滋没味想多放点盐我是跪求少放点盐'], ['最近精灵女王凯特·布兰切特很是生气在接受卫报采访时她大肆抨击那些断章取义的媒体：把她塑造成一个玩弄女性私生活不检点的人话说这些媒体也真是够了女王大人岂能是你们在这里黑的'], ['蒸汽火锅第一次吃很好吃味道很味也蛮创新的全家人都吃得好饱剩余自由的时间不多了过了孕期的唯一一个双就剩一个月的时间然后就可以卸货了最近度过好多值得纪念的日子某人生日结婚纪念日还有倒计时天时间过得真快不知不觉一年了不知不觉我要当妈啦'], ['科购数码秉承以人为本的宗旨并与诸多企业建立了广泛的业务合作关系通过优势互补为客户提供更完善的服务'], ['笨总喜欢在自己新买的衣服的空白处勾勒出一个惜字没有知道为什么直到有一天笨的好友问了笨笨才道出缘由原来笨的女友去了它市读书在走之前笨的女友说希望下次能在人群中一眼看到'], ['你能知道我高高兴兴兴高采烈迫不及待去取的快递结果只有两件合适的最后要倒贴上总共的运费给人乖乖寄回去是一种什么样的心'], ['狠心用流量下了两个视频渣酷居然给我闪退心中无数头草泥马蹦腾而过不装了我可怜的流量啊'], ['吓死人了一上午干了箱活我都不相信这是我干的'], ['打开就看见他王凯已经火到音乐界了么'], ['司马光通鉴考异所引诸书亦有十六国春秋抄之名'], ['莫名其妙要我准备护理查房还是脑出血并发症可我明天明明就是晚班啊'], ['分篮板助攻抢断犯规失误李浩然这老逼不传球我也没办法除了篮板和快攻就特么摸不着球说好的给我刷三双呢'], ['妈的亚足联就是特么落后连门线裁判都没有'], ['想想躺在海关那里的一箱子衣服我简直要被气疯了'], ['因此用这样的调查来比较人们的生活状况而从中得出较为有效的界定是很有必要的'], ['小区交通及其他小区出行很方便附近公交车较多有微微路公交车经过'], ['躺在床上之后有一个想法静静的在脑海中一直转来转去都特么这么晚了好像吃点什么画风才不违和妈蛋的现在好想吃酸菜汆白门口那家东北菜馆子味道真尼玛正点一到晚上就矫情'], ['北京故宫本以为入冬游人会少没想到和旺季一样'], ['用心对待我们身边的每一个人：不管我们曾经遇见还是错过总有些人和事让我们难以忘却我们生命中的每一个过客不管是一面之缘还是文字之缘总有些东西在我们的印象里定格一句祝福一个微笑的距离远远大于人与人之间的模糊相识便是缘相知更是一生的福分'], ['在你跟别的男生去玩去看电影的时候我就应该抹除所有对你的憧憬爱一个人真会做出超越底线的事情我将就你太多造就今天的我们今天不再珍惜我们的你'], ['没想到现如今我说话变的这么有影响力始料未及啊'], ['现在好想好想去帝都去看看那里的银杏去感受那里的秋天去见即将远行去追逐梦想的亲爱的你'], ['鉴于最近臭哥哥三番五次对我造成一千一万点伤害还经常三更半夜跑去偷窥我隐私我决定我最近都要生他的气不原谅他'], ['某傻逼看我照片跟见了鬼一样还能不能好好的了'], ['本来说好的早睡也没睡成熬夜已经成了一种习惯轻易改不掉了不開心'], ['岁女孩痛经引起的卵巢癌痛经导致的卵巢癌这该引起多少人的恐慌惊恐因为痛经的人太多所以大家都觉得很正常没有女性生殖健康普及所以不了解也不知道它的危害因为痛经觉得正常所以没关系因为小小的炎症也是正常所以也没关系殊不知等你觉得有关系的时候也许正是你无能为力的时候'], ['在邀请了危机边缘（）的导演亚历克斯·格拉夫斯（）执导后该剧预计在今年秋天开拍'], ['还特意回国为其网友参加北京卫视的魅力选秀节目面向全国观众大胆向其示爱但最终失败还是未能与其网友见面'], ['（）：晚上宝宝个马扎帮妈妈脱了鞋让妈妈把脚搭马扎上然后竟然开始给妈妈按摩脚按摩腿'], ['本宝宝又要深夜放毒了～看出来这是谁了嘛哈哈这是人生第一张很正式画的彩铅人物画像花千骨小骨赵丽颖历时个小时衣服实在画不下去了就先将就着哪天再画吧头发铺了好多层颜色可是似乎一拍照就看不出来的样子皮肤的颜色也没拍出来于是乎出现了雪白的小骨希望彩铅技能不断提高'], ['一只手可以飞出并向四周发射毒针'], ['真的有人叫土豪害怕想要块买双新球鞋'], ['有舍有得不舍不得乞丐一生过着得的日子善人一世过着舍的生活；生活中苛求得太多你就会背负得太重；大舍是有大远见的一种境界而大舍的必然结果是大得：许多的时候我们不想坚强但不得不坚强我们不愿微笑但又不得不微笑'], ['西九龙火车总站耗资亿港元兴建将会随着广深港高速铁路香港段于年一同落成启用同时投入服务'], ['舌头上长了一个泡说话都会碍事一个多星期没有任何好转真想给割掉'], ['我可以亲你吗不可以那我刚刚对你说了什么你对我说你可以亲我吗每次都不按套路'], ['这段时间好倒霉热水壶被没收刚配的眼镜就落到出租车上求转运'], ['用画个图都被自己蠢得泪流满面这个世界归根结底是码农的'], ['今天吃干拌面居然没有调料包'], ['吴江月日周二空气质量指数：空气质量：优'], ['在家发现了一个的笔记本听说是老头的'], ['由北京大学复旦大学吉林大学厦门大学和南京大学五所大学联合开办了半导体物理专业；'], ['真的神烦明天要的客户说了多点时间做起来出错率低很多还反复确认没问题了吧出了事照样骂你'], ['一开始吃点虾子脸就开始又红又痒还能不能好好吃海鲜了'], ['淘宝交易额亿退货亿真的假的啊'], ['妈的刚刚差点被电死了卧槽泪泪泪刚刚台灯插头炸了就在炸掉的前一分钟我还在调整插头位置幸好刚才没用手碰不然就死翘翘了泪泪泪命大泪泪泪心有余悸泪泪泪'], ['虽然夜黑风高但是我不怕鬼冒死下班洗完澡拿了八个快递安全回到了宿舍我就说败家娘们败了这么多一定会有一大堆一起到货的猜准了事总是要发生的摸摸哒'], ['从事工业设计交互设计设计艺术的数字化和计算机辅助工业设计方面的研究'], ['哎呀妈图七就是我想要的哇你个小可爱'], ['尼玛交往两年才知道是女的'], ['被自己蠢哭还不让别人说我蠢的人就是我打死我算了'], ['人生处处有惊喜不过有时候也许是惊吓走了来了不断的告诉自己既来之则安之已经做了一次逃兵不可以再做一次逃兵新生儿监护室噩梦结束的另一个开始世上的事情没有对与错在于你怎么去看它怎么去面对平常心平常心济南·山大'], ['泼妇的河东狮吼实在让我频频作呕'], ['艹一个个都想咋么想一起做一件事就难的不行是不是'], ['只有我一个人觉得学校里的男一和无理的前进里的男二长的超级像吗'], ['此时我很饿啊想吃各种好吃的家里太热了脸成大干皮了又开始愁我这脸啊'], ['抽烟玩游戏想要气死人的节奏'], ['每天加班到晚上十二点换工作换工作再不换风一吹就倒了'], ['一怒之下就剪了齐刘海人就毁了眼睛也肿了'], ['泪希望以后我孩子有音乐细胞音符我是不行了我妈唱歌比我难听多了小时侯还嫌弃我唱歌难听一直教我唱歌卡拉现在想想惊恐恐怖'], ['莫名其妙中枪耍什么大小姐脾气啊回家就是了我说你什么了啊让大小姐你忍了啊还要放低姿态好搞笑请问你有吗'], ['集体宿舍真的很不好没人会考虑你的感受比如在个人卫生问题上比如在你睡觉时别人总是在那放各种电视剧音乐制造各种噪音'], ['最近不知道是不是年龄大了哟反反复复做了好多关于以前的很多人的梦还梦到了大学里的一个男的要结婚了我竟然伤感地一塌糊涂最可怕的是我大学时候没有暗恋他啊'], ['一个小时在堵爆的路段送着马上要考试的娃'], ['两年前的今天我第一次去武汉见你谢谢你昨天晚上来看我谢谢你昨天晚上说爱我抱抱吧'], ['天体力学的奠基者天体力学是在牛顿发表万有引力定律时诞生的很快成为天文学的主流'], ['著作有稗勺集道腴堂诗文稿道腴堂全集等'], ['特别不能理解一个没见过几次面的同性每天缠着某种原因不想理都不回每天还要发问题是不熟什么心态好害怕还编谎话借钱吓死宝宝了'], ['每天心情如图哈哈哈哈各位早安'], ['梦见和石原里美在一起了我的少女心呀啊呀呀呀'], ['什么待我长发及腰什么洗手为君煲羹汤我准备好了可时间却没有'], ['这次校园山寨版的职来职往的那个女评委我去拽得跟二五八万似的我真心无力吐槽你能的狠么至于么'], ['早上起来去抽血化验糖尿病逛了一会就累的不行了还困吃饱了也还是一样儿子也困了想回家睡觉'], ['跟相爱的人一同分享生活的幸福那是一种恩赐：只要你坚信平淡生活之中也有爱情；那么这份爱情就能让你的生命因此而光彩照人'], ['晚上带她去欧亚答应给她买冰激凌吃但是太接地气居然不能刷卡然而翻遍整个小灰终于集齐三块大钱好险成为说话不算数的妈妈'], ['惊讶于许尔勒和德赫亚俩人才然后照了照镜子看了眼身份证觉得并没什么'], ['一个人面对厄运也就面对了自己的胆怯面对胆怯就能发现自己的脆弱但是在惊慌失措无路可逃的绝境中你总有镇定下来的那个时刻人的生存本能其实总有你未曾意识到的惊人潜力'], ['年度规划双十一回顾汇报会我都快被榨成干货了'], ['好不容易有个喜欢的人可他好像不喜欢我悲傷'], ['送人离开无论高寿与否都是一件让人心情沉重的事情会不由自主地联想到自己身边的人联想到自己哪一天会以何种方式告别谁会为我哭泣'], ['生物钟君为什么不能让我多睡一会儿呢'], ['事业没了可以再打拼你只有一个一定要快快好起来啊拜托你心疼一下自己好不好'], ['种的小草长粗来了心情美美哒'], ['人生是一场蹉跎愿你别错过少年班'], ['请山神的两位姑娘是由法师根据当年天文历法推算的生辰八字来确定的'], ['考证要趁早啊今天来面试的财大男年的六门都已经过了综合刚考完在等成绩感觉自己又输在了起跑线'], ['做好心本管理修炼管理心智从管理霸道走向管理王道'], ['名侦探柯南可能她没有拥有多么美的面容却有一颗美丽的心这才是真的美毛利兰'], ['其实平常他们都是这样的找起来比较麻烦悲傷悲傷'], ['我怀疑今天食堂的炒土豆丝放的是汽油一辈子都没有这么倒过胃口'], ['这是个悲伤的话题有工作加班猝死的第一次看到写作业猝死的从没有给儿子压力而我的想法是：如果身体不好就算能考上清华北大又如何'], ['纸真很强大除了能记东西还是把利刃不仅能把手划破还能把嘴唇嘴划流血好疼'], ['明天就要抢回家的火车票了我回一趟家大概块钱土豪我买不起车票你给我买可以吗'], ['早安今天觉得好像有精力去做一些事情了比如贴蛋壳希望今天就可以解决掉这个事情我萌的那么暖那么好真的是早安新的一天保持好心情我们一起努力以后会更好'], ['都没睡觉我就出来发照片了纪念下冬季养肥肉更多前的日子'], ['买几件衣服冬天了都没有衣服穿'], ['世上最牢固的感情不是我爱你而是我习惯了有你彼此依赖才是最深的相爱早上好小公主～'], ['胎教要有情感交融胎教不是填鸭教育而是在声音光线和抚摸等温柔的刺激下跟宝宝进行情感的交流这样等宝宝出生后你会更容易转换角色与宝宝建立健康的亲子关系'], ['心累又心塞始终只有自个儿才能明白别人帮不到压根儿难得说凡切身的事儿多留个心眼大家都辣么忙大不了破釜沉舟走这么远只能步步证明只有自个儿靠得住马大哈小姐你要学会更加智慧坚强独立'], ['长得没我高也就算了考得也没我高居然就连口腔上皮细胞也不如我的好同桌你说我还能再狠点么'], ['边做事边自言自语简直不能忍啊啊啊啊啊啊啊啊'], ['努力才能去到更好的环境遇见更好的人而努力从来都不仅仅是一时的热血而是每个特定的时间点都要有相应良好的结果交付出来'], ['昨晚在西环码头跑步的时候看着迎面对我捂嘴大笑幸福指数蹭蹭蹭的成指数上升在心头总结了下「谁娶了她们一定会幸福」排行榜来香港前有俩这边有仨女子啊～真是美尤物不一定长相多美多会搭衣但光是一个眼神就能让你满屏桃心充满动力'], ['哪尼双十一的第一个快递是'], ['学校确定多种奖励几年来减免学费颁发学科竞赛奖励金年度学生学习优秀奖等五千万余元'], ['上条错误重新来一遍我好想买啊啊啊啊啊啊啊啊啊啊啊啊啊啊啊啊啊啊'], ['今天过生日许个愿望他妈的莫雷赶紧的把麦克海尔给我他妈的换了'], ['小宇宙在这里出生我从小就在这里看病二年级甲肝这里的医生第一时间发现建议转院第九医院住院治疗捡回小命一条而后每年规律一次发烧在这里就神奇搞定从小特别害怕这里的味道大了仍然心有余悸这里在当地口碑很好不用挂号收费合理服务态度好因为拆迁各种原因现在已经是我记忆中展开全文'], ['消失了好久从一个坑跳到了另一个坑思考锻炼珍惜'], ['怎么办好想看好想看可是周四晚上还有课'], ['年月日点击科技即时通讯客户端部落版及配套网站开始上线试运行在业界和市场上都引起不小的震动'], ['每天上班吃到炸药一样生气生气生气'], ['口腔溃疡麻烦你快点好嘛我还想潇洒地出去玩'], ['这真不是我们画室发的吗怎么全是我们画室的'], ['在爱中真诚是唯一的真正指引它通往带来自由的智慧'], ['啊没课还要爬起来练舞好烦我要炸了'], ['年轻就是要去奋斗把一切不可能变成可能不要让自己平庸的过了一辈子到老了才去后悔没有努力已经来不及'], ['讨厌一天到晚假谦虚的人就不能有一说一吗'], ['该州明确规定这项法令适用于各种目的包括对刑事案件的审判'], ['我们以后一定会感谢现在努力独立坚强盛放的自己中药郁金香'], ['微博里总是提醒郑恺邓超赞过你俩能不能不赞拉'], ['其实知道在微博如此咒骂韵达快递并没有什么卵用以身作则今后绝对不用韵达快递傻逼傻逼傻逼傻逼'], ['此书的阅读对象主要是疾病预防控制工作者基层免疫预防工作者也可以是儿童医疗预防保健人员和医学院校在校学生'], ['太精明的人有时候做不成事情是因为他们不再把幻想当真那只虎从来没有存在过那是我幻想出来的因为比老虎更可怕的是海上的绝望这头卧虎是我们的欲望也是我们的恐惧它给我们危险它给我们不安但也正是因为它的存在才让我们保持精神上的警觉才激发你全部的生命力与之共存'], ['从他们上班一直呆到他们下班一下午就耗在这里小菜鸟也是不容易啊'], ['万一这一年只是一场梦那我就醒了重新找到你'], ['每当做了件有意义重要的事就会觉得自己在地球上的重量变重就会有一种安全踏实的感觉'], ['第十九天今晚月亮好圆月光洒窗前月深夜深晚安'], ['谁再说池昌旭娘的我大嘴巴甩你你哪只眼睛看到我池很娘了有本事你出来别躲在暗处瞎知道什么是太平洋肩膀吗你没有他有就凭这点你们没资格说他'], ['没话费连快递电话都不敢接就是现在的我在国通给我打了个电话没接之后直接吼了我说我知不知道派件很辛苦特别是派重件吧啦吧啦我的心情是的'], ['输液中医生说孩子你的血管输液真好扎针医生都不用操心结果我就挨了三针三针我嘞个大去'], ['单位食堂十二块钱的饭每次吃完回家我又得再吃一顿能不胖么'], ['每天的心情都是随着听力的正确率波动起伏'], ['作为男人懂不懂女人在某些事情上所持有的观念所在意的程度永远只会用这都不是事一个人到底在那边瞎操心我怎么有一股想砍人的冲动呢'], ['我不高兴的是你并不是心甘情愿陪我'], ['妹的等哪个公交车哪个公交车不来路路都各过去几辆了'], ['由贝斯手鼓手键盘手吉他手和主唱五人组成'], ['昨晚太晚睡了胃胀气又睡不好现在整个人好晕'], ['不是我说巴黎的恐怖事件死了全世界震惊哀悼降半旗那中东地区隔三差五的炸弹袭击死了几万了也见什么哀思'], ['恐怖分子不可怕恐怖的制度才可怕转发微博'], ['上个班跟小学生一样天天回家还要写作业也就算了还有人打小报告特么哒'], ['我下次洗衣服的时候如果再放很多洗衣液进去我就是狗怎么洗都还是很多泡沫'], ['新鲜血液新的开始我要坚持晚安'], ['生日快乐我对自己说我的身边一直有爱我陪伴着我的闺蜜朋友我很幸福在我心里根深蒂固的就是我要和你们走下去一直一直一直我从来不会觉得自己孤单哪怕今天我还是很骄傲的我说你们在我心里变不了了我会抓住不放手爱你们我的小伙伴们'], ['我特别想知道抽血之后这是什么情况那天去挂急诊抽血检验之后从肿到疼到青再到黑现在又开始变红晕这到底是什么情况不会是伤到了吧'], ['哦我话还没有说完我失恋了就从你有了外遇开始所以我很桑心不想理你越大你就越不懂得表达只知道用自己的方法对于你身边的太多美女伦家还是很吃醋的因为你天天吃香的喝辣的都不带伦家还有恩下个夜班快累死了奶奶的还要天天给头儿背三基简直折磨死人的节奏要命'], ['冻土改变了土壤的水分条件保证了春季土壤有较好的墒情'], ['残疾人用品销售公司主要生产经营残疾人和老年用品'], ['大年初三终于有新的元素新的人物添加到其中并使剧本得以完善也是第二集首次半成品的完成'], ['在接待站得到了华中派遣军三个战犯的照片和当夜到达上海的情报'], ['这个是个恋爱流氓不适合我这样的小清新玩明天我就跑惹不起你我躲大把好菇凉'], ['天使大概就是这样的吧～太爱'], ['这是因为它采用射频发生器加热带电粒子或等离子体'], ['脑子里有泡吧你他么和别人视频没关系啊别在我换衣服的时候视频好吧素质被狗吃了吗'], ['后来还自己发明了对留美奈专用的必杀技狐爆杀'], ['自从美茜回川后思嘉的情绪开始变得异常刚开始几天思嘉对饲养员不理不睬连平日最喜欢吃的窝窝头都吃得很少为此野生动物园想办法让思嘉恢复以前开朗的样子——给思嘉安装了秋千单双杠并装了电视给它看它和美茜儿时的视频'], ['想记录下我们相处日子的倒数正好这个工作号的微博伴随离开也停止使用'], ['无力吐槽感觉很不好无助'], ['有了新坐骑顿顿骑车带我去坐班车'], ['就这样开始了很快也很漫长三天的时间走完了本来要好长时间才可能走完的过程像经历一次最疯狂的过山车很快一个情节接着另外一个情节几个小时的等待像是经过几个世纪兴奋彷徨渴望很漫长牵起你的手相扶相携走完美丽人生'], ['生病咳嗽还有人觉得我咳的很烦躁你以为我想咳嗽啊不是生病了咳嗽谁愿意啊又没要你管我'], ['说得好不如做得好富兰克林'], ['电力巨系统安全保障体系是包括从设备安全到系统总体运行管理的一个系统安全体系'], ['在巴萨那引起银河鲸鱼共鸣之後银河鲸鱼往银河的另一端离去'], ['马德里主义的完美诠释前进马德里'], ['你妹你妹你妹你大爷的挣钱挣得不开心还不如不挣钱'], ['我需要和她谈谈了不涨工资就离职'], ['心理提醒大多数人相信眼下是他们人生中最糟糕的时期了再也不会比现在更糟了；而事实也常常告诉我们你再不改变比现在更糟的还在后头呢'], ['总是抱着那么一丝丝的小确幸最后再被打败'], ['都要毕业了怎么整天都是些没完没了的破事儿啊'], ['那一年我初到上海走遍南京路买仙四首发正版最爱还是仙三钟爱唯有紫英那些与仙剑相伴的日子就是我回不去的青春'], ['记淮南牛肉汤之后又一个坑爹外卖出现——手拉手便当等了两个多小时两次打电话去问都说已经送出一个多小时你是走也该送到了吧难不成你原地踏步差评中的差评再也不会点了'], ['怪我咯那就不要说话情商在哪里还问我怎么了千万别说话'], ['好喜欢雨后凉凉的湿润润的从窗户飞自来轻拂过我发梢的风'], ['听说这是接替程昱的新壕将这血量也太吓人了'], ['你爱的你想的你牵挂的最终会输给对你好的'], ['手脚冰凉的季节又到了笑不可抑是时候解除热水袋和电热毯的封印了嘛笑不可抑'], ['道理都是说给别人听的所以知道是知道执着是执着'], ['早上来一碗冰糖雪梨汤满满的满足感'], ['锦州李阿姨打来电话焦急的问了我一些情况其实我和他们一样焦躁不安或许我在北京比他们办事有时候更方便那又怎么样呢只能这样了'], ['我真的害怕猫泪泪尤其怕猫从后面袭击你太吓人了泪泪泪泪'], ['今早心情特别的不好都是那个淫讨厌他希望赶快离开快点快点'], ['看到你的评论都是想睡你我真的是要生气了'], ['手术医师手术医师对人工流产手术的安全性影响很大'], ['我和你太远容易疏远太近容易情尽'], ['这绵绵的一周的雨让每天有接送娃任务的家长很抓狂吧送娃的时候那些豪车们好好排队不行吗庞然大物老是挤来挤去真的好么'], ['大早上分享一种零分的心情心中事心中十万个草泥馬'], ['熊大驼背提醒他挺直熊大回应：我背着包怎么挺直'], ['麻麻滴最近新浪微博很多用户都是神马情况'], ['能好好的冷战吗还偷吃我的千层'], ['我发现不大部分发型师文化水平都不高他们似乎永远理解不了：随便稍微修修的真正含义我只想稍微剪一点他直接给我来了一个这个太丑我都不好意思上照不想说什么也不要劝我我要哭一会'], ['姑奶奶你真特么辛苦这一年都快憋出内伤了可惜还是月'], ['有人说播音很容易嗓子好认识字照着念就行了这是普遍存在的误解'], ['有很多话想说有很多情绪需要清理事实上现在越来越沉默'], ['又话出粮还钱然后跟我说天日然后无数个天日我已经没有脾气了点解会有甘噶人借的时候说三日还隔了三四个月了现在还不还老说明天明天你妹啊'], ['公司也要讲顶层设计运营管理等否则十年了规模没扩大还总是遇到同样的难题栽跟头一直在人力资源的漩涡里打转谈何发展呢没有公司领导层管理与自我管理员工做事则无序沦为做事机器每天疲于救火谈何个人成长'], ['妞妞昨晚下切牙脱落第二颗小恒牙萌出在即'], ['一天过的本来都够够的还各种来事'], ['从此以后黑成只做自己喜欢的事情'], ['一天到晚的换手机换来换去头都大了都不好用'], ['心里真的是有万般草泥马走过到底哪知狗'], ['第二或者第三亚层的常绿树种比较耐寒有时林分内的常绿树种的成分增多树木较高形成较典型的常绿与落叶树种的混交林'], ['连续几天狂吃芝士和烤肉还天天熬夜近两点的后果就是眉心的朱砂痘越来越红越来越大然而此时还不想睡还馋芝士我想我是该治治了'], ['最近遇到很沮丧的事情怎么连吃个奇异果都酸得落泪'], ['信阳市中级人民法院现有人员人大学文化程度人占具有审判职称人占'], ['熬过去就结婚两个人相处时间久了你会惊讶地发现你的眼睛竟有点像他的眼睛他的微笑竟也有点像你的微笑你在不知不觉中让他改掉了他爱皱眉的坏习惯你们走路的步伐变得相似你们说话的语气也愈来愈像你们爱喝同一杯饮料你们总能猜到对方下一句话是什么'], ['上联典指清朝时期的诸生尚兆山字仰止句容人'], ['组织固然可恶但是当初强行参与和发动伊拉克叙利亚战争的某些国家领导人们你们不要好好反思么如今受罪的却是无辜百姓'], ['走过没有回头的路一路走来满是伤痛曾经的骄傲不在引以为荣曾经的失落永远是记忆中的痛不敢想像花开花落的岁月流年不敢想像花前月下的温馨浪漫是怎样的灰飞烟灭不敢想像斑白的鬓发憔悴了的容颜你可知道我的心痛苦的就像被活埋'], ['居民委员会成员不称职或者有违法行为的由居民会议予以撤换并报当地人民政府的派出机关备案'], ['看电视剧考上大学抱在一起边哭边笑我也哭得眼泪鼻涕一把'], ['想把所有在朋友圈空间卖东西的童鞋拉黑天天在广告里挑动态看真心酸要被你们烦死了'], ['我决定尝试下油画的风格嗯哦没片子给我尝试笑不可抑哦不对想了想还是有的手里五六套片还只是开始修第一套我觉得我进度特别慢原因是最近五天都特别忙今天开始修肝起来'], ['那些我们一直好奇而又有一些惴惴不安的未来深圳婚纱摄影工作室有时候在我心里隐隐约约的感觉到广州婚纱摄影工作室它们是明亮的呵呵好临菲傲代感若'], ['经历这么多次尴尬的场景我真的要穿平底鞋平底鞋平底鞋可是我不够高啊'], ['停车不到十五分钟马上被拖走拖拖拖你妹啊'], ['发个微博纪念一下背了一个多月的校规校纪刚考完试回来别人都去玩了只有我要去输水'], ['小宝贝啊你的咳嗽快快好起来吧老妈快招架不住了⋯⋯看你这样我也烦啊'], ['实拍可怕的中医放血疗法网友直呼：吓死宝宝了秒拍视频'], ['剪完头发出来地面积水严重刚才是下过大雨了吗'], ['这是什么组合'], ['一到晚上睡不着就会回忆以前的酸甜苦辣'], ['终于在雪天拍了张照片冻的根本拍不了狗'], ['哼～很讨厌那些农村佬啊～那些小市民心理～讨厌～'], ['多事之秋为什么一到秋天就真的事儿多呢不对现在已经冬天了'], ['不相信自己的人连努力的价值都没有'], ['作者简介向荣年生湖北长阳人武汉大学历史学本科毕业硕士英国伯明翰大学哲学（历史学）博士'], ['用途：由于大头笔具有特殊的油性故能在塑料金属等上面书写'], ['恐惧是很可怕的一件事'], ['卧槽卧槽卧槽九月你咋的了脸咋这么大啊你现在在咱们家位居首位啊脸这么大你还好意思再吃吗简直是一大脸猫呀'], ['早上一起床就看到巴黎袭击事件震惊中'], ['明明以前是外语学院什么时候变成体育学院了'], ['你能想象坐着公交车眼泪在眼里打转吗而且不能哭心疼丢人呵呵'], ['别问我智齿又长了一次的心情是什么样的我现在的心情就是这样的以及这样的还有这样的悲傷害怕伤心'], ['是的一直想当他女儿让他摸摸我的头超满足'], ['愿你的善良世人都能懂你是一个值得人深入了解和疼爱的小孩'], ['第一次走万家丽高架桥回克居然堵成该样哪咋猪嬲滴把路堵起滴躁死人有木有走南二环滴喊个话南二环畅通不我是想找个心理平衡'], ['最糟糕的感觉莫过于不知道应该等待还是放弃'], ['加班加班加班重要的事要说三遍饿的我快要死了啊'], ['同年月国民党山东省主席沈鸿烈指使顽军秦启荣王尚志部制造磨擦太河惨案发生'], ['单位食堂每周都会有包子我一般会在大妈吃惊的眼神中要五个吃三个另外两个偷摸'], ['世界那么大而我却总是遇见好人暖暖的'], ['为什么新农村合作医疗提到了元'], ['明明就是相爱的两个人却没有在一起好可惜啊'], ['购买中的误区众所周知海参的营养价值相对是比较高但是并非是蛋白质高海参中所含有的蛋白其实只有鸡蛋的一半'], ['村委会驻龙潭岭辖张家院匡塘角蒋家屋两路口曾把塘松山院香塘龙潭岭王家院等个村民组'], ['最近很多人都在提这个啥指尖连老同学都在做了'], ['积攒了一天的好心情瞬间就被两句话扼杀掉了生活不易且行且珍惜'], ['总是在饭点找我干嘛想要我瘦成棍吗'], ['你是如此难以忘记浮浮沉沉地在我心底'], ['扩音喇叭扩音喇叭看看眼睛只有⃣⃣岁的高二妹子如何月入上万'], ['年前的今天凌晨分你诞生喽年后你变成了一个胖哒哒可爱懂事又调皮的小男孩很开心能陪伴你一起成长也许陪伴也是你最想要的对吧希望你能健康成长学会感恩每天都能开心快乐妈妈爱你'], ['打的等候的时间都够我下一班公交车早知道打的还迟到还不如直接等公交呢靠'], ['写这么详细有木有考虑到一个读者的心'], ['心情老不好了这人就凭白失踪了碎觉'], ['今天很开心特别开心还有最后那张可能是因为我太高了所以显得张沫凡特别矮但是丫也太丑了吧'], ['乳酸钙氯化钙焦亚硫酸钠柠檬酸钠碳酸钾三聚磷酸钠焦磷酸钠六偏磷酸钠复合磷酸盐'], ['恐怖分子看过碟中谍情节真的好像'], ['已经好久没过过轻松愉快的日子了为什么我是个思虑如此之多的人内心戏如此丰富就不能做个神经大条过一天是一天的乐观主义吗吗吗吗吗吗'], ['趣漫画圣诞树的正确打开方式图片来自'], ['现在每次从西苑回来还是有种想哭的冲动半年了看到熟悉的地方没有熟悉的人'], ['月日张作霖宣誓就职任命张宗昌孙传芳为副司令'], ['怎样交到知心朋友诚恳是友情的润滑剂是朋友间的粘合剂诚恳能带来朋友间心理的共鸣精神的寄托；思想的交融；以诚待人的人：他周围总聚着一大堆朋友：他给人以安全感愉悦感和信赖感用心去换心彼此才能心心相印成为挚友；虚假；做作的人；人们往往对他是敬而远之的'], ['这学期作作的学了钢琴心塞´ωก从此在剁手的道路上一去不返ಥಥ紫薇我的手不听使唤了啊要怎样才能学好'], ['年月杨乐乐为某活动亮相福州时被记者问到怀孕问题同样是极力否认'], ['别他妈下雨了行吗有本事下雪啊'], ['当被问到天热为什么不在片场打伞霍建华的回答是酱样的⋯心疼华哥'], ['我现在在努力控制我内心的洪荒之力'], ['观测仪器的灵敏度很高路人脚步的振动都会被捕捉到而类似的杂波一多观测效果就要大打折扣了'], ['等最近忙完了就要好好自己做饭吃貌似吃了十来天的外卖了'], ['笑不可抑笑不可抑笑不可抑从国贸车库出来被一保时捷追了半小时以为怎么着了呢结果是帅哥对妮子一见钟情追着要电话号码呢笑死宝宝了妮子你丫真是一人间妖孽侧脸也招桃花哈哈哈哈'], ['昨天到了布拉格多晚了差不多两个小时因为上次很晚回宿舍被一群地痞吓到过这次也是心有余悸不过这里还好旅游的人很多虽然天很黑了也没那么让人感觉害怕姐一直在等我们好温柔啊善良的姐姐开门的时候问我上次来是和你男朋友么我说不是是和我女朋友女全文'], ['蹦蹦跳跳回东苑路上遇到涛涛他说诶换发型啦我在想他说出这话究竟是多么的心痛难当心痛万分心痛不已想着我的步子仿佛都沉重起来'], ['一周军情观察：据分析中国维护领海领土主权决心加大了美韩军演搞砸了朴槿惠吓得不来例假了菲律宾害怕了安倍也被吓着了越南人也觉察了朝鲜核试验无定期说不定时刻都会爆炸的一个误射的理由会把他们都给炸了'], ['呀呀呀菠萝宝大总裁可爱的帅气的的金有谦生日啦终于成年啦了欧巴呀以后也要一直棒棒的跳舞棒棒的唱歌森耶粗卡哈米哒'], ['王朝历史阿契美尼斯为契美尼德王朝的创建者；'], ['秋阴不散霜飞晚留得枯荷听雨声'], ['好困啊可是太贪玩玩着玩着就精神了原来玩可以提神呀'], ['做完事然后在大雨里一起吃个夜宵这生活如此多娇'], ['中山南二路宛平路我很多长辈都住那片儿土方车真的很吓人车身沉重刹车不便司机视野也很不好正常人看到了都会下意识让让开的——但是有很多土方车闯红灯抢黄灯已经很习惯了遵纪守法不乱穿马路的老百姓是不是应该去团购钢铁侠的铠甲啊'], ['对于没鞋穿的人来说下雨就是一场灾难连着下雨就是一种末日'], ['若是美好叫做精彩；若是糟糕叫做经历～'], ['既已相遇：何忍分离愿年年岁岁永相依朝朝暮暮心相携柔情似水；佳期如梦'], ['同时举行结婚典礼司仪人唱礼'], ['最近真的是人生的低谷期谁能在你身边陪着你度过呢'], ['离开的将近三个月慢慢的就互相淡忘了对吧'], ['我爸绝对比教练更凶开个车要被骂死'], ['明天考试今天是要拼到两三点的节奏了好吧한국어를공부하기시작하겠습니다'], ['有你的每一天都是美好的晚安小仙女'], ['明台一脸王天风私生子的模样怎么就成了共党儿子啦'], ['明星大侦探看了几天的节目为什么觉得后面的内容越来越恐怖了可怕以后还是白天看比较好宝宝怕做噩梦啊崩溃崩溃南宁·广西大学（西乡'], ['十三饲料检测站职能职责贯彻执行国家和上级部门有关兽药饲料监管的法律法规方针政策'], ['发了一条家乡下雪的朋友圈引发的朋友在下面家乡老乡的话题最让我开心的一句话是连云港篮球人才济济啊'], ['我的天哪今天居然看到那个想眼社长穿着黑色小腿袜'], ['织毛线到深夜还有你陪着我～～谢谢你喵～'], ['一切以比赛为目的的兴趣班都是误人子弟'], ['在皆人的帮助下已和久能一起逃出帝都'], ['我以为取个这样的名字应该不能有个人结果人家有个人'], ['妹的等哪个公交车哪个公交车不来路路都各过去几辆了'], ['因为睡不着我很生气我想睡觉'], ['想到未来就心慌别说一个月之后即便明天上不上工都很心慌房东姐姐说想太多就干不好眼下的事了但是忍不住眼泪一碗泡面依然没治愈自己对未来阵阵恐惧'], ['有好一段时间没来微博了就连发照片都忘了怎么发'], ['良将拿着强弓防守冲要的地方可靠的大臣带领精干的士兵摆列着锋利的武器严厉盘查过往的行人是谁'], ['从没有对人如此失望过好心寒'], ['：红蓝绿黑白灰黄'], ['协助分管市教育局文化广播影视体育局商务粮食局旅游局统计局招生办新闻办供销社等单位'], ['有的时候在自己脆弱的时候想一个人躲起来不愿别人看到自己的伤口有时候渴望别人的关怀渴望一份简单的快乐有时候听到一首老歌就突然想起一个人有时候夜深人静的时候突然觉得寂寞深入骨髓有时候真的很想找一个人陪在我身边一起过着平平淡淡的日子'], ['我的耐心都给了快递小哥了溜成二傻子了'], ['嘿嘿～今天跟姑姑可亲了～时时离不开'], ['善意的谎言恶意的谎言都是谎言用心的欺骗无心的欺骗都是欺骗有意的敷衍无意的敷衍都是敷衍学会领悟学会辩别别再茫然高估在她人心中的位置别再让脆弱的心脏滴血华丽转身平平安安才是真缘分'], ['这才刚结课就开始催论文了还要写心得还让不让人好好实习了'], ['成为你的新娘哈皮哈皮'], ['很不错的咖啡杂志里面介绍了很多不同类型的咖啡店谢谢班克咖啡提供'], ['我校牛逼明天考普通话今天通知幸好我没跟马小姐约明天见真是日了狗了'], ['遥祝生日快乐生日蛋糕生日蛋糕省略千言万语幸福就足够'], ['一想到明天大家各种庆祝毕业我拖马还得苦逼上班外加晚上排练年会脱衣节目到九点半就无比无比心塞'], ['这他妈都次啦还能从轻发落要法律来有个哔用啊小孩已经受到终身伤害那俩贱人就算枪毙一百次都不够居然还从轻发落真他妈无语'], ['昨天下午我奶看我窝在床上来了一句话一天就出去瞎吃；我姑晚上回家看我躺床上又来了一句一天竟出去瞎吃那些辣的今儿早上给我打打电话可被在外面瞎吃啊被你们深深的打败了以致于我做梦都梦见有人对我说：别出去瞎吃了只有我家宝宝没有说我'], ['人家的书好好地在那摆着水杯放着笔盖都没盖上说明只是出去吃个饭能不能别就那么把别人的书推到一边太过分了'], ['庄神是人吗已经连续厂两双啦'], ['每次都一样什么都不会讲只会付出和等待失眠中眼睛疼但睡不着'], ['草原歌声等刊物和电视台电台上发表的歌曲有百余首'], ['能看到我发的微博的点个赞谢谢亲们'], ['有生之年再也不想用申通居然发一点资料回复需要近一个月寄出去一个多星期知道别人着急发西藏还用汽运特么真够了害我黑哥因为这个延迟回来'], ['都不认识一直私信我不理你你还越来越来劲了而且还一直语音我想说你烦不烦当我是傻子啊从来没见过这样的骗子一会说自己特警一会交警一会民警管你什么警滚出我的视线'], ['八行水源岩八行水源岩在普合苗族乡境内位于县城东偏北公里处'], ['又一个逆行了还拽成一脸翔的女司机'], ['太真实了用西瓜装大肚吓人这种方式是不是太过分了啦吓尿了'], ['累觉得没有希望没有我想要的未来'], ['今天晚上开始说胡话了⋯⋯就不能管好这张招人恨的破嘴么'], ['梦见被野猪驱赶虽然在梦中非常辛苦却是个吉梦中的吉梦意味着会生下将来成为人中翘楚的儿子'], ['不知不觉就累积了那么多东西自己也吓了一跳应该高兴吗'], ['自闭症烦躁症焦虑症忧郁症完了症症对准'], ['一年半以来非常感谢帮助过我的人临走时都来不及与你们说声谢谢懇求'], ['第十四条县级以上人民政府可以根据本地区旅游发展的需要安排旅游发展专项资金'], ['董二发现换来的太极壶是假的明白真壶仍在四爷手里气得一把摔在地上'], ['下巴痘痘大爆发此起彼伏'], ['这边巡视组还没走呢那边国资委审计又来了烦不烦啊能不能消停会儿啊'], ['这个落差也太大了吧这个星期还十几度下个星期就到度了'], ['我发现几乎每年都得和移动或者撕一顿移动已解决你等着等姐安排好时间跟你们好好撕一撕'], ['早上起床出寝室门就被泼了一头热水倒霉霉霉霉霉'], ['装修成这样卧室的钱都省了哈哈'], ['我想要对你说出我要说的最深的话语我不敢我怕你取笑因此我嘲笑自己把我的秘密在玩笑中打碎我把我的痛苦说得轻松因为怕你会这样做我想要对你说出我要说的最真的话语：我不敢：我怕你不信因此我弄真成假说出和我的真心相反的话泰戈尔'], ['停水已第四天了快顶着油头明儿上课吃点大蒜再气死那帮兔崽子们我也想做次坏人特坏的呢种'], ['嘛蛋这速度完全就是走过来的嘛'], ['手欠回他妈什么家开他妈什么电脑翻他妈什么文件夹害得老婆心里膈应'], ['此战德军击落英法飞机数百架其中仅德第二高炮团就包办了架'], ['涌浪与风浪相比具有较规则的外形排列比较整齐波峰线较长波面较平滑比较接近于正弦波的形状'], ['找个没人的地方对着镜子给自己鞠个躬然后对自己说一句：姑奶奶您辛苦了'], ['显卡产生的数字信号由发送器按照协议编码后通过通道发送给接收器经过解码送给数字显示设备'], ['怎么感觉身体越来越差唉碎觉'], ['找个方向往前走打击🏽总有一个梦想会实现'], ['全都发工资了为什么就是我们不发傻逼交行不知道每个月就盼着这一天吗'], ['渣的每次都毫無邏輯的講課考試又毫無邏輯的出考尼马真心覺得火大'], ['午夜梦回深秋的雨一直淅沥窗外的夜也一直寂静少了白日里的喧嚣与繁华其实内心里真的很享受这种宁静听着秋雨中的寥落数着内心深处的那些故事一眨眼仿佛就过了一个世纪一声叹似又是一个轮回'], ['果壳底部小瓣与果肉是由相同的体细胞发育而成所以数目会一样'], ['幸福就是和你一起一觉睡到自然醒'], ['没有人真的在乎你在想什么不要过高估量自己在他人心目中的地位'], ['在电脑上看的演唱会视频都想哭'], ['永远对我微笑的猪头心情都棒棒哒'], ['复习不进去了明天后天最后两门'], ['反正脑已不够用了很忧伤（真的是越害怕什么就来什么很讨厌越来越不像自己的自己）'], ['亲爱的宝贝倒计时天了明天就足月了太乖太棒了继续加油爸爸妈妈都好爱你'], ['占鳌九儿遇到你以后我也变得爱拍照'], ['（）通流能力大压力损失小'], ['我擦我有好多人备注了然后已经忘记他们是谁了'], ['感受不到亲情的温暖了不開心不開心不開心想回家'], ['定是今天阳光不够温暖心里就是不高兴感觉全世界都把我抛弃了'], ['下雪的时候一定要约喜欢的人出来走走因为一不小心就一起白了头'], ['这里的源源好少女啊哈哈哈哈哈哈'], ['从来没有人会告诉我原来长大后找了一个不怎么样的工作谈了一个不怎么样的恋爱过了一种不怎么样的生活'], ['现在寝室就只剩下我一个人没着落了'], ['\\ufeff哈哈哈这段子不错完全猜不到结尾'], ['装了拆拆了再装脑子进水了吗'], ['世上最难过的莫过于时间太多无聊闷的发慌；世上最近的距离是有一颗想见的心一脚油门的事；世上最深的感情是如同家人般的相处彼此珍惜对方只要心近了感情也就深了感谢一切珍惜我的你们'], ['近来看屏幕有种眼睛马赛克了像素一样莫非想近视'], ['相聚是缘相离是劫我们无力改变什么只愿这一世的喜悲都有彼此相伴晚安何炅赵丽颖图片来源贴吧'], ['最近老熬夜想要买自己早点睡觉大家能不熬夜的尽量别熬夜太伤'], ['壁纸太太太帅了拿原件私信我'], ['今天在椅子上坐了一天屁股疼话说刘丽莉真狠妈蛋那么多作业要不要过了还好明天写个总结就做完了礼拜六双选会了找不到工作怎破'], ['各种烦各种不爽各种无奈各种崩溃各种想爆发'], ['也许是前世你欠我的不多所以今生只还我一点我笑抽了'], ['国足终于可以安心备战卡塔尔世界杯了氣憤氣憤氣憤裁判你他妈逼的眼睛真瞎'], ['对于我曾经的特待见的闺女儿可能以后最牛逼的表示估计也就是人家结婚时提高一下礼单了这估计就是命呀'], ['这些行为游走于合法与违法的边缘但因为收效显著总会有很多的企业设法利用'], ['遇到你和你在一起是我最大最大的荣幸'], ['中午同事请我吃饭吃得好开心哦明天开始忙派对的事情每天准备一点一点好累明天开始点餐'], ['跟自已说生日快乐努力成为更好的人顺其自然不焦虑不后悔往前走'], ['尾毒的毒液是一种氨基酸和多肽类的蛋白质其药性咸寒有小毒对于中枢神经和心脏具有一定的效应有清热消炎化结除症之功效'], ['为什么我不止看到三班班主任会想到你就连我刚在看的韩综我们结婚了里面的其中一男的我看着看着都可以想到你放鬆放鬆'], ['赏到台湾公干要仁负责编采部的大小事务仁沾沾自喜'], ['大家都在排毒纯爱排毒节只要就可以体验了一个洗面奶一个竹炭排毒真好可以省好多钱哈哈'], ['老公送了我一条围巾这么多年了还能这样挺不错的'], ['网易我操你大爷原定从今天开始不在更新微博却发现邮箱'], ['珍珠还具有镇心安神化痰之功效'], ['就为了买个醉掉了块四百三十我都可以买那双鞋了我还可以买衣服吃吃喝喝我一定要赚回来（就是在这个地方希望捡到它的人好好对它或者是需要它的人）'], ['不是所有的曾经都能当成回忆心还是会抽搐一下但总有一天我可以笑着面对关于你的一切希望你们可以在一起掌声也不枉当初我选择退出'], ['事到如今你以为各种解释道歉挽留跪舔有用吗道歉有用要警察干嘛不搭理你不是刻意对你的惩罚是给你时间自我反省一边滚犊子吧'], ['莫名的人说我是娘你大爷大家来说说'], ['美好的一天从早上开始心情美美哒'], ['其特征有：非违法性逃税是违法的节税是合法的只有避税处在逃税与节税之间属于非违法性质'], ['什么时候说一句话回一个短信都打打删删的了'], ['好可怕刚刚看到一个电马儿上面坐了五个男生'], ['道德严重扭曲出来还是会继续害人终生囚禁让他在监狱里一辈子捡肥皂自己撸'], ['视频基地恐怖片中吓人镜头集锦将近分钟部影片简单粗暴直接吓最适合无聊的时候看阴险慎点秒拍视频'], ['北方有飘雪南方有落叶冷风不知归途'], ['突然天空放晴紧接着慢慢进入了黑夜凭当地人经验这是极光产生的前兆'], ['我去三体里那种通信方式居然是真的'], ['慢慢的你会明白：其实幸福不需要甜言蜜语也不需要山盟海誓更不需要华丽的外表原来最幸福的是平淡中的陪伴每天一起晚安家庭'], ['我特么真的很讨厌和拖拖拉拉的人一起做事'], ['就这样一天过了时间匆匆忙忙的流逝了这么留都留不住啊我知道我很蠢老有种可有可无的感觉可肿么办苦逼的我一吻定情泰版李易峰深夜推肉思悼：八天的记忆思悼十一月你好刘嘉玲认康康为干儿子凌晨写作业猝死课堂李易峰全职猎人重制版李易峰六级最后一个月冲刺尹正爸在印尼野良神李易峰跟逗逼男友的日常朴智妍全世界最好的朴智妍恋上冬日李易峰电视盒子被全面封杀毕业学生狗的日常费曼恋上冬日想要的东西太多可惜钱包太小无奈的事情从来不会少看她吃得开心我就放心了梦之声两周年他其实没那么喜欢你口头禅晚安世界橘真琴生日快乐橘真琴看个动漫也躲不过我稀饭的男银感谢我活在中国王凯快点改变我的三观以折磨自己取得进步为乐啊'], ['和客户语音竟有好几个说我声音好听'], ['他将手伸进摄氏度的沸腾油锅中却安然无恙说自己裸手炸食物已年未曾受过一次伤'], ['神经病每天都很快乐今天跟在一起两个人有病一样的拍恐怖照片由于拍得太恐怖还吓到了自己大家不喜勿入胆小者别点我概不负责晚安上海'], ['问婊砸是不是单身他说是的莫名的好开熏'], ['本来一个人坐着吃饭挺好的非进来个情侣来一对还不行啊还进来两对唉回了宿舍还是被虐现在不想看到任何的秀恩爱'], ['英文太烂看不懂的随便画了个芯片结果发现另外两芯片是个管脚的然而元件库的封装最多只有现在想狗带'], ['想想也不是我没心没肺冷漠无情吧就是放任自己忧伤会对不起很多爱自己的人天生自带过滤忧伤的功能毕竟要做一辈子开心的美少女嘛'], ['有歌诀传世：九宫之义法以灵龟二四为肩六八为足左三右七戴九履一五居中央'], ['如果可以再一次鬍子蹭我的臉我不再嫌棄叶子'], ['图为每天起床的动力有麻麻的陪伴好幸福'], ['问了几次阿姨这是硬柿还是没有熟比较硬的软柿几次都回答我这是硬柿这样欺骗我的感情真想把这两个柿子塞你嘴让你尝尝这就是床说的硬柿你这是在逗我呢'], ['就地解散吧什么玩意儿别说没赢即便赢了就这水平冲出小组也得被人家给爆锤回来中国足球啊我对你彻底崩溃失望'], ['你小孩生病了不在家养着带办公室干嘛不传染给别人不甘心是吧'], ['太原昨天落了第一场雪白色的雪夹杂着绿色的叶纷坠而下像是用尽全身力气燃起的烟花宣告着突然的肇始和终结晚安'], ['就不能让我安安静的休个息净事'], ['改革开放的春风唤醒了沉睡的土地也为泗门榨菜生产的遍地开花添加了足够的营养'], ['每一信托单位具有一票表决权受益人可以委托代理人出席受益人大会并行使表决权'], ['什么都可以被取代只有自己的努力是别人取代不了的苦笑苦笑苦笑苦笑'], ['想念住宅樓想念家庭琪琪和宝宝狗一切都还在吗'], ['接个通知都搞不清楚时间地点还有什么事你能好好做'], ['大半夜去厕所被舍友吓得在楼道里尖叫看有关快递的微博的时候收到快递小助手的短信一根指头消灭正准备放毒的蚊子还有我想静静'], ['呼隐约中又疼了按都按不住哎尼玛'], ['不能动千万别动一动梦就醒了曾经那棵树自己的家只能在梦里'], ['死鬼滩儿你随地大小便我还不能说说你了瞪鄙视鄙视鄙视'], ['今天点开始更新版本我的皮肤我的框框我来了'], ['出门摆摊真心不容易啊风吹日晒的'], ['人啊就是不知道珍惜生活是不需要向别人证明什么就是现在确实感觉很落魄呵呵'], ['最近被气的半死都不想看到他们生气生气生气'], ['用木皮银等原料配制的刀鞘也极为精美'], ['今天得知男闺蜜竟然要把暧昧对象转正心里竟然有点难受难道是我对他有感觉不过细想一下我对他估计还是有种初恋情节的吧这个时候要适当的和他保持距离以免会陷阱去哦'], ['我想发大點燃點燃點燃點燃谁都不要惹我'], ['新乡月日周二空气质量指数：空气质量：良'], ['今天终于可以早睡了晚安好梦'], ['觉得自己的能力配不上别人给的机会'], ['今天被一个傻逼商家气炸了简直吃了屎了'], ['晚上自己一个人在家点半才去洗澡结果不小心摔了一跤侧躺在冰凉的地板上半天才爬起来突然发现原来危险无处不在如果真的摔坏了又该如何处理手机也没有在身边左侧的屁屁好痛'], ['卧槽我正常买点卡提醒我诈骗封小时小时一个买了一次成功第二次买不同类型的时候又提醒我诈骗封小时淘宝你狗带怀疑诈骗你也问问我行么朕没有被骗天天被封还有完没完了'], ['第二招：拉一小点打火机烧一下有毛发烧胡的味道'], ['这款面膜叫吓死宝宝了男士头像一蔻辰黑脸宝宝一款会清理垃圾的面膜看到我脸上的泡沫了吗原来我的脸垃圾好多惊恐北京·城华园'], ['年参加工作曾任上海电瓷厂技术员上海思源电气有限公司董事长本公司第一届董事长现任公司董事总经理'], ['商基生产累计完成投资万元占总计划的其中完成国家投资万元区财政地方自筹完成万元'], ['不会喝酒喝了一杯就成这样幸好吃药不疼了可是我的脸'], ['人与人之间的亲疏感真的是一直让我战战兢兢的东西南京·江宁区'], ['到了相对较冷的气候下想必会像汉尼拔的士兵一样披上斗蓬或兽皮吧'], ['骑兵全是轻骑配置与步兵分开不作为主力而是作为奇袭队使用'], ['谢谢妈咪年的今天辛苦了爱你让我白白胖胖可爱的存在'], ['今天要崩溃死我不可为毛就这么倒霉为毛办个事就这么不容易'], ['菠萝水果宝宝第十八个破壳脱壳而出日快乐恭喜成年～能做许多以前不能做的事'], ['郁红华杰工作室华哥乌龟好像是有听力的啊'], ['每每觉得心里有很多苦想找人诉说的时候却找不到那个可以倾诉的人也不知该从何说起只能一个人'], ['在新闻博物馆六楼展厅内同时在那里展示的人民日报头版也吸引了众多游人驻足观看其中不少是来自美国各地的学生'], ['连夜给顾客准备材料包虽然只有几块钱的利润但是想到顾客做出成品时的开心也不觉得累了'], ['没事就喜欢看美团然后让我姐给买买买炸豆腐在步行街里超好吃可能是太久没吃炸的东西只要是炸的都觉得好吃鸡排好吃用豆腐的酱蘸鸡排也好吃哭一点辣辣的甜甜的可惜只吃几口就腻的人啊天知道我多想胖胖胖一个人吃多美味也食之无味'], ['下雪❄的时候一定要和自己的爱人出去走走走着走着就一路走到了白头深夜晚安'], ['一开始就看错了一直以为是跟着包贝尔去冒险直到今天看了节目我不太适合看这种虐心的节目几乎是哭着看的'], ['卧槽刚刚一架飞机从我头顶飞过去了好低'], ['卧槽时隔几天我终于看透了'], ['谢谢郭导和采洁姐姐的祝福啦～～～'], ['嚷嚷着要断奶看见圆的小眼神却万千不忍心心疼哭了'], ['不靠谱的人始终不靠谱不喜欢的人始终厌倦充足的忙碌把每天的烦心事都给掩盖了一天过一天什么时候能去掉烦心事'], ['你看你都堕落成什么样了平常不好好学习一心只想着出去玩儿一到周末一天到晚的出去疯就你应酬多就你忙你傻不傻呀一点儿原则性都没有啦这还是从前的你吗'], ['自己忍不住看了起来真是有魔力的一集唉一瞬间什么感觉都回来了学校食堂的味道同桌边看边抓我胳膊的紧张的手翻来覆去想要搞死吞佛的心情憋屈到刀戟的惴惴不安愉悦个鸡毛一点也不愉悦甚至想哭'], ['活化的细胞具有细胞毒作用和免疫调节作用'], ['这地方简直目前觉得最美的湖没有之一以后一定要去'], ['卧槽时隔几天我终于看透了'], ['企业投资退出的意义从以下几个方面可以看出：．消除沉疴'], ['冯潇霆传球给中锋杨旭冯潇霆传球给右边后张琳芃冯潇霆传球给左后卫邹正麻痹阿婷是我们的组织核心啊踢的一坨屎'], ['有的人虽然相爱但他们一生相怨这样的爱就是前世的债'], ['不减肥吧胖减肥吧皮肤抗议又长痘哎人生艰难'], ['还是觉得你最好现在的我懂得珍惜也更珍惜你'], ['这几天肠胃闹得跟有个孩子在里面似得'], ['没买到高铁坐的绿皮车起来太早想睡一会结果车厢里乘客拿便携音响放着最大声的俗的不能再俗的音乐都什么人啊服了'], ['一天没回宿舍晚上还跟人干了一仗在零下好几度的寒夜里拖着大羽绒服来个鸟不拉屎的礼堂竟然是要给我看爱党影片焦裕禄握日你真的不是在逗我'], ['有了它在中加载查询将会十分简单'], ['几分钟没盯着他这倒霉孩子就把老婆昂贵的护肤水挤出来大半为了保全爷俩小命倒入矿泉水晚上洗过澡在被窝里惴惴不安的看着老婆拍脸老婆嘴里吐出几个字这东西就是好吸收越来越快了'], ['求解此刻心内的心理阴影面积像海洋一般无垠'], ['传世作品共有诗首文篇后人编为陶渊明集'], ['（专）就在这平内的事务所内令人不可思议的是我们做出了能容纳人（不含不坐班工程师）的办公区阅览区商务洽谈区会议区卫生间茶水间健身区值班室那一刻我更加理解：神马叫设计'], ['我去傻叉金山卫士我就是不想用你了你能别赖在我电脑不走吗'], ['每天大半夜和女朋友语音虐狗就算了关键是扰民你知道吗'], ['没咋复习的科目比天天做题的能高出分我是怎么考试的现在完全不想再考试了分分钟都不想再看书了'], ['法国驻华大使馆微博已经禁止评论了说好的言论自由呢虚伪的洋人式民主'], ['我也是醉了没见过这种人你好意思吗'], ['希望你离我越远越好最好今生不再见你永远是我最恨的人今生今世的冤家你去死吧'], ['潮汕人最爱吃的益母草会导致贤衰竭究竟怎么回事呢'], ['刚才有人说你这么大了才学钢琴我这么大了我还没到呢怎么就不能学了难道给孩子买就是对的给自己买就十恶不赦了么活该你当孩奴'], ['冬日暖阳赵丽颖你不会知道我多想把全世界都变成你'], ['引入就是回忆杀大哭时隔多年后你们一个个再次走入录音棚录同一首歌的心情可能就跟台下她们等待的惴惴不安的心情一般但终究的重新起航有一片闪耀的黄海陪伴黄心黄心黄心黄心黄心'], ['简单的就是指火车坐在轮船上渡过海'], ['能早上起来洗个热水头真是爽到爆炸'], ['好不容易中午能睡个觉这个大傻逼大中午你不睡觉你收拾你面包子呀好好的一个中午觉细碎操'], ['我要减肥胖的都是褶子日子没法过了'], ['突然之间工作没了方向谁来帮帮我'], ['前天熬了个通宵到现在还没缓过来眩晕症还犯了真是得不偿失人情活推不掉还不好干泪目设身处地麻烦事还得自己解决以后可不随随便便麻烦朋友们了'], ['好不容易给头发养的不分叉了又特么开始掉头发了快进尼姑庵了'], ['那些发各种漫画然后不发结局让加好友私信的我也是日了狗了我偏不粉你私信你劳资自己在去搜惯的你'], ['教研组出来谈谈呗咱能学点有用的东西么学咱学个先进点的版本成么给我妈她都嫌弃啊而且机房明明还非得用还有让我们累死累活一个月的不就是个高端点的么我设计出来的电子交互全都做不了真是设计很丰满技术很骨感'], ['刚刚看完了一段视频我雷到了我惊叹我感慨我觉得不可思议这样真实的在我们身边发生我有点接受不了人生在世我觉得真的是还债来的贪求自我的私欲不断的自我折磨挨苦来达到短暂的快乐这就是人类（人累）'], ['论文题目的要求是：论文的内容符合工商企业管理的范畴；'], ['一个快递打了个电话'], ['你就是去趟韩国不是不回来了还把你浪飞到天上去了是不是用别人的话说真是千里划船不靠桨全他妈靠浪不点名说你了给你留点面子毕竟你这样出去让我们很有面子'], ['开心是因为有希望今天可以睡个美美的觉又舍不得睡很爱～很爱～你～晚安宝贝'], ['新闻上说宁波近期降雨量为历史之最'], ['双十一荷包大出血还想双十二继续战斗发现子弹所剩无几了'], ['极端烦躁好想发脾气摔东西'], ['该挽留的就别假装无所谓该放手的也别装作能挽留'], ['又来视导毛线啊你让双班老师怎么活'], ['身心疲惫别人看到的我永远是那个样'], ['多愁善感又是急脾气的我我自己都活着累有时候就想着不想拖累别个好想找个会安慰我的人这个人应该很罕见所以我只想一个人生活'], ['缺点是由于使用钻头线路板外形留有至少－个凸起点不美观可能不符合客户要求铣切时间长工人劳动强度稍大'], ['呵呵呵呵伸手需要一瞬间牵手却要很多年无论你遇见谁他都是你生命该出现的人绝非偶然若无相欠怎会相见'], ['才睡半小时就被折腾醒宿舍暖气太给力盖被子吧热的不行不盖吧蚊子老咬人咋办'], ['卧槽我不管啥都不缺就是双十一买的东西们一个都不到求给车费亲自去把我的快递接回来'], ['偏中部地区的我们最可怜了既享受不到北方的暖气也感受不到南方的温度'], ['前几天看韩剧也是查案的当时觉得里面那些未结案件很恐怖看了这个才发觉更难以置信的更骇人听闻其实就在生活中只想说太恐怖了惊恐惊恐惊恐'], ['情商太低智商不高在人堆里混日子真心难过'], ['原来我老公还蛮喜欢的会一边看他跳舞一边夸赞他'], ['世界如此美好我不应该如此暴躁但实在忍不住了草草草草真的是只有这么脑残的公司才能忍受这么脑残的用户靠'], ['天坑卧槽好不容易有个趣味运动会报了项目竟然没通知时间人家以为自己弃权了我综合测评写鸡毛啊真几把操蛋姐要爆粗口'], ['经验证明这种划分会造成学生不会用数字技术处理连续信号形成学科内容的空白区'], ['全村外出务工收入万元其中常年外出务工人数人（占劳动力的）在省内务工人到省外务工人'], ['满满都是我对你的爱我想这样的爱情亲情是最幸福的吧'], ['我们有时会错误地以为得不到的才是珍贵的已经拥有的都是廉价的得不到的因为缺少深入的了解它只是一种美好的假象展示给我们一个绚丽的外表如果有那么一天你距离它近了知道了它的真相你才发现它和我们拥有的竟是那么的相似别把眼光停留在想象中你拥有的都是你的幸福'], ['我哥说：别违背自己的心听别人说什么合适就嫁了否则这会是你心里的一个槛什么时候都过不去跟着自己的心走他还说：有时候真羡慕你无忧无虑卖卖萌每天过得傻乎乎的他还说：今年一年一事无成我附和说我也是他又说：我和你不一样至少我结婚了他问我：你有啥特长除了卖萌我：'], ['吓死宝宝了感冒现在的司机真是越来越厉害傻眼满满的套路傻眼终于用脸坐了一次免费的车悲伤可怕泪泪'], ['西伯利亚冰草较易建植播前将土地耕耙平整要求土粒细碎在适宜的墒情下可春播或秋播'], ['小乌鸦你这么会玩我们这还没下雪呢你知道吗'], ['对前任处于担惊受怕状态泸州·泸县'], ['历代文人墨客瞻仰孙叔敖墓写下了不少咏赞的诗篇'], ['这就是香港媒体互动新闻台两个小视窗居然没有直播球赛实况反倒是一个直播香港球迷区另一个对准内地球迷区这种另类直播真心少见'], ['二十一岁遇见你们是我最大的福气'], ['盛名找来朋友成功自有朋友而逆境乃真正友谊之试金石'], ['我本来困到不行但突然脑子里冒出来一个问题烈日灼心我和谁一起去看的当时我怎么想也想不起来好奇怪我的记忆真的出现了偏差'], ['相信每一位有理想抱负的男子汉在看过这部小说之后都会幻想自己成为大唐帝国安西军的一员'], ['米的高度在一个岁孩子岁的小杨鹏照片的眼里显得如此卑微'], ['怎么说呢就是知道生活常常是个很状态所以时常抱有感恩之心但却常常掉入情绪旋涡里同时又是个想很多的人惴惴不安地去思考每句话明里暗里的特殊含义然后暗自伤神但至少始终没有恶意啊所以也不再揣测别人的恶意了上海·周家'], ['虽然元宝卖的一脸好萌不过今干了件大事的我更萌'], ['你是我遇到过的最复杂的人是目前为止我收到过最认可的评价而只有本身也复杂多面的人才能看到这点但奇怪的是我往往下意识远离这类人我害怕跟自己相似的人走太近会觉得全身赤裸连最肮脏黑暗的区域被探清相当可怕'], ['④×××精度为级和精刨'], ['大早上手欠非要剪刘海剪剪剪剪剪剪呲了'], ['气死我了再也不发神经了你们玩儿'], ['永远也捉摸不透女人的心唉女人心海底针'], ['可恶有无数颗青春美丽疙瘩豆在我的额头上嚣张跋扈地看着我'], ['哪个要你去妈妈房里的还要去妈妈铺上上厕所'], ['失眠了我突然想吃正一味的石锅拌饭分开后再也没有吃过了'], ['慢慢慢慢又开始熬夜不不不不不我拒绝'], ['辛稼轩曾有句云：倩何人唤取翠袖红巾揾英雄泪'], ['失望和失落都是自己创造的与别人无关'], ['整天唧唧叨叨真想把你塞马桶里'], ['听了这个招聘会我觉得我要狂补英语了英语好重要'], ['今天终于放晴啦小伙伴们赶紧多晒晒太阳'], ['今早上班发现电动车仪表盘是亮的赶紧看看电机锁发现也卡住了玛的有人想偷我的电动车车钥匙孔有点变形中午只好去换了都买半年了为啥总有人惦记着搞破坏上次偷光了我电动车的电池这次竟然打我整辆车的注意'], ['这两天老感觉饿随时随地的就比如现在感觉胃里空空的每天的早饭午饭晚饭都不对想吃油条特别想'], ['指向西边的白色箭头状图案象征当前国家依然脱离亚美尼亚'], ['昨晚梦到好多高中同学一个二个的都变得好狰狞的说～吓死人了醒来黑暗处又看到不想看到的东西看到了拼命地跑掉再醒来原来都是梦悲剧'], ['广西省葫芦丝巴乌专业委会员常务理事'], ['买了很多菜罢特一点不想做饭'], ['情意这东西一见如故容易难的是来日方长的陪伴月亮'], ['于是借佛敛财终于变成了佛教挡他财路他就断佛教生路'], ['当习而能学圬者不敢一日舍镘以嬉学圬者劳无愧吾心安焉学圬者有余则以与道路之废疾饿者焉'], ['螃蟹有清热解毒补骨添髓养筋活血利肢节滋肝阴充胃液之功效对于淤血黄疸腰腿酸痛和风湿性关节炎等有一定的食疗效果'], ['每次去过超市把冰箱塞满后都有种强大的安全感'], ['播种时期根据所需开花期而定如为冷温室冬季开花可在晚春播种；'], ['总结一句真他妈的又蠢又懒无晒脾气'], ['期：巴黎爆炸前恐怖分子如何利用科技产品沟通居然可能是'], ['烦死那种说话办事儿来回来去拉抽屉的人了就你的时间是时间你的事儿是事儿别人管他们去死是不是'], ['我的心情日记不会考虑要二胎一个都足以要了我的命今天又从楼梯上摔下去眼皮磕破一个一厘米的口子直淌血脸上脖子上还有蹭伤真是要把我吓死昨晚不停翻来覆去翻来覆去我几乎没怎么睡着熬死了不说还天天受惊吓恨不得死了算了唉宝贝赶紧好吧别让妈妈这么担惊受怕的了'], ['今天有个人告诉我遍说领导说什么就是什么那么问题来了明知领导错了我对了我还要对事负责请告诉我凭什么因为我不是领导吗'], ['曾经我们是彼此世界里的主角后来我模仿你的样子爱我自己如果遇不到徐太宇学着他做别人生活中的徐太宇'], ['新的一天希望一切都变好了早安'], ['折腾到现在可算是到了饿坏了附近既然既然没什么餐厅'], ['久违的刷了一下原来要放小黄图只要封面图正经就可以啊（顿悟）最近好像很多咸湿的样子管的这么松吗'], ['宿州下过来的雪好开心宿州真是个好地方'], ['最难过的莫过于当你遇上一个特别的人却不能相伴白头'], ['昨晚很想打人冲动居然做梦也在看电视剧剧情演的什么跟什么呀'], ['关于雪天行车安全那些事：雪天开车六大技巧你那里下雪了吗你知道雪天出行的注意事项吗雪天开车要注意哪些才安全↓↓↓不论新手老手都戳图看看有备无患'], ['也许事情并没有想象的那么糟如果躲不掉那就欣然接受（屁话不接受也没办法）'], ['很久木有相亲但相亲的后遗症还是大大存在'], ['酒城乐园旁边的叙永羊肉串真的好好吃好好吃'], ['学生通过课堂学习不仅要掌握知识更要发展运用知识的技能'], ['年：微处理器在微处理器发展初期具有革新意义的芯片非莫属了'], ['我讨厌你讨厌你你可以怎么狠心可是我为什么做不到'], ['你这么娇贵的身体就这么突然变道不怕受伤吗'], ['建筑外形呈金字塔状形同山峰为模仿高山气候装配了先进的温度湿度光照和气流控制系统'], ['儿子说我画的恐龙不好看我用心啦'], ['上四味以水六升煮取二升分再服'], ['又是活久见系列一言难尽结论是做我这一行自我修养方面首先要学会不急不躁静气凝神不然先被己方当事人气个倒仰真是得不偿失很生气很生气很生气祝你们这些人以后还会被人骗签合同都被违约做生意关门大吉遇事没人帮你做人就这副德行更何谈做生意垃圾'], ['五承担推进住房制度改革的责任'], ['最近心情差看什么做什么都不顺'], ['总觉得不可能在双休日有毅力地板绘于是还是在纸上提了好前给自己来了个生贺'], ['我我我我受到了惊吓惊恐惊恐惊恐黄景瑜许魏洲上瘾两对已经在韩国火成这样吗拍照的时候还被认成粉丝发零食眼泪许魏洲黄景瑜秒拍视频'], ['分享图片我所在的小区位于浦东新区康桥镇锦绣路和浦三路之间的康花新村开学初孩子体检普遍血铅浓度超标严重的甚至到毫克以上大多数的孩子都是大于大多数在严重的有一些达到以上有一些还仅仅是怀里的婴儿环境污染已经到危险到我们的孩子了'], ['年相约维也纳——奥地利中国艺术节将继续在奥地利首都维也纳及周边城市举办'], ['好大风啊我的板栗都被吹走了'], ['宝宝有四十天了感觉有你的陪伴自己再也不孤单了充满了能量谢谢你'], ['吴俊德先生总裁中国吴俊德先生在台湾和中国大陆市场均具有年以上的团队领导和高层管理经验一直主要担任高级行政工作'], ['高速公路雾区交通安全保障技术可供从事道路设计交通工程设计交通管理等人员使用也可作为相关研究教学人员参考'], ['上班第二天觉得哪儿哪儿都疼人不锻炼就是费啊休养两个月结果才长斤悲催的我继续奋斗去坚持加油'], ['全忘了全忘了全忘了复习的好好的就半个月没看全忘了啊啊啊想哭啊啊啊啊'], ['城镇广场来到欢迎中心的城镇广场一个大型的中央显示屏上展现的是卢萨卡城市模型'], ['祝大天使生日快乐生日蛋糕生日蛋糕生日蛋糕生日蛋糕喜欢你的笑容喜欢你的温柔稳重感谢让我喜欢上了你'], ['淋了一晚上雨还穿着高跟鞋来回宿舍和水房两趟'], ['嘿朝着想去的地方去吧成为你想成为的她'], ['睡前看一眼妞妞和端午嗯然后再瞅一眼床头的小萨幸福感爆棚'], ['人之耳目喜新厌故天下之同情也'], ['香香的甜甜的'], ['受到了侮辱受到了鄙视发誓就凭着这五门看看他老子咋接轻轻松松过四百当然我在的目标不止如此还有更好骂脏话纯属发泄我要让您们刮目相看'], ['这是一方面这是必须注意的一方面'], ['理想跟实际的距离实在太远不忍直视'], ['我是个活在自己世界里的人不喜纷争也无需理解任何事自己开心就好做着自己喜欢的事生活很好'], ['结婚才可以上床长大了胸就会变大'], ['终于吃饺子没嚼整个吞的现在我胃在抗议给它的食物太大了它好难受'], ['我是真的看不到我身边的这个漂亮小姑娘徐晨诗'], ['淅淅沥沥沥沥淅淅也许长大了胆子就变得小了想的也愈发多了内心时常感到惶恐不安风吹草动兵荒马乱心不够沉静志不够坚强繁花似锦稍纵即逝'], ['伪装者播完快半个月了才来掉坑本来只是想下饭随便看看的太好看了山影快多拍些谍战片我就爱看这个题材的大写的'], ['此外还有剔黑剔黄剔绿等均属于雕漆范畴只是所涂颜色和表现方法有所不同'], ['按照权限审批核准备案或审核转报固定资产投资项目'], ['这一大袋吐司就把一天的热量都吃完了还没包括之前吃的各种'], ['这个蜡烛即使是停电了也有很多人不敢用这瓶装着恐怖脑仁的蜡烛液像不像科学怪人实验室里面的试验品有兴趣的朋友买个回去摆摆晚上看着看着也挺吓人的'], ['我恨死优酷了啊我是脑残啊'], ['说到底最可怕的是人心跟你朝夕相处的人其实你并不清楚他到底在想什么当你知道真相的时候你会觉得太恐怖了'], ['头好晕啊怎么回事是暖气太热了还是我病了'], ['早上好源哥今天也心情愉快好运满分哦'], ['群处守嘴独处守心修己以清心为要涉世以慎言为先'], ['感冒发烧刚吃了药又被麻麻吼着躺到床上昏昏沉沉的一遍一遍刷着微博一切都提不起劲'], ['今天英语课翻了空间以前的相册看到了以前高中照的照片看得我想流泪'], ['其实毛子也可以想办法打两架火鸡下来看看火鸡敢不敢空袭毛子在叙利亚的基地'], ['到现在我也想不明白为什么让她去我差哪呀怎么就不能是我呢我这么优秀不选我真是眼光有问题'], ['怎么又来不及啦真是讨厌这种感觉'], ['默默的诅咒某个人明天崴脚让你嘚瑟'], ['新家好赞梦寐已久的阳台并且宝宝们已经知道要在阳台上上厕所了'], ['这也太让人赞叹的不知道说什么好了'], ['谁再心术不正的不要脸想丢腚地肆意干涉我的私人生活譬如婚配方面我一句话概括我的态度草你祖宗十八代我三个字概括我的心情滚犊子'], ['国庆说走就走前几天看的釜山行在检票的时候人拥簇挤不知怎么的心跳的很快还老是想到影片的那个车站场景心有余悸晕晕晕快开车吧祈祷祈祷祈祷'], ['梦见你已收拾好所有的东西就要走了'], ['天天堵天天堵早也堵晚也堵胡乱变道超车导致短短米要开分钟到底有没有人管呀不知道的还以为在市区呢姐们儿这只是在沈杜公路啊'], ['弟子有张寿臣常连安等余人'], ['\\ufeff我真的了岁开始在长沙学习经历联考高考；在长沙读大学硕士；工作在长沙慢慢开始我们的生活忽然站在某处想想这个城市见证我的大好青春年华和青葱岁月心情心情心情'], ['几分钟以前灯突然发出异响不知道哪又地震了'], ['心彻底死去俗话说的好：江山易改本性难移对自己说不要再自欺欺人了不要再犯贱了他根本就是个人渣没有结果的爱情注定痛苦早死早超生'], ['对于恢复期的日子真的有种生不如死的状态超级难受一夜没睡天亮了'], ['卧槽深夜被室友呼噜声折磨的不行这可是女寝啊想掐死他'], ['璇璇的姐姐想掐死你从点到现在压根睡不着了'], ['现在的学妹都是脸盲吗看见我瞎喊什么吴彦祖没事别乱叫'], ['庄子说：吾生也有涯而知也无涯以有涯随无涯殆已胡适是：怕什么真理无穷进一寸有一寸的欢喜咱是常做无聊之事以遣有涯之生这就是人与人的差距'], ['年石祇为其部将刘显所杀'], ['疲惫却无法入睡生物钟一乱这两周以来已经沦落到要靠来拯救失眠了'], ['我妈一直接受不了我变胖的事实她就各种明示暗示和鄙视的让我减肥妈～你以为我不想减肥吗'], ['最近天天下雨真的是要被这雨下疯了'], ['如隐士夜鸫长厘米是加拿大和美国针叶林中著名的歌鸟'], ['过高的温度和湿度将导致控制系统元件寿命降低并导致故障增多'], ['这段时间每天上班分不清周末和工作日分不清白天晚上现在我只想有一个可以睡懒觉的早晨'], ['其儿子西萨在马罗克尔经营饭馆在第一次与佩琳相见时有那么一瞬间她感觉见过佩琳'], ['秀逗了一串钥匙就这样在门上过了一夜'], ['关我什么事烦躁说好的早点可以下班的呢'], ['快傻屌饭来了马上就不好吃了刚刚饿的肚子咕咕叫现在看到这么一大碗还是震惊了'], ['全宅有个天井大小房间间一百三十六根木柱大小门窗六十个'], ['官博君你咋还不出来我等小胡等得好辛苦'], ['晚上要求加班早上要求提前上班草泥马这什么公司'], ['没有人可以预测明天所以只能把握今天时间如手中沙越想把它握抓住就流得越快但时间同时也是海绵里的水只要挤就会有关键是看人们怎么把握这个度怎么看待它可以的话要适时的放开适合的合拢两个人的爱情就这样边放边开当中获得情趣珍惜在一起的每分每秒这样的爱情相揩白首了'], ['库里克罗位于马里首都巴马科以东是尼日尔河畔的铁路终点城市'], ['睡觉还在叫麻麻～每天都闹得不要不要的但听话却很腻害'], ['怎么说挺遗憾的喜欢你像坐滑梯似的一下就滑下去了结束了我坐在最底层想了想还是觉得难以回去至少懒得原路返回也懒得绕一圈重新开始起身拍了拍一屁股灰尘又晃晃悠悠笑着向人潮走去了岁月也不算冗长你我都善良我见到你的时候也还是会笑的'], ['说是男神会赞真的吗邓超邓超邓超邓超邓超'], ['居然木有胖次买回家妈咪会不会揍我'], ['听说有地方下雪了类似于梅宗主体寒之人要多注意防寒保暖照顾好自己'], ['这些投资者可能没有意识到通货膨胀的长期影响可能会远远超过短期内股票的涨跌'], ['找个自己喜欢的可真难敢不敢快点出现那个能让我好喜欢好喜欢喜欢他胜过爱自己的'], ['草泥马楼管傻逼傻逼傻逼傻逼傻逼傻逼'], ['真的要被他气死一条一条都给他列好了根本不看张着嘴巴就来问解释清楚了就在电话那边好就这就这就这就这就这就这然后挂了'], ['义卖终于完美拉下帷幕虽然很累但能帮到有需要的人再累也值得'], ['路易斯·派拉（）：—年曾任职法国国立航空学院校长'], ['桃李喜欢一下雪北京就成了北平（故宫博物院）'], ['有时候我想千山万水指天涯去总有一地容身却渐渐发现自己的心：就好像浩瀚宇宙中飘荡着的一颗孤独星体看似与任何星系都没有联系；却一刻不停地在围绕着你旋转着'], ['其中博士和在读博士人硕士人'], ['李亚玲你真是爆了果然能跟叶璇做朋友的素质真是好不到哪里去小人得志的嘴脸就不要显摆了还理直气壮的要求道歉真是日了狗了'], ['酚噻嗪类和丁酰苯类可能降低左旋多巴的疗效'], ['香港那些不承认是中国人的人公然举横幅的国家应该给些惩罚了容忍不下去了毛病都是惯出来的不应该再纵容下去了'], ['答辩过了感觉心里的石头一下子就放下了不过接下来还有操舞的考试体育的补考哎能不能让我轻松点呀'], ['暗器和飞标是他们拿手好戏夜色沉沉是他们行动的好时候'], ['还是自己去哭会儿吧汪汪'], ['每次吃维生素咀嚼片的时候我的内心真的就是崩溃的难吃到哭'], ['馬币我睡觉的时候能不能请你不要咬我的脚或者拽我被子我正在梦见我的白马王子你特码舔我脚是什么意思'], ['含氟油属于绝对安全的食品级润滑剂美国国家科学基金会（）和美国农业部（）的级别为也有符合欧盟环保认证的检测报告'], ['道光五年考取副优贡补弟子员'], ['拜托你们在升旗广场办活动不要大白天就那么吵行不行让不让人好好睡个午觉深圳信息学院学生会'], ['带丫蛋儿来棋友会下棋和一个小朋友对了一局另一个小朋友记录完了边复盘叶老师边讲解俺看了一会丫蛋儿居然都记得每一手棋'], ['美好的一天从早上吃一个鸡蛋开始～'], ['记得在老家养的狗多被村里熟人偷的低头不见抬头见算了'], ['审个营运证搞了快五个月了还沒结果'], ['土豪哥理由很简单最近觉得土好难吃'], ['卖冰激凌的老外大叔真口耐妹纸被逗的乐呵呵'], ['谢谢小伙伴们的礼物拿回家表示手很酸'], ['不害怕远离而慢慢失去联系只担心生活在一起还不理解的内心人与人之间有太多的磨合如果彼此了解后还不能接受只能各自安好明天你好工作了才发现什么事情都能解决但人与人之间的事情只能知而不语话不能太多会伤人话不能太真会伤心好吧少说话说假话'], ['总嚷着要找个对象却从不主动勾搭；没喜欢的人也懒得接受别人的追求倒也不是那么宁缺毋滥却还是不肯委屈将就有时感觉单身挺好的；又常常羡慕别人成双入对这才是很多人单身的日常吧整日在慵懒和纠结中徘徊日子就这样耗着'], ['我们各自编着莫须有的故事好像真的一样什么有多爱啊有多恨啊什么生死离别啊什么撕心裂肺啊幼稚安稳的挺好的还有就是我好想你'], ['大早晨起来开批斗大会也是够了让我整天都不好了'], ['今天又满血复活了嗯人总是一瞬间就会明白很多道理'], ['我能说我这辈子都不想干商业了么事多是其一人员整体素质偏低是其二'], ['几年前看到咩咩演的新洛神里的曹植真的特别爱他几年前不知道微博是什么只能有时间进进百度才能知道他在干嘛现在有了微博只希望每天刷微博的时候能看见他在干嘛真的已经心满意足了真的期待见到他也许命中注定他是我的挚爱男神'], ['看到他们想到了以前自己读书的时候'], ['越要早起越睡不着这尼玛咋回事'], ['如果可以的话我希望我是个善良的姑娘一直善良下去'], ['由于汉字和毛笔的特殊性产生了中国书法特有的艺术形式和笔法体系并在此基础上表现书家的精神世界和审美意味'], ['年月日金利玛萨全国区域代理大会在汕召开我机构做为东道主参与协助工作'], ['收假钱了郁闷鄙视鄙视赚钱这么不容易缺德'], ['其实每年都会看见雪❄️但是下雪那天还是会哇哇下雪啦正在下还在下好大啊啊啊啊好美好好玩说了那么多为什么还不下雪希望不要降温却可以下雪嘿嘿'], ['每次想要为你唱首歌但是我只会'], ['年月日的夜晚就像一场不堪回首的恶梦但是捱过所有痛苦后换来的喜悦让经历的这一切都变得无关紧要因为你的来到我们的爱'], ['粟裕从常德逃到武昌响应党的号召奋勇投身工农革命武装斗争'], ['第四季好恐怖惊恐'], ['为什么每天这个时候都好饿这是为什么为什么'], ['不敢往下看了难受得干脆看个结局得了免得破坏心里的美好'], ['昨天刚考完科一拿回身份证晚上就看到领导在群里通知周二上班的时候带上身份证行李外出培训天也是真巧可是临出发前能不能让我见到一个双十一的快递呀'], ['遇到过的双十一最牛的店家退了款东西还照样寄了过来受到惊吓了呢'], ['真想一巴掌乎死在教室吃东西的人'], ['要努力地实现着第二个目标这是一直都是我心里的秘密～'], ['看一章小说就要刷一会儿微博太吓人了害怕害怕害怕'], ['秋雨一直不停几天没上去露台了地砖缝隙里都开始长草了'], ['鱼肉（好淡好小）＋山药排骨瓦罐汤强烈要求更换打饭阿姨这是逼我以后打毛钱的'], ['车导在清迈契迪龙寺车导搞什么鬼啊美男没拍完又去拍别的剧根据你几个月前曾经发过另一个寺庙图片推断车车新剧跟寺庙有关莫不是寺庙里的基情戏'], ['讨厌这个老师到骨子里了感觉能看到她的地方全部都是地狱'], ['装修真是最累的事情了交代这个那个结果都给我忘记做总说看有没有什么办法弥补能不能专业些之前就做好'], ['天哪噜有个老爷爷在公交车上拿听电子书婚后试爱：检查官老婆瞎了我的狗眼睛'], ['上一秒还在吃馄饨下一秒就睡着了你也太奇葩了'], ['大家千万不要来湖边商贸学院上学变态的大半夜居然还有男领导进女生宿舍检查来了也没有看什么就是说说什么你们寝室布局不好之类的话寝室又不是我们造的我很怀疑到底是何居心'], ['看过一句话没有到不了的明天有没有给予你做一件正确的事时面对万难的勇气呢'], ['奇葩蛋糕天哪这货竟然是蛋糕'], ['想要荷尔拜因固彩打完折还要九八零哎'], ['早上没有课去机房弄思修考试取最高五次的平均值好吧我只有分这门课的平均分都有'], ['妈呀现在这计算软件真是越来越高端了这都可以直接解'], ['睡前我把客厅门关好好的一会儿出来发现门是开着'], ['带你帅气可爱的允浩欧巴来给你庆生啦还有家属先生哦快看他在给你做蛋糕哦'], ['好想就这么睡睡到一觉不醒感觉好累好累好累好累好累好累好累快撑不住了'], ['小朋友今天笑的根本停不下来把她妈和外婆逗的直接笑到肚子痛'], ['老哔哔什么玩意儿瞪眼睛显你眼睛大吖'], ['最近好忙啊都忘了写微博了╭°°╮宝贝生日下午消失了一段时间提前定好了主题房用花瓣蜡烛简单装饰了一下准备了蛋糕和礼物不过她都差不多猜到了'], ['偶然间看到同学传的婚纱照天哪这两个人怎么在一起了'], ['不要用多余的借口扣更多的钱不用一个往一个客服推脱联通'], ['手机自动恢复出厂设置真是日了狗了'], ['痛风松针煎煮后捞出叶子将痛风发病部位浸泡在度左右的汤液中'], ['学会做提拉米苏慢慢学会他想吃的菜视唱练耳哗哗往前跑钢琴课疯了一样但很爽已经独自生活了个月我很好并且越来越好'], ['真是醉了开题报告都这样正是写论文还不得疯了堵的慌'], ['看哪个视频后恶心了天还有阴隐靠'], ['国光表示这样的安排是教练的意图并告知众人鲶鱼效应'], ['三哥开挂不是稀松平常的事情麽有什么大惊小怪的'], ['吃了一碗饭之后想拉屎拉屎的过程中被自己臭的吐了想想也真是恶心恶心的没谁了'], ['超级好看你们俩谁才是'], ['我他妈在他心里到底算啥需要的时候拉过来不需要的时候推出去我咋那么贱呢'], ['深刻感受到做一篇文献阅读好难想哭'], ['不是告诉我刷上了吗五个人一起骗我宝宝不开心'], ['每次它病我都是最倒霉的不光要我照顾等他快好了我还会被传染'], ['等我找着那个现在还不知道姓名长相家住何方的老公一定抽他两耳光老娘为了给你生娃现在疼死了'], ['突如其来的恐慌让我觉着好可怕'], ['每天都在进步哪怕只有一点点那也是离理想更近了晚安'], ['已经是第二天输液了头还是疼的要死要靠吃止疼片和睡觉来度日输完液各种想吐头晕反应'], ['没有跟你有过一张合照没有跟你手牵手逛过街没有跟你抱抱过没有将你的气味留在心里没有跟你好好的谈天说地为什么你就将我丢下你过得好么'], ['迄今世界上年代最早的炒钢冶金技术我国在西汉早期就已发明和广泛应用了'], ['土澳剥夺了我逛街的乐趣～苦实在是太苦了'], ['汉书·西域传已有以绳索相引而度悬绳而渡笮的记载'], ['我忍住了要对你越来越高冷不会再被你牵着走'], ['没有无缘无故的恨也没有没无缘无故的爱我就不明白好端端的我啥也没干为啥又胖了钱都哪去了'], ['我不知道自己到底在执着什么但我知道我一直在为难自己'], ['世界上最可悲的事情莫过于心怀大志却又光阴虚度'], ['简直要被气死了已经出现超多次这样的事情我明明已经打到关为什么每次恢复数据都要往下退两关你自己看直接恢复到了关气死我了你要不要好好管管你的游戏要不然帮我恢复气死宝宝了真的超多次了向客服反应回复我会解决的解决到现在也没用开心消消乐开心消消乐'], ['早上好新的一天继续努力在各方面都会越来越好的'], ['今天收拾我的衣柜天啊好多衣服'], ['昨天大晚上的任小钗非要看鬼片我说你看完准害怕她不听只得由着她了看了不到三分之一就吓得不行了到了睡觉的时间也不敢睡好不容易睡着了还接连做噩梦半夜听她哭了抱了她一会五点来钟又做噩梦哭得厉害把她叫醒她说她把手吃了我问她谁的手她说不知道我说哎呀我手呢'], ['哪里都不是想躲的地方只想逃的远远的好累啊明天起改变心态到底老天会带给我多少磨难我都一一定接住'], ['身为主管如果你了解了员工的本性也就知道如何有效激励他们'], ['微不足道的争吵有时会发展成一场战争这是丁卡人人生活的写照'], ['早岁啦不能再过得不三不四啦祝自己生蛋快乐不知道麻麻会不会高兴听说自己生了个蛋'], ['原来我身边一直都潜伏着一个四叶草我今天才发现'], ['睡什么睡去收拾收拾呀快去呀每次拖鞋咬到这儿一会儿咬到哪儿快去收拾呀快去呀'], ['点半终究还是喂奶了也不错啦'], ['看一场电影谈一场恋爱你好少女'], ['为了让钓鱼台的生意能照常经营林永峰决心把这些怪物捞掉'], ['精美的外包装设计尽显传统文化品味艺达家纺让完美的艺术品走入寻常百姓家'], ['哎苦逼学生党真辛苦起早贪黑每晚作业写到十二点早上六点半起床到了高中还要晚自习周末只放一天假'], ['其实这样的疼不算什么忍忍就过去了对嘛'], ['我蒙辣么棒永远的萌主生日快乐哈'], ['每次两个人晚上聊天发最后一条消息的人一定很爱对方因为他一定要等屏幕另一面的她放下手机后才会放下手机'], ['恐怖片惊魂符號林宥嘉洗脑怨妇级单身狗哭诉局符號饮料试毒会美国·华盛顿'], ['我深深地明白如果走不出来我就没办法正常工作学习和生活心里的碎碎念光怪陆离的梦像无尽的深渊将我瞬间吞噬不得一点反抗来不及呼喊来不及流泪躲不开逃不掉'], ['在我国城市土地矿藏水流山岭草地荒地滩涂等自然资源属于国家所有'], ['自卑深深的自卑今天看书里面又有皮包骨的怪老头在碰到一个皮包骨的中年男老是会想起新闻里厌食症的图片我觉得他们都很吓人吓得我喝完咖啡睡不着又自己闷了二两白感觉一周没锻炼浑身又静止了特别怕特别怕自己瘦成的不成人样麻辣比为什么我不能长肉我是真的怕瘦'], ['过了一次就是少一次你们稳定的站着我往前冲就好了'], ['典器掌樽彝器皿典执掌扇伞灯烛'], ['昨天断断续续收到你们的祝福今天早上醒来看到昨天晚上睡了之后发来的消息特地和我说的人儿啊我爱你们感谢你们一直和我一起走着人生的路辣莫'], ['今天例会评选年金牛奖竟然没有评到我伤心了我好几个小时ππ都是靠人际关系来评选的累觉不爱了呜呜'], ['根多数成束多少纺锺形而细长长达厘米有须状细根发出；'], ['方便面由于具有方便省时经济的特点已成为广大消费者理想的快餐食品'], ['一边洗澡一边还有蚊子咬我真是醉了'], ['菾á菾菜áà即甜菜'], ['劳动保障行政部门和劳动保障监察员违法行使职权侵犯用人单位或者劳动者的合法权益并造成损害的依法承担赔偿责任'], ['失望是一天天积累的离开是很长的决定'], ['把荜芨鲤鱼葱姜放入烧开移文火上炖熬约分钟加入香菜料酒味精醋即成'], ['这男的禽兽啊卧次奥这女的脑残还是智障傻逼嘛难道生活里就只剩下这些了吗不能干点正事儿嘛幼女幼女幼女哎尼特么也真下得去手啊女性在一定成程度上仍然属于弱势群体本该被保护的这些人也不想想难道你们都是从石头里爬出来的⚡'], ['三天两头的要出个远门也不懂自己在干哈好像忙的不得鸟的样子明天去杭州礼拜六去上海米尼玛尼哄这种天得乖乖在家睡觉啊'], ['鼻子快塌到脸上了如果不是福气鼻直接隆了'], ['他的篆书大小参差渊雅朴茂在当时是一种创造'], ['就算我心情在不好我也不会不理你'], ['渣浪这是干啥哟凡凡更博了都不显示啦讨厌死啦上微博就是为了看吴亦凡干嘛把我凡凡屏蔽了'], ['我的天哪我们的教育是该好好反思了'], ['当你知道有人伤害了你但碍于情面相见时还必须客气的问好可心里却奔过一万只草泥马吧唉多么痛的领悟成长就是这么残酷'], ['越畏惧越心慌你只有勇往直前'], ['最近这几天开启忙碌状态我需要做个个大视频个啥都不会的实验报告个零基础的科研项目'], ['选择了就要去承担当知道去哪儿时反对意见就会增多这不是孤独是选择'], ['买车的时候我爸说为什么不买奔驰宝马带女朋友回家的时候我爸说我们这礼金就是十万我说爸咱们这不都是两万多吗我爸说就是十万现在买房子我爸说平那个太小了那个差不多我想说的是爸你倒是给我钱啊你以为你儿子有多少钱真是坑死儿子不偿命'], ['淋的一塌糊涂我为什么要戴眼镜'], ['以前我曾抬头仰望着这感觉你上海是你让我执着的一直奋斗'], ['美的吆看了潘婷官方唯一潘婷很是激动'], ['为什么一感冒就连起床都没力气了'], ['想表达的太多却不想说晚安别想我'], ['妈的想起来我昨天晚上发了个梦梦到冠军秀名次掉到二位了'], ['总是有内种三脚踹不出一个屁的人你急得要死人家可以当做什么都没有发生一样'], ['我觉得客服真的不负责任啊肯定都没有传达我说的宝贝标题要改好生气啊'], ['烦得一笔要开始找房子了就不能住到过年嘛回来我也好找房子下个月下雪的去哪找'], ['该车采用传统的前后两排＋的座椅布局后部行李箱容积为将第二排座椅放倒后则后部储物空间可增加到'], ['你妹拖了一个星期工资好似仲若无其事'], ['不急不急我们还有时间考完试再说吧'], ['整理下房间有种想死的心以后再买买买的时候得时刻提醒自己放不下放不下放不下放不下啊啊啊啊啊'], ['廪生出身年参刘坤一塑像加湘军楚勇与太平军作战'], ['宣统元年（年）崇本堂石印本'], ['大学分组一跃而成所有分组中人最多的'], ['今天很开心很开心很开心好久没有这么强烈的满足感幸福感了千万不要乐极生悲感觉准时毕业是妥妥的了'], ['战略预算代表了绩效管理的最高境界'], ['真的是够了就没一件好事降临在我身上'], ['今天上海下雨☔到了两个纸箱昨天没送的圆通今天还是没给我送小婊砸双十一第一单十月十三号就买了的到现在都不给我送'], ['勒个去鬼脸溜达了二个多小时回来地板还是湿答答的失望也不像是南风天呀'], ['为什么眼泪瞬间就掉了下来心还会疼可更多的是害怕和恐惧'], ['好心情都没有了我真的想去看电器啊郁闷'], ['在创刊号上提出了打倒军阀打倒贪官污吏的口号'], ['下课居然还要带我去市区吃大排档姐姐穿着凉鞋单衣都不好意思说我冷一路上用着导航还告诉我开过一次的路不会忘然后嘞回来的路上你给我开到高速公路上去了我慌了你指着很远的地方亮着的一块红牌子说那里写着浙师大几个字你以为姐姐外地来的么欺负姐姐读书少不识字吗'], ['你就像黑夜；拥有寂静与群星你的沉默就是星星的沉默遥远而明亮我喜欢你的仿佛你消失了一样遥远且哀伤仿佛你已经死了彼时一个字一个微笑已经足够：而我会觉得幸福：因那不是真的而觉得幸福'], ['生活坏到一定程度就会好起来因为它无法更坏许多事坚持坚持就过去'], ['能温和的吵完一场架应该是我最大的努力了'], ['一生病老十岁求支招儿如何治疗失眠再不睡觉就死了'], ['模型二叉树权证定价模型二叉树权证定价模型早在年就被提出现已经成为金融界最基本的权证定价方法之一'], ['有你的每一天都超级幸福好爱你我的宝贝儿子'], ['该地顿失建置州城百余年的优势继唐九子城后德州再次由盛而衰走向低谷'], ['脑残的点了一个不改点的确定结果折腾到现在～下手需三思期待恢复正常使用快见光明～'], ['危言耸听年的股灾洗劫了多少股民你看到这个场景了吗房价就算大面积回到年的水平真正遭遇打击的也就是今年进场的有钱人比股灾对股民的打击面小多了因为太惨害怕失败所以选择性忽略是个好主意相信美好成了恐惧驱赶下的一种信仰晚安'], ['天哪好难真的好难天上掉下一份工作给我吧顿时觉得自己一无是处'], ['银联在霓虹的占有率除了我们公司不能刷之外可能已经达到遍布各大商场的程度今天来了一群棒国人掏出一张卡来我一刷发现不能用仔细一看明明是写满棒国话的卡居然是银联卡'], ['以后坚决不用中通快递了到货天了还不发服务态度极差希望大家以后谨慎用'], ['每天晚上洗衣服的时候我都在思考：人为什么要洗衣服呢始终想不明白不说了两天前的衣服还没洗'], ['再坚持坚持两个月都可以看不到了'], ['看上个妹子然后想干件事就变得好难好难女孩的心思男孩你别猜猜来猜去也猜不出来'], ['真求人不如求己事情说一两次还无动于衷你就该给我腾地了'], ['又看见了那只蟑螂光着脚在地上刚准备打它嗖嗖地跑吓得我蹦回床上结果它跑床下去了这两天感觉哪里都可能藏着蟑螂真可怕眼泪眼泪重庆·重庆邮电大学'], ['肚子好痛脚发软呜呜～痛屎宝宝啦'], ['白天得干活晚上常做梦累死姐了'], ['锅锅快回来你不在家我吃不下睡不着的明早还要早起上班我还好饿不想起床弄东西吃不想睡觉'], ['每天晚上回来的时候都是最开心的一群人嘻嘻哈哈一天的辛苦全没了回来还可以继续奋斗会晚安～亲爱的研友们'], ['这么晚我要被气屎了我的耳机竟然坏了我的小心脏呐在我心里耳机可是胜过爪机的神'], ['最新消息：路透社报道美国现在认为俄罗斯战斗机是在叙利亚领空被击中爆炸的'], ['体个测居然被拍成了忍者神龟忍不了了'], ['今天把所有节目都看完了看到大屏幕上出现自己的照片忽然意识到即将要告别四年的舞台'], ['该说的小作文里都说了天快乐'], ['你知道吗：做人的原则太重要了各位吃货；减什么肥：有点原则行么'], ['难道吃完饭自己洗自己的碗筷你们就下定结论说我们这个家不像家听了我实在超不爽'], ['随后印度的注意力转移到一种被称为米格的方案'], ['南朝宋省高凉县（部分地）入安宁县'], ['我的小宝贝特别的乖吃饱了就睡了'], ['晚安明天东方医院希望一切都好'], ['快下班了家长才来找老师为什么和专业课老师谈那么久真是醉了现在还要等着不能下班'], ['尼玛又到这个点了好想明天能坐交通车'], ['曾获何梁何利基金科学与技术进步奖广东省第七届丁颖科技奖等科技奖励'], ['睡不着却觉得很困困还是睡不着是我想太多吗心情低落一点也不开心'], ['「外面下着雨犹如我心血在滴」大半夜睡不着发神经了哈哈'], ['我就是佩服韩国人创造美的决心这样的神器都能想到'], ['原来我要穿越会是这个样子呀碰到的小萝莉好可爱'], ['哇靠这是我目前见到过的最牛逼的粉丝这是入魔了么我和我的小伙伴都惊呆了'], ['人生不如意十之八九没什么大不了的'], ['想写一篇确立一个新疾病：长语音恐惧征惊恐惊恐惊恐'], ['坐车多分钟等待多分钟面试不到分钟现在还要做车多分钟返回悲催'], ['觉得自己真的很幸运也很幸福～有一个这么信任我疼我的宝贝～～马上就可以天天在一起了～好开心'], ['虽然使王总感到很意外但也无法拒绝'], ['回到家啦哇哈哈今天塞车老豆和妈妈塞了两个钟头的车悲傷悲傷所以去左温老板屋企食左餐海鲜大餐哈哈鸡汤好好喝好多海鲜吃一回来就有海鲜吃好感动鬼脸鬼脸鬼脸鬼脸最后终于回到家和爸爸妈妈吃了个宵夜好久没吃卤水啦有种久违的感觉'], ['万恶的资本主义家就知道剥削劳动力太可恶了太可恶了太可恶啦气死我了'], ['知道生命仅剩的时候也许会觉得世上的一切都是风轻云淡无所畏惧抱着一切都是大不了大不了一死只有死亡真正接近的时候才会越害怕越不安越看清自己想要什么遗憾这个东西真可怕啊'], ['这一幕想起来壁花少年的结尾有的人步入岁就忘了自己岁的样子青春终将是故事但至少现在这些是正在发生的我正和我爱的人在一起听着那首歌我知道自己不再是一个悲伤的故事这一刻我发誓我们就是永恒防弹少年团花樣年華'], ['凭什么呀凭什么从轻发落这两口子应该判无期徒刑'], ['分享祖国制造的崇迪佛牌祖国的仿造技术均为天人可是佛牌背面的金纳班川经文居然能翻译成英文字母仔细看看可见的字母等等戴了这样的牌会有什么效果呢'], ['长辈的决定和身边的人哪个更重要是因为身边的人在心中根本不重要才会听长辈的话离开还是还是想不出还是什么可能真不是那个重要的人'], ['讲真我是第一次用全自动洗衣机以前要么是手洗要么用是半自动的真是省心省力爱上洗衣服无法自拔生活幸福感又了谢谢欧巴'], ['数死早可我不是傻我又不是来给做网页测试的'], ['周日好不容易能四点起床某人中午一回来就敲键盘起床时候还问了一句我是不是吵到你了；上自习手机公放歌；自己从来不买烟不给还说怎么这么小气；拿别人的东西从来不还；擦完鼻涕的纸往桌上随便一扔还得别人给你收拾；跟别人讲话的时候非要插进来逼歪就特么仗着是老乡越来越给脸不要脸'], ['神经病妈个鸡你以为是小学生啊还观后感呵'], ['回来上班第一天午睡就睡到下午点以至于现在还睡不着当然影响我睡眠的还有体重称上越来越大的数字'], ['也许现在厄内斯特．劳瑞恩正洋洋自得于她把他引诱进了那个矿山'], ['为什么今天会发这么多微博呢那就是因为有一件事耗尽了我所有的耐心那就是哈尔滨工业大学的校内网'], ['至年溧水建成全国最大黑莓基地种植面积发展到公顷被誉为中国黑莓之乡'], ['相隔千里她那木劳累你却无能为力是怎样的无奈和心疼'], ['我的右脸和我欧尼的左脸居然能完全拼起来'], ['分手三年的初恋要请我吃饭然后我答应了'], ['为什么支持恐怖分子还有没有良知'], ['小米出生至今第一次要离开他一天不负责他吃饭睡觉有点小担心和小米奶奶约定她不打电话给我我就不打给她她也让我放心小米也同意了今天跟奶奶看似很完美呀希望今天一切顺利吧希望这是一个好的开始吧真真真期待晚上的约会'], ['看完那段视频我已经心疼的没有言语来表达不知道你们有没有听到黎明那首歌结束的时候最后那一秒就是最后那里有一小小的哭着吐气的声音'], ['我就是缺心眼我也是醉了我要被我自己气死了'], ['这是冰淇淋哦像极了漂亮蛋糕的冰激凌'], ['这个规格到底是哪个傻缺设定的老子每次都要捧着用'], ['都已经穷到没钱开饭了为什么还想着买书呢而且刚买回来的书也没看完但是又好像买'], ['每当有人问我你觉得你这些年最大的改变是什么我的回答都是：我真的比以前更喜欢我自己了'], ['烦米日眼的一天背背背我想说一句我就是一学渣才会在你们公司上班'], ['风水上说床头跟有门的墙是同一面的话长期可导致神经衰弱这样睡了六七年可能是重大诱因噢但更早的时候已经有段时间睡觉时拿被子蒙头蒙下巴只露鼻子呼吸了再往前还有因为害怕产生的黑历史到底因为什么我这么没胆真想催个眠深度剖析一下居然想想也有点胆怯真他妈的'], ['其实我是生气的真的是生气的也是焦躁的也是想骂人的'], ['月六号考试号就去考察我压力也是好大'], ['感恩节感恩有你的一路陪伴容忍我的一切'], ['原始剪报（采用邮局寄信）的方式已经过时目前国内仍有少数报刊还是采用这种方式收稿'], ['今天是小丫头最闹腾的睡眠之夜没有之一作为一直以来雷打不动需要睡午觉的小孩来说今天跟我妈玩了不睡觉晚上洗澡后从八点开始躺床上哭闹了一个多小时才疲惫含泪睡去我今天真想把她踢到外星球去谁家熊孩子啊'], ['去取钱路遇那天厕所死变态钱都没取就回来了为什么要允许这样的渣渣继续在学校出现'], ['创业板指周三小幅反弹之后中阴杀跌小心谨慎'], ['你抽和终于露面啦两人现身美国加州马里布名人聚集地的餐厅太浪漫这是为了两人庆祝周年纪念的嘛瞧你抽一脸的呆萌样儿'], ['刚看完恐怖直播好看推荐з」∠晚安么么哒'], ['回到家里就立马回归自然了呢真可爱小外甥女看着他好像吃不下饭的样子就那么可怕吗'], ['一个晚修都在做试卷而且都是做完就要教就不能提早一两天发吗说什么晚修自由安排时间哪来的自由连续几个钟休息都没有时间本来就已经近视了烦死'], ['尼玛自动更新微博的羞耻度好高啊啊啊啊'], ['显然这种鼓励措施在实质上起不到太大的激励效果'], ['我的天我居然想不起昨晚做了什么'], ['还记得上次送的那个吗他们要把授权回收了'], ['～年胡枝子林胡枝子一次种植可利用年以上'], ['我的脸盲症又加重了这是一种基因突变遗传缺陷回家路上堵着一辆车一动不动司机路边打电话理也不理战战兢兢擦着他车边上开过去看到他前面撞了一辆电动车骂了声让你显摆活该你回到家才发现那人是我家对门女婿衰他可是天天来啊从他家里出来我认识他在任何地方看到我都不会认识他'], ['香港接机今日份的兔兔甜甜甜'], ['陪闺蜜选婚鞋她左看右看都不满意我是左看右看买了一堆'], ['宜家里头一女的穿着鞋就睡在床上玩手机无语她们不会觉得脏吗'], ['这个人上楼不换鞋还总是嫌弃我品味低没素质没头脑也是这个人连怀孕了都不晓得关心别人还吐槽我要求多哼狗日的看你的双下巴丑死了'], ['大难不死必有后福果然今天有福利了老婆帮我集齐了所有限定'], ['牙龈肿痛求解救东西也吃不了了痛得要死怎么睡啊'], ['哦想揍我妈我刚把菜搞完饭还在锅里煮她就催我去上课'], ['可在月中浇一次此后每隔半个月左右浇一次连续次见效'], ['休息一天比上班还累这一天可折腾死宝宝了'], ['再不出粮本宝宝脖子就要断鸟'], ['求帮忙人肉此人刚刚今天报警怕会比较难查我的生活费全被骗了'], ['试验法则是在管理决策中特别是新方法的采用新工艺的试验中所采用的一种选择方法可视为正式决策前的试验'], ['讨厌别人在学习的时候还有一个女疯子在自习室里开视频突然发现谈恋爱是对生命的严重浪费'], ['么么没见过这种人拿了人家的东西还不承认呸呸呸'], ['此时此刻我多么希望我的窗帘是隔音的'], ['舍得舍得有舍必有得忘记该忘记的放弃该放弃的改变能改变的接受不能改变的'], ['四年了我对这个学校的女生真的是忍够了从大一开始各种女生各种打水插队各种打饭插队我们按顺序排队的感觉都快变成了异类到现在班里同学都在学习一群人进来叽叽喳喳聊家常我特别想问问你们到底有没有素质我真的是为你们的未来感到担忧'], ['男性动物的本能驱使他们对未知的世界充满无限向往性感的女人对男人来讲好比撒哈拉沙漠也像世界上的未解之谜令人着迷充满憧憬总有人问我们性感到底是什么你们怎么定义这两个字起初我'], ['春天插秧时把禾花鱼苗放进稻田里不用喂饲料鱼儿在田里吃水草捉小虫子鱼屎是禾苗的天然有机肥鱼儿跟随禾苗一起长大'], ['卡通测爱情本性让我们看看你是这些卡通人物中的谁呢你拥有什么样的爱情和命运；（测试如图）'], ['其四则是共同成立演艺经纪公司和发展音像市场'], ['行动才是验证和见证语言的唯一标准不产生实际行动的语言叫花言巧语不付诸实践的计划和承诺叫瞎扯淡'], ['式太极拳也叫简化太极拳是国家体委（现为国家体育总局）于年组织太极拳专家汲取杨氏太极拳之精华编串而成的'], ['请问谁能告诉我粉丝群怎么也在主页里找不到了呢哪里去了'], ['想把手机关上一周过上没有网络没有电话的生活如果能那该有多好'], ['子不语夏达真的是个很温柔的女孩子呢'], ['我曾经以为看到自己的人不会太多需要不停的呐喊呐喊才能被记住原来只要对方有心你低着头站在黑暗里也会有人看见你'], ['有军事专家预测声波武器将成为未来战场上的超级无声杀手'], ['胖了也不愛自拍每次拍兩張就沒興趣了臉太圓悲傷悲傷悲傷翻了好久手機才找了這幾張每天都告訴自己要減肥每晚宵夜都安慰自己只吃了一點點😑😑😑😑'], ['宝贝的日常咋觉得迪迪就跟我女一样周末终于可以见到熊脸了'], ['在应县震撼于千年木塔的亲和与雄伟省道盘山公路满足我们对旅途的所有幻想和期待（就是悬崖上的公路太吓人惊恐）五台山下入住停下来一杯咖啡一个热水澡月亮给这小城描着银边我觉得整个人都胖了起来～忻州·繁峙县'], ['玛雅居然上了杨咩咩同学的精选受宠若惊啊'], ['产品自售出之日起日内发生性能故障消费者可以选择换货或修理'], ['碰到教学评估六点起床出发到学校各种忙下午又是各种听课'], ['祈祷一切平安顺利不要有任何意外发生老天我求求你了我只想简简单单就好一定要平安'], ['昨天丢了优盘丢了手机卡迷了路下错车好像一天把所有的坏运气都用上了但今天的心情却无比灿烂'], ['我背李马列实出门两分钟扔垃圾回来就烧了个美洲出来只有把浴巾翻出来盖了今晚上绝逼要冷死但愿明天还能看到太阳'], ['不想和你这样的人说话安慰你你却不说话你心情不好能怪我啊又不是我惹的你关我什么事'], ['某人吃个羊排美的不行结果一晚上没睡好觉还是被老公翻牌的好啊别人翻牌不行'], ['一棵枯树死死地站在古朴小镇的旁边它不想给人残败的印象可它又有什么办法呢直到有只蛹挂在枯树上枯树对它说：我已经没有了生机你不应该在这里变成蝶美好的你不应一出生就目睹残败只见蛹越挂越多我们要用美丽的翅膀来装点你的残败枯树流下了莫名的泪'], ['今晚通关了逃生人心最可怕一个人在宿舍有点不敢睡以后不能一个人玩恐怖游戏晚安'], ['要么好好按课本上要么提前给范围你丫的讲的都不是课本知识还他妈的不给范围学学社会科学老师好不好看同学们都不听课直接把期末试题加答案发给了我们你不知道姐姐我这学期重任大吗'], ['墓所：京都市的义教的首冢塔大阪市崇禅寺十念寺'], ['案例分析：海尔的企业再造海尔面对的挑战年的海尔已经实现了销售收入超亿元'], ['只有在面对你时跟你聊天时我的心里温柔的跟水一样看你说爱我心里的水碰一碰都会溢出来从开始到现在想起你嘴角的微笑一直都在晚安我爱你我爱你我爱你我爱你我爱你刘意我爱你想跟你说一百遍我爱你'], ['家里有两只孽障也是活生生的够了'], ['感觉这次又没法过了马上就毕业了好不容易顺利升大四了可不能毁在这还是继续逼自己学吧'], ['三年的真心竟抵不过一朝的理解不如形同陌路各自逍遥'], ['刚发现给家里买完大件信用卡忘了分期我是不是傻股市一片绿油油套套财务漫天红雪上加霜的日子跟武汉的冬天真配愁'], ['为什么消失的女的一出来就变样了'], ['据说这是中医治疗法超级恐怖胆小的千万不要打开吓死你不赔钱秒拍视频'], ['突然多了一下午了有点不习惯了不主动永远不会被想起'], ['同学画的很棒喜欢的可以私信他哈哈'], ['陆续收到双包裹是很开心但你知道最痛苦的事情是什么吗是买了一堆新衣服却要每天每天穿制服'], ['次奥下集绝对高能绝对高能绝对高能了但是还要再等天才能看到啊啊啊'], ['感激生命中那些艰难的岁月别把它们当成坏事而应当看成是学习成长的机会工作一天累成牛待落单眼泪不争气的流下来简直是涌出来莫名其妙'], ['赶在第一时间祝我家麒麒宝宝生日快乐'], ['二十岁家人爱人友人人生圆满'], ['本不想发任何状态可是最终还是没有忍住因为此刻的十一应该是最糟糕的是十一了吧我以为我会很好度过这八天可是这才刚开始我就忍不住啦一个人一间房从未有过的孤单从未有过的害怕莫名的恐慌唉太压抑泪泪泪'], ['期待在赛场上再次看到你的身影'], ['哈仕笨早睡觉的孩子只能吃这种拌面吃完有点作呕好累好困懇求慶祝❤慶祝'], ['解放战争时期任东北军区军工部驻辽东办事处政治委员沈阳兵工总厂厂长东北人民政府军工局副局长'], ['我会试着忘记你是因为我太爱你'], ['多少个这样的晚上辗转难眠我不会告诉你我是在想你在想你睡觉了没有睡觉的时候还有没有在踢被子腰疼不疼脚还有没有在痛啊亲爱的'], ['据我多年观察发现膀胱内神经感受器的传导回路应该与胃相通因为每到晚上饿意与尿意总是相伴而来'], ['这微博不准备用了新号你们肯定也不会知道滴哈哈哈'], ['从烟台到桃村高铁站和諧號人都没得车子就更不见踪影居然出口处大门都没人来开真是醉了估计桃村北站是我见过最牛最荒芜的和諧號没有之一'], ['公交车坐我旁边的妹子在看黑诶开心'], ['但硅铝不受还原环境的影响所以除机械淋溶外并无化学淋溶'], ['天冷了一群人聚在一起抽烟取暖'], ['着急着急着急着急着急下了近半个月的雨还下烦死人还让不让人洗衣服晒东西了'], ['柯伦泰小名叫舒拉她继承了母亲的反叛性格'], ['在这嘀嘀嗒嗒的雨声中我能做的就是想想你然后笑笑'], ['啧啧在最得意的项目上败的体无完肤心塞'], ['从防城港回来买不到直达萍乡的高铁没办法做的凌晨两点半到长沙的车兄弟们很给力从萍乡跑来长沙接我感动的同时心里有一番感慨我就是一平时性格平平的人不害怕阴影不畏惧未来有你们很好株洲·株洲县'], ['两个搞到现在还没弄好困炸了睡了'], ['知道真相的我眼泪都快出来了长得真丑'], ['每次看就像看恐怖片惊恐虽然我从不看恐怖片眼泪'], ['早上和中午在我睡觉时打电话扰我美梦的那个人最好赶快来找我认错轰炸机已经准备就绪我就是这么个暴脾气惹'], ['烦死了烦死了烦死了怎么又失眠了'], ['顺产到底有多痛真娘手贱点开看的都胆颤更坚定了得找个和自己思想相同的爱人那就是丁克'], ['我经常哭到最后全身发抖边走边哭边抖最后连我自己都分不清楚是太冷了还是太难过了我真的很想知道你现在怎么样难过么会想到我么我还在等你昨天看到你看到我僵硬了一下我的骄傲一下子都没了好想躲进地下我们以前那么相爱阿你没有想过和我继续下去了么从未想过离开你'], ['开个门都能把手机给摔了而且摔了次后这次竟然把屏给摔碎了我的屏保和桌面啊'], ['操心操肺换的又是什么赐予我一个事事不管高高挂起的性格吧有没有让我省点心的事情'], ['国际难民法规定难民进入哪个国家就自动成为这个国家的公民享受一切福利和权利除非自愿不得遣返这也是为什么即使这么多媒体疯狂诋毁川普而他支持率一直飙升的原因说的天花乱坠都没用老百姓最希望的是平安几千万非法移民的犯罪已经够可怕了未来一百多万穆就算有几十个搞恐怖也受不了啊'], ['相见暗夜里树停下脚步左右确认后突然唤出深藏的花朵得意地一一端详：它没发现；我等这刻已等了很久——陆苏小心轻放的光阴Ⅱ'], ['实质性测试通常采用抽样方式进行其抽样的规模需根据内部控制的评价和符合性测试的结果来确定'], ['最近吃吃喝喝太频繁了心好累秋膘贴的太厚了'], ['我又胖了我还是哭瞎自己好了这样胖也看不到自己胖明天开始绝食'], ['最近事情比较多搞得工作错漏好多啊'], ['这人情搭的我心不甘情不愿感觉自己像个傻比一样合着嘴里含口土不光得笑着咽下去还要谢谢喂我土的人我他妈下次再搞不清楚情况瞎感谢就罚我变成罐头被端午吃掉'], ['恨死他了居然抢我的黑暗之油心疼死我了那是人家存起来买英雄哒打又打不过'], ['论有一个发小好兄弟还当哥是有多暖'], ['你越喜欢一个人那个人就会越不喜欢你一直觉得这句话特别对因为喜欢她的时候自己就不像自己了'], ['刚刚在跟朋友吃饭一个月没见她瘦超级超级多'], ['两个人真正能在一起真的跟钱财没有太大关系钱多就多花少就少花两个人真的能在一起取决的绝对是性格方方面面兴趣相投真的很重要所处的环境跟思想层次一样重要'], ['这个女人我真的不是很能理解为什么早上起床无缘无故的生我气我还真奇了怪了的跟我说晚上做梦梦到我欺负她蒙她的眼睛明明就是豆丁压着你的眼睛睡觉莫为什么要我躺枪了想要俘获美丽的这个女人那你就必须要有一手好烹饪必须要有一手好烹饪必须要有一手好烹饪当然那个人就是我'], ['统计法也不例外不论任何人违反了都要追究法律责任'], ['好啦一定要开开心心过这个生日我们金欧巴ㅎㅎㅎ晚安'], ['放过回忆放过执念放过她也放过自己以后要变得更好可以还是因为她不能再为了她开始新的生活'], ['生日完美度过祝福全部都收到了～谢谢大家不再一一回复啦'], ['手机内存不足只好把微博卸载了又重新安装来来回回反反复复'], ['你总要迈出未知的一步才知道路是一步一步走出来的害怕恐惧都会让你止步不前是不是对不对总要试过才知道——睡觉睡觉明天才是假期开始泪泪泪'], ['艹真恶心真的是见过最差的快递了'], ['运筹学很有趣老师也呆萌呆萌的'], ['厂部坐落胜利路号生产厂区分布在胜利路迎祥弄彭家弄龙缸弄等地'], ['早上老公给儿子穿衣服儿子说我要妈妈给我穿还自言自语：妈妈给我洗澡妈妈给我讲故事妈妈跟我睡觉真是个好妈妈啊（迷迷糊糊睡梦中的我听得瞪大了眼睛）爸爸不跟我讲故事不给我洗澡不跟我睡觉不是好爸爸'], ['——孔丘宝剑锋从磨砺出梅花香自苦寒来'], ['热得睡不着怎么破难道要起来开空调'], ['真当自己是奶奶呢谁都得伺候着你傻了个叉的'], ['故障的洗衣机姐都能修好太厉害了有木有'], ['大半夜遇到异装癖怎么有点觉得他可怜呢'], ['工作加班应酬喝酒聚会围脖美剧韩剧生活就这样旋转今天路过书店就一头栽进去收获两大袋算不算走极端哎害羞害羞害羞'], ['好困好困啊红血丝少女战斗力๑´ㅂ๑'], ['这个世界上有百分之五十的烦恼都是通过好好睡一觉就能解决的至于剩下的一半就等睡醒再去想可是囡囡失眠了害臊害臊害臊'], ['一千万不容易你的努力我们都看在眼里烊烊真棒'], ['今天出门就感觉不对总觉得要发生什么事情果然卡丢了'], ['张步华校长向陶校长马校长的亲属代表敬赠铜像'], ['想烤鸡翅鸡中最好形状美丽好烤好啃烤时滴几滴柠檬汁欧'], ['一篇论文弄五遍了还不合格全体人员都不合格我只想知道这是不是说明了老师没有告诉明白呢'], ['吉格利奥蒂是一名阿根廷的足球运动员年月日在布宜诺斯艾利斯出生现在在图库曼竞技足球俱乐部效力位置前锋'], ['说到底最可怕的是人心跟你朝夕相处的人其实你并不清楚他到底在想什么当你知道真相的时候你会觉得太恐怖了白眼'], ['参加完婚礼回来后心情一直处于低落状态那晚三人的对话还言犹在耳感觉自己又走不出来了我想缩回自己的壳里想逃避可问题难道就能被我避开吗一晚上一天有些话不知道该怎么来表达'], ['失眠满脑子都是科目二倒库离合'], ['苛税猛于虎这句话是有道理的开一张不到的票缴税就花了自己辛苦付出的努力就贡献给税了真心痛'], ['园区简介福州动物园位于福州市晋安区新店镇健康村原八一苗圃内（邻福州国家森林公园）'], ['虽然不玩但是我为什么也看成了德玛西亚'], ['在医院的时候不停的在楼道跑还没有工资整日的抱怨现在在公司坐到屁股发麻也没啥事要做却抱怨着无聊死了人啊就是这么的不满足'], ['代理质量稳定的西屋等离子体火炬产品获取销售收益'], ['也是服了自己了午休时间喝个水整杯洒身上了一身衣服湿嗒嗒的虽说请假回家了奈何一堆数据没做完还得带着工作回家做'], ['用二两肉圆屁股玩感情和自尊激发太容易了你这畜生二桃子还杀三士呢'], ['扔到我家的刘晓是王宇红和陈吉宁或习的但是不是习的当年她跟那些男人说是他们的女儿想利用别人可是却反倒被别人装不知利用到了今天的位置一手遮天无恶不作演技是王李孟和我刘家都被这群狠毒的贱畜生烂婊子们伪造身份利用享尽一切利用完还残害'], ['隔三差五生病体质这么差也怪自己哎最近晚上闹腾睡到半夜老是要爬起来玩一阵好吧感冒了吧喉咙有痰吧流鼻涕吧一开始就吃药到今天没效果跑去医院血常规检查结果呢炎症厉害急性支气管炎得连续吊瓶好几天真是难过啊'], ['分众借壳审核通过公司账面已经赚了个亿恭喜我自己退出了第一个项目'], ['团购优势一对于没有多少时间的顾客或者一些要求比较高的顾客是有价格上的好处的（这类顾客在论坛上比较少）'], ['这个点早餐都没吃在叫小丑画画叫了半天都不愿给我画心累'], ['刚刚看了会儿娱乐新闻葡萄这个认人的本领也就来了看到林依晨叫姐姐女孩看到郭碧婷叫阿姨女人看到霍建华叫爸爸（我老公可没那么帅）看到杨宗纬竟然叫爷爷哈哈这是根据什么标准来的呢'], ['我记得很久很久很久以前去听信的演唱会的时候台上唱的是思念的极限台下牵的是你的手'], ['我去又一次在准备吃饭的时候发现没有煮饭然后又一次在高压锅煮一次不熟煮两次烧焦'], ['我离梦想最近的时候确是离你最远的时候最远的距离莫过于无法回头'], ['借钱滚傻逼跟你很熟平时没联系一联系就是借钱脑膜'], ['什么狗逼裁判哈'], ['试问我是吃了什么熊心豹子胆考研居然想报那么好的医学院'], ['讲座结束啦～大家有没有学到什么呢听说有人抽到了一整套马克'], ['在机取钱出来一张这样的我又把它存进去结果反复试了几遍怎么也存不进去尼玛你有本事出来咋没本事在进去呢'], ['田成方兼顾汉寿亭侯关云长的武艺武乡侯诸葛亮的智慧江东谋士鲁子敬的顾全大局锦帆贼甘宁的激情与豪气'], ['几个人有钥匙开不了门門被锁在门外冷'], ['感情就是吵架了也记得给你买饭的那个人只是你他妈今天活腻了啊'], ['太是给力了这节奏很是让人好奇呢'], ['色差较大的产品最好分开洗涤产品使用初期有轻微褐色属正常现象'], ['今天遇到一件头疼的事情有关部门要求我老伴是否就是我女儿的妈户口本已经换过几次了没有了原始资料而口说无凭这不难煞了我们吗而根据新的规定公安部门不再签发此类证明'], ['我站在路中间不知该何去何从'], ['祝媳妇儿大人生日快乐事事顺心顺利'], ['第一次遇到有人讨厌吃西红柿炒鸡蛋并且说我西红柿炒鸡蛋拌饭恶心那你怎么还吃了一块鸡蛋呢真是气死宝宝啦'], ['有时候在想难道是我表达不好以至于难以和人沟通还是别人在最开始的时候就设定我说得不对所以一方觉得你很强词夺理而我又觉得对方不能站在我的角度去理解可是我又觉得不甘心自己就这样把想法淹没本来蛮开心的分享结果大家都不开心了真是我太偏激还是他们不懂得先去理解对方'], ['我美吗这是在朋友车里拍的踹了他我还是可以笑的很美的'], ['区父决定回广州为自己的特嫌判决而申诉他要为阿静争取一个好出身'], ['一周没看工作邮件接个电话都战战兢兢这样的工作态度也难怪赚多少花多少了'], ['集起九张召唤神龙祝我生日快乐'], ['腹痛腰酸困倦就想窝在寝室不想动'], ['被破系统搞死了我要睡觉明天可不可以不上班'], ['画眼线眼线笔断了喝酸奶酸奶漏了很很草泥马啊'], ['特想把改成再收圆通就剁了双手'], ['为什么这么胖这么丑还特么这么穷'], ['林俊杰和自己对话人民币已经准备好了说吧啥时候预售'], ['美国政治家卡洛斯·古铁雷斯（é年月日古巴哈瓦那）美国政治家美国共和党成员年月日就任美国第任美国商务部部长'], ['半个月了终于回到了自己的窝现在累得只想睡觉堆了一堆事没有做但是天塌下来也先让我睡个觉吧'], ['天寒地冻的跑去吃碗桂林米粉走了好长的路才找到关键是不怎么好吃一般般啦有点失望不開心好想吃家里的螺蛳粉啊'], ['公考记事：距国考天嘛呀来不及啊来不及昨天听课欧阳的复习方法感觉有复血满满冲刺了加把油加把劲'], ['没见暖气有多暖和那个声音还大的不行吵死'], ['口语考试宝宝心里苦啊早知道多问一句'], ['每天用着你拿来的牙刷刷牙满满的爱早安'], ['讨厌的人也永远让人喜欢不起来'], ['续儿女英雄传第二回：庙前一座高台台前两根旗竿竿上扯起黄布长旗堪堪走近只见旗上现出斗大的黑字'], ['总有些事不能如愿却让你心心念念这也并不影响你向往所以知道归知道执着归执着'], ['我们的巨婴宝宝最喜欢喝巧克力奶昔一说话就会出现萌萌的小奶音在哥哥们面前比看起来更要单纯的有谦米偶尔犯犯中二病在舞台上的你霸气十足帅气的舞步舞台一直是你的梦想总有一天你会站在属于你的舞台上绽放你的光芒有谦呐'], ['一大早起来发现太阳悄悄地升起了这意味着湿了一个星期的衣服有希望了相信泥萌的心情也变得晴朗了一副汉院的水墨画送给泥早安'], ['本来就没几张结果都在干嘛'], ['路公交开到异时空去了吗姐姐都等了半个多小时了'], ['其实我真的知道我会大半夜拉肚子早上照镜子肯定是一个眼肿脸肿更别说要跑米可是真的谢谢大投一'], ['卧槽本来想发个朋友圈的有人跟我说话吓得我赶紧不发了假装睡着了可怕拜拜'], ['我没有想去伤害任何人只因为我是一个理想主义者我从未对过去的感情放弃过爱一个人就是要和她在一起不爱的人在一起也是对彼此的折磨我的想法就这么简单即使最后现实的残酷让我们各奔东西我也不会后悔因为我至少曾经努力过'], ['好久不给你写信了最近事情多星期五回去参加奶奶的出殡班长给他们排练节目学生会有事班级会议又得当主持又要上晚会唱歌还得晚会朗诵虽然忙但是很充实希望你每天都开心起来虽然见面会吵架但是我知道是你心里难过一个女孩子在学校里难免各种琐事我又不在你身边'], ['有时候觉得自己好迷惘想的太多做的太少缺少魄力承担不起失败更别谈成功'], ['童狗昨晚上点过给我打电话我们居然说了十分钟我一直以为我在梦里'], ['我快被恶心死了狗仔子们熊玩意儿你大爷的'], ['已经停水三天了头发已经四天没洗了这日子没法过了'], ['真是别人怎么弄怎么过分都不急眼一到我这全是火我为啥就得这么窝囊呢咳'], ['骗子装神真可耻我都不知道你是怎么做到的完全颠覆了我对正常人的印象我以为我很对不起你亏欠你想要挽回想要弥补想要珍惜没想到你才是个彻头彻尾的人渣七月就已经暧昧它人了还特么一直装到今天真是够累的你也真是够够的了没想到这种人让我给碰上了'], ['原来贴吧里没多少人用过图像输出啊'], ['七点就到了九点一刻才能进去卖个货也是这么难'], ['自从看了釜山行对坐火车就有一种莫名的恐惧感惊恐'], ['大风吹的走路都费劲你让我跑'], ['也是自己养了猫之后才清楚了解了狂犬病觉得一直太多制造恐慌令广大群众都有恐狂症而知识却没普及四年前发的微博今天有必要再翻出来一下希望大家能够好好地看看我感觉齐鲁晚报和南方周末之见相差了个报利用媒体的影响力不经科学求证人为制造恐慌太可怕了怒'], ['把我给气死了学校的女的果真贱的多'], ['转眼个月啦家里发生啦很大的变故姥姥的病复发啦麻麻决定带我回东北老家一起陪姥姥看病也好让姥姥放心安心的养病但是真的好舍不得粑粑啊之前一个星期见一次就想的要命现在居然要三个月甚至更久真的好舍不得'], ['大哥的音响效果果然不错今天嗨了'], ['看到你发说说知道你在的城市降温了好想说一句好好照顾自己多穿点衣服就这样一句话在评论框里出现又删除好几遍可最终还是没有勇气发出去'], ['换个可以玩游戏的电脑网瘾少女最近在游戏路上受到了挫折'], ['小区附近最近有一只流浪狗那种小土狗真的挺心疼下雨了它都没地方去想抱回家带它去宠物医院可是爸妈不让'], ['体检血压正常的人变成血压低愈合能力超强的人伤口愈合不好人已经从半残变成全残'], ['伴随穿衣服时右肩一声巨响和巨痛长达差不多五天的像骨头错位一样的痛消失鸟消失鸟'], ['真要疯了不是楼上的疯老头在那跑来跑去大声喊叫就是楼下装修楼上的老头你说你有病就去康乐晚上闹白天闹的楼下的你说你装了几个月了没完没了是吧装的是皇宫啊'], ['夜晚在收音机里陈年香的众人知道二妹子的情况但是众人却找不到二妹子'], ['的画笔是新功能吗之前没在意'], ['三旅游服务卡有效期自购票之日起截至年月日'], ['玫瑰说；不是所有的花都代表爱情钻石说不是所有的钻石都代表永恒'], ['越做越有信心卖相没有那么好看可是味道真的很不错'], ['医院是不是每到年底就开启查查查背背背靠靠靠模式啊'], ['今天是您的生日在远方的我又一次不能陪您度过不过您要开心啵天亮了给你个惊喜麻麻生日快乐'], ['不是说俺果像兔子就是像贵宾今天一个人说像绵羊还有个人说再喂下去就成牧羊犬了'], ['礼物收到手软这只是其中一部分还有好多好多吃哒玩儿哒'], ['常常遭家庭妇女和无赖老头老太气得发抖'], ['随遇而安但不随波逐流大概是我希望自己能遵守的一个准则'], ['本来几开心但系见到呢个'], ['在图书馆借到心里开心到不得了可是转身就在车上遇到个老不死的贱人'], ['如此累积的岁月让我越来越贪婪；如越来越沉沦直到今天我忽然发现原来曾经所有的感同都只不过是一种扭曲的追求；当我在电脑上敲出这段文字的时候：我才发现自己所有的伤感一直都是偷盗：欺骗'], ['今天受了很多刺激来自于偷影子的人和我的少女时代'], ['听着品冠的哄我入睡心底点点温暖嘴角不自觉上扬奢望变可能我要你抱着我安慰我哄我入睡要保护我做最单纯最快乐的人'], ['学练并举成竹在胸敢问逐鹿群雄今何在师生同志协力攻关；笑看燕赵魁首谁人得'], ['才看的颁奖礼视频获奖的片段选的好评一下子就起来了老张叫我宝的造型和真的好赞我被倩倩的肌肉吓到了'], ['：网络色码用来唯一识别相邻国家不同的'], ['你知道吗他们劝我跟你挑明不能成就再也不联系不要这么不明不白的但我知道只有我自己觉得是不明不白的吧挑明的结果就是再也不联系了我知道我舍不得所以我没有听他们的话和你说清楚我想你了很想很想不知道你和追你的那个女孩怎么样了你也不跟我说这样真的算是朋友吗'], ['今天某人没有打电话给姐姐不开心'], ['相信吗这么晚了我还在吃宵夜还有我最最最爱吃的凉拌皮蛋哈哈哈老板娘人真好一直说我这皮蛋啊在外面是吃不到的哈哈哈知道你家的好吃如果不好吃我们还要大老远的开车过你家吃吗'], ['第一次雪后慢跑确实很容易被自己感动'], ['符合公务员录用体检标准身心健康适应基层工作需要'], ['还在查饿的不行不行的了现在吃东西算早点么'], ['我很幸运有一个好脾气的妈妈但我妈却有个坏脾气的女儿'], ['今晚得瑟一把看中华人民共和国男子足球队世界杯亚洲区预选赛强比赛客场香港队搬小桌去主卧一边看球一遍溜散好歹忍受了上半时卷些神马玩意儿不如中甲不如阿尔滨'], ['我曾爱这珍贵人间冷风高溅忍受生活与梦想漫长的剥离被工作低价买走生命也见过善良几经奔撞恶行走投有路明白生病发梦乃最常事言及所爱却是满心热情一脸淡漠宁可抱憾不求完全不再不顾一切去借如今从头识我不过烟热酒苦一身世俗'], ['看看把咱夸的都不好意思了害羞害羞'], ['年任职中国水运报至今'], ['当你非常想抽一支烟的时候却找遍了所有地方都没有的那种失落感谁体会过'], ['啊啊啊我头上也有好多逗偏偏自己还手贱喜欢去抠啊'], ['睡觉前看了看淘宝物流信息发现依旧没变化哭着睡觉了（图文无关）'], ['·做一个优秀的女子·工作生活尽力做到更好·学会爱自己照顾自己对自己好一点·做该做的事·处该处的人·珍惜该珍惜的生活·能应对突如其来的嬗变可安于平淡无奇的安闲·大风大浪自有惊涛拍岸的雄壮柴米油盐也有细水长流的温情'], ['一下雪就开心的跟个孩子似的滑雪打雪仗走路都蹦蹦跳跳的我本来就还是孩子呀在我们那只要还没结婚在大人眼里就还是孩子还能领到压岁钱那我一直不结婚就一直是孩子啦就可以每天都快乐就可以没有烦恼啦'], ['后作为人才引进在上海市闵行三中先后任常务副校长（主持工作）党总支书记等职务'], ['据调查年中国网购人数占总人口比例的．年就迅速发展到了．'], ['总觉得现在的自己过得很好生活的井井有条很多东西可以自我满足可真到了许多事情是一个女人也胆怯惊恐害怕的时候你会发现自己什么都做不了我只能选择前进并不能后退因为真的没有退路我怎能倒下我身后空无一人天津·王顶堤'], ['太欺负人了一而再再而三的这样实在是受不了了'], ['岁约于本年卖画扬州陆续约十年时间'], ['苹果直营店里的人看的我害怕害怕害怕害怕我的天惊恐惊恐惊恐'], ['又下雨怎么还下不停了'], ['一大早被一天母疯咬了其实我是想咬回去的可就是怕得狂犬病算了吧'], ['徒步天解放鞋磨穿了沈孝莲发觉高速公路上车比较多速度也很快这样走下去比较危险'], ['工作太忙没时间上淘宝更没时间逛街'], ['写了一下午的报告整个不翼而飞西湖也装不下我的泪了'], ['见得嚣张噶人多但最起码别人有嚣张的资本大姐笨女人你有吗你连最基本的专业水平都没有你有什么资格跟我嚣张就说你了怎么样别忘了我还是你的直属上司只要我一句你就可以直接卷铺盖回家过年了'], ['我跟你们讲我昨晚做了一场噩梦各种前任跑来找我怀里还都抱着个孩子说是我的重点是这些孩子有的没眼睛有的没胳膊简直太恐怖醒来想想我跟梦里的这些女孩还都没睡过太原·五一路'], ['有没有那种开始喝酒过敏过几年喝酒不过敏了的情况呢这会不会成为我的新技能'], ['今天背了个便携小挎包出门先是被说像公交车上卖票的后来变成大街上卖菜的棒呆想解放双手任性自由咋那么难呢'], ['我还是喜欢'], ['买了一杯抹茶奶盖刚出门一个不留神掉地上了看着洒出来满地的冰块和奶盖竟委屈得想哭'], ['我依然坚信总有一天教育会回报那些勤恳工作兢兢业业钻研学术真心为学生们付出的教育工作者让他们都不在委屈也不会战战兢兢如履薄冰'], ['而企业则认为这五个服务要素中有形度是最重要的'], ['你把皮皮关抽屉里你对么你怎么那么欠儿这一天到晚的我说今天衣柜怎么没被你打开开始给我整这出儿了'], ['三硝基甲苯白内障治疗①按白内障常规治疗处理：白内停等眼药水滴眼中药如杷菊地黄丸石斛夜光丸等口服和口服治疗'], ['忍不住吐槽一下某诊所的猥琐白大褂就喉咙痛让开点药尼玛块钱我擦最怂的是我看见他的桌子上摆了一本性病图解知识图解图解老猥琐是不是拿我们的药钱包二奶去了'], ['吓得我一个箭步上前就是一摸还有最后一张主人是不是当大家瞎喵喵太吓人了'], ['\\ufeff这道题百分之的人都会算错是真的吗'], ['年参加中考的名毕业生中有人达到普高分数线人升入重点高中近百名学生被华一附中省实验中学录取'], ['终于完成英尺的一跳✔️本来以为会害怕结果自己居然全程淡定想试的小伙伴一定不要犹豫还没有坐海盗船可怕除了自由落体时耳朵有些疼之外没有其他反应此时太感谢潜水时跟学的去除耳痛耳鸣法一秒在空中帮自己轻松搞定调皮我觉得我会再跳的调皮～'], ['湿疹鼻炎哮喘都发生了心力交瘁'], ['爸爸真好看到天不好专门来接送我们上下班接送张格上下学还专门让嘱咐两个女婿不让他们回家不让他们开车谢老爸'], ['因为无人问津所以没有负担这首不只有纪念价值'], ['要动起来了啦爸爸妈妈都说我看起来胖了然而事实是我真的胖了'], ['太可怕了昨晚一直做噩梦惊醒做噩梦又惊醒至少重复了四五次才睡着'], ['头疼嗓子疼腰疼胃疼肚子疼腿也疼'], ['难得化次妆以前小女孩的时候每天化妆结婚后不知道从什么时候开始变的那么不爱美了多年不化不会化妆了'], ['今日乃知：虽有多闻若不修行与不闻等；'], ['科学家发现宇宙里都是暗物质而且物质和能量是可以互相转化的以前看时间简史看不懂但是最近看了圣经和相关的书刊发现写于三千多年前的古老圣经竟然非常符合科学而且论及物种的起源也非常准确里面真的有很多有意思的东西很多宇宙和生命起源还有人生的问题都能从里面找到答案'], ['今天真的有点吓人听狍子她们说我当时脸部发青嘴巴发白衰再多撑两分钟老卢就该叫救护车救护车了差点瘫在那里晕不过我真的不信我当时脸部发青嘴巴发白要这样我不该太可怕了傻眼'], ['昏昏沉沉的睡一会醒一会头疼了一晚上煎熬'], ['岁月真的是把杀猪刀突然翻热门看到王栎鑫都当爸爸了天呐还一直是印象中的小屁孩呢'], ['一定是脑子进水了才在考试前一晚浪费两个小时看国足比赛虽然国足自己踢得确实是一坨屎但是他妈四个门柱一个误判看的人也是一肚子气香港归化队牛逼以及七点喝了一杯港式奶茶现在他娘的一直要尿尿弃疗了明天随缘'], ['听着五月天入睡明天又是没有早读美好的一天'], ['中午我妈摊饼吃我说能放一个鸡蛋吗我妈说不放我说我心都碎了'], ['像我这种偏行姑娘为了让一行像一行坐的端的好累'], ['不枉费昨晚跑了公里终于睡了一个好觉好激动失眠的夜晚翻来覆去真的太痛苦对了我准备去参加下个月的马拉松不过估计我只能参加个迷你马拉松可是也要跑公里不懂能不能坚持下来'], ['感冒不能吃药硬抗鼻子不通气只能靠嘴巴呼吸'], ['拍拖不容易坚持下来也不容易长期坚持下来更不容易但是谢谢有你爱着我我的丹丹有你爱着我会很幸福的祝我们拍拖个月快乐爱你爱你'], ['我不看国足好多年怎么现在连香港队都踢不过了啊'], ['有点委屈最近老是被坑不是别人太坏而是自己太愚蠢我应该回到我的外星球去'], ['榛子油除是高级食用油外还可用来制肥皂蜡烛和化妆品等工业制品油渣可做饲料和肥料'], ['翻杂志一样睡前必看为第二天获取灵感今的饺子得到韩小排夸赞心里美啊连我调的料汁都喝干了哈哈哈'], ['生病了早早的睡了一觉醒来问他们几点她们骗我说早上了'], ['我来过几次静静地品你家的包子味道悠长的苦涩或芬芳一壶老酒一碗烩菜我与你对饮从陌生到兄弟我俩在岁月里沉浮夜深了繁星点点跌进酒杯化一层洁白的清香酒是热的而心亦是滚烫'], ['啊啊啊啊啊啊啊啊啊我的刀呢编剧我们出来谈谈'], ['打针趣事：现在醫療镇定自若自娱自乐假装调输液的快慢组织小朋友排队分组（菠萝队水果队蓝莓队等等十个队）还要有口号嘴巴没消停过我一直说小声点不说那么多话本来就是喉咙有问题这下更沙哑了总之宝贝这次打针比以往碰都不能碰完全不同心情极好睡梦都笑醒'], ['百世汇通是这个地球上最烂的快递没有之一'], ['感觉你身边存在一个对我来说比定时炸弹还恐怖的人让我心生畏惧在我印象中她一直害我我所有美好的事物她都要破坏而且还理所当然我是真的害怕如果你因为我不理你就靠近她那你就去吧我也无能为力虽然会不舍但我也不想活在担心受怕的日子里只想拥有安稳的生活'], ['妈蛋这两天的报表太多了整天整天的盯着电脑我的颈椎快疼死了'], ['一直下雨无处可走只好宅在家里'], ['滚回法国老家吧滚犊子在年就要跟年世界杯说拜拜了'], ['能让你变强大的几句话有木有这些坚强的雷人语录你伤不起'], ['滴头间距根据作物株距可任意调整'], ['下雪了不要因为某些人或某些事而影响了你的心情温柔要有但不是妥协我们要在安静中不慌不忙的坚强'], ['高中生带岁女友回家同居竟然被自己亲爹强奸'], ['编导们冻傻了吧我真担心这一期的非车党被他们拍砸了'], ['就在今早大约点多钟我的一个女同事在地铁团结湖站口出口被人抢夺了一部且电话其家人说人已被绑架速带钱来赎人此事已经报案了真是太可怕了光天化日首都的核心发生这种事情让我们这些上班族提心吊胆啊希望平安北京能够加大对团结湖附近犯罪的打击还北京平安'], ['艹过敏刚好天又过敏了你麻痹什么鬼东西三天两头这样'], ['阳光符號沙滩符號海浪符號臭脚丫子呵呵哈哈哈'], ['今天去做胎监宝宝表现超好医生说给满分大爱寶寶'], ['有时候我们活得很累并非生活过于刻薄而是我们太容易被外界的氛围所感染被他人的情绪所左右行走在人群中我们总是感觉有无数穿心掠肺的目光有很多飞短流长的冷言最终乱了心神渐渐被缚于自己编织的一团乱麻中其实你是活给自己看的没有多少人能够把你留在心上'], ['古代建有陵墓唐朝后期建汀州府衙时被毁清朝同治二年（公元年）前任汀郡总镇世袭云骑尉嗣孙钟宝三礁石于坟并绘墓楼图'], ['所谓独取乃重视之意不应理解为唯独之法'], ['一个近期要往返家里跑的吃土不多够我两个来回'], ['做人要注意素质啊大半夜的开音响唱歌神经病唱歌又跑调这种人要拉去枪毙'], ['要事清单我要在乞力马扎罗的雪融化之前登上这座山'], ['在贝利的生涯中共踢了场正式比赛打进个进球这是有官方记载情况下的历史最高纪录'], ['今天的英雄联盟是炸了吗半天登不进去一进去就各种位置未知错误组队也组不了'], ['每次去医院都这么多人还有插队的走后门的最后终于轮到我了跟我说做不了过半个月再来'], ['每个人心底都有那么一个人已不是恋人也成不了朋友时间过去无关乎喜不喜欢总会很习惯的想起你然后希望你一切都好'], ['发现房东让人真是讨厌虽然写多几度电也就几块钱但真的很讨厌贪小便宜的'], ['一女子耳道暗藏一只活蜘蛛医院检查吓得抓狂长沙李女士最近总觉得左耳道内有些发痒似有异物在耳朵内而且异物感越来越明显日一早李女士到长沙市中心医院耳鼻喉头颈外科就诊医生惊讶地发现李女士左耳道内竟然有一只蜘蛛'], ['清淅的早晨天已明亮多时我才从睡梦中醒来不知是何原因才这样累'], ['今天的戏在山里的小学孩子们一直问我们什么时候再去还给我们写小纸条要电话号码都是些可爱的孩子很多父母不在身边学校的老师很少他们很需要爱'], ['未来车型中还会进一步共享一些元素以使得为系形成一套统一的外部特征'], ['在泰国生活的二姐姐分享给我的人妖图片⊙⊙哦我想说并不是每个人妖都是美丽动人的'], ['梦到了一只独眼的怪马兽它一直在陪着我穿越多重空间的重复转换当我们要从一个方格里会面时我害怕我会吓到它因为我有两只眼睛'], ['平时经常受到的暴力攻击'], ['点了今天是我的生日祝自己生日快乐'], ['第二十条理事会每年至少召开一次会议；'], ['好记性不如記錄記錄烂笔头❗️❗️❗️'], ['晚上回我妈那儿我妈告诉我说她前些日子从街道领了一笔两千四百块钱的独生子女补贴'], ['有两种东西容易让人迷失一是谎言二是欲望'], ['大家都平安健康哟؏؏☝ᖗ乛◡乛ᖘ☝؏؏完美'], ['大冶话鄂州话咸宁话居然是相同的'], ['你还记得核伙是哪天正式开盘吧年月日截止到昨天年月日才一周时间仅仅天核伙加盟会员数已经万其他我已经不需要多说反正时间不会等你我也不会等你'], ['最近睡眠质量太差总梦见有些人想谋害本宫'], ['身边人都一样朋友含义不是那么简单能和睦相处就相处不能就彻底说明白别玷污朋友这个词没完没了地四处诋毁无限的争吵有个卵用敞亮的行还是不行走还是留'], ['保来理财已实行办公与作业自动化员工配备专用电脑使用公司自有局域网和作业系统数据库以确保服务的高效和安全'], ['英国的某公交站：等个公交车而已用不用这样'], ['外媒总是先知先觉今晚欧美股市大涨莫非和这条消息有关吗'], ['在练单项题因为困难不得不停下来的时候再得知要考才有用然后单项两题就的时候感觉整个世界都黑暗了辛辛苦苦埋头自学练了一个多月的二级就要这样白费了吗'], ['有人说我上一条的微博写的像小学生日记'], ['一位四十来岁的中年男人向她打招呼问小于买啥她说是来请他帮忙的'], ['教学科研仪器设备总值万元生均元'], ['明天运动会按捺不住心里的激动（心想这所恶心的学校居然会开运动会'], ['趁手机没犯病赶紧发给微博现在手機是我老大随时准备下一秒蓝屏关机一定要坚持到周末俩刚完事又来俩关键是二学历没等学完发现考试时间我给巧妙的错过了天天过的提心吊胆'], ['我是有多久没有谈恋爱了和天猫卖家就商品讨价还价聊了两个晚上居然也能有动心的感觉不活了'], ['回家的时候电梯门口有好几个带血的鞋印脑补了一出悬疑恐怖凶杀大片回到家才觉得可怕把门全反锁了还是害怕嗯今晚不用睡了～～～'], ['闺女大晚上要喝橙汁家里榨汁机姥爷征用了于是乎手动用柠檬杯上的榨汁器拧的手酸呀就这么一碗优姐两口就干了把碗递给我说妈妈刷了吧我仿佛看到了我未来年的人生'], ['年全村经济总收入万元农民人均纯收入元'], ['那些给了我那么多温暖的人呐冬天我戴着你的围巾见你'], ['我在洗澡快遞一直敲敲敲打一架吧'], ['少女心在连发型都保持着当初道明寺那个样子的言承旭出现的那一刻爆棚我的少女时代角色角色'], ['网站介绍简介生活日记网由飞蛾（网名）在年月日创办'], ['有些事真的不必太走心再次提醒自己现在需要做的事只是努力认真工作存钱孝顺爸妈努力变得更好'], ['以后爱干嘛干嘛说了也是自己找气受'], ['我生命中的千山万水任你一一告别世间事除了生死哪一件不是闲事——仓央嘉措'], ['沉醉在今天的艳阳天世界早安'], ['早起做的早餐吃完满满的幸福感哦'], ['考了四十几怎么了我去年买了个表'], ['欣欣欣欣生日快乐宝宝才到宿舍唉遥想当年我们那么浪漫在小黑屋里你给笨宝宝唱歌听陪本宝宝打牌玩小姨小姨我爱你我爱你我爱你我爱你秒拍啊小视频等我有手机再拍给你'], ['晚上去院子喂蟒蟒那一罐猫粮居然空了难道蟒蟒学会开罐头了'], ['道光二十三年（）八月道光帝特许他紫禁城乘轿'], ['重重复复的工作资料装了拆拆了装为什么当初做这些事情的时候不能严格点认真点不要投机取巧呢讨厌这样帮别人擦屁股明明不是我的事'], ['有时候觉得自己真是怎么都不顺利为什么我的生活总是很闹心真的是'], ['大半夜的看到两只蚊子在寝室的玻璃上结合心里一万只草泥马呼啸而过想着明年又有一堆蚊子要出生了窗外的那只蜘蛛真是白养你了怎么干活的'], ['經常看到甚麼甚麼男友力高的我每次看到都心想呸這樣而已我沒做過嗎'], ['看哪个视频后恶心了天还有阴隐靠'], ['我要不会的都学那要你干嘛我学会了自己弄自己生活就好还有你屁事找你干嘛你看一整天孩子试试胃不舒服也得看孩子你试试让你气的更疼'], ['尽管该场生产人员不断减少但由于重视科学种田水稻生产持续稳产高产'], ['辣雞雲端年前存的東西全沒了還要求續費藥店臉啊'], ['从此以后我要当一个善良可爱的乖宝宝'], ['人是需要用他人来排解自己的孤独的这种孤独不是寂寞排除这种孤独也许只是对自己价值观的证明看这个世界上有人跟我是一样我不是怪物也许陪伴说到底还是从自我人性出发的需求吧'], ['课余特色活动我们在规范管理的同时加强艺术教育丰富学生的课外文体活动营造生动活泼的校园文化提升校园文化品位促进学生全面发展'], ['空气还是不错的哦～（该干的事还是没干最近突然有强迫症倾向了）'], ['这裁判他妈的是被买了吗明明进球了眼瞎啊'], ['短发短发想要短发重要的事情说三遍'], ['这样子的闺蜜太恐怖了惊恐惊恐星星眼星星眼星星眼惊恐星星眼惊恐星星眼惊恐星星眼惊恐星星眼'], ['美好的一天开始了每天给自己一个希望试着不为明天而烦恼不为昨天而叹息只为今天更美好早安大家'], ['白发无凭吾老矣青春不再汝知乎年将弱冠非童子学不成名岂丈夫——俞良弼'], ['但他的所作所为仍不失江湖好汉的本色'], ['该不会真的要爆发第三次世界大战了吧'], ['只有愈加灿烂的前方才无暇回眸过去'], ['这是李逵穿越来了么今天在静安寺路口遇见吓了一跳'], ['果然冬天来了卡粉卡的我想直接狗带'], ['所以也没什么关系反正没法装大人睡觉'], ['啥呆滞脸的东西半信半疑吧但是还是'], ['没完没了得开会一条一条的规定四点四十放学六点会才说了一件事'], ['别让等你的人不再等你别让爱你的人不再爱你勿忘初心方的始终'], ['极少个别四川狗真他吗的不是东西你她妈的能好好聊天四川狗狗狗狗狗草'], ['卧槽好炫酷的表情太好玩了'], ['在视频聊天的时候使用者也可以直接选择分享自己的屏幕'], ['又是一个浪的周三～下午唱了很多歌连自己都惊讶了呢'], ['这次等于是首次提出二氧化碳排放强度的减排指标'], ['想抱抱你拍拍你说没事没事但是发现这样的语言有些无力看到你失落我心情也不好又只能默默看着你不知道怎么安慰你'], ['总有个傻逼室友每次吃饭就让我帮她先付后面支付宝转给我然而并没有然后了一次都不还都在她耳边说了饭卡里没钱了于是立马就说哎呀我还没给你转钱呢我马上就给你转啊但是并没有转所以本宝宝现在杜绝和她一起吃饭一起出去逛街一起浪总之一切要花钱的活动一律杜绝'], ['今晚朋友给我分享了一件开心的事情她脱单了还是跟自己喜欢的人在一起呢她默默喜欢的人原来也喜欢她缘分势不可挡啊哈哈哈祝福呀看到你们很幸福我也很开心谢谢你第一时间跟我分享你的快乐'], ['及至宋代这种工艺发展到很大的规模'], ['女人来例假好恐怖不光来的时候各种难受来之前身体不适胃口大开（意味这会迅速增肥）最重要是负面情绪要爆炸'], ['我遇到小偷了新疆人两个一个摸我左边的书包我往左看时另一个摸我右边的口袋真有组织有纪律大家要小心啊在三里屯的天桥上委屈'], ['上午婆婆问你明天生日吧我们出去吃下午老公拿回来这个说给我的生日礼物晚上闺蜜打电话来要宴请我我第一次忙到忘记自己生日真的忘了有了孩子都这样吗'], ['大冷天风雨交加我穿这么这么这么的少她们哥几个毅然决然把我锁在了阳台上然后一起喝钙朝我微笑虽然我已经跟犯罪头目她妈告了状但还是要放句狠话你们等着'], ['未经出版者书面许可不得以任何方式抄袭复制或节录本书中的任何部分'], ['国足可以换教练了别因为亚洲杯的一点成绩就一直在这拖着早换了可以早点磨合就这场比赛来看佩兰真是战术简单用人看不懂就这双边路边锋边后卫起球找中锋的战术我都能布置出来早点走人吧'], ['川渕得知淳之介挨饿的事情后表示要像之前约定那样带走淳之介'], ['为啥港澳台国际提前小时才能进入让大家都在外面等着太过分了如何为客户服务的和现在的大环境格格不入好好反思吧'], ['男人都喜欢腿细身材好可是这种女的靠谱么就和喜欢装帅的男生以后都不靠谱么'], ['尼玛看那点觉得我喝得酒标准的一杯到好吗'], ['另外他们还经常将未经授权的软件上载到网络上供网络用户从网上下载'], ['现在看到电视剧里的坏人再联想到生活中我恨的牙根都痒痒'], ['当发现儿童有摩擦动作时父母先不要着急应尽快带孩子就医及时治疗相关疾病如果是心理因素引起则应进行心理治疗'], ['看新闻日本天皇今天下午首次电视讲话感谢各国和国际组织对日本的援助呼吁国民勇敢地活下去核危机在继续升级让人揪心天皇出来讲话说明事态非常重大后面那句话更是惊心动魄啊愿神保佑众生平安'], ['陈老师在家里免费教楼内的孩子学习钢琴但是身为企业老总的妻子顾真和电视台记者的女儿陈晓青对陈老师的这种行为并不理解'], ['你是外表端庄的欲女吗你们是正在甜蜜恋爱的情侣吗你们有过多少次亲密接触呢你到底有多渴望他的拥吻即使平时看上去端庄淑女的你也许也会得到一个让所有人惊讶的答案哦（测试如图）'], ['爱情不就是让人又爱又恨却又放不下吗'], ['凌晨自己真的还有很多毛病也成了自己讨厌的那种人嗯努力稳重点还有今天头又晕又困吃完晚饭又睡了一会还差点睡过头了'], ['体能测试作弊抓来重新跑早知如此何必当初'], ['同样都是葱你为什么偏要装蒜你多什么了'], ['卧槽又是改名字还把简介给我删掉我忘了我原来写的啥了'], ['终于弄完了苦笑睡觉睡覺都这么久了为啥子还不凋谢呢傳情傳情还活得这么好鄙视'], ['一爱记仇耳根子软的人会气死气死气死'], ['突然觉得被人叫全名也有满满都是爱的感觉'], ['所谓的好朋友应该是吵过之后仍依旧很好你甩脸子给谁看啊劳资不吃你这套真是日了狗了'], ['现在的大年轻人啊手速真是快爸爸妈妈没有告诉你不要和老阿姨抢回家的票吗老阿姨要回家回家回家'], ['原来你是我最想留住的幸运那为我对抗世界的决定那陪我淋的雨一幕幕都是你一尘不染的真心我该有多幸运'], ['早知道在家葛优躺了害怕要密集恐惧症了泪泪'], ['清新优雅宁静仿佛身临其境'], ['作业多到让我害怕直接写出翔来'], ['每天忙里忙外就是秉持对每一位顾客负责人的心态现在做这行的太多正规的不正规的遍地都是每个顾客选择我都是信任谢谢我的宝贝们'], ['三食堂一楼的水饺卖块天要炸啊'], ['轻松移刻陪女朋友逛街她突然问：我和你前女友谁的身材好我正犹豫忽然身后一个声音答：你好我们惊恐回头是一陌生男子他似乎被我们的表情吓坏了颤声说：你好请问人民路怎么走'], ['靠近上握把的主隔间可以存放体积较小的数码单反相机或小型摄像机两侧可以用来存放和保护镜头闪光灯和其他附件'], ['每次我妈开的车我们那叫一个提心吊胆都不敢看手机一直盯着她就害怕我妈一个恍惚又把刹车踩成油门衰衰衰宝鸡·扶风县'], ['楼上两口子吵架好像是因为男的出轨男的一直跳脚骂粗口摔东西天花板都震动的女的一直没说话感觉是那种特别受气小媳妇儿的直到男的撒完泼才听到一把好听的嗓音冷道话多了恶心离吧然后就是开门关门高跟鞋哒哒声感觉好像角色反了'], ['后琥璟明：要通过自己制作还原汉服弘扬传统文化对后刮目相看'], ['遗忘有一把竖琴记忆用它弹奏无声的忧伤世界让我遍体鳞伤但伤口长出的却是翅膀向我袭来的黑暗让我更加灿亮'], ['近段尿道的肿瘤常为移行细胞癌'], ['双十一的纸箱纸箱就属圆通的最慢慢慢慢'], ['你的问题我假装回答得云淡风轻有些事不是不想跟你说而是不敢跟你说'], ['回国后在新加坡伊斯兰学校任教出版杂志宣传伊斯兰教改革的主张并加入了马来青年联盟'], ['本来想拍被柑子刺扎中的手指头结果发现镜头里乱入了到处瞎逛的兔子笑不可抑笑不可抑我家的垂耳兔整天除了到处瞎逛就是在笼子里躺着吃草笑不可抑笑不可抑躺着吃'], ['钻石新店开业现场火焰火焰火焰反正我惊呆了惊恐惊恐这密密麻麻的人群密集恐惧症都犯了～只能说受益者越来越多了秒拍视频'], ['艾麦铁路医院有拍电影也不电视剧的拍的是啥不知道只是医院牌子都换成滨海市医院'], ['什么埃德加就是小时候的（啃苹果压压惊（我才买啊不要提前剧透啦动画'], ['一想到即将去那科室工作我就堵心真是恶心虚伪笨死了本来一直很开心一想到这个就郁闷跟价值观性格差距大的人共事真是烦'], ['以前读书的时候听人说接触了社会才知道社会多肮脏什么的然后我毕业挺久了也没觉得社会多肮脏啊倒是在这个垃圾饭圈看到人性有多可耻啊真没想到啊说一套做一套的人多的是在微博上装这个无所谓的逼到底会有多爽啊'], ['再过一两个星期就是零下几度可还有八个星期才能回家'], ['今天是运动的第三天分钟热身速步行分钟速跑步分钟恢复速步行但是排行榜还没有达到排行榜前三你们这是有多牛啊'], ['抱着洗的很干净的阿申送的熊脸仔入睡晚安＋'], ['寒冷的上午宝贝被一个我不认识的人用电动车带着到大润发附近的会议室参加演讲比赛有木有感觉很奇葩'], ['果真危成才是真爱安坏友衰业胎都不过是假象'], ['双十一抢到三点终于抢到想要的鞋子衣服这一个星期都在等快递中度过收到快递的时候心情超好打开一试靴子我竟然穿不上可怕想哭'], ['主教宫（）：在主教广场旁边建于曾为匈牙利大主教的官邸'], ['审车这种事我可不管自己来能屎阿'], ['工资低但不心累工资不低但心累究竟哪个好我是否应该安于现状又该如何才能知道自己到底适合做什么后悔的事一大推可又如何毕竟世上没有后悔药'], ['失眠了睡不着啊'], ['明明自己就很好看嘛为啥照片拍出来好丑'], ['怎么会批准生产这种版式本来我就辨不好真假钱关键还这么丑'], ['就知道有个小孩后矛盾和争吵会多很多每天喂奶累得个半死晚上餵奶都能睡着有什么事等我出月子再说会怎样不要惹我'], ['再试一次刚买不久的手机在五道口被偷不得不分期买个手机还个手机贷款吧'], ['年被评为石家庄市优秀青年教师'], ['出师未捷还没出门就扭了膝盖滑膜炎又来了'], ['第一次学着去立案手忙脚乱很庆幸遇到一个会给我机会的师傅也许以后慢慢业务上手会有很多机会立案而第一次的激动心情值得记录'], ['年的第一场雪没有我想象中开心'], ['这回人情欠大发了我妈都严肃批评我了'], ['第十兵团司令为叶飞先后发动了福州战役平潭岛战役漳厦战役金门之战等等'], ['特么的每天眼睛跳的人泪眼朦胧的到底是有多大的财要来'], ['灵感就跟不要钱似的蜂涌而至好喜欢这种感觉明天想找个咖啡店一个人安安静静感觉应该会更好继续保持'], ['你带我吃张亮把鸡块培根香肠都扒拉到我碗里总是嘲笑我馋是一只小猪我也总是向你讨要这个吃那个吃现在我一下子瘦了'], ['在该下苦力的地方拼其他方面就轻描淡写'], ['早安各位宝贝们新的一天拉开序幕你们准备好迎接新的一天了吗我现在满满的正能量开始拥抱我的每一天'], ['我做好了要与你过一辈子的打算也做好了你随时要走的准备这大概是最好的爱情观深情而不纠缠然而太难了'], ['捐款给教会几百万上千万都有照捐给歌几百块都要肉偿最好无耻下流之极'], ['来也匆匆去也匆匆唯有美食不可辜负'], ['看到每晚都会有人和你说晚安我会很为你开心'], ['我不会去触碰你的圈子也请你不要再来干涉我的圈子互相尊重可以咯'], ['迷茫此时的我迷茫许久自己该真正做什么工作很多时候因为生活的所迫做了些自己不喜欢的工作现如今弄的我真不知道该怎么办了迷茫的开始怀疑慢长人生该如何走下去'], ['鱼总的七根凶简完结了我舍不得看就先扫别的文但是别的文不对胃口全弃掉了害怕可是鱼总的文看完了就没了啊泪流满面'], ['翻翻旧照片梳理了一下过去被丢在一边未整理的回忆感觉像看旧电影舒心'], ['真是别人怎么弄怎么过分都不急眼一到我这全是火我为啥就得这么窝囊呢咳'], ['对响一声的骚扰电话恨之入骨而且是在大半夜专门吵醒人真想把这些人揪出来捉到打'], ['特别讨厌说脏话的男生给本宝宝滚一边玩儿去'], ['真的愤怒真的变态真的太痛心了好好的一个孩子就这样被毁了有没有一丝的怜悯之心怎么会有这么可恶的人存在啊'], ['我们又恢复了正常因为我先给他打电话了我好骄傲'], ['拉着你陪我聊到这会儿真是委屈你了以后的日子还长你要慢慢适应啊'], ['每天不是这个投票就是那个投票有这闲工夫还不如去把学院活动办得好一点'], ['睡了一天了为什么上眼皮还是一直和下眼皮打架啊'], ['现在淘宝都不叫亲改叫主人了吗惊到了真会玩'], ['哒哒～吃吃喝喝睡睡玩玩三天休～恢复元气下午继续征服小可爱们'], ['没有看过那么干净的夜空深圳的夜真的很美晚安'], ['节奏快了我惶恐不安；节奏慢了我也惶恐不安谁也不是谁肚子里面的蛔虫啊真的有吗在哪里思考'], ['怪不得当年我长这么丑都还有女孩子喜欢原来是我每天都吃山东大蒜的缘故啊好吧现在可能不敢吃了'], ['希望再也没人敢偷偷用我然后搞得一团糟'], ['饼仙我到底是做错了什么每次都要被这样拖拖拖真的是日了狗了'], ['隔壁的你们够了啊畜生'], ['为扩建长安街年拆除'], ['指着电视上一个脸很大的女的问「我和她的脸谁比较大」家人竟然都沉默然后才回答我：不知道妈蛋太伤人啦'], ['手机新浪网改版太差只好放弃了我想肯定已经流失了大量的用户了用户体验不好改版还改个毛线差评'], ['我一直没发现那些个表情包居然是我学友哥'], ['真吓死我了还以为你在等我下班'], ['真尼玛不知道怎么形容现在的心情做了五个小时的文件因为手贱去打开一个文件然后之前的文件就没了尼玛我简直要喷火作业才刚开头就没了后天就要交我真是呵呵呵'], ['为什么可以遇见你们让我那么心动'], ['我的玫瑰只是一朵普通的玫瑰可是对我来说她是全宇宙唯一一朵玫瑰小王子'], ['推翻我们联盟我这个盟主还怎么吃饭'], ['我只喜欢被你喜欢的感觉靠说出这句话的都是混蛋'], ['这盆海棠在办公室待了好几天一直以为是假的今天老板娘说了句这海棠还蛮漂亮的我回了句是很漂亮可惜是个假的～最后被告知～这花是真的是真的'], ['草莓糯米团糯米粉生粉少许水糖草莓粒把糯米粉糖和水放入耐热容器中搅拌均匀盖上保鲜膜放入微波炉用中高火加热分钟取出搅拌均匀后移到铺有生粉的盘子中制成面团每块面团摊开包入去蒂的草莓就咯'], ['我天天不是听你在那当怨妇的'], ['老朋友不懂你的新情况新朋友不懂你的老脾气'], ['我就想崩溃就不想好好过了崩溃才是奢侈品'], ['也许女孩真不知道这样对男孩伤害有多大男孩在想她真的有没有爱过一个人这种感觉只有真正爱过的人才能体会男孩从来都没忘记过女孩那怕是相隔千里'], ['有那么像大妈吗有吗有吗有吗气死我了吐血吐血吐血'], ['看看打着民主幌子的台湾都在干些什么'], ['看完大结局整个人都不好了编剧和后期是不走心么完全靠看感才追的剧最后鬼妞的哭戏很带感啊可是旁白一出简直哔了狗了下部还没有鬼妞了等安徽台出未删减版吧但愿走点心'], ['他一遍遍看着他出事时侯的视频看着他在火焰中恍惚的身影看着他因太热而颤抖的身体看着他将女生护在怀里；看着他如今浑身绷带倒在病床上看到有人说他坏话就不顾形象骂回去：现在他就在病房外里面的他一定是知道的；他悄悄的在监护室的窗户上留下了明栎两个字；转身离开'], ['李庄镇距离宜宾市区公里中国抗战时期大后方大文化中心之一'], ['真心对不起那么多的猪头肉一年的时间隔三差五的频率居然也是喂了猪真想掐死你'], ['不就是睡个午觉吗一会来个高跟鞋噔噔噔一会来个大嗓门一会来个育儿时间'], ['一个中午就一直吵吵吵吵个什么鬼啊我们小小班本来睡觉很好的非得拉几个大班调皮鬼来我们班睡真是要疯了'], ['自古名茶藏名山名山出名茶'], ['双方由此引发摩擦镇书记挥拳将副镇长鼻梁骨打断'], ['每天早上起床你有两个选择要么趴着继续睡去做你没有做完的美梦要么拉开被子去完成你没有完成的梦想'], ['他说习惯于互相讨论问题进入社会后你发现没有人可以跟你讨论了'], ['国足你们连香港自家小兄弟都踢不过谈何冲出亚洲～都回去洗洗睡吧～'], ['凡来呼市的外来人总要来参观昭君墓'], ['我靠我老板说再干一中午吧帮他账搞电脑里他不起床我也是醉了'], ['新的一天又开始啦小团子来送早安啦']]\n"
     ]
    }
   ],
   "source": [
    "df = pd.read_csv('C:/Users/23106/Desktop/weibopy/new/test.csv',sep = '\\t')\n",
    "#print(df)\n",
    "df.info()\n",
    "news1 = pd.DataFrame(columns=['label'])\n",
    "news1['label'] = df[\"label\"]\n",
    "news = pd.DataFrame(columns=['text_a'])\n",
    "news['text_a'] = df[\"text_a\"]\n",
    "# 首先将pandas读取的数据转化为array\n",
    "data_array = np.array(news)\n",
    "#print(data_array)\n",
    "# 然后转化为list形式\n",
    "data_list =data_array.tolist()\n",
    "print(data_list)\n",
    "data_array1 = np.array(news1)\n",
    "y_val =data_array1.tolist()"
   ]
  },
  {
   "cell_type": "code",
   "execution_count": 75,
   "id": "e01a1491",
   "metadata": {},
   "outputs": [
    {
     "name": "stderr",
     "output_type": "stream",
     "text": [
      "\u001b[32m[2022-05-24 21:09:42,865] [    INFO]\u001b[0m - Already cached C:\\Users\\23106\\.paddlenlp\\models\\ernie-tiny\\ernie_tiny.pdparams\u001b[0m\n",
      "\u001b[32m[2022-05-24 21:09:45,622] [    INFO]\u001b[0m - Loaded parameters from C:\\Users\\23106\\Desktop\\weibopy\\ckpt\\best_model\\model.pdparams\u001b[0m\n"
     ]
    }
   ],
   "source": [
    "import paddlehub as hub\n",
    "label_list=['愤怒', '积极', '悲伤', '无情绪', '恐惧', '惊奇']\n",
    "label_map = {\n",
    "    idx: label_text for idx, label_text in enumerate(label_list)\n",
    "}\n",
    "model = hub.Module(\n",
    "    name='ernie_tiny',\n",
    "    task='seq-cls',\n",
    "    num_classes=6,\n",
    "    load_checkpoint='./ckpt/best_model/model.pdparams',\n",
    "    label_map=label_map)"
   ]
  },
  {
   "cell_type": "code",
   "execution_count": 76,
   "id": "126fa156",
   "metadata": {},
   "outputs": [
    {
     "name": "stderr",
     "output_type": "stream",
     "text": [
      "\u001b[32m[2022-05-24 21:09:46,471] [    INFO]\u001b[0m - Already cached C:\\Users\\23106\\.paddlenlp\\models\\ernie-tiny\\vocab.txt\u001b[0m\n",
      "\u001b[32m[2022-05-24 21:09:46,473] [    INFO]\u001b[0m - Already cached C:\\Users\\23106\\.paddlenlp\\models\\ernie-tiny\\spm_cased_simp_sampled.model\u001b[0m\n",
      "\u001b[32m[2022-05-24 21:09:46,474] [    INFO]\u001b[0m - Already cached C:\\Users\\23106\\.paddlenlp\\models\\ernie-tiny\\dict.wordseg.pickle\u001b[0m\n"
     ]
    }
   ],
   "source": [
    "y_pre = model.predict(data_list, max_seq_len=128, batch_size=32, use_gpu=True)\n",
    "\n",
    "\n"
   ]
  },
  {
   "cell_type": "code",
   "execution_count": 77,
   "id": "0e670f1d",
   "metadata": {},
   "outputs": [
    {
     "name": "stdout",
     "output_type": "stream",
     "text": [
      "0.7402975243969186 0.7317424403773524 0.7517300369557383\n"
     ]
    }
   ],
   "source": [
    "f1 = f1_score(y_val, y_pre, average='macro')\n",
    "p = precision_score(y_val, y_pre, average='macro')\n",
    "r = recall_score(y_val, y_pre, average='macro')\n",
    "print(f1, p, r)"
   ]
  },
  {
   "cell_type": "code",
   "execution_count": null,
   "id": "8a5b4e28",
   "metadata": {},
   "outputs": [],
   "source": []
  }
 ],
 "metadata": {
  "kernelspec": {
   "display_name": "Python 3 (ipykernel)",
   "language": "python",
   "name": "python3"
  },
  "language_info": {
   "codemirror_mode": {
    "name": "ipython",
    "version": 3
   },
   "file_extension": ".py",
   "mimetype": "text/x-python",
   "name": "python",
   "nbconvert_exporter": "python",
   "pygments_lexer": "ipython3",
   "version": "3.9.7"
  }
 },
 "nbformat": 4,
 "nbformat_minor": 5
}
